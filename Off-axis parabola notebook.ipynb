{
 "cells": [
  {
   "cell_type": "code",
   "execution_count": 1,
   "metadata": {},
   "outputs": [],
   "source": [
    "#%matplotlib inline\n",
    "%matplotlib widget"
   ]
  },
  {
   "cell_type": "code",
   "execution_count": 2,
   "metadata": {},
   "outputs": [],
   "source": [
    "# initialization\n",
    "from rayoptics.environment import *\n",
    "from rayoptics.optical import analyses\n",
    "from rayoptics.mpl.analysisfigure import Wavefront, RayFanPlot, RayGeoPSF, AnalysisFigure\n",
    "\n",
    "from matplotlib import gridspec\n",
    "import matplotlib.colors as mcolors\n",
    "\n",
    "import ipywidgets as widgets\n",
    "from ipywidgets import interact, interactive, fixed, interact_manual"
   ]
  },
  {
   "cell_type": "markdown",
   "metadata": {},
   "source": [
    "# Create a new model"
   ]
  },
  {
   "cell_type": "code",
   "execution_count": 3,
   "metadata": {},
   "outputs": [],
   "source": [
    "opm = OpticalModel()\n",
    "sm = opm.seq_model\n",
    "osp = opm.optical_spec\n",
    "pm = opm.parax_model"
   ]
  },
  {
   "cell_type": "markdown",
   "metadata": {},
   "source": [
    "### Define first order aperture and field for system"
   ]
  },
  {
   "cell_type": "code",
   "execution_count": 4,
   "metadata": {},
   "outputs": [],
   "source": [
    "pupil_diameter = 40.\n",
    "pupil_radius = pupil_diameter/2\n",
    "osp.pupil = PupilSpec(osp, key=['object', 'pupil'], value=pupil_diameter)\n",
    "\n",
    "# single field on-axis\n",
    "osp.field_of_view = FieldSpec(osp, key=['object', 'angle'], flds=[0.0])\n",
    "\n",
    "# wavelength for analysis: 550nm\n",
    "osp.spectral_region = WvlSpec([(550.0, 1.0)], ref_wl=0)"
   ]
  },
  {
   "cell_type": "markdown",
   "metadata": {},
   "source": [
    "### object at infinity, i.e. collimated input"
   ]
  },
  {
   "cell_type": "code",
   "execution_count": 5,
   "metadata": {},
   "outputs": [],
   "source": [
    "sm.gaps[0].thi = 1e+11"
   ]
  },
  {
   "cell_type": "markdown",
   "metadata": {},
   "source": [
    "### setup aperture stop surface, then offset mirror behind the aperture stop"
   ]
  },
  {
   "cell_type": "code",
   "execution_count": 6,
   "metadata": {},
   "outputs": [],
   "source": [
    "mirror_offset = srf.DecenterData(DecenterType.REV, y=pupil_radius)\n",
    "opm.add_dummy_plane(sd=pupil_radius, decenter=mirror_offset)\n",
    "sm.set_stop();"
   ]
  },
  {
   "cell_type": "markdown",
   "metadata": {},
   "source": [
    "### add parabolic mirror and enable it to tip, tilt and offset"
   ]
  },
  {
   "cell_type": "code",
   "execution_count": 7,
   "metadata": {},
   "outputs": [],
   "source": [
    "offset_aperture = srf.Circular(radius=pupil_diameter, y_offset=0.)\n",
    "#offset_aperture = srf.Circular(radius=pupil_radius, y_offset=pupil_radius)\n",
    "mirror_perturb = srf.DecenterData(DecenterType.DAR)\n",
    "opm.add_mirror(power=1/80, cc=-1, t=-80, sd=pupil_diameter,\n",
    "               decenter=mirror_perturb, clear_apertures=[offset_aperture])"
   ]
  },
  {
   "cell_type": "markdown",
   "metadata": {},
   "source": [
    "### all of the system data has been entered, update the model"
   ]
  },
  {
   "cell_type": "code",
   "execution_count": 8,
   "metadata": {},
   "outputs": [],
   "source": [
    "opm.update_model()"
   ]
  },
  {
   "cell_type": "code",
   "execution_count": 9,
   "metadata": {},
   "outputs": [
    {
     "name": "stdout",
     "output_type": "stream",
     "text": [
      "0 Surface(lbl='Obj', profile=Spherical(c=0.0), interact_mode=transmit)\n",
      "1 Surface(profile=Spherical(c=0.0), interact_mode=transmit)\n",
      "2 Surface(profile=Conic(c=-0.00625, cc=-1), interact_mode=reflect)\n",
      "3 Surface(lbl='Img', profile=Spherical(c=-0.0), interact_mode=transmit)\n"
     ]
    }
   ],
   "source": [
    "sm.list_surfaces()"
   ]
  },
  {
   "cell_type": "code",
   "execution_count": 10,
   "metadata": {},
   "outputs": [
    {
     "name": "stdout",
     "output_type": "stream",
     "text": [
      "0 Gap(t=100000000000.0, medium=Air)\n",
      "1 Gap(t=0.0, medium=Air)\n",
      "  'REV': Decenter: array([ 0., 20.,  0.]), Tilt: array([0., 0., 0.])\n",
      "2 Gap(t=-80, medium=Air)\n",
      "  'DAR': Decenter: array([0., 0., 0.]), Tilt: array([0., 0., 0.])\n"
     ]
    }
   ],
   "source": [
    "sm.list_decenters()"
   ]
  },
  {
   "cell_type": "markdown",
   "metadata": {},
   "source": [
    "# List first order data"
   ]
  },
  {
   "cell_type": "code",
   "execution_count": 11,
   "metadata": {},
   "outputs": [
    {
     "name": "stdout",
     "output_type": "stream",
     "text": [
      "efl                  80\n",
      "ffl                 -80\n",
      "pp1                  -0\n",
      "bfl                  80\n",
      "ppk                   0\n",
      "f/#                   2\n",
      "m                     0\n",
      "red           -1.25e+09\n",
      "obj_dist          1e+11\n",
      "obj_ang               1\n",
      "enp_dist             -0\n",
      "enp_radius           20\n",
      "na obj            2e-10\n",
      "n obj                 1\n",
      "img_dist            -80\n",
      "img_ht            1.396\n",
      "exp_dist             -0\n",
      "exp_radius           20\n",
      "na img           0.2425\n",
      "n img                -1\n",
      "optical invariant       0.3491\n"
     ]
    }
   ],
   "source": [
    "fod = osp.parax_data.fod\n",
    "fod.list_first_order_data()"
   ]
  },
  {
   "cell_type": "markdown",
   "metadata": {},
   "source": [
    "# Draw a lens picture"
   ]
  },
  {
   "cell_type": "code",
   "execution_count": 12,
   "metadata": {},
   "outputs": [
    {
     "data": {
      "application/vnd.jupyter.widget-view+json": {
       "model_id": "f5ddba7639cd4abfab88d928cf8a922e",
       "version_major": 2,
       "version_minor": 0
      },
      "text/plain": [
       "Canvas(toolbar=Toolbar(toolitems=[('Home', 'Reset original view', 'home', 'home'), ('Back', 'Back to previous …"
      ]
     },
     "metadata": {},
     "output_type": "display_data"
    }
   ],
   "source": [
    "isdark = False\n",
    "layout_plt = plt.figure(FigureClass=InteractiveLayout, opt_model=opm, refresh_gui=None,do_draw_rays=True,\n",
    "                 do_paraxial_layout=False, is_dark=isdark).plot()"
   ]
  },
  {
   "cell_type": "code",
   "execution_count": 13,
   "metadata": {},
   "outputs": [],
   "source": [
    "fld, wvl, foc = osp.lookup_fld_wvl_focus(0)"
   ]
  },
  {
   "cell_type": "code",
   "execution_count": 14,
   "metadata": {},
   "outputs": [
    {
     "name": "stdout",
     "output_type": "stream",
     "text": [
      "            X            Y            Z           L            M            N               Len\n",
      "  0:      0.00000      0.00000            0     0.000000     0.000000     1.000000        1e+11\n",
      "  1:      0.00000      0.00000            0     0.000000     0.000000     1.000000        -1.25\n",
      "  2:      0.00000     20.00000        -1.25     0.000000    -0.246154    -0.969231        81.25\n",
      "  3:      0.00000      0.00000            0     0.000000    -0.246154    -0.969231            0\n"
     ]
    }
   ],
   "source": [
    "optical_axis_ray = trace_base(opm, [0., 0.], fld, wvl)\n",
    "list_ray(optical_axis_ray)"
   ]
  },
  {
   "cell_type": "raw",
   "metadata": {},
   "source": [
    "abr_plt = plt.figure(FigureClass=RayFanFigure, opt_model=opm, data_type='Ray', scale_type=Fit.User_Scale,\n",
    "                 user_scale_value=0.001).plot()"
   ]
  },
  {
   "cell_type": "raw",
   "metadata": {},
   "source": [
    "wav_plt = plt.figure(FigureClass=RayFanFigure, opt_model=opm, data_type='OPD',\n",
    "                     scale_type=Fit.User_Scale, user_scale_value=2.5).plot()"
   ]
  },
  {
   "cell_type": "code",
   "execution_count": 15,
   "metadata": {},
   "outputs": [
    {
     "data": {
      "application/vnd.jupyter.widget-view+json": {
       "model_id": "ad6cf2268a6f4b799897843a1f0fd858",
       "version_major": 2,
       "version_minor": 0
      },
      "text/plain": [
       "Canvas(toolbar=Toolbar(toolitems=[('Home', 'Reset original view', 'home', 'home'), ('Back', 'Back to previous …"
      ]
     },
     "metadata": {},
     "output_type": "display_data"
    }
   ],
   "source": [
    "spot_plt = plt.figure(FigureClass=SpotDiagramFigure, opt_model=opm, scale_type=Fit.User_Scale,\n",
    "                      user_scale_value=0.1, is_dark=isdark).plot()"
   ]
  },
  {
   "cell_type": "raw",
   "metadata": {},
   "source": [
    "wavefront_plt = plt.figure(FigureClass=WavefrontFigure, opt_model=opm, scale_type=Fit.User_Scale, user_scale_value=2.5).plot()"
   ]
  },
  {
   "cell_type": "code",
   "execution_count": 16,
   "metadata": {},
   "outputs": [],
   "source": [
    "#sm.ifcs[2].decenter.euler[0] = 0.00573  # 0.1 mrad mirror tilt\n",
    "sm.ifcs[2].decenter.euler[0] = 0.0573  # 1 mrad mirror tilt\n",
    "opm.update_model()"
   ]
  },
  {
   "cell_type": "code",
   "execution_count": 17,
   "metadata": {},
   "outputs": [
    {
     "data": {
      "application/vnd.jupyter.widget-view+json": {
       "model_id": "08e5bab233714f109978aaf3a7ce1d05",
       "version_major": 2,
       "version_minor": 0
      },
      "text/plain": [
       "Canvas(toolbar=Toolbar(toolitems=[('Home', 'Reset original view', 'home', 'home'), ('Back', 'Back to previous …"
      ]
     },
     "metadata": {},
     "output_type": "display_data"
    }
   ],
   "source": [
    "spot_plt = plt.figure(FigureClass=SpotDiagramFigure, opt_model=opm, scale_type=Fit.User_Scale,\n",
    "                      user_scale_value=0.025, is_dark=isdark).plot()"
   ]
  },
  {
   "cell_type": "code",
   "execution_count": 18,
   "metadata": {},
   "outputs": [],
   "source": [
    "def create_mirror_tilt_dashboard(figs, ray_data_items, foc, tilt_rng, shift_rng):\n",
    "    alpha_tilt=widgets.FloatSlider(min=-tilt_rng, max=+tilt_rng, step=.05*tilt_rng,\n",
    "                                description='alpha tilt', value=foc,\n",
    "                                readout_format='.4f', continuous_update=True)\n",
    "    x_shift=widgets.FloatSlider(min=-shift_rng, max=+shift_rng, step=.05*shift_rng,\n",
    "                                description='x shift', value=0.,\n",
    "                                readout_format='.4f', continuous_update=True)\n",
    "    y_shift=widgets.FloatSlider(min=-shift_rng, max=+shift_rng, step=.05*shift_rng,\n",
    "                                description='y shift', value=0.,\n",
    "                                readout_format='.4f', continuous_update=True)\n",
    "    sliders = {}\n",
    "    sliders['alpha tilt'] = alpha_tilt\n",
    "    sliders['x shift'] = x_shift\n",
    "    sliders['y shift'] = y_shift\n",
    "\n",
    "    def slider_update(change):\n",
    "        sm.ifcs[2].decenter.euler[0] = alpha_tilt.value\n",
    "        sm.ifcs[2].decenter.dec[0] = x_shift.value\n",
    "        sm.ifcs[2].decenter.dec[1] = y_shift.value\n",
    "        opm.update_model()\n",
    "        optical_axis_ray = trace_base(opm, [0., 0.], fld, wvl)\n",
    "        \n",
    "        # apply changes to fans and grids\n",
    "        for ray_data in ray_data_items:\n",
    "            ray_data.update_data(build='rebuild')\n",
    "\n",
    "        # update and plot results\n",
    "        for fig in figs:\n",
    "            fig.clf()\n",
    "            fig.plot()\n",
    "\n",
    "    alpha_tilt.observe(slider_update, names='value')\n",
    "    x_shift.observe(slider_update, names='value')\n",
    "    y_shift.observe(slider_update, names='value')\n",
    "    \n",
    "    return defocus, x_shift, y_shift"
   ]
  },
  {
   "cell_type": "code",
   "execution_count": 19,
   "metadata": {},
   "outputs": [],
   "source": [
    "image_pt, ref_dir, ref_sphere_radius = fld.ref_sphere"
   ]
  },
  {
   "cell_type": "code",
   "execution_count": 20,
   "metadata": {},
   "outputs": [
    {
     "data": {
      "text/plain": [
       "array([ 0.        , -0.16389492,  0.        ])"
      ]
     },
     "execution_count": 20,
     "metadata": {},
     "output_type": "execute_result"
    }
   ],
   "source": [
    "image_pt"
   ]
  },
  {
   "cell_type": "code",
   "execution_count": 21,
   "metadata": {},
   "outputs": [],
   "source": [
    "fld.ref_sphere[0][1]=0"
   ]
  },
  {
   "cell_type": "code",
   "execution_count": 22,
   "metadata": {},
   "outputs": [
    {
     "data": {
      "text/plain": [
       "array([0., 0., 0.])"
      ]
     },
     "execution_count": 22,
     "metadata": {},
     "output_type": "execute_result"
    }
   ],
   "source": [
    "image_pt"
   ]
  },
  {
   "cell_type": "code",
   "execution_count": 23,
   "metadata": {},
   "outputs": [
    {
     "data": {
      "application/vnd.jupyter.widget-view+json": {
       "model_id": "b87de6001ee34c70a7e14b1f9f686cd3",
       "version_major": 2,
       "version_minor": 0
      },
      "text/plain": [
       "Canvas(toolbar=Toolbar(toolitems=[('Home', 'Reset original view', 'home', 'home'), ('Back', 'Back to previous …"
      ]
     },
     "metadata": {},
     "output_type": "display_data"
    }
   ],
   "source": [
    "wavefront_plt = plt.figure(FigureClass=WavefrontFigure, opt_model=opm, scale_type=Fit.User_Scale,\n",
    "                 user_scale_value=50., is_dark=isdark).plot()"
   ]
  },
  {
   "cell_type": "code",
   "execution_count": 24,
   "metadata": {},
   "outputs": [
    {
     "name": "stdout",
     "output_type": "stream",
     "text": [
      "            X            Y            Z           L            M            N               Len\n",
      "  0:      0.00000      0.00000            0     0.000000     0.000000     1.000000        1e+11\n",
      "  1:      0.00000     20.00000            0     0.000000     0.000000     1.000000      -5.0413\n",
      "  2:      0.00000     40.00502      -5.0013     0.000000    -0.471523    -0.881854       85.047\n",
      "  3:      0.00000     -0.17648            0     0.000000    -0.472404    -0.881382            0\n"
     ]
    }
   ],
   "source": [
    "upr_ray = trace_base(opm, [0., 1.], fld, wvl)\n",
    "list_ray(upr_ray)"
   ]
  },
  {
   "cell_type": "code",
   "execution_count": 25,
   "metadata": {},
   "outputs": [
    {
     "name": "stdout",
     "output_type": "stream",
     "text": [
      "            X            Y            Z           L            M            N               Len\n",
      "  0:      0.00000      0.00000            0     0.000000     0.000000     1.000000        1e+11\n",
      "  1:      0.00000      0.00000            0     0.000000     0.000000     1.000000      -1.2702\n",
      "  2:      0.00000     20.00126      -1.2502     0.000000    -0.247138    -0.968980       81.271\n",
      "  3:      0.00000     -0.16389            0     0.000000    -0.248107    -0.968733            0\n"
     ]
    }
   ],
   "source": [
    "ctr_ray = trace_base(opm, [0., 0.], fld, wvl)\n",
    "list_ray(ctr_ray)"
   ]
  },
  {
   "cell_type": "code",
   "execution_count": 26,
   "metadata": {},
   "outputs": [
    {
     "name": "stdout",
     "output_type": "stream",
     "text": [
      "            X            Y            Z           L            M            N               Len\n",
      "  0:      0.00000     -0.00000            0     0.000000    -0.000000     1.000000        1e+11\n",
      "  1:      0.00000    -20.00000            0     0.000000    -0.000000     1.000000           -0\n",
      "  2:      0.00000      0.00000            0     0.000000    -0.001000    -0.999999           80\n",
      "  3:      0.00000     -0.16001            0     0.000000    -0.002000    -0.999998            0\n"
     ]
    }
   ],
   "source": [
    "lwr_ray = trace_base(opm, [0., -1.], fld, wvl)\n",
    "list_ray(lwr_ray)"
   ]
  },
  {
   "cell_type": "code",
   "execution_count": 27,
   "metadata": {},
   "outputs": [
    {
     "name": "stdout",
     "output_type": "stream",
     "text": [
      "            X            Y            Z           L            M            N               Len\n",
      "  0:      0.00000      0.00000       -1e+11     0.000000     0.000000     1.000000        1e+11\n",
      "  1:      0.00000     20.00000            0     0.000000     0.000000     1.000000      -5.0413\n",
      "  2:      0.00000     20.00000      -5.0413     0.000000    -0.472404    -0.881382       85.047\n",
      "  3:      0.00000    -20.17648          -80     0.000000    -0.472404    -0.881382            0\n"
     ]
    }
   ],
   "source": [
    "list_ray(upr_ray, tfrms=sm.gbl_tfrms)"
   ]
  },
  {
   "cell_type": "code",
   "execution_count": 28,
   "metadata": {},
   "outputs": [
    {
     "name": "stdout",
     "output_type": "stream",
     "text": [
      "            X            Y            Z           L            M            N               Len\n",
      "  0:      0.00000      0.00000       -1e+11     0.000000     0.000000     1.000000        1e+11\n",
      "  1:      0.00000      0.00000            0     0.000000     0.000000     1.000000      -1.2702\n",
      "  2:      0.00000      0.00000      -1.2702     0.000000    -0.248107    -0.968733       81.271\n",
      "  3:      0.00000    -20.16389          -80     0.000000    -0.248107    -0.968733            0\n"
     ]
    }
   ],
   "source": [
    "list_ray(ctr_ray, tfrms=sm.gbl_tfrms)"
   ]
  },
  {
   "cell_type": "code",
   "execution_count": 29,
   "metadata": {},
   "outputs": [
    {
     "name": "stdout",
     "output_type": "stream",
     "text": [
      "            X            Y            Z           L            M            N               Len\n",
      "  0:      0.00000      0.00000       -1e+11     0.000000    -0.000000     1.000000        1e+11\n",
      "  1:      0.00000    -20.00000            0     0.000000    -0.000000     1.000000           -0\n",
      "  2:      0.00000    -20.00000            0     0.000000    -0.002000    -0.999998           80\n",
      "  3:      0.00000    -20.16001          -80     0.000000    -0.002000    -0.999998            0\n"
     ]
    }
   ],
   "source": [
    "list_ray(lwr_ray, tfrms=sm.gbl_tfrms)"
   ]
  },
  {
   "cell_type": "markdown",
   "metadata": {},
   "source": [
    "# Start of dynamic dashboard"
   ]
  },
  {
   "cell_type": "code",
   "execution_count": 30,
   "metadata": {},
   "outputs": [],
   "source": [
    "img_offset = ctr_ray[0][-1][0]\n",
    "on_axis_pt = np.array([img_offset[0], img_offset[1]])\n",
    "\n",
    "ray_xfan = analyses.RayFan(opm, f=fld, wl=wvl, xyfan='x', image_pt_2d=on_axis_pt)\n",
    "ray_yfan = analyses.RayFan(opm, f=fld, wl=wvl, xyfan='y', image_pt_2d=on_axis_pt)\n",
    "ray_grid = analyses.RayGrid(opm, f=fld, wl=wvl, image_pt_2d=on_axis_pt)\n",
    "ray_list = analyses.RayList(opm, num_rays=48, f=fld, wl=wvl, image_pt_2d=on_axis_pt)"
   ]
  },
  {
   "cell_type": "code",
   "execution_count": 31,
   "metadata": {},
   "outputs": [],
   "source": [
    "xyabr_fan_list = [(ray_xfan, 'dx', dict(num_points=100)),\n",
    "                  (ray_yfan, 'dy', dict(num_points=100, linestyle='--'))]"
   ]
  },
  {
   "cell_type": "code",
   "execution_count": 32,
   "metadata": {},
   "outputs": [],
   "source": [
    "opd_fan_list = [(ray_yfan, 'opd', dict(num_points=100, linewidth=2))]"
   ]
  },
  {
   "cell_type": "code",
   "execution_count": 33,
   "metadata": {},
   "outputs": [],
   "source": [
    "opd = opm.nm_to_sys_units(wvl)\n",
    "# one wave of defocus\n",
    "dfoc = opd/(fod.img_na**2/(2*fod.n_img))\n",
    "qwrt_dfoc = abs(0.25*dfoc)\n",
    "# one wave of tilt\n",
    "_, _, ref_sphere_radius = fld.ref_sphere\n",
    "shft = ref_sphere_radius*opd/fod.exp_radius"
   ]
  },
  {
   "cell_type": "code",
   "execution_count": 34,
   "metadata": {},
   "outputs": [],
   "source": [
    "def create_focus_dashboard(figs, ray_data_items, foc, dfoc_rng, shift_rng, on_axis_pt):\n",
    "    defocus=widgets.FloatSlider(min=-dfoc_rng, max=+dfoc_rng, step=.01*dfoc_rng,\n",
    "                                description='defocus', value=foc,\n",
    "                                readout_format='.4f', continuous_update=True)\n",
    "    x_shift=widgets.FloatSlider(min=-shift_rng, max=+shift_rng, step=.01*shift_rng,\n",
    "                                description='x shift', value=on_axis_pt[0],\n",
    "                                readout_format='.4f', continuous_update=True)\n",
    "    y_shift=widgets.FloatSlider(min=-shift_rng, max=+shift_rng, step=.01*shift_rng,\n",
    "                                description='y shift', value=on_axis_pt[1],\n",
    "                                readout_format='.4f', continuous_update=True)\n",
    "\n",
    "    def slider_update(change):\n",
    "        dfoc_val = defocus.value\n",
    "        dx = x_shift.value\n",
    "        dy = y_shift.value\n",
    "\n",
    "        # apply changes to fans and grids\n",
    "        for ray_data in ray_data_items:\n",
    "            ray_data.foc = dfoc_val\n",
    "            ray_data.image_pt_2d = np.array([dx, dy])\n",
    "            ray_data.update_data(build='update')\n",
    "\n",
    "        # update and plot results\n",
    "        for fig in figs:\n",
    "            fig.clf()\n",
    "            fig.plot()\n",
    "\n",
    "    defocus.observe(slider_update, names='value')\n",
    "    x_shift.observe(slider_update, names='value')\n",
    "    y_shift.observe(slider_update, names='value')\n",
    "    \n",
    "    return defocus, x_shift, y_shift"
   ]
  },
  {
   "cell_type": "code",
   "execution_count": 35,
   "metadata": {},
   "outputs": [
    {
     "data": {
      "application/vnd.jupyter.widget-view+json": {
       "model_id": "16f95812861949bb81491ef45ef6a59b",
       "version_major": 2,
       "version_minor": 0
      },
      "text/plain": [
       "Canvas(toolbar=Toolbar(toolitems=[('Home', 'Reset original view', 'home', 'home'), ('Back', 'Back to previous …"
      ]
     },
     "metadata": {},
     "output_type": "display_data"
    }
   ],
   "source": [
    "fig = plt.figure(FigureClass=AnalysisFigure, data_objs=[ray_grid, ray_xfan, ray_yfan],\n",
    "                 figsize=[9, 5], tight_layout=True, is_dark=isdark)\n",
    "gs = gridspec.GridSpec(nrows=8, ncols=13, figure=fig)\n",
    "\n",
    "Wavefront(fig, gs[:8, :8], ray_grid, user_scale_value=None, do_contours=False, title='Wavefront Map',\n",
    "          cmap=\"BrBG_r\")\n",
    "RayFanPlot(fig, gs[:4, 9:], xyabr_fan_list, user_scale_value=None, scale_type='fit',\n",
    "           yaxis_ticks_position='right', title='Transverse Ray Aberration')\n",
    "RayFanPlot(fig, gs[4:8, 9:], opd_fan_list, user_scale_value=None, scale_type='fit',\n",
    "           yaxis_ticks_position='right', title='Wavefront Aberration')\n",
    "fig.refresh()"
   ]
  },
  {
   "cell_type": "code",
   "execution_count": 36,
   "metadata": {},
   "outputs": [
    {
     "data": {
      "application/vnd.jupyter.widget-view+json": {
       "model_id": "d8835adbda7f46b3a9d915c400115a1d",
       "version_major": 2,
       "version_minor": 0
      },
      "text/plain": [
       "Canvas(toolbar=Toolbar(toolitems=[('Home', 'Reset original view', 'home', 'home'), ('Back', 'Back to previous …"
      ]
     },
     "metadata": {},
     "output_type": "display_data"
    }
   ],
   "source": [
    "spotfig = plt.figure(FigureClass=AnalysisFigure, data_objs=[ray_grid, ray_xfan, ray_yfan],\n",
    "                 figsize=[9, 5], tight_layout=True, is_dark=isdark)\n",
    "gs = gridspec.GridSpec(nrows=2, ncols=2, figure=spotfig)\n",
    "\n",
    "us = 0.01\n",
    "scaler = mcolors.Normalize(vmin=0., vmax=80)\n",
    "gPSF = RayGeoPSF(spotfig, gs[:,:1], ray_list, user_scale_value=us, scale_type='user', dsp_typ='hist2d',\n",
    "                 title='Geometrical PSF', norm=scaler, vmax=80, cmap='gray')\n",
    "gPSF = RayGeoPSF(spotfig, gs[:,-1:], ray_list, user_scale_value=us, scale_type='user', dsp_typ='spot',\n",
    "                 title='Spot Diagram', marker='x')\n",
    "spotfig.refresh()"
   ]
  },
  {
   "cell_type": "code",
   "execution_count": 37,
   "metadata": {},
   "outputs": [
    {
     "data": {
      "application/vnd.jupyter.widget-view+json": {
       "model_id": "c3e42177286a4e40b1c2e7497dc699e1",
       "version_major": 2,
       "version_minor": 0
      },
      "text/plain": [
       "HBox(children=(FloatSlider(value=0.0, description='defocus', max=0.018700000028159993, min=-0.0187000000281599…"
      ]
     },
     "metadata": {},
     "output_type": "display_data"
    }
   ],
   "source": [
    "defocus, x_shift, y_shift = create_focus_dashboard([fig, spotfig],\n",
    "                                                   [ray_grid, ray_xfan, ray_yfan, ray_list],\n",
    "                                                   osp.defocus.focus_shift, abs(dfoc), 0.2, on_axis_pt)\n",
    "display(widgets.HBox([defocus, y_shift]))"
   ]
  },
  {
   "cell_type": "code",
   "execution_count": 38,
   "metadata": {},
   "outputs": [
    {
     "data": {
      "application/vnd.jupyter.widget-view+json": {
       "model_id": "5f35cdaed9f6412696770d7e13e542ce",
       "version_major": 2,
       "version_minor": 0
      },
      "text/plain": [
       "Canvas(toolbar=Toolbar(toolitems=[('Home', 'Reset original view', 'home', 'home'), ('Back', 'Back to previous …"
      ]
     },
     "metadata": {},
     "output_type": "display_data"
    }
   ],
   "source": [
    "# definitions for the axes\n",
    "left, width = 0.1, 0.65\n",
    "bottom, height = 0.1, 0.65\n",
    "spacing = 0.005\n",
    "\n",
    "rect_hist2d = [left, bottom, width, height]\n",
    "rect_histx = [left, bottom + height + spacing, width, 0.2]\n",
    "rect_histy = [left + width + spacing, bottom, 0.2, height]\n",
    "\n",
    "# start with a rectangular Figure\n",
    "plt.figure(figsize=(8, 8))\n",
    "\n",
    "ax_hist2d = plt.axes(rect_hist2d)\n",
    "ax_hist2d.tick_params(direction='in', top=True, right=True)\n",
    "ax_histx = plt.axes(rect_histx)\n",
    "ax_histx.tick_params(direction='in', labelbottom=False)\n",
    "ax_histy = plt.axes(rect_histy)\n",
    "ax_histy.tick_params(direction='in', labelleft=False)\n",
    "\n",
    "# the scatter plot:\n",
    "#ax_hist2d.scatter(x, y)\n",
    "x_data = ray_list.ray_abr[0]\n",
    "y_data = ray_list.ray_abr[1]\n",
    "max_value = max(max(np.nanmax(x_data), -np.nanmin(x_data)),\n",
    "                max(np.nanmax(y_data), -np.nanmin(y_data)))\n",
    "\n",
    "bins = 30\n",
    "edges = np.linspace(-max_value, max_value, num=100)\n",
    "gamma = 0.3\n",
    "dset = ax_hist2d.hist2d(*ray_list.ray_abr, bins=edges, norm=mcolors.PowerNorm(gamma))\n",
    "h, xedges, yedges, qmesh = dset\n",
    "ax_hist2d.set_facecolor(qmesh.cmap(0))\n",
    "\n",
    "# now determine nice limits by hand:\n",
    "binwidth = 0.0025\n",
    "#lim = np.ceil(np.abs([x, y]).max() / binwidth) * binwidth\n",
    "#ax_hist2d.set_xlim((-lim, lim))\n",
    "#ax_hist2d.set_ylim((-lim, lim))\n",
    "\n",
    "#bins = np.arange(-lim, lim + binwidth, binwidth)\n",
    "centers = np.linspace(-max_value, max_value, num=99)\n",
    "ax_histx.plot(centers, np.max(h, axis=1))\n",
    "ax_histy.plot(np.max(h, axis=0), centers)\n",
    "\n",
    "#ax_histx.set_xlim(ax_hist2d.get_xlim())\n",
    "#ax_histy.set_ylim(ax_hist2d.get_ylim())\n",
    "\n",
    "plt.show()"
   ]
  },
  {
   "cell_type": "code",
   "execution_count": 39,
   "metadata": {},
   "outputs": [
    {
     "data": {
      "application/vnd.jupyter.widget-view+json": {
       "model_id": "6022f1672725434c8c5b6738c111bd5e",
       "version_major": 2,
       "version_minor": 0
      },
      "text/plain": [
       "Canvas(toolbar=Toolbar(toolitems=[('Home', 'Reset original view', 'home', 'home'), ('Back', 'Back to previous …"
      ]
     },
     "metadata": {},
     "output_type": "display_data"
    }
   ],
   "source": [
    "fig_hist = plt.figure(FigureClass=AnalysisFigure, data_objs=[ray_grid, ray_xfan, ray_yfan],\n",
    "                 figsize=[9, 5], tight_layout=True, is_dark=isdark)\n",
    "gsh = gridspec.GridSpec(nrows=2, ncols=2, figure=fig_hist)\n",
    "\n",
    "gPSF = RayGeoPSF(fig_hist, gsh[:,:], ray_list, user_scale_value=.01, scale_type='user', dsp_typ='hist2d',\n",
    "                 title='Geometrical PSF')\n",
    "fig_hist.refresh()"
   ]
  },
  {
   "cell_type": "code",
   "execution_count": null,
   "metadata": {},
   "outputs": [],
   "source": []
  }
 ],
 "metadata": {
  "kernelspec": {
   "display_name": "Python 3",
   "language": "python",
   "name": "python3"
  },
  "language_info": {
   "codemirror_mode": {
    "name": "ipython",
    "version": 3
   },
   "file_extension": ".py",
   "mimetype": "text/x-python",
   "name": "python",
   "nbconvert_exporter": "python",
   "pygments_lexer": "ipython3",
   "version": "3.7.7"
  }
 },
 "nbformat": 4,
 "nbformat_minor": 4
}
