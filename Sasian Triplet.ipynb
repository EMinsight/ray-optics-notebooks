{
 "cells": [
  {
   "cell_type": "raw",
   "metadata": {},
   "source": [
    ".. currentmodule:: rayoptics.optical\n",
    "\n",
    "###############\n",
    "Triplet example\n",
    "###############\n",
    "\n",
    "This triplet design, used in Jose Sasian's `Lens Design OPTI 517 <https://wp.optics.arizona.edu/jsasian/courses/opti-517/>`_ course at the Univ. of Arizona, is attributed to Geiser."
   ]
  },
  {
   "cell_type": "code",
   "execution_count": 1,
   "metadata": {},
   "outputs": [],
   "source": [
    "%matplotlib ipympl"
   ]
  },
  {
   "cell_type": "raw",
   "metadata": {},
   "source": [
    "Setup the rayoptics environment\n",
    "-------------------------------\n",
    "\n",
    "The ``environment.py`` module imports many useful classes and functions. All the symbols defined in the module are intended to be imported into a rayoptics interactive session."
   ]
  },
  {
   "cell_type": "code",
   "execution_count": 2,
   "metadata": {
    "code_folding": []
   },
   "outputs": [],
   "source": [
    "from rayoptics.environment import *"
   ]
  },
  {
   "cell_type": "raw",
   "metadata": {},
   "source": [
    "Create a new model\n",
    "------------------\n",
    "\n",
    "Create a new :class:`~opticalmodel.OpticalModel` instance and set up some convenient aliases to important constituents of the model."
   ]
  },
  {
   "cell_type": "code",
   "execution_count": 3,
   "metadata": {},
   "outputs": [],
   "source": [
    "opm = OpticalModel()\n",
    "sm  = opm.seq_model\n",
    "osp = opm.optical_spec\n",
    "pm = opm.parax_model"
   ]
  },
  {
   "cell_type": "markdown",
   "metadata": {},
   "source": [
    "### Define first order aperture and field for system"
   ]
  },
  {
   "cell_type": "code",
   "execution_count": 4,
   "metadata": {},
   "outputs": [],
   "source": [
    "osp.pupil = PupilSpec(osp, pupil_type=PupilType.EPD, value=12.5)\n",
    "osp.field_of_view = FieldSpec(osp, field_type=FieldType.OBJ_ANG, flds=[0., 20.0])\n",
    "osp.spectral_region = WvlSpec([(486.1327, 0.5), (587.5618, 1.0), (656.2725, 0.5)], ref_wl=1)"
   ]
  },
  {
   "cell_type": "markdown",
   "metadata": {},
   "source": [
    "### Define interface and gap data for the sequential model"
   ]
  },
  {
   "cell_type": "code",
   "execution_count": 5,
   "metadata": {},
   "outputs": [],
   "source": [
    "opm.radius_mode = True\n",
    "\n",
    "sm.gaps[0].thi=1e10\n",
    "\n",
    "sm.add_surface([23.713, 4.831, 'N-LAK9', 'Schott'])\n",
    "sm.add_surface([7331.288, 5.86])\n",
    "sm.add_surface([-24.456, .975, 'N-SF5', 'Schott'])\n",
    "sm.set_stop()\n",
    "sm.add_surface([21.896, 4.822])\n",
    "sm.add_surface([86.759, 3.127, 'N-LAK9', 'Schott'])\n",
    "sm.add_surface([-20.4942, 41.2365])\n"
   ]
  },
  {
   "cell_type": "markdown",
   "metadata": {},
   "source": [
    "### Update the model"
   ]
  },
  {
   "cell_type": "code",
   "execution_count": 6,
   "metadata": {},
   "outputs": [],
   "source": [
    "opm.update_model()"
   ]
  },
  {
   "cell_type": "markdown",
   "metadata": {},
   "source": [
    "## Draw a lens picture"
   ]
  },
  {
   "cell_type": "code",
   "execution_count": 7,
   "metadata": {},
   "outputs": [
    {
     "data": {
      "application/vnd.jupyter.widget-view+json": {
       "model_id": "d78606799f904989a8680bd15569c2d6",
       "version_major": 2,
       "version_minor": 0
      },
      "text/plain": [
       "FigureCanvasNbAgg()"
      ]
     },
     "metadata": {},
     "output_type": "display_data"
    }
   ],
   "source": [
    "layout_plt = plt.figure(FigureClass=LensLayoutFigure, opt_model=opm).plot()"
   ]
  },
  {
   "cell_type": "raw",
   "metadata": {},
   "source": [
    "Draw a |ybar| diagram\n",
    "---------------------"
   ]
  },
  {
   "cell_type": "code",
   "execution_count": 8,
   "metadata": {},
   "outputs": [
    {
     "data": {
      "application/vnd.jupyter.widget-view+json": {
       "model_id": "00ea6fa153c0433499ab94e946142c4f",
       "version_major": 2,
       "version_minor": 0
      },
      "text/plain": [
       "FigureCanvasNbAgg()"
      ]
     },
     "metadata": {},
     "output_type": "display_data"
    }
   ],
   "source": [
    "yybar_plt = plt.figure(FigureClass=ParaxialDesignFigure, opt_model=opm, dgm_type=Dgm.ht, refresh_gui=None).plot()"
   ]
  },
  {
   "cell_type": "markdown",
   "metadata": {},
   "source": [
    "## Plot the transverse ray aberrations"
   ]
  },
  {
   "cell_type": "code",
   "execution_count": 9,
   "metadata": {},
   "outputs": [
    {
     "data": {
      "application/vnd.jupyter.widget-view+json": {
       "model_id": "60b5af9ff7cb4affa5c3be1f1c0a1c4a",
       "version_major": 2,
       "version_minor": 0
      },
      "text/plain": [
       "FigureCanvasNbAgg()"
      ]
     },
     "metadata": {},
     "output_type": "display_data"
    }
   ],
   "source": [
    "abr_plt = plt.figure(FigureClass=RayFanFigure, opt_model=opm, data_type='Ray', scale_type=Fit.All_Same).plot()"
   ]
  },
  {
   "cell_type": "markdown",
   "metadata": {},
   "source": [
    "## Plot the wavefront aberration"
   ]
  },
  {
   "cell_type": "code",
   "execution_count": 10,
   "metadata": {},
   "outputs": [
    {
     "data": {
      "application/vnd.jupyter.widget-view+json": {
       "model_id": "6da4711b028a4491afb52beb5c3b9382",
       "version_major": 2,
       "version_minor": 0
      },
      "text/plain": [
       "FigureCanvasNbAgg()"
      ]
     },
     "metadata": {},
     "output_type": "display_data"
    }
   ],
   "source": [
    "wav_plt = plt.figure(FigureClass=RayFanFigure, opt_model=opm, data_type='OPD', scale_type=Fit.All_Same).plot()"
   ]
  },
  {
   "cell_type": "markdown",
   "metadata": {},
   "source": [
    "## List the optical specifications"
   ]
  },
  {
   "cell_type": "code",
   "execution_count": 11,
   "metadata": {},
   "outputs": [
    {
     "name": "stdout",
     "output_type": "stream",
     "text": [
      "efl                  50\n",
      "ffl               -37.1\n",
      "pp1                12.9\n",
      "bfl               41.24\n",
      "ppk               8.763\n",
      "f/#                   4\n",
      "red              -2e+08\n",
      "obj_dist          1e+10\n",
      "obj_ang              20\n",
      "enp_dist          11.68\n",
      "enp_radius         6.25\n",
      "na obj         6.25e-10\n",
      "n obj                 1\n",
      "img_dist          41.24\n",
      "img_ht             18.2\n",
      "exp_dist         -10.01\n",
      "exp_radius        6.406\n",
      "na img           -0.124\n",
      "n img                 1\n",
      "optical invariant        2.275\n"
     ]
    }
   ],
   "source": [
    "osp.parax_data.fod.list_first_order_data()"
   ]
  },
  {
   "cell_type": "markdown",
   "metadata": {},
   "source": [
    "## List the paraxial model"
   ]
  },
  {
   "cell_type": "code",
   "execution_count": 12,
   "metadata": {},
   "outputs": [
    {
     "name": "stdout",
     "output_type": "stream",
     "text": [
      "      ax_ray_ht    ax_ray_slp\n",
      "0:            0      6.25e-10\n",
      "1:         6.25     -0.182126\n",
      "2:       5.7297     -0.181586\n",
      "3:       4.6656    -0.0532508\n",
      "4:       4.6346     0.0891357\n",
      "5:       5.0644        0.0488\n",
      "6:       5.1546     -0.124998\n",
      "7:   0.00014365     -0.124998\n",
      "\n",
      "      pr_ray_ht    pr_ray_slp\n",
      "0:  -3.6397e+09       0.36397\n",
      "1:      -4.2509      0.487842\n",
      "2:      -2.8572      0.487573\n",
      "3:   3.5341e-07      0.487573\n",
      "4:       0.2842      0.496304\n",
      "5:       2.6774       0.47498\n",
      "6:       3.5557      0.355092\n",
      "7:       18.198      0.355092\n",
      "\n",
      "           power           tau        index    type\n",
      "0:             0         1e+10      1.00000    Transmit\n",
      "1:    0.02914022        2.8569      1.69100    Transmit\n",
      "2: -9.425384e-05          5.86      1.00000    Transmit\n",
      "3:   -0.02750683       0.58289      1.67271    Transmit\n",
      "4:   -0.03072283         4.822      1.00000    Transmit\n",
      "5:   0.007964615        1.8492      1.69100    Transmit\n",
      "6:    0.03371696        41.236      1.00000    Transmit\n",
      "7:             0             0      1.00000    Transmit\n"
     ]
    }
   ],
   "source": [
    "pm.list_lens()"
   ]
  },
  {
   "cell_type": "markdown",
   "metadata": {},
   "source": [
    "## Third Order Seidel aberrations\n",
    "\n",
    "### Computation and tabular display"
   ]
  },
  {
   "cell_type": "code",
   "execution_count": 13,
   "metadata": {
    "scrolled": true
   },
   "outputs": [
    {
     "data": {
      "text/html": [
       "<div>\n",
       "<style scoped>\n",
       "    .dataframe tbody tr th:only-of-type {\n",
       "        vertical-align: middle;\n",
       "    }\n",
       "\n",
       "    .dataframe tbody tr th {\n",
       "        vertical-align: top;\n",
       "    }\n",
       "\n",
       "    .dataframe thead th {\n",
       "        text-align: right;\n",
       "    }\n",
       "</style>\n",
       "<table border=\"1\" class=\"dataframe\">\n",
       "  <thead>\n",
       "    <tr style=\"text-align: right;\">\n",
       "      <th></th>\n",
       "      <th>S-I</th>\n",
       "      <th>S-II</th>\n",
       "      <th>S-III</th>\n",
       "      <th>S-IV</th>\n",
       "      <th>S-V</th>\n",
       "    </tr>\n",
       "  </thead>\n",
       "  <tbody>\n",
       "    <tr>\n",
       "      <th>1</th>\n",
       "      <td>0.027654</td>\n",
       "      <td>0.019379</td>\n",
       "      <td>0.013581</td>\n",
       "      <td>0.089174</td>\n",
       "      <td>0.072010</td>\n",
       "    </tr>\n",
       "    <tr>\n",
       "      <th>2</th>\n",
       "      <td>0.022082</td>\n",
       "      <td>-0.059501</td>\n",
       "      <td>0.160327</td>\n",
       "      <td>-0.000288</td>\n",
       "      <td>-0.431229</td>\n",
       "    </tr>\n",
       "    <tr>\n",
       "      <th>3</th>\n",
       "      <td>-0.105156</td>\n",
       "      <td>0.137692</td>\n",
       "      <td>-0.180295</td>\n",
       "      <td>-0.085097</td>\n",
       "      <td>0.347506</td>\n",
       "    </tr>\n",
       "    <tr>\n",
       "      <th>4</th>\n",
       "      <td>-0.045358</td>\n",
       "      <td>-0.076796</td>\n",
       "      <td>-0.130024</td>\n",
       "      <td>-0.095046</td>\n",
       "      <td>-0.381069</td>\n",
       "    </tr>\n",
       "    <tr>\n",
       "      <th>5</th>\n",
       "      <td>0.007942</td>\n",
       "      <td>0.028382</td>\n",
       "      <td>0.101431</td>\n",
       "      <td>0.024373</td>\n",
       "      <td>0.449596</td>\n",
       "    </tr>\n",
       "    <tr>\n",
       "      <th>6</th>\n",
       "      <td>0.103810</td>\n",
       "      <td>-0.050068</td>\n",
       "      <td>0.024148</td>\n",
       "      <td>0.103180</td>\n",
       "      <td>-0.061411</td>\n",
       "    </tr>\n",
       "    <tr>\n",
       "      <th>sum</th>\n",
       "      <td>0.010973</td>\n",
       "      <td>-0.000912</td>\n",
       "      <td>-0.010832</td>\n",
       "      <td>0.036297</td>\n",
       "      <td>-0.004597</td>\n",
       "    </tr>\n",
       "  </tbody>\n",
       "</table>\n",
       "</div>"
      ],
      "text/plain": [
       "          S-I      S-II     S-III      S-IV       S-V\n",
       "1    0.027654  0.019379  0.013581  0.089174  0.072010\n",
       "2    0.022082 -0.059501  0.160327 -0.000288 -0.431229\n",
       "3   -0.105156  0.137692 -0.180295 -0.085097  0.347506\n",
       "4   -0.045358 -0.076796 -0.130024 -0.095046 -0.381069\n",
       "5    0.007942  0.028382  0.101431  0.024373  0.449596\n",
       "6    0.103810 -0.050068  0.024148  0.103180 -0.061411\n",
       "sum  0.010973 -0.000912 -0.010832  0.036297 -0.004597"
      ]
     },
     "execution_count": 13,
     "metadata": {},
     "output_type": "execute_result"
    }
   ],
   "source": [
    "to_pkg = compute_third_order(opm)\n",
    "to_pkg"
   ]
  },
  {
   "cell_type": "markdown",
   "metadata": {},
   "source": [
    "### Bar chart for surface by surface third order aberrations"
   ]
  },
  {
   "cell_type": "code",
   "execution_count": 14,
   "metadata": {},
   "outputs": [
    {
     "data": {
      "application/vnd.jupyter.widget-view+json": {
       "model_id": "c9dbd87385b04d46a83fa9b9012b65a5",
       "version_major": 2,
       "version_minor": 0
      },
      "text/plain": [
       "FigureCanvasNbAgg()"
      ]
     },
     "metadata": {},
     "output_type": "display_data"
    }
   ],
   "source": [
    "fig, ax = plt.subplots()\n",
    "ax.set_xlabel('Surface')\n",
    "ax.set_ylabel('third order aberration')\n",
    "ax.set_title('Surface by surface third order aberrations')\n",
    "to_pkg.plot.bar(ax=ax, rot=0)\n",
    "ax.grid(True)\n",
    "fig.tight_layout()"
   ]
  },
  {
   "cell_type": "markdown",
   "metadata": {},
   "source": [
    "### convert aberration sums to transverse measure"
   ]
  },
  {
   "cell_type": "code",
   "execution_count": 15,
   "metadata": {},
   "outputs": [
    {
     "data": {
      "text/plain": [
       "TSA   -0.043893\n",
       "TCO    0.010944\n",
       "TAS   -0.015198\n",
       "SAS   -0.101860\n",
       "PTB   -0.145190\n",
       "DST    0.018387\n",
       "dtype: float64"
      ]
     },
     "execution_count": 15,
     "metadata": {},
     "output_type": "execute_result"
    }
   ],
   "source": [
    "ax_ray, pr_ray, fod = osp.parax_data\n",
    "n_last = sm.central_rndx(-1)\n",
    "u_last = ax_ray[-1][mc.slp]\n",
    "to.seidel_to_transverse_aberration(to_pkg.loc['sum',:], n_last, u_last)"
   ]
  },
  {
   "cell_type": "markdown",
   "metadata": {},
   "source": [
    "### convert sums to wavefront measure"
   ]
  },
  {
   "cell_type": "code",
   "execution_count": 16,
   "metadata": {},
   "outputs": [
    {
     "data": {
      "text/plain": [
       "W040     2.334457\n",
       "W131    -0.776108\n",
       "W222    -9.218154\n",
       "W220    10.834770\n",
       "W311    -3.911650\n",
       "dtype: float64"
      ]
     },
     "execution_count": 16,
     "metadata": {},
     "output_type": "execute_result"
    }
   ],
   "source": [
    "central_wv = opm.nm_to_sys_units(sm.central_wavelength())\n",
    "to.seidel_to_wavefront(to_pkg.loc['sum',:], central_wv).T"
   ]
  },
  {
   "cell_type": "markdown",
   "metadata": {},
   "source": [
    "### compute Petzval, sagittal and tangential field curvature"
   ]
  },
  {
   "cell_type": "code",
   "execution_count": 17,
   "metadata": {},
   "outputs": [
    {
     "data": {
      "text/plain": [
       "TCV    0.000734\n",
       "SCV    0.004921\n",
       "PCV    0.007014\n",
       "dtype: float64"
      ]
     },
     "execution_count": 17,
     "metadata": {},
     "output_type": "execute_result"
    }
   ],
   "source": [
    "to.seidel_to_field_curv(to_pkg.loc['sum',:], n_last, fod.opt_inv)"
   ]
  },
  {
   "cell_type": "markdown",
   "metadata": {},
   "source": [
    "## Save the model"
   ]
  },
  {
   "cell_type": "code",
   "execution_count": 18,
   "metadata": {},
   "outputs": [],
   "source": [
    "opm.save_model('Sasian Triplet')"
   ]
  },
  {
   "cell_type": "markdown",
   "metadata": {},
   "source": [
    "## Miscellaneous"
   ]
  },
  {
   "cell_type": "code",
   "execution_count": 19,
   "metadata": {},
   "outputs": [
    {
     "name": "stdout",
     "output_type": "stream",
     "text": [
      "0 Surface(lbl='Obj', profile=Spherical(c=0.0), interact_mode=InteractionMode.Transmit)\n",
      "1 Surface(profile=Spherical(c=0.042170961076202926), interact_mode=InteractionMode.Transmit)\n",
      "2 Surface(profile=Spherical(c=0.00013640168003221264), interact_mode=InteractionMode.Transmit)\n",
      "3 Surface(profile=Spherical(c=-0.04088976120379457), interact_mode=InteractionMode.Transmit)\n",
      "4 Surface(profile=Spherical(c=0.04567044208987943), interact_mode=InteractionMode.Transmit)\n",
      "5 Surface(profile=Spherical(c=0.011526181721781025), interact_mode=InteractionMode.Transmit)\n",
      "6 Surface(profile=Spherical(c=-0.04879429301948844), interact_mode=InteractionMode.Transmit)\n",
      "7 Surface(lbl='Img', profile=Spherical(c=0.0), interact_mode=InteractionMode.Transmit)\n"
     ]
    }
   ],
   "source": [
    "sm.list_surfaces()"
   ]
  },
  {
   "cell_type": "code",
   "execution_count": 20,
   "metadata": {
    "code_folding": []
   },
   "outputs": [
    {
     "data": {
      "application/vnd.jupyter.widget-view+json": {
       "model_id": "5dd6ef5f80b940f78efe3b65e56d2661",
       "version_major": 2,
       "version_minor": 0
      },
      "text/plain": [
       "FigureCanvasNbAgg()"
      ]
     },
     "metadata": {},
     "output_type": "display_data"
    }
   ],
   "source": [
    "yybar_plt = plt.figure(FigureClass=ParaxialDesignFigure, opt_model=opm, dgm_type=Dgm.ht, refresh_gui=None)\n",
    "def refresh_yybar():\n",
    "    opm.update_model()\n",
    "    yybar_plt.update_data()\n",
    "    yybar_plt.plot()\n",
    "\n",
    "yybar_plt.refresh_gui=refresh_yybar"
   ]
  },
  {
   "cell_type": "code",
   "execution_count": 21,
   "metadata": {},
   "outputs": [
    {
     "data": {
      "image/png": "[encoded data removed]",
      "text/plain": [
       "<ParaxialDesignFigure size 640x480 with 1 Axes>"
      ]
     },
     "execution_count": 21,
     "metadata": {},
     "output_type": "execute_result"
    }
   ],
   "source": [
    "refresh_yybar()\n",
    "yybar_plt.plot()"
   ]
  },
  {
   "cell_type": "code",
   "execution_count": 22,
   "metadata": {},
   "outputs": [
    {
     "data": {
      "application/vnd.jupyter.widget-view+json": {
       "model_id": "1e2e2fe8272d41569a33de7468217d0e",
       "version_major": 2,
       "version_minor": 0
      },
      "text/plain": [
       "FigureCanvasNbAgg()"
      ]
     },
     "metadata": {},
     "output_type": "display_data"
    }
   ],
   "source": [
    "live_layout = plt.figure(FigureClass=InteractiveLayout, opt_model=opm, refresh_gui=None).plot()"
   ]
  },
  {
   "cell_type": "code",
   "execution_count": null,
   "metadata": {},
   "outputs": [],
   "source": []
  }
 ],
 "metadata": {
  "kernelspec": {
   "display_name": "Python 3",
   "language": "python",
   "name": "python3"
  },
  "language_info": {
   "codemirror_mode": {
    "name": "ipython",
    "version": 3
   },
   "file_extension": ".py",
   "mimetype": "text/x-python",
   "name": "python",
   "nbconvert_exporter": "python",
   "pygments_lexer": "ipython3",
   "version": "3.7.1"
  }
 },
 "nbformat": 4,
 "nbformat_minor": 2
}
