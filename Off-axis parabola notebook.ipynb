{
 "cells": [
  {
   "cell_type": "code",
   "execution_count": 1,
   "metadata": {},
   "outputs": [],
   "source": [
    "#%matplotlib inline\n",
    "%matplotlib widget"
   ]
  },
  {
   "cell_type": "code",
   "execution_count": 2,
   "metadata": {},
   "outputs": [],
   "source": [
    "isdark = False"
   ]
  },
  {
   "cell_type": "code",
   "execution_count": 3,
   "metadata": {},
   "outputs": [],
   "source": [
    "# initialization\n",
    "from rayoptics.environment import *\n",
    "from rayoptics.gui import dashboards\n",
    "\n",
    "from matplotlib import gridspec\n",
    "import matplotlib.colors as mcolors\n",
    "\n",
    "import ipywidgets as widgets\n",
    "from ipywidgets import interact, interactive, fixed, interact_manual"
   ]
  },
  {
   "cell_type": "markdown",
   "metadata": {},
   "source": [
    "# Create a new model"
   ]
  },
  {
   "cell_type": "code",
   "execution_count": 4,
   "metadata": {},
   "outputs": [],
   "source": [
    "app = AppManager(None)\n",
    "opm = app.model = OpticalModel()\n",
    "sm = opm.seq_model\n",
    "osp = opm.optical_spec\n",
    "pm = opm.parax_model"
   ]
  },
  {
   "cell_type": "markdown",
   "metadata": {},
   "source": [
    "### Define first order aperture and field for system"
   ]
  },
  {
   "cell_type": "code",
   "execution_count": 5,
   "metadata": {},
   "outputs": [],
   "source": [
    "pupil_diameter = 40.\n",
    "pupil_radius = pupil_diameter/2\n",
    "osp.pupil = PupilSpec(osp, key=['object', 'pupil'], value=pupil_diameter)\n",
    "\n",
    "# single field on-axis\n",
    "osp.field_of_view = FieldSpec(osp, key=['object', 'angle'], flds=[0.0])\n",
    "\n",
    "# wavelength for analysis: 550nm\n",
    "osp.spectral_region = WvlSpec([(555.0, 1.0)], ref_wl=0)"
   ]
  },
  {
   "cell_type": "markdown",
   "metadata": {},
   "source": [
    "### object at infinity, i.e. collimated input"
   ]
  },
  {
   "cell_type": "code",
   "execution_count": 6,
   "metadata": {},
   "outputs": [],
   "source": [
    "sm.gaps[0].thi = 1e+11"
   ]
  },
  {
   "cell_type": "markdown",
   "metadata": {},
   "source": [
    "### setup aperture stop surface, then offset mirror behind the aperture stop"
   ]
  },
  {
   "cell_type": "code",
   "execution_count": 7,
   "metadata": {},
   "outputs": [],
   "source": [
    "mirror_offset = srf.DecenterData('reverse', y=pupil_radius)\n",
    "opm.add_dummy_plane(sd=pupil_radius, decenter=mirror_offset)\n",
    "sm.set_stop();"
   ]
  },
  {
   "cell_type": "markdown",
   "metadata": {},
   "source": [
    "### add parabolic mirror and enable it to tip, tilt and offset"
   ]
  },
  {
   "cell_type": "code",
   "execution_count": 8,
   "metadata": {},
   "outputs": [],
   "source": [
    "offset_aperture = srf.Circular(radius=pupil_diameter, y_offset=0.)\n",
    "#offset_aperture = srf.Circular(radius=pupil_radius, y_offset=pupil_radius)\n",
    "mirror_perturb = srf.DecenterData('dec and return')\n",
    "opm.add_mirror(power=1/80, cc=-1, t=-80, sd=pupil_diameter,\n",
    "               decenter=mirror_perturb, clear_apertures=[offset_aperture])"
   ]
  },
  {
   "cell_type": "markdown",
   "metadata": {},
   "source": [
    "### all of the system data has been entered, update the model"
   ]
  },
  {
   "cell_type": "code",
   "execution_count": 9,
   "metadata": {},
   "outputs": [],
   "source": [
    "opm.update_model()"
   ]
  },
  {
   "cell_type": "code",
   "execution_count": 10,
   "metadata": {},
   "outputs": [
    {
     "name": "stdout",
     "output_type": "stream",
     "text": [
      "             c            t        medium     mode   zdr      sd\n",
      " Obj:     0.000000  1.00000e+11       air             1      0.0000\n",
      "Stop:     0.000000      0.00000       air             1      20.000\n",
      "   2:    -0.006250     -80.0000       air    reflect -1      40.000\n",
      " Img:    -0.000000      0.00000                      -1  1.9267e-08\n"
     ]
    }
   ],
   "source": [
    "sm.list_model()"
   ]
  },
  {
   "cell_type": "raw",
   "metadata": {},
   "source": [
    "           thi    med/imode  type        x          y       alpha      beta       gamma\n",
    " 0:  1.00000e+11        air\n",
    " 1:                transmit   REV     0.0000     20.000     0.0000     0.0000     0.0000\n",
    " 1:      0.00000        air\n",
    " 2:                 reflect   DAR     0.0000     0.0000     0.0000     0.0000     0.0000\n",
    " 2:     -80.0000        air\n",
    " 3:                transmit\n"
   ]
  },
  {
   "cell_type": "code",
   "execution_count": 11,
   "metadata": {},
   "outputs": [
    {
     "name": "stdout",
     "output_type": "stream",
     "text": [
      "             thi    medium/mode    type        y       alpha\n",
      "   0:  1.00000e+11          air\n",
      "   1:                            reverse     20.000     0.0000\n",
      "   1:      0.00000          air\n",
      "   2:                   reflect  dec and return     0.0000     0.0000\n",
      "   2:     -80.0000          air\n",
      "   3:                     dummy\n"
     ]
    }
   ],
   "source": [
    "sm.list_decenters()"
   ]
  },
  {
   "cell_type": "markdown",
   "metadata": {},
   "source": [
    "# List first order data"
   ]
  },
  {
   "cell_type": "code",
   "execution_count": 12,
   "metadata": {},
   "outputs": [
    {
     "name": "stdout",
     "output_type": "stream",
     "text": [
      "efl                  80\n",
      "ffl                 -80\n",
      "pp1                  -0\n",
      "bfl                  80\n",
      "ppk                   0\n",
      "f/#                   2\n",
      "m                -8e-10\n",
      "red           -1.25e+09\n",
      "obj_dist          1e+11\n",
      "obj_ang               1\n",
      "enp_dist             -0\n",
      "enp_radius           20\n",
      "na obj            2e-10\n",
      "n obj                 1\n",
      "img_dist            -80\n",
      "img_ht            1.396\n",
      "exp_dist       -6.4e-08\n",
      "exp_radius           20\n",
      "na img           0.2425\n",
      "n img                -1\n",
      "optical invariant       0.3491\n"
     ]
    }
   ],
   "source": [
    "fod = osp.parax_data.fod\n",
    "fod.list_first_order_data()"
   ]
  },
  {
   "cell_type": "markdown",
   "metadata": {},
   "source": [
    "# Draw a lens picture"
   ]
  },
  {
   "cell_type": "code",
   "execution_count": 13,
   "metadata": {},
   "outputs": [
    {
     "data": {
      "application/vnd.jupyter.widget-view+json": {
       "model_id": "8af535ddd0c84f1faffebbfe93e08314",
       "version_major": 2,
       "version_minor": 0
      },
      "text/plain": [
       "Canvas(toolbar=Toolbar(toolitems=[('Home', 'Reset original view', 'home', 'home'), ('Back', 'Back to previous …"
      ]
     },
     "metadata": {},
     "output_type": "display_data"
    },
    {
     "data": {
      "image/png": "[encoded data removed]",
      "text/plain": [
       "<InteractiveLayout size 640x480 with 1 Axes>"
      ]
     },
     "execution_count": 13,
     "metadata": {},
     "output_type": "execute_result"
    }
   ],
   "source": [
    "layout_plt0 = plt.figure(FigureClass=InteractiveLayout, opt_model=opm, refresh_gui=app.refresh_gui,\n",
    "                        do_draw_rays=True, do_paraxial_layout=False, is_dark=isdark, offset_factor=0.15).plot()\n",
    "\n",
    "app.add_figure(layout_plt0)"
   ]
  },
  {
   "cell_type": "code",
   "execution_count": null,
   "metadata": {},
   "outputs": [],
   "source": []
  },
  {
   "cell_type": "code",
   "execution_count": 14,
   "metadata": {},
   "outputs": [],
   "source": [
    "fld, wvl, foc = osp.lookup_fld_wvl_focus(0)"
   ]
  },
  {
   "cell_type": "code",
   "execution_count": 15,
   "metadata": {},
   "outputs": [
    {
     "name": "stdout",
     "output_type": "stream",
     "text": [
      "            X            Y            Z           L            M            N               Len\n",
      "  0:      0.00000      0.00000            0     0.000000     0.000000     1.000000        1e+11\n",
      "  1:      0.00000      0.00000            0     0.000000     0.000000     1.000000        -1.25\n",
      "  2:      0.00000     20.00000        -1.25     0.000000    -0.246154    -0.969231        81.25\n",
      "  3:      0.00000      0.00000            0     0.000000    -0.246154    -0.969231            0\n"
     ]
    }
   ],
   "source": [
    "optical_axis_ray = trace_base(opm, [0., 0.], fld, wvl)\n",
    "list_ray(optical_axis_ray)"
   ]
  },
  {
   "cell_type": "raw",
   "metadata": {},
   "source": [
    "abr_plt = plt.figure(FigureClass=RayFanFigure, opt_model=opm, data_type='Ray', scale_type=Fit.User_Scale,\n",
    "                 user_scale_value=0.001).plot()"
   ]
  },
  {
   "cell_type": "raw",
   "metadata": {},
   "source": [
    "wav_plt = plt.figure(FigureClass=RayFanFigure, opt_model=opm, data_type='OPD',\n",
    "                     scale_type=Fit.User_Scale, user_scale_value=2.5).plot()"
   ]
  },
  {
   "cell_type": "code",
   "execution_count": 16,
   "metadata": {},
   "outputs": [
    {
     "data": {
      "application/vnd.jupyter.widget-view+json": {
       "model_id": "f6abf409fe7946f391b57485775b773b",
       "version_major": 2,
       "version_minor": 0
      },
      "text/plain": [
       "Canvas(toolbar=Toolbar(toolitems=[('Home', 'Reset original view', 'home', 'home'), ('Back', 'Back to previous …"
      ]
     },
     "metadata": {},
     "output_type": "display_data"
    }
   ],
   "source": [
    "spot_plt = plt.figure(FigureClass=SpotDiagramFigure, opt_model=opm, scale_type=Fit.User_Scale,\n",
    "                      user_scale_value=0.1, is_dark=isdark).plot()"
   ]
  },
  {
   "cell_type": "raw",
   "metadata": {},
   "source": [
    "wavefront_plt = plt.figure(FigureClass=WavefrontFigure, opt_model=opm, scale_type=Fit.User_Scale, user_scale_value=2.5).plot()"
   ]
  },
  {
   "cell_type": "code",
   "execution_count": 17,
   "metadata": {},
   "outputs": [],
   "source": [
    "#sm.ifcs[2].decenter.euler[0] = 0.00573  # 0.1 mrad mirror tilt\n",
    "sm.ifcs[2].decenter.euler[0] = 0.0573  # 1 mrad mirror tilt\n",
    "opm.update_model()"
   ]
  },
  {
   "cell_type": "code",
   "execution_count": 18,
   "metadata": {},
   "outputs": [
    {
     "data": {
      "application/vnd.jupyter.widget-view+json": {
       "model_id": "1a34b1d2bcf8484e81809132b3a5982b",
       "version_major": 2,
       "version_minor": 0
      },
      "text/plain": [
       "Canvas(toolbar=Toolbar(toolitems=[('Home', 'Reset original view', 'home', 'home'), ('Back', 'Back to previous …"
      ]
     },
     "metadata": {},
     "output_type": "display_data"
    }
   ],
   "source": [
    "spot_plt = plt.figure(FigureClass=SpotDiagramFigure, opt_model=opm, scale_type=Fit.User_Scale,\n",
    "                      user_scale_value=0.025, is_dark=isdark).plot()"
   ]
  },
  {
   "cell_type": "code",
   "execution_count": 19,
   "metadata": {},
   "outputs": [],
   "source": [
    "image_pt, ref_dir, ref_sphere_radius = fld.ref_sphere"
   ]
  },
  {
   "cell_type": "code",
   "execution_count": 20,
   "metadata": {},
   "outputs": [
    {
     "data": {
      "text/plain": [
       "array([ 0.        , -0.16389492,  0.        ])"
      ]
     },
     "execution_count": 20,
     "metadata": {},
     "output_type": "execute_result"
    }
   ],
   "source": [
    "image_pt"
   ]
  },
  {
   "cell_type": "code",
   "execution_count": 21,
   "metadata": {},
   "outputs": [],
   "source": [
    "fld.ref_sphere[0][1]=0"
   ]
  },
  {
   "cell_type": "code",
   "execution_count": 22,
   "metadata": {},
   "outputs": [
    {
     "data": {
      "text/plain": [
       "array([0., 0., 0.])"
      ]
     },
     "execution_count": 22,
     "metadata": {},
     "output_type": "execute_result"
    }
   ],
   "source": [
    "image_pt"
   ]
  },
  {
   "cell_type": "code",
   "execution_count": 23,
   "metadata": {},
   "outputs": [
    {
     "data": {
      "application/vnd.jupyter.widget-view+json": {
       "model_id": "1cf343c06264425a8c289ec3b71e3bef",
       "version_major": 2,
       "version_minor": 0
      },
      "text/plain": [
       "Canvas(toolbar=Toolbar(toolitems=[('Home', 'Reset original view', 'home', 'home'), ('Back', 'Back to previous …"
      ]
     },
     "metadata": {},
     "output_type": "display_data"
    }
   ],
   "source": [
    "wavefront_plt = plt.figure(FigureClass=WavefrontFigure, opt_model=opm, scale_type=Fit.User_Scale,\n",
    "                 user_scale_value=50., is_dark=isdark).plot()"
   ]
  },
  {
   "cell_type": "code",
   "execution_count": 24,
   "metadata": {},
   "outputs": [
    {
     "name": "stdout",
     "output_type": "stream",
     "text": [
      "            X            Y            Z           L            M            N               Len\n",
      "  0:      0.00000      0.00000            0     0.000000     0.000000     1.000000        1e+11\n",
      "  1:      0.00000     20.00000            0     0.000000     0.000000     1.000000      -5.0413\n",
      "  2:      0.00000     40.00502      -5.0013     0.000000    -0.471523    -0.881854       85.047\n",
      "  3:      0.00000     -0.17648            0     0.000000    -0.472404    -0.881382            0\n"
     ]
    }
   ],
   "source": [
    "upr_ray = trace_base(opm, [0., 1.], fld, wvl)\n",
    "list_ray(upr_ray)"
   ]
  },
  {
   "cell_type": "code",
   "execution_count": 25,
   "metadata": {},
   "outputs": [
    {
     "name": "stdout",
     "output_type": "stream",
     "text": [
      "            X            Y            Z           L            M            N               Len\n",
      "  0:      0.00000      0.00000            0     0.000000     0.000000     1.000000        1e+11\n",
      "  1:      0.00000      0.00000            0     0.000000     0.000000     1.000000      -1.2702\n",
      "  2:      0.00000     20.00126      -1.2502     0.000000    -0.247138    -0.968980       81.271\n",
      "  3:      0.00000     -0.16389            0     0.000000    -0.248107    -0.968733            0\n"
     ]
    }
   ],
   "source": [
    "ctr_ray = RayPkg(*trace_base(opm, [0., 0.], fld, wvl))\n",
    "list_ray(ctr_ray)"
   ]
  },
  {
   "cell_type": "code",
   "execution_count": 26,
   "metadata": {},
   "outputs": [
    {
     "name": "stdout",
     "output_type": "stream",
     "text": [
      "            X            Y            Z           L            M            N               Len\n",
      "  0:      0.00000     -0.00000            0     0.000000    -0.000000     1.000000        1e+11\n",
      "  1:      0.00000    -20.00000            0     0.000000    -0.000000     1.000000           -0\n",
      "  2:      0.00000      0.00000            0     0.000000    -0.001000    -0.999999           80\n",
      "  3:      0.00000     -0.16001            0     0.000000    -0.002000    -0.999998            0\n"
     ]
    }
   ],
   "source": [
    "lwr_ray = trace_base(opm, [0., -1.], fld, wvl)\n",
    "list_ray(lwr_ray)"
   ]
  },
  {
   "cell_type": "code",
   "execution_count": 27,
   "metadata": {},
   "outputs": [
    {
     "name": "stdout",
     "output_type": "stream",
     "text": [
      "            X            Y            Z           L            M            N               Len\n",
      "  0:      0.00000     20.00000       -1e+11     0.000000     0.000000     1.000000        1e+11\n",
      "  1:      0.00000     20.00000            0     0.000000     0.000000     1.000000      -5.0413\n",
      "  2:      0.00000     20.00000      -5.0413     0.000000    -0.472404    -0.881382       85.047\n",
      "  3:      0.00000    -20.17648          -80     0.000000    -0.472404    -0.881382            0\n"
     ]
    }
   ],
   "source": [
    "list_ray(upr_ray, tfrms=sm.gbl_tfrms)"
   ]
  },
  {
   "cell_type": "code",
   "execution_count": 28,
   "metadata": {},
   "outputs": [
    {
     "name": "stdout",
     "output_type": "stream",
     "text": [
      "            X            Y            Z           L            M            N               Len\n",
      "  0:      0.00000     20.00000       -1e+11     0.000000     0.000000     1.000000        1e+11\n",
      "  1:      0.00000      0.00000            0     0.000000     0.000000     1.000000      -1.2702\n",
      "  2:      0.00000      0.00000      -1.2702     0.000000    -0.248107    -0.968733       81.271\n",
      "  3:      0.00000    -20.16389          -80     0.000000    -0.248107    -0.968733            0\n"
     ]
    }
   ],
   "source": [
    "list_ray(ctr_ray, tfrms=sm.gbl_tfrms)"
   ]
  },
  {
   "cell_type": "code",
   "execution_count": 29,
   "metadata": {},
   "outputs": [
    {
     "name": "stdout",
     "output_type": "stream",
     "text": [
      "            X            Y            Z           L            M            N               Len\n",
      "  0:      0.00000     20.00000       -1e+11     0.000000    -0.000000     1.000000        1e+11\n",
      "  1:      0.00000    -20.00000            0     0.000000    -0.000000     1.000000           -0\n",
      "  2:      0.00000    -20.00000            0     0.000000    -0.002000    -0.999998           80\n",
      "  3:      0.00000    -20.16001          -80     0.000000    -0.002000    -0.999998            0\n"
     ]
    }
   ],
   "source": [
    "list_ray(lwr_ray, tfrms=sm.gbl_tfrms)"
   ]
  },
  {
   "cell_type": "markdown",
   "metadata": {},
   "source": [
    "# Start of dynamic dashboard"
   ]
  },
  {
   "cell_type": "code",
   "execution_count": 30,
   "metadata": {},
   "outputs": [],
   "source": [
    "sm.ifcs[2].decenter.euler[0] = 0.\n",
    "opm.update_model()"
   ]
  },
  {
   "cell_type": "code",
   "execution_count": 31,
   "metadata": {},
   "outputs": [],
   "source": [
    "img_offset = ctr_ray.ray[-1][mc.p]\n",
    "on_axis_pt = np.array([img_offset[0], img_offset[1]])\n",
    "\n",
    "oa_ray = analyses.Ray(opm, [0., 0.], srf_save='all')\n",
    "ray_grid = analyses.RayGrid(opm, f=fld, wl=wvl)\n",
    "ray_list = analyses.RayList(opm, num_rays=48, f=fld, wl=wvl)"
   ]
  },
  {
   "cell_type": "code",
   "execution_count": 32,
   "metadata": {},
   "outputs": [],
   "source": [
    "opd = opm.nm_to_sys_units(wvl)\n",
    "# one wave of defocus\n",
    "dfoc = opd/(fod.img_na**2/(2*fod.n_img))\n",
    "qwrt_dfoc = abs(0.25*dfoc)\n",
    "\n",
    "# one wave of tilt\n",
    "_, _, ref_sphere_radius = fld.ref_sphere\n",
    "shft = ref_sphere_radius*opd/fod.exp_radius"
   ]
  },
  {
   "cell_type": "code",
   "execution_count": 33,
   "metadata": {},
   "outputs": [
    {
     "data": {
      "application/vnd.jupyter.widget-view+json": {
       "model_id": "f96664778b2c468eb01bf93e72f91992",
       "version_major": 2,
       "version_minor": 0
      },
      "text/plain": [
       "Canvas(toolbar=Toolbar(toolitems=[('Home', 'Reset original view', 'home', 'home'), ('Back', 'Back to previous …"
      ]
     },
     "metadata": {},
     "output_type": "display_data"
    },
    {
     "data": {
      "image/png": "[encoded data removed]",
      "text/plain": [
       "<AnalysisFigure size 640x480 with 4 Axes>"
      ]
     },
     "execution_count": 33,
     "metadata": {},
     "output_type": "execute_result"
    }
   ],
   "source": [
    "wfr = Wavefront(ray_grid, user_scale_value=None, do_contours=False, title='Wavefront Map',\n",
    "                cmap=\"BrBG_r\")\n",
    "us = 0.001\n",
    "gPSF = RayGeoPSF(ray_list, user_scale_value=us, scale_type='user', dsp_typ='hist2d',\n",
    "                 yaxis_ticks_position='right', title='Geometrical PSF')\n",
    "sPOT = RayGeoPSF(ray_list, user_scale_value=us, scale_type='user', dsp_typ='spot',\n",
    "                 yaxis_ticks_position='right', title='Spot Diagram', marker='x')\n",
    "\n",
    "fig = plt.figure(FigureClass=AnalysisFigure, data_objs=[ray_grid, ray_list], subplots=[wfr, gPSF, sPOT],\n",
    "                 grid=(2, 3), is_dark=isdark)\n",
    "fig.gridspecs = [fig.gs[0:2, 0:2], fig.gs[0, 2], fig.gs[1, 2]]\n",
    "\n",
    "fig.plot()"
   ]
  },
  {
   "cell_type": "code",
   "execution_count": 34,
   "metadata": {},
   "outputs": [
    {
     "data": {
      "text/plain": [
       "2233"
      ]
     },
     "execution_count": 34,
     "metadata": {},
     "output_type": "execute_result"
    }
   ],
   "source": [
    "len(ray_list.ray_list)"
   ]
  },
  {
   "cell_type": "code",
   "execution_count": 35,
   "metadata": {},
   "outputs": [
    {
     "data": {
      "application/vnd.jupyter.widget-view+json": {
       "model_id": "d17d1111a9d7414a963eecfdce32d52b",
       "version_major": 2,
       "version_minor": 0
      },
      "text/plain": [
       "Canvas(toolbar=Toolbar(toolitems=[('Home', 'Reset original view', 'home', 'home'), ('Back', 'Back to previous …"
      ]
     },
     "metadata": {},
     "output_type": "display_data"
    },
    {
     "data": {
      "image/png": "[encoded data removed]",
      "text/plain": [
       "<AnalysisFigure size 900x500 with 2 Axes>"
      ]
     },
     "execution_count": 35,
     "metadata": {},
     "output_type": "execute_result"
    }
   ],
   "source": [
    "us = 0.01\n",
    "gPSF = RayGeoPSF(ray_list, user_scale_value=us, scale_type='user', dsp_typ='hist2d', gamma=1./1.6,\n",
    "                 yaxis_ticks_position='left', title='Geometrical PSF', cmap='gray')\n",
    "spot = RayGeoPSF(ray_list, user_scale_value=us, scale_type='user', dsp_typ='spot',\n",
    "                 yaxis_ticks_position='right', title='Spot Diagram', marker='x')\n",
    "\n",
    "spotfig = plt.figure(FigureClass=AnalysisFigure, data_objs=[ray_list], subplots=[gPSF, spot],\n",
    "                     grid=(1, 2), figsize=[9, 5], tight_layout=True, is_dark=isdark)\n",
    "\n",
    "#scaler = mcolors.Normalize(vmin=0., vmax=80)\n",
    "spotfig.plot()"
   ]
  },
  {
   "cell_type": "code",
   "execution_count": 36,
   "metadata": {},
   "outputs": [
    {
     "data": {
      "application/vnd.jupyter.widget-view+json": {
       "model_id": "0e9405a7af6e4d9aba00dc6e17572f96",
       "version_major": 2,
       "version_minor": 0
      },
      "text/plain": [
       "HBox(children=(FloatSlider(value=0.0, description='defocus', max=0.018870000028415993, min=-0.0188700000284159…"
      ]
     },
     "metadata": {},
     "output_type": "display_data"
    }
   ],
   "source": [
    "defocus, x_shift, y_shift = dashboards.create_focus_dashboard([spotfig], [ray_list],\n",
    "                                                              osp.defocus.focus_shift, abs(dfoc),\n",
    "                                                              0.2, on_axis_pt)\n",
    "display(widgets.HBox([defocus, y_shift]))"
   ]
  },
  {
   "cell_type": "code",
   "execution_count": 37,
   "metadata": {},
   "outputs": [
    {
     "data": {
      "application/vnd.jupyter.widget-view+json": {
       "model_id": "3fd3b8b96fb94cab887ec0045bbf5c61",
       "version_major": 2,
       "version_minor": 0
      },
      "text/plain": [
       "Canvas(toolbar=Toolbar(toolitems=[('Home', 'Reset original view', 'home', 'home'), ('Back', 'Back to previous …"
      ]
     },
     "metadata": {},
     "output_type": "display_data"
    },
    {
     "data": {
      "application/vnd.jupyter.widget-view+json": {
       "model_id": "77a1319fb8624dcc8dbbcefca546f72d",
       "version_major": 2,
       "version_minor": 0
      },
      "text/plain": [
       "Canvas(toolbar=Toolbar(toolitems=[('Home', 'Reset original view', 'home', 'home'), ('Back', 'Back to previous …"
      ]
     },
     "metadata": {},
     "output_type": "display_data"
    },
    {
     "data": {
      "application/vnd.jupyter.widget-view+json": {
       "model_id": "de67447b593045dd99b89dc10ed834f2",
       "version_major": 2,
       "version_minor": 0
      },
      "text/plain": [
       "HBox(children=(FloatSlider(value=0.0, continuous_update=False, description='alpha tilt', max=0.716159945470408…"
      ]
     },
     "metadata": {},
     "output_type": "display_data"
    }
   ],
   "source": [
    "layout_plt = plt.figure(FigureClass=InteractiveLayout, opt_model=opm, refresh_gui=app.refresh_gui,\n",
    "                        do_draw_rays=True, do_paraxial_layout=False, offset_factor=0.15, is_dark=isdark).plot()\n",
    "app.add_figure(layout_plt)\n",
    "\n",
    "sPOT = RayGeoPSF(ray_list, user_scale_value=2.0, scale_type='user', dsp_typ='spot',\n",
    "                 yaxis_ticks_position='right', title='Spot Diagram', marker='x')\n",
    "gPSF = RayGeoPSF(ray_list, user_scale_value=0.1, scale_type='user centered', gamma=1./1.6,\n",
    "                 dsp_typ='hist2d', title='Geometrical PSF')\n",
    "\n",
    "fig_dash = plt.figure(FigureClass=AnalysisFigure, data_objs=[ray_list], subplots=[sPOT, gPSF],\n",
    "                      grid=(1, 2), figsize=[9, 5], tight_layout=True, is_dark=isdark)\n",
    "\n",
    "fig_dash.refresh()\n",
    "\n",
    "tilt_rng = 0.1146\n",
    "tilt_rng = 100*shft/ref_sphere_radius\n",
    "tilt_rng = math.degrees(math.atan(1/80.))\n",
    "shift_rng = shft\n",
    "shift_rng = 1\n",
    "\n",
    "fig_list = [fig_dash]\n",
    "alpha_tilt, x_dec, y_dec = dashboards.create_mirror_tilt_dashboard(sm.ifcs[2], app,\n",
    "                                                                   fig_list, [ray_list],\n",
    "                                                                   foc, tilt_rng, shift_rng,\n",
    "                                                                   oa_ray=oa_ray,\n",
    "                                                                   continuous_update=False)\n",
    "display(widgets.HBox([alpha_tilt, x_dec, y_dec]))"
   ]
  },
  {
   "cell_type": "code",
   "execution_count": 38,
   "metadata": {},
   "outputs": [
    {
     "data": {
      "text/plain": [
       "'dec and return': Decenter: array([0., 0., 0.]), Tilt: array([0., 0., 0.])"
      ]
     },
     "execution_count": 38,
     "metadata": {},
     "output_type": "execute_result"
    }
   ],
   "source": [
    "sm.ifcs[2].decenter"
   ]
  },
  {
   "cell_type": "code",
   "execution_count": 39,
   "metadata": {},
   "outputs": [
    {
     "data": {
      "text/plain": [
       "array([0.0000000e+00, 3.7782828e-15])"
      ]
     },
     "execution_count": 39,
     "metadata": {},
     "output_type": "execute_result"
    }
   ],
   "source": [
    "oa_ray.update_data()\n",
    "oa_ray.t_abr"
   ]
  },
  {
   "cell_type": "code",
   "execution_count": 40,
   "metadata": {},
   "outputs": [
    {
     "data": {
      "text/plain": [
       "RaySeg(p=array([0.0000000e+00, 3.7782828e-15, 0.0000000e+00]), d=array([ 0.        , -0.24615385, -0.96923077]), dst=0.0, nrml=array([0., 0., 1.]))"
      ]
     },
     "execution_count": 40,
     "metadata": {},
     "output_type": "execute_result"
    }
   ],
   "source": [
    "RaySeg(*oa_ray.ray_seg)"
   ]
  },
  {
   "cell_type": "code",
   "execution_count": 41,
   "metadata": {},
   "outputs": [
    {
     "name": "stdout",
     "output_type": "stream",
     "text": [
      "            X            Y            Z           L            M            N               Len\n",
      "  0:      0.00000      0.00000            0     0.000000     0.000000     1.000000        1e+11\n",
      "  1:      0.00000      0.00000            0     0.000000     0.000000     1.000000        -1.25\n",
      "  2:      0.00000     20.00000        -1.25     0.000000    -0.246154    -0.969231        81.25\n",
      "  3:      0.00000      0.00000            0     0.000000    -0.246154    -0.969231            0\n"
     ]
    }
   ],
   "source": [
    "list_ray(oa_ray.ray_pkg)"
   ]
  },
  {
   "cell_type": "code",
   "execution_count": 42,
   "metadata": {},
   "outputs": [
    {
     "name": "stdout",
     "output_type": "stream",
     "text": [
      "             c            t        medium     mode   zdr      sd\n",
      " Obj:     0.000000  1.00000e+11       air             1      0.0000\n",
      "Stop:     0.000000      0.00000       air             1      20.000\n",
      "   2:    -0.006250     -80.0000       air    reflect -1      40.000\n",
      " Img:    -0.000000      0.00000                      -1  1.9267e-08\n",
      "\n",
      "             thi    medium/mode    type        y       alpha\n",
      "   0:  1.00000e+11          air\n",
      "   1:                            reverse     20.000     0.0000\n",
      "   1:      0.00000          air\n",
      "   2:                   reflect  dec and return     0.0000     0.0000\n",
      "   2:     -80.0000          air\n",
      "   3:                     dummy\n"
     ]
    }
   ],
   "source": [
    "sm.list_model()\n",
    "print('')\n",
    "sm.list_decenters()"
   ]
  },
  {
   "cell_type": "code",
   "execution_count": null,
   "metadata": {},
   "outputs": [],
   "source": []
  }
 ],
 "metadata": {
  "kernelspec": {
   "display_name": "Python 3",
   "language": "python",
   "name": "python3"
  },
  "language_info": {
   "codemirror_mode": {
    "name": "ipython",
    "version": 3
   },
   "file_extension": ".py",
   "mimetype": "text/x-python",
   "name": "python",
   "nbconvert_exporter": "python",
   "pygments_lexer": "ipython3",
   "version": "3.8.6"
  }
 },
 "nbformat": 4,
 "nbformat_minor": 4
}
