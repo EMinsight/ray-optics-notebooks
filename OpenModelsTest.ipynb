{
 "cells": [
  {
   "cell_type": "markdown",
   "metadata": {},
   "source": [
    "# test all models to ensure they at least can be read without crashing"
   ]
  },
  {
   "cell_type": "code",
   "execution_count": 1,
   "metadata": {},
   "outputs": [],
   "source": [
    "%matplotlib inline\n",
    "#%matplotlib ipympl"
   ]
  },
  {
   "cell_type": "code",
   "execution_count": 2,
   "metadata": {},
   "outputs": [],
   "source": [
    "# initialization\n",
    "from rayoptics.environment import *"
   ]
  },
  {
   "cell_type": "code",
   "execution_count": 3,
   "metadata": {},
   "outputs": [],
   "source": [
    "pth = Path(rayoptics.__file__).resolve()"
   ]
  },
  {
   "cell_type": "markdown",
   "metadata": {},
   "source": [
    "## examples in the models subdirectory"
   ]
  },
  {
   "cell_type": "code",
   "execution_count": 4,
   "metadata": {},
   "outputs": [
    {
     "data": {
      "text/plain": [
       "<rayoptics.optical.opticalmodel.OpticalModel at 0x1322822cd0>"
      ]
     },
     "execution_count": 4,
     "metadata": {},
     "output_type": "execute_result"
    }
   ],
   "source": [
    "root_pos = pth.parts.index('ray-optics')\n",
    "path = Path(*pth.parts[:root_pos+1])\n",
    "\n",
    "open_model(path / \"models/Cassegrain.roa\")\n",
    "open_model(path / \"models/Dall_Kirkham.roa\")\n",
    "open_model(path / \"models/HybridAchromat.roa\")\n",
    "open_model(path / \"models/Ritchey_Chretien.roa\")\n",
    "open_model(path / \"models/Sasian Triplet.roa\")\n",
    "open_model(path / \"models/TwoMirror.roa\")\n",
    "open_model(path / \"models/TwoSphericalMirror.roa\")\n",
    "open_model(path / \"models/double2frelay.roa\")\n",
    "open_model(path / \"models/galilean.roa\")\n",
    "open_model(path / \"models/petzval.roa\")\n",
    "open_model(path / \"models/singlet_f5.roa\")\n",
    "open_model(path / \"models/thinlens.roa\")\n",
    "open_model(path / \"models/thin_triplet.roa\")"
   ]
  },
  {
   "cell_type": "markdown",
   "metadata": {},
   "source": [
    "## CODE V models"
   ]
  },
  {
   "cell_type": "code",
   "execution_count": 5,
   "metadata": {},
   "outputs": [
    {
     "data": {
      "text/plain": [
       "<rayoptics.optical.opticalmodel.OpticalModel at 0x1322b44c10>"
      ]
     },
     "execution_count": 5,
     "metadata": {},
     "output_type": "execute_result"
    }
   ],
   "source": [
    "root_pos = pth.parts.index('rayoptics')\n",
    "path = Path(*pth.parts[:root_pos+1])\n",
    "\n",
    "open_model(path / \"codev/tests/CODV_32327.seq\")\n",
    "open_model(path / \"codev/tests/CODV_49664.seq\")\n",
    "open_model(path / \"codev/tests/CODV_65564.seq\")\n",
    "open_model(path / \"codev/tests/CODV_65988.seq\")\n",
    "open_model(path / \"codev/tests/CODV_65988_noDOE.seq\")\n",
    "open_model(path / \"codev/tests/ag_dblgauss.seq\")\n",
    "open_model(path / \"codev/tests/asp46.seq\")\n",
    "open_model(path / \"codev/tests/dar_test.seq\")\n",
    "open_model(path / \"codev/tests/dec_rev_tilt_test.seq\")\n",
    "open_model(path / \"codev/tests/dec_test.seq\")\n",
    "open_model(path / \"codev/tests/dec_tilt_test.seq\")\n",
    "open_model(path / \"codev/tests/folded_lenses.seq\")\n",
    "open_model(path / \"codev/tests/landscape_lens.seq\")\n",
    "open_model(path / \"codev/tests/lens_reflection_test.seq\")\n",
    "open_model(path / \"codev/tests/mangin.seq\")\n",
    "open_model(path / \"codev/tests/paraboloid.seq\")\n",
    "open_model(path / \"codev/tests/paraboloid_f8.seq\")\n",
    "open_model(path / \"codev/tests/questar35.seq\")\n",
    "open_model(path / \"codev/tests/rc_f16.seq\")\n",
    "open_model(path / \"codev/tests/schmidt.seq\")\n",
    "open_model(path / \"codev/tests/schmidt_sph.seq\")\n",
    "open_model(path / \"codev/tests/singlet.seq\")\n",
    "open_model(path / \"codev/tests/test.seq\")\n",
    "open_model(path / \"codev/tests/threemir.seq\")\n",
    "open_model(path / \"codev/tests/tilt_test.seq\")\n",
    "open_model(path / \"codev/tests/unfolded_lenses_w_ape.seq\")\n"
   ]
  },
  {
   "cell_type": "markdown",
   "metadata": {},
   "source": [
    "## optical package tests"
   ]
  },
  {
   "cell_type": "code",
   "execution_count": 6,
   "metadata": {},
   "outputs": [
    {
     "data": {
      "text/plain": [
       "<rayoptics.optical.opticalmodel.OpticalModel at 0x13228221d0>"
      ]
     },
     "execution_count": 6,
     "metadata": {},
     "output_type": "execute_result"
    }
   ],
   "source": [
    "open_model(path / \"optical/tests/cell_phone_camera.roa\")\n",
    "open_model(path / \"optical/tests/singlet_f3.roa\")"
   ]
  }
 ],
 "metadata": {
  "kernelspec": {
   "display_name": "Python 3",
   "language": "python",
   "name": "python3"
  },
  "language_info": {
   "codemirror_mode": {
    "name": "ipython",
    "version": 3
   },
   "file_extension": ".py",
   "mimetype": "text/x-python",
   "name": "python",
   "nbconvert_exporter": "python",
   "pygments_lexer": "ipython3",
   "version": "3.7.4"
  }
 },
 "nbformat": 4,
 "nbformat_minor": 2
}
