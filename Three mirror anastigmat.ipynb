{
 "cells": [
  {
   "cell_type": "code",
   "execution_count": 1,
   "metadata": {},
   "outputs": [],
   "source": [
    "%matplotlib widget"
   ]
  },
  {
   "cell_type": "code",
   "execution_count": 2,
   "metadata": {},
   "outputs": [],
   "source": [
    "# initialization\n",
    "from rayoptics.environment import *"
   ]
  },
  {
   "cell_type": "code",
   "execution_count": 3,
   "metadata": {},
   "outputs": [],
   "source": [
    "root_pth = Path(rayoptics.__file__).resolve().parent"
   ]
  },
  {
   "cell_type": "markdown",
   "metadata": {},
   "source": [
    "# Create a new model"
   ]
  },
  {
   "cell_type": "code",
   "execution_count": 4,
   "metadata": {},
   "outputs": [],
   "source": [
    "opm = open_model(root_pth/\"codev/tests/threemir.seq\")\n",
    "sm = opm.seq_model\n",
    "osp = opm.optical_spec\n",
    "pm = opm.parax_model"
   ]
  },
  {
   "cell_type": "code",
   "execution_count": 5,
   "metadata": {},
   "outputs": [],
   "source": [
    "opm.update_model()"
   ]
  },
  {
   "cell_type": "code",
   "execution_count": 6,
   "metadata": {},
   "outputs": [
    {
     "data": {
      "application/vnd.jupyter.widget-view+json": {
       "model_id": "4f261bcf06514d8c9e61752e27978709",
       "version_major": 2,
       "version_minor": 0
      },
      "text/plain": [
       "Canvas(toolbar=Toolbar(toolitems=[('Home', 'Reset original view', 'home', 'home'), ('Back', 'Back to previous …"
      ]
     },
     "metadata": {},
     "output_type": "display_data"
    }
   ],
   "source": [
    "layout_plt = plt.figure(FigureClass=InteractiveLayout, opt_model=opm,\n",
    "                        do_draw_rays=True, do_paraxial_layout=False).plot()"
   ]
  },
  {
   "cell_type": "code",
   "execution_count": 7,
   "metadata": {},
   "outputs": [
    {
     "name": "stdout",
     "output_type": "stream",
     "text": [
      "             r            t        medium     mode   zdr      sd\n",
      " Obj:     0.000000  1.00000e+11       air   transmit  1  4.9385e+09\n",
      "   1:     0.000000      300.000       air   transmit  1      230.33\n",
      "   2: -1058.989370     -276.007       air    reflect -1      109.11\n",
      "Stop:     0.000000    -0.981318       air   transmit -1      23.719\n",
      "   4:  -324.065000      319.161       air    reflect  1      35.059\n",
      "   5:  -453.965160     -306.213       air    reflect -1      93.366\n",
      " Img:     0.000000      0.00000             transmit -1      20.094\n",
      "\n",
      "             thi    medium/mode    type        x          y       alpha      beta       gamma\n",
      "   0:  1.00000e+11          air\n",
      "   1:      300.000          air\n",
      "   2:                   reflect     DAR     0.0000     48.695     8.4386     0.0000     0.0000\n",
      "   2:     -276.007          air\n",
      "   3:                  transmit     DAR     0.0000     11.445     10.220     0.0000     0.0000\n",
      "   3:    -0.981318          air\n",
      "   4:                   reflect     DAR     0.0000     17.562     9.6616     0.0000     0.0000\n",
      "   4:      319.161          air\n",
      "   5:                   reflect     DAR     0.0000     67.501     9.5144     0.0000     0.0000\n",
      "   5:     -306.213          air\n",
      "   6:                  transmit   LOCAL     0.0000    -47.681     8.7170     0.0000     0.0000\n"
     ]
    }
   ],
   "source": [
    "sm.list_model()\n",
    "print('')\n",
    "sm.list_decenters(full=True)"
   ]
  },
  {
   "cell_type": "code",
   "execution_count": 8,
   "metadata": {},
   "outputs": [],
   "source": [
    "s2=sm.ifcs[2]"
   ]
  },
  {
   "cell_type": "code",
   "execution_count": 9,
   "metadata": {},
   "outputs": [
    {
     "name": "stdout",
     "output_type": "stream",
     "text": [
      "Surface(profile=Conic(c=-0.0009442965419001326, cc=-1.314566), interact_mode=reflect)\n"
     ]
    }
   ],
   "source": [
    "print(s2)"
   ]
  },
  {
   "cell_type": "code",
   "execution_count": 10,
   "metadata": {},
   "outputs": [
    {
     "data": {
      "text/plain": [
       "'DAR': Decenter: array([ 0.      , 48.695345,  0.      ]), Tilt: array([8.438645, 0.      , 0.      ])"
      ]
     },
     "execution_count": 10,
     "metadata": {},
     "output_type": "execute_result"
    }
   ],
   "source": [
    "s2.decenter"
   ]
  },
  {
   "cell_type": "code",
   "execution_count": 11,
   "metadata": {},
   "outputs": [
    {
     "data": {
      "text/plain": [
       "48.695345"
      ]
     },
     "execution_count": 11,
     "metadata": {},
     "output_type": "execute_result"
    }
   ],
   "source": [
    "s2.decenter.dec[1]"
   ]
  },
  {
   "cell_type": "code",
   "execution_count": 12,
   "metadata": {},
   "outputs": [
    {
     "data": {
      "text/plain": [
       "78.538674"
      ]
     },
     "execution_count": 12,
     "metadata": {},
     "output_type": "execute_result"
    }
   ],
   "source": [
    "s2.clear_apertures[0].y_half_width"
   ]
  },
  {
   "cell_type": "code",
   "execution_count": 13,
   "metadata": {},
   "outputs": [
    {
     "data": {
      "text/plain": [
       "[(array([[1., 0., 0.],\n",
       "         [0., 1., 0.],\n",
       "         [0., 0., 1.]]),\n",
       "  array([0.e+00, 0.e+00, 1.e+11])),\n",
       " (array([[ 1.        ,  0.        ,  0.        ],\n",
       "         [ 0.        ,  0.98917358, -0.14675024],\n",
       "         [-0.        ,  0.14675024,  0.98917358]]),\n",
       "  array([  0.      ,  48.695345, 300.      ])),\n",
       " (array([[ 1.        ,  0.        ,  0.        ],\n",
       "         [ 0.        ,  0.99951678, -0.03108376],\n",
       "         [ 0.        ,  0.03108376,  0.99951678]]),\n",
       "  array([   0.        ,    3.65673555, -278.48522488])),\n",
       " (array([[ 1.        ,  0.        ,  0.        ],\n",
       "         [ 0.        ,  0.99995252,  0.00974437],\n",
       "         [ 0.        , -0.00974437,  0.99995252]]),\n",
       "  array([0.        , 6.19416217, 0.11958827])),\n",
       " (array([[ 1.        ,  0.        ,  0.        ],\n",
       "         [ 0.        ,  0.9999967 ,  0.00256846],\n",
       "         [ 0.        , -0.00256846,  0.9999967 ]]),\n",
       "  array([  0.        ,  -4.33380275, 323.0147928 ])),\n",
       " (array([[ 1.        ,  0.        ,  0.        ],\n",
       "         [ 0.        ,  0.99990314,  0.01391787],\n",
       "         [ 0.        , -0.01391787,  0.99990314]]),\n",
       "  array([   0.        ,  -62.98170116, -321.03993341])),\n",
       " (array([[1., 0., 0.],\n",
       "         [0., 1., 0.],\n",
       "         [0., 0., 1.]]),\n",
       "  array([0., 0., 0.]))]"
      ]
     },
     "execution_count": 13,
     "metadata": {},
     "output_type": "execute_result"
    }
   ],
   "source": [
    "sm.lcl_tfrms"
   ]
  },
  {
   "cell_type": "code",
   "execution_count": 14,
   "metadata": {},
   "outputs": [
    {
     "data": {
      "text/plain": [
       "[(array([[1., 0., 0.],\n",
       "         [0., 1., 0.],\n",
       "         [0., 0., 1.]]),\n",
       "  array([ 0.e+00,  0.e+00, -1.e+11])),\n",
       " (array([[1., 0., 0.],\n",
       "         [0., 1., 0.],\n",
       "         [0., 0., 1.]]),\n",
       "  array([0., 0., 0.])),\n",
       " (array([[ 1.        ,  0.        ,  0.        ],\n",
       "         [ 0.        ,  0.98917358,  0.14675024],\n",
       "         [ 0.        , -0.14675024,  0.98917358]]),\n",
       "  array([  0.      ,  48.695345, 300.      ])),\n",
       " (array([[ 1.        ,  0.        ,  0.        ],\n",
       "         [ 0.        ,  0.98413404,  0.17742656],\n",
       "         [ 0.        , -0.17742656,  0.98413404]]),\n",
       "  array([ 0.      , 11.444717, 23.993147])),\n",
       " (array([[ 1.        ,  0.        ,  0.        ],\n",
       "         [ 0.        ,  0.98581623,  0.16782837],\n",
       "         [ 0.        , -0.16782837,  0.98581623]]),\n",
       "  array([ 0.      , 17.561821, 23.011829])),\n",
       " (array([[ 1.        ,  0.        ,  0.        ],\n",
       "         [ 0.        ,  0.98624404,  0.16529579],\n",
       "         [ 0.        , -0.16529579,  0.98624404]]),\n",
       "  array([  0.      ,  67.500535, 342.172389])),\n",
       " (array([[ 1.        ,  0.        ,  0.        ],\n",
       "         [ 0.        ,  0.98844908,  0.15155336],\n",
       "         [ 0.        , -0.15155336,  0.98844908]]),\n",
       "  array([  0.      , -47.681342,  35.959279]))]"
      ]
     },
     "execution_count": 14,
     "metadata": {},
     "output_type": "execute_result"
    }
   ],
   "source": [
    "sm.gbl_tfrms"
   ]
  },
  {
   "cell_type": "code",
   "execution_count": 15,
   "metadata": {},
   "outputs": [
    {
     "name": "stdout",
     "output_type": "stream",
     "text": [
      "0:            0            0       -1e+11\n",
      "1:            0            0            0\n",
      "2:            0     48.69535          300\n",
      "3:            0     11.44472     23.99315\n",
      "4:            0     17.56182     23.01183\n",
      "5:            0     67.50053     342.1724\n",
      "6:            0    -47.68134     35.95928\n"
     ]
    }
   ],
   "source": [
    "for i,trfm in enumerate(sm.gbl_tfrms):\n",
    "    print(\"{}: {:12.7g} {:12.7g} {:12.7g}\".format(i, trfm[1][0], trfm[1][1], trfm[1][2]))"
   ]
  },
  {
   "cell_type": "code",
   "execution_count": 16,
   "metadata": {},
   "outputs": [
    {
     "name": "stdout",
     "output_type": "stream",
     "text": [
      "2:            0     48.69535            0\n",
      "3:            0     11.44472            0\n",
      "4:            0     17.56182            0\n",
      "5:            0     67.50053            0\n",
      "6:            0    -47.68134            0\n"
     ]
    }
   ],
   "source": [
    "for i,ifc in enumerate(sm.ifcs):\n",
    "    if ifc.decenter is not None:\n",
    "        dec = ifc.decenter.dec\n",
    "        print(\"{}: {:12.7g} {:12.7g} {:12.7g}\".format(i, dec[0], dec[1], dec[2]))"
   ]
  },
  {
   "cell_type": "code",
   "execution_count": 17,
   "metadata": {},
   "outputs": [
    {
     "name": "stdout",
     "output_type": "stream",
     "text": [
      "            X            Y            Z           L            M            N               Len\n",
      "  0:      0.00000     10.00000            0     0.000000     0.000000     1.000000        1e+11\n",
      "  1:      0.00000     10.00000            0     0.000000     0.000000     1.000000       305.01\n",
      "  2:      0.00000    -39.01227     -0.71851     0.000000    -0.073586    -0.997289       276.56\n",
      "  3:      0.00000    -63.05024            0     0.000000    -0.042551    -0.999094       8.2271\n",
      "  4:      0.00000    -69.67243      -7.6607     0.000000    -0.475052     0.879958       313.21\n",
      "  5:      0.00000   -214.27020      -54.514     0.000000     0.493900    -0.869519       306.52\n",
      "  6:      0.00000      0.10134            0     0.000000     0.481750    -0.876308            0\n"
     ]
    }
   ],
   "source": [
    "pt0 = np.array([0., 10., 0.])\n",
    "dir0 = np.array([0., 0., 1.])\n",
    "wvl = sm.central_wavelength()\n",
    "cr0 = rt.trace(sm, pt0, dir0, wvl)\n",
    "list_ray(cr0[0])"
   ]
  },
  {
   "cell_type": "code",
   "execution_count": 18,
   "metadata": {},
   "outputs": [
    {
     "data": {
      "text/plain": [
       "3"
      ]
     },
     "execution_count": 18,
     "metadata": {},
     "output_type": "execute_result"
    }
   ],
   "source": [
    "sm.stop_surface"
   ]
  },
  {
   "cell_type": "code",
   "execution_count": 19,
   "metadata": {},
   "outputs": [],
   "source": [
    "s5=sm.ifcs[5]"
   ]
  },
  {
   "cell_type": "code",
   "execution_count": 20,
   "metadata": {},
   "outputs": [],
   "source": [
    "fld, wvl, foc = osp.lookup_fld_wvl_focus(1)"
   ]
  },
  {
   "cell_type": "code",
   "execution_count": 21,
   "metadata": {},
   "outputs": [],
   "source": [
    "oa_ray = trace_base(opm, [0., 0.], fld, wvl)"
   ]
  },
  {
   "cell_type": "code",
   "execution_count": 22,
   "metadata": {},
   "outputs": [
    {
     "name": "stdout",
     "output_type": "stream",
     "text": [
      "            X            Y            Z           L            M            N               Len\n",
      "  0:      0.00000      0.00000            0     0.000000     0.000000     1.000000        1e+11\n",
      "  1:      0.00000    144.92753            0     0.000000     0.000000     1.000000       281.15\n",
      "  2:      0.00000     97.95712      -4.5275     0.000000    -0.325473    -0.945551       289.73\n",
      "  3:      0.00000      0.00000  -2.5244e-29     0.000000    -0.295924    -0.955211  -7.4781e-08\n",
      "  4:      0.00000     -6.19503    -0.059224     0.000000    -0.341403     0.939917       327.93\n",
      "  5:      0.00000   -113.85435      -14.558     0.000000     0.163748    -0.986502       310.68\n",
      "  6:      0.00000      0.00000            0     0.000000     0.150002    -0.988686            0\n"
     ]
    }
   ],
   "source": [
    "list_ray(oa_ray)"
   ]
  },
  {
   "cell_type": "code",
   "execution_count": 23,
   "metadata": {},
   "outputs": [
    {
     "name": "stdout",
     "output_type": "stream",
     "text": [
      "            X            Y            Z           L            M            N               Len\n",
      "  0:      0.00000      0.00000       -1e+11     0.000000     0.000000     1.000000        1e+11\n",
      "  1:      0.00000    144.92753            0     0.000000     0.000000     1.000000       281.15\n",
      "  2:      0.00000    144.92753       281.15     0.000000    -0.460709    -0.887551       289.73\n",
      "  3:      0.00000     11.44472       23.993     0.000000    -0.460709    -0.887551  -7.4781e-08\n",
      "  4:      0.00000     11.44472       23.993     0.000000    -0.178816     0.983882       327.93\n",
      "  5:      0.00000    -47.19394       346.63     0.000000    -0.001569    -0.999999       310.68\n",
      "  6:      0.00000    -47.68134       35.959     0.000000    -0.001569    -0.999999            0\n"
     ]
    }
   ],
   "source": [
    "list_ray(oa_ray, tfrms=sm.gbl_tfrms)"
   ]
  },
  {
   "cell_type": "code",
   "execution_count": 24,
   "metadata": {},
   "outputs": [
    {
     "data": {
      "text/plain": [
       "(array([ -66.581268, -177.807751]), array([ 66.581268, -46.900709]))"
      ]
     },
     "execution_count": 24,
     "metadata": {},
     "output_type": "execute_result"
    }
   ],
   "source": [
    "s5.clear_apertures[0].bounding_box()"
   ]
  },
  {
   "cell_type": "code",
   "execution_count": 25,
   "metadata": {},
   "outputs": [
    {
     "data": {
      "text/plain": [
       "{'x_offset': 0.0,\n",
       " 'y_offset': -112.35423,\n",
       " 'rotation': 0.0,\n",
       " 'x_half_width': 66.581268,\n",
       " 'y_half_width': 65.453521}"
      ]
     },
     "execution_count": 25,
     "metadata": {},
     "output_type": "execute_result"
    }
   ],
   "source": [
    "vars(s5.clear_apertures[0])"
   ]
  },
  {
   "cell_type": "code",
   "execution_count": 26,
   "metadata": {},
   "outputs": [
    {
     "data": {
      "text/plain": [
       "{'dtype': <DecenterType.DAR: 2>,\n",
       " 'dec': array([ 0.      , 67.500535,  0.      ]),\n",
       " 'euler': array([9.514418, 0.      , 0.      ]),\n",
       " 'rot_pt': array([0., 0., 0.]),\n",
       " 'rot_mat': array([[ 1.        ,  0.        , -0.        ],\n",
       "        [ 0.        ,  0.98624404,  0.16529579],\n",
       "        [ 0.        , -0.16529579,  0.98624404]])}"
      ]
     },
     "execution_count": 26,
     "metadata": {},
     "output_type": "execute_result"
    }
   ],
   "source": [
    "vars(s5.decenter)"
   ]
  },
  {
   "cell_type": "code",
   "execution_count": 27,
   "metadata": {},
   "outputs": [],
   "source": [
    "si=sm.ifcs[-1]"
   ]
  },
  {
   "cell_type": "code",
   "execution_count": 28,
   "metadata": {},
   "outputs": [
    {
     "data": {
      "text/plain": [
       "{'dtype': <DecenterType.LOCAL: 0>,\n",
       " 'dec': array([  0.      , -47.681342,   0.      ]),\n",
       " 'euler': array([8.716957, 0.      , 0.      ]),\n",
       " 'rot_pt': array([0., 0., 0.]),\n",
       " 'rot_mat': array([[ 1.        ,  0.        , -0.        ],\n",
       "        [ 0.        ,  0.98844908,  0.15155336],\n",
       "        [ 0.        , -0.15155336,  0.98844908]])}"
      ]
     },
     "execution_count": 28,
     "metadata": {},
     "output_type": "execute_result"
    }
   ],
   "source": [
    "vars(si.decenter)"
   ]
  },
  {
   "cell_type": "code",
   "execution_count": null,
   "metadata": {},
   "outputs": [],
   "source": []
  }
 ],
 "metadata": {
  "kernelspec": {
   "display_name": "Python 3",
   "language": "python",
   "name": "python3"
  },
  "language_info": {
   "codemirror_mode": {
    "name": "ipython",
    "version": 3
   },
   "file_extension": ".py",
   "mimetype": "text/x-python",
   "name": "python",
   "nbconvert_exporter": "python",
   "pygments_lexer": "ipython3",
   "version": "3.7.7"
  }
 },
 "nbformat": 4,
 "nbformat_minor": 4
}
