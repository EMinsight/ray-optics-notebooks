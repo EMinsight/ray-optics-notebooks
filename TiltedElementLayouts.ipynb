{
 "cells": [
  {
   "cell_type": "code",
   "execution_count": 1,
   "metadata": {},
   "outputs": [],
   "source": [
    "%matplotlib widget\n",
    "#%matplotlib inline"
   ]
  },
  {
   "cell_type": "code",
   "execution_count": 2,
   "metadata": {},
   "outputs": [],
   "source": [
    "# initialization\n",
    "from rayoptics.environment import *\n",
    "from rayoptics.optical.model_enums import DecenterType as dec"
   ]
  },
  {
   "cell_type": "code",
   "execution_count": 3,
   "metadata": {},
   "outputs": [],
   "source": [
    "import pprint\n",
    "import json"
   ]
  },
  {
   "cell_type": "code",
   "execution_count": 4,
   "metadata": {},
   "outputs": [],
   "source": [
    "root_pth = Path(rayoptics.__file__).resolve().parent"
   ]
  },
  {
   "cell_type": "code",
   "execution_count": 5,
   "metadata": {},
   "outputs": [],
   "source": [
    "opm = OpticalModel()\n",
    "sm = opm.seq_model\n",
    "osp = opm.optical_spec\n",
    "pm = opm.parax_model\n",
    "em = opm.ele_model"
   ]
  },
  {
   "cell_type": "markdown",
   "metadata": {},
   "source": [
    "### Define first order aperture and field for model"
   ]
  },
  {
   "cell_type": "code",
   "execution_count": 6,
   "metadata": {},
   "outputs": [],
   "source": [
    "osp.pupil = PupilSpec(osp, key=['object', 'pupil'], value=1.)\n",
    "osp.field_of_view = FieldSpec(osp, key=['object', 'angle'], flds=[0.])\n",
    "osp.spectral_region = WvlSpec([(555.0, 1.0)], ref_wl=0)"
   ]
  },
  {
   "cell_type": "markdown",
   "metadata": {},
   "source": [
    "### Enter sequential model"
   ]
  },
  {
   "cell_type": "code",
   "execution_count": 7,
   "metadata": {},
   "outputs": [],
   "source": [
    "opm.radius_mode = True\n",
    "\n",
    "sm.gaps[0].thi=1e10\n",
    "\n",
    "opm.add_dummy_plane(t=5.0)\n",
    "sm.set_stop()\n",
    "\n",
    "opm.add_mirror(t=-5.0)\n",
    "sm.ifcs[2].decenter = srf.DecenterData(dec.BEND, alpha=60.)\n",
    "\n",
    "opm.add_mirror(t=5.0)\n",
    "sm.ifcs[3].decenter = srf.DecenterData(dec.BEND, alpha=-60.)\n",
    "\n",
    "opm.add_mirror(t=-5.0)\n",
    "sm.ifcs[4].decenter = srf.DecenterData(dec.BEND, alpha=-45.)"
   ]
  },
  {
   "cell_type": "code",
   "execution_count": 8,
   "metadata": {},
   "outputs": [],
   "source": [
    "opm.update_model()"
   ]
  },
  {
   "cell_type": "code",
   "execution_count": 9,
   "metadata": {},
   "outputs": [
    {
     "name": "stdout",
     "output_type": "stream",
     "text": [
      "             r            t        medium     mode   zdr      sd\n",
      " Obj:     0.000000  1.00000e+10       air   transmit  1      0.0000\n",
      "Stop:     0.000000      5.00000       air   transmit  1     0.50000\n",
      "   2:     0.000000     -5.00000       air    reflect -1      1.0000\n",
      "   3:     0.000000      5.00000       air    reflect  1      1.0000\n",
      "   4:     0.000000     -5.00000       air    reflect -1     0.70711\n",
      " Img:    -0.000000      0.00000             transmit -1     0.50000\n",
      "\n",
      "             thi    medium/mode    type        y       alpha\n",
      "   0:  1.00000e+10          air\n",
      "   1:      5.00000          air\n",
      "   2:                   reflect    BEND     0.0000     60.000\n",
      "   2:     -5.00000          air\n",
      "   3:                   reflect    BEND     0.0000    -60.000\n",
      "   3:      5.00000          air\n",
      "   4:                   reflect    BEND     0.0000    -45.000\n",
      "   4:     -5.00000          air\n",
      "   5:                  transmit\n"
     ]
    }
   ],
   "source": [
    "sm.list_model()\n",
    "print('')\n",
    "sm.list_decenters()"
   ]
  },
  {
   "cell_type": "code",
   "execution_count": 10,
   "metadata": {},
   "outputs": [
    {
     "data": {
      "text/plain": [
       "IdealImager(m=None, s=-inf, sp=None, tt=None, f=None)"
      ]
     },
     "execution_count": 10,
     "metadata": {},
     "output_type": "execute_result"
    }
   ],
   "source": [
    "opm.specsheet.imager"
   ]
  },
  {
   "cell_type": "code",
   "execution_count": 11,
   "metadata": {},
   "outputs": [
    {
     "data": {
      "application/vnd.jupyter.widget-view+json": {
       "model_id": "6228e19f2a324c40a61d1c601b154c00",
       "version_major": 2,
       "version_minor": 0
      },
      "text/plain": [
       "Canvas(toolbar=Toolbar(toolitems=[('Home', 'Reset original view', 'home', 'home'), ('Back', 'Back to previous …"
      ]
     },
     "metadata": {},
     "output_type": "display_data"
    }
   ],
   "source": [
    "layout_plt = plt.figure(FigureClass=InteractiveLayout, opt_model=opm,\n",
    "                        do_draw_rays=True, do_paraxial_layout=False,\n",
    "                        refresh_gui=None).plot()"
   ]
  },
  {
   "cell_type": "code",
   "execution_count": 12,
   "metadata": {},
   "outputs": [
    {
     "name": "stdout",
     "output_type": "stream",
     "text": [
      "0: DummyInterface (DummyInterface): Surface(profile=Spherical(c=0.0), interact_mode=transmit)\n",
      "1: AirGap (AirGap): Gap(t=5.0, medium=Air)\n",
      "2: Mirror (Mirror): Mirror: Spherical(c=0.0), t=0.0500, sd=1.0000\n",
      "3: AirGap (AirGap): Gap(t=-5.0, medium=Air)\n",
      "4: Mirror (Mirror): Mirror: Spherical(c=0.0), t=0.0500, sd=1.0000\n",
      "5: AirGap (AirGap): Gap(t=5.0, medium=Air)\n",
      "6: Mirror (Mirror): Mirror: Spherical(c=0.0), t=0.0354, sd=0.7071\n",
      "7: AirGap (AirGap): Gap(t=-5.0, medium=Air)\n"
     ]
    }
   ],
   "source": [
    "em.list_elements()"
   ]
  },
  {
   "cell_type": "code",
   "execution_count": 13,
   "metadata": {},
   "outputs": [
    {
     "name": "stdout",
     "output_type": "stream",
     "text": [
      "2 0.05000000002933008 -1.0 -1.0 [-0. -0.  1.]\n",
      "4 0.050000000054330085 1.0 1.0 [-0. -0.  1.]\n",
      "6 0.035355339114128186 -1.0 -1.0 [-0. -0.  1.]\n"
     ]
    }
   ],
   "source": [
    "for i,e in enumerate(em.elements):\n",
    "    if hasattr(e, 'get_thi'):\n",
    "        print(i, e.get_thi(), e.z_dir, sm.z_dir[e.reference_idx()], e.reference_interface().normal(np.array([0., 0., 0.])))"
   ]
  },
  {
   "cell_type": "code",
   "execution_count": 14,
   "metadata": {},
   "outputs": [
    {
     "name": "stdout",
     "output_type": "stream",
     "text": [
      "0:            0            0       -1e+10\n",
      "1:            0            0            0\n",
      "2:            0            0            5\n",
      "3:            0    -4.330127          7.5\n",
      "4:            0    -4.330127         12.5\n",
      "5:            0     0.669873         12.5\n"
     ]
    }
   ],
   "source": [
    "for i,trfm in enumerate(sm.gbl_tfrms):\n",
    "    print(\"{}: {:12.7g} {:12.7g} {:12.7g}\".format(i, trfm[1][0], trfm[1][1], trfm[1][2]))"
   ]
  },
  {
   "cell_type": "code",
   "execution_count": 15,
   "metadata": {},
   "outputs": [
    {
     "name": "stdout",
     "output_type": "stream",
     "text": [
      "            X            Y            Z           L            M            N               Len\n",
      "  0:      0.00000      0.00000            0     0.000000     0.000000     1.000000        1e+10\n",
      "  1:      0.00000      0.00000            0     0.000000     0.000000     1.000000            5\n",
      "  2:      0.00000      0.00000            0     0.000000    -0.866025    -0.500000            5\n",
      "  3:      0.00000      0.00000            0     0.000000    -0.866025     0.500000            5\n",
      "  4:      0.00000      0.00000            0     0.000000     0.707107    -0.707107            5\n",
      "  5:      0.00000      0.00000            0     0.000000     0.000000    -1.000000            0\n"
     ]
    }
   ],
   "source": [
    "pt0 = np.array([0., 0., 0.])\n",
    "dir0 = np.array([0., 0., 1.])\n",
    "wvl = sm.central_wavelength()\n",
    "oar = rt.trace(sm, pt0, dir0, wvl)\n",
    "list_ray(oar[0])"
   ]
  },
  {
   "cell_type": "code",
   "execution_count": 16,
   "metadata": {},
   "outputs": [
    {
     "name": "stdout",
     "output_type": "stream",
     "text": [
      "            X            Y            Z        z_dir     SRL          SRM          SRN\n",
      "  0:      0.00000      0.00000       -1e+10      1     0.000000     0.000000     1.000000\n",
      "  1:      0.00000      0.00000            0      1     0.000000     0.000000     1.000000\n",
      "  2:      0.00000      0.00000            5     -1     0.000000     0.866025     0.500000\n",
      "  3:      0.00000     -4.33013          7.5      1     0.000000     0.866025     0.500000\n",
      "  4:      0.00000     -4.33013         12.5     -1     0.000000    -0.707107     0.707107\n",
      "  5:      0.00000      0.66987         12.5     -1     0.000000    -1.000000     0.000000\n"
     ]
    }
   ],
   "source": [
    "tfrms = sm.gbl_tfrms\n",
    "print(\"            X            Y            Z        z_dir     SRL\"\n",
    "      \"          SRM          SRN\")\n",
    "for i, r in enumerate(oar[mc.ray][0:]):\n",
    "    rot, trns = tfrms[i]\n",
    "    p = rot.dot(r[mc.p]) + trns\n",
    "    snr = rot.dot(r[mc.nrml])\n",
    "    print(\"{:3d}: {:12.5f} {:12.5f} {:12.5g}   {:4.0f} {:12.6f} {:12.6f} {:12.6f}\"\n",
    "          .format(i, p[0], p[1], p[2], sm.z_dir[i], snr[0], snr[1], snr[2]))"
   ]
  },
  {
   "cell_type": "code",
   "execution_count": 17,
   "metadata": {},
   "outputs": [
    {
     "name": "stdout",
     "output_type": "stream",
     "text": [
      "            X            Y            Z           L            M            N               Len\n",
      "  0:      0.00000      0.00000       -1e+10     0.000000     0.000000     1.000000        1e+10\n",
      "  1:      0.00000      0.00000            0     0.000000     0.000000     1.000000            5\n",
      "  2:      0.00000      0.00000            5     0.000000    -0.866025     0.500000            5\n",
      "  3:      0.00000     -4.33013          7.5     0.000000     0.000000     1.000000            5\n",
      "  4:      0.00000     -4.33013         12.5     0.000000     1.000000     0.000000            5\n",
      "  5:      0.00000      0.66987         12.5     0.000000     1.000000    -0.000000            0\n"
     ]
    }
   ],
   "source": [
    "list_ray(oar,tfrms=sm.gbl_tfrms)"
   ]
  },
  {
   "cell_type": "code",
   "execution_count": 18,
   "metadata": {},
   "outputs": [
    {
     "data": {
      "text/plain": [
       "[1.0, 1.0, -1.0, 1.0, -1.0, -1.0]"
      ]
     },
     "execution_count": 18,
     "metadata": {},
     "output_type": "execute_result"
    }
   ],
   "source": [
    "sm.z_dir"
   ]
  },
  {
   "cell_type": "code",
   "execution_count": 19,
   "metadata": {},
   "outputs": [
    {
     "name": "stdout",
     "output_type": "stream",
     "text": [
      "             thi    medium/mode    type        y       alpha\n",
      "   0:  1.00000e+10          air\n",
      "   1:      5.00000          air\n",
      "   2:                   reflect    BEND     0.0000     60.000\n",
      "   2:     -5.00000          air\n",
      "   3:                   reflect    BEND     0.0000    -60.000\n",
      "   3:      5.00000          air\n",
      "   4:                   reflect    BEND     0.0000    -45.000\n",
      "   4:     -5.00000          air\n",
      "   5:                  transmit\n"
     ]
    }
   ],
   "source": [
    "sm.list_decenters()"
   ]
  },
  {
   "cell_type": "code",
   "execution_count": 20,
   "metadata": {},
   "outputs": [],
   "source": [
    "opm.save_model('Tilted mirrors')"
   ]
  },
  {
   "cell_type": "code",
   "execution_count": 21,
   "metadata": {},
   "outputs": [],
   "source": [
    "opm = open_model(root_pth/\"codev/tests/folded_lenses.seq\")\n",
    "sm = opm.seq_model\n",
    "osp = opm.optical_spec\n",
    "pm = opm.parax_model\n",
    "em = opm.ele_model"
   ]
  },
  {
   "cell_type": "code",
   "execution_count": 22,
   "metadata": {},
   "outputs": [
    {
     "name": "stdout",
     "output_type": "stream",
     "text": [
      "             c            t        medium     mode   zdr      sd\n",
      " Obj:     0.000000  1.00000e+11       air   transmit  1      0.0000\n",
      "Stop:     0.000000      5.00000       air   transmit  1     0.50000\n",
      "   2:     0.000000     -2.25000       air    reflect -1      1.0000\n",
      "   3:    -0.670000    -0.250000     N-BK7   transmit -1     0.50000\n",
      "   4:     0.000000   -0.0500000       air   transmit -1     0.48040\n",
      "   5:     0.000000    -0.250000     N-BK7   transmit -1     0.47123\n",
      "   6:    -0.770950     -2.25000       air   transmit -1     0.43242\n",
      "   7:     0.000000      2.25000       air    reflect  1     0.86202\n",
      "   8:    -0.670000     0.250000     N-BK7   transmit  1     0.42812\n",
      "   9:     0.000000    0.0500000       air   transmit  1     0.45957\n",
      "  10:     0.000000     0.250000     N-BK7   transmit  1     0.46726\n",
      "  11:    -0.592250      2.25000       air   transmit  1     0.48523\n",
      "  12:     0.000000     -5.00000       air    reflect -1     0.68285\n",
      " Img:     0.000000      0.00000             transmit -1     0.47573\n",
      "\n",
      "             thi    medium/mode    type        y       alpha\n",
      "   0:  1.00000e+11          air\n",
      "   1:      5.00000          air\n",
      "   2:                   reflect    BEND     0.0000     60.000\n",
      "   2:     -2.25000          air\n",
      "   3:    -0.250000        N-BK7\n",
      "   4:   -0.0500000          air\n",
      "   5:    -0.250000        N-BK7\n",
      "   6:     -2.25000          air\n",
      "   7:                   reflect    BEND     0.0000    -60.000\n",
      "   7:      2.25000          air\n",
      "   8:     0.250000        N-BK7\n",
      "   9:    0.0500000          air\n",
      "  10:     0.250000        N-BK7\n",
      "  11:      2.25000          air\n",
      "  12:                   reflect    BEND     0.0000    -45.000\n",
      "  12:     -5.00000          air\n",
      "  13:                  transmit\n"
     ]
    }
   ],
   "source": [
    "sm.list_model()\n",
    "print('')\n",
    "sm.list_decenters()"
   ]
  },
  {
   "cell_type": "code",
   "execution_count": 23,
   "metadata": {},
   "outputs": [
    {
     "data": {
      "application/vnd.jupyter.widget-view+json": {
       "model_id": "f05130ee77dd4355a62a5e94b45127f4",
       "version_major": 2,
       "version_minor": 0
      },
      "text/plain": [
       "Canvas(toolbar=Toolbar(toolitems=[('Home', 'Reset original view', 'home', 'home'), ('Back', 'Back to previous …"
      ]
     },
     "metadata": {},
     "output_type": "display_data"
    }
   ],
   "source": [
    "layout_plt = plt.figure(FigureClass=InteractiveLayout, opt_model=opm,\n",
    "                        do_draw_rays=True, do_paraxial_layout=False,\n",
    "                        refresh_gui=None).plot()\n",
    "#layout_plt.update_data()\n",
    "#layout_plt.plot()"
   ]
  },
  {
   "cell_type": "code",
   "execution_count": 24,
   "metadata": {},
   "outputs": [
    {
     "data": {
      "text/plain": [
       "array([[-0.90409953, -4.88041884],\n",
       "       [13.08199055,  0.62657171]])"
      ]
     },
     "execution_count": 24,
     "metadata": {},
     "output_type": "execute_result"
    }
   ],
   "source": [
    "layout_plt.view_bbox"
   ]
  },
  {
   "cell_type": "code",
   "execution_count": 25,
   "metadata": {},
   "outputs": [
    {
     "data": {
      "text/plain": [
       "IdealImager(m=-0.0, s=-inf, sp=2564.3352539285456, tt=inf, f=2564.3352539285456)"
      ]
     },
     "execution_count": 25,
     "metadata": {},
     "output_type": "execute_result"
    }
   ],
   "source": [
    "opm.specsheet.imager"
   ]
  },
  {
   "cell_type": "code",
   "execution_count": 26,
   "metadata": {},
   "outputs": [
    {
     "name": "stdout",
     "output_type": "stream",
     "text": [
      "infinite conjugates:\n",
      "imager: IdealImager(m=-0.0, s=-inf, sp=2564.3352539285456, tt=inf, f=2564.3352539285456)\n",
      "imager inputs: {'s': -inf}\n",
      "frozen imager inputs: [True, True, True, True, False]\n",
      "etendue inputs:\n",
      "  field:    {'object': {'angle': 0.0}, 'image': {}}\n",
      "  aperture: {'object': {'pupil': 1.0}, 'image': {}}\n",
      "etendue values:\n",
      "  field:    {'object': {'angle': 0.0}, 'image': {'height': 0.0}}\n",
      "  aperture:\n",
      "    object: {'pupil': 1.0, 'NA': 0, 'f/#': 0}\n",
      "    image:  {'f/#': -2564.3352539285456, 'NA': 0.00019498230183806055, 'pupil': -1.0}\n"
     ]
    }
   ],
   "source": [
    "ss = opm.specsheet\n",
    "print(ss)"
   ]
  },
  {
   "cell_type": "code",
   "execution_count": 27,
   "metadata": {},
   "outputs": [
    {
     "data": {
      "text/plain": [
       "array([[ 0.        , -4.88041884],\n",
       "       [13.08199055,  0.62657171]])"
      ]
     },
     "execution_count": 27,
     "metadata": {},
     "output_type": "execute_result"
    }
   ],
   "source": [
    "layout_plt.ele_bbox"
   ]
  },
  {
   "cell_type": "code",
   "execution_count": 28,
   "metadata": {},
   "outputs": [
    {
     "name": "stdout",
     "output_type": "stream",
     "text": [
      "efl                2564\n",
      "ffl               -2600\n",
      "pp1              -35.67\n",
      "bfl                2615\n",
      "ppk              -51.08\n",
      "f/#                2564\n",
      "m                0.9781\n",
      "red            -3.9e+07\n",
      "obj_dist          1e+11\n",
      "obj_ang               1\n",
      "enp_dist             -0\n",
      "enp_radius          0.5\n",
      "na obj            5e-12\n",
      "n obj                 1\n",
      "img_dist             -5\n",
      "img_ht            44.76\n",
      "exp_dist           15.9\n",
      "exp_radius       0.4931\n",
      "na img         0.000195\n",
      "n img                -1\n",
      "optical invariant     0.008728\n"
     ]
    }
   ],
   "source": [
    "pm.first_order_data()"
   ]
  },
  {
   "cell_type": "code",
   "execution_count": 29,
   "metadata": {},
   "outputs": [
    {
     "name": "stdout",
     "output_type": "stream",
     "text": [
      "{\"s\": -Infinity}\n"
     ]
    }
   ],
   "source": [
    "print(json.dumps(ss.imager_inputs))"
   ]
  },
  {
   "cell_type": "code",
   "execution_count": 30,
   "metadata": {},
   "outputs": [
    {
     "name": "stdout",
     "output_type": "stream",
     "text": [
      "{'image': {'height': 0.0}, 'object': {'angle': 0.0}}\n"
     ]
    }
   ],
   "source": [
    "pprint.pprint(ss.etendue_values['field'], indent=4)"
   ]
  },
  {
   "cell_type": "code",
   "execution_count": 31,
   "metadata": {},
   "outputs": [
    {
     "data": {
      "text/plain": [
       "'infinite'"
      ]
     },
     "execution_count": 31,
     "metadata": {},
     "output_type": "execute_result"
    }
   ],
   "source": [
    "ss.conjugate_type"
   ]
  },
  {
   "cell_type": "code",
   "execution_count": 32,
   "metadata": {},
   "outputs": [
    {
     "data": {
      "text/plain": [
       "(None, 1)"
      ]
     },
     "execution_count": 32,
     "metadata": {},
     "output_type": "execute_result"
    }
   ],
   "source": [
    "ss.partition_defined()"
   ]
  },
  {
   "cell_type": "code",
   "execution_count": 33,
   "metadata": {},
   "outputs": [
    {
     "name": "stdout",
     "output_type": "stream",
     "text": [
      "0 1.0 0.0\n",
      "1 1.0 0.0\n",
      "2 -1.0 0.0\n",
      "3 -1.0 -0.67\n",
      "4 -1.0 0.0\n",
      "5 -1.0 0.0\n",
      "6 -1.0 -0.77095\n",
      "7 1.0 0.0\n",
      "8 1.0 -0.67\n",
      "9 1.0 0.0\n",
      "10 1.0 0.0\n",
      "11 1.0 -0.59225\n",
      "12 -1.0 0.0\n",
      "13 -1.0 0.0\n"
     ]
    }
   ],
   "source": [
    "for i,s in enumerate(sm.ifcs):\n",
    "    print(i, sm.z_dir[i], s.profile_cv)"
   ]
  },
  {
   "cell_type": "code",
   "execution_count": 34,
   "metadata": {},
   "outputs": [
    {
     "name": "stdout",
     "output_type": "stream",
     "text": [
      "0: Aperture Stop (DummyInterface): Surface(profile=Spherical(c=0.0), interact_mode=transmit)\n",
      "1: AirGap Aperture Stop-M1 (AirGap): Gap(t=5.0, medium=Air)\n",
      "2: M1 (Mirror): Mirror: Spherical(c=0.0), t=0.0500, sd=1.0000\n",
      "3: AirGap M1-E1 (AirGap): Gap(t=-2.25, medium=Air)\n",
      "4: E1 (Element): Element: Spherical(c=-0.67), Spherical(c=0.0), t=-0.2500, sd=0.5000, glass: N-BK7\n",
      "5: AirGap E1-E2 (AirGap): Gap(t=-0.05, medium=Air)\n",
      "6: E2 (Element): Element: Spherical(c=0.0), Spherical(c=-0.77095), t=-0.2500, sd=0.4712, glass: N-BK7\n",
      "7: AirGap E2-M3 (AirGap): Gap(t=-2.25, medium=Air)\n",
      "8: M3 (Mirror): Mirror: Spherical(c=0.0), t=0.0431, sd=0.8620\n",
      "9: AirGap M3-E3 (AirGap): Gap(t=2.25, medium=Air)\n",
      "10: E3 (Element): Element: Spherical(c=-0.67), Spherical(c=0.0), t=0.2500, sd=0.4596, glass: N-BK7\n",
      "11: AirGap E3-E4 (AirGap): Gap(t=0.05, medium=Air)\n",
      "12: E4 (Element): Element: Spherical(c=0.0), Spherical(c=-0.59225), t=0.2500, sd=0.4852, glass: N-BK7\n",
      "13: AirGap E4-M5 (AirGap): Gap(t=2.25, medium=Air)\n",
      "14: M5 (Mirror): Mirror: Spherical(c=0.0), t=0.0341, sd=0.6829\n",
      "15: AirGap M5-Image (AirGap): Gap(t=-5.0, medium=Air)\n",
      "16: Image (DummyInterface): Surface(lbl='Img', profile=Spherical(c=0.0), interact_mode=transmit)\n"
     ]
    }
   ],
   "source": [
    "em.list_elements()"
   ]
  },
  {
   "cell_type": "code",
   "execution_count": 35,
   "metadata": {},
   "outputs": [
    {
     "name": "stdout",
     "output_type": "stream",
     "text": [
      "2 0.05000000000293301 1.0 1.0\n",
      "8 0.043101242814776786 -1.0 1.0\n",
      "14 0.034142519629751976 1.0 1.0\n"
     ]
    }
   ],
   "source": [
    "for i,e in enumerate(em.elements):\n",
    "    if hasattr(e, 'get_thi'):\n",
    "        thi = e.get_thi()\n",
    "        z_dir = sm.z_dir[e.reference_idx()]\n",
    "        normal_00 = e.reference_interface().normal(np.array([0., 0., 0.]))\n",
    "        print(i, thi, -z_dir, normal_00[2])"
   ]
  },
  {
   "cell_type": "code",
   "execution_count": 36,
   "metadata": {},
   "outputs": [
    {
     "name": "stdout",
     "output_type": "stream",
     "text": [
      "             c            t        medium     mode   zdr      sd\n",
      " Obj:     0.000000  1.00000e+11       air   transmit  1      0.0000\n",
      "Stop:     0.000000      5.00000       air   transmit  1     0.50000\n",
      "   2:     0.000000     -2.25000       air    reflect -1      1.0000\n",
      "   3:    -0.670000    -0.250000     N-BK7   transmit -1     0.50000\n",
      "   4:     0.000000   -0.0500000       air   transmit -1     0.48040\n",
      "   5:     0.000000    -0.250000     N-BK7   transmit -1     0.47123\n",
      "   6:    -0.770950     -2.25000       air   transmit -1     0.43242\n",
      "   7:     0.000000      2.25000       air    reflect  1     0.86202\n",
      "   8:    -0.670000     0.250000     N-BK7   transmit  1     0.42812\n",
      "   9:     0.000000    0.0500000       air   transmit  1     0.45957\n",
      "  10:     0.000000     0.250000     N-BK7   transmit  1     0.46726\n",
      "  11:    -0.592250      2.25000       air   transmit  1     0.48523\n",
      "  12:     0.000000     -5.00000       air    reflect -1     0.68285\n",
      " Img:     0.000000      0.00000             transmit -1     0.47573\n"
     ]
    }
   ],
   "source": [
    "sm.list_model()"
   ]
  },
  {
   "cell_type": "code",
   "execution_count": 37,
   "metadata": {},
   "outputs": [
    {
     "data": {
      "text/plain": [
       "'Mirror: Spherical(c=0.0), t=0.0500, sd=1.0000'"
      ]
     },
     "execution_count": 37,
     "metadata": {},
     "output_type": "execute_result"
    }
   ],
   "source": [
    "m1 = em.elements[2]\n",
    "str(m1)"
   ]
  },
  {
   "cell_type": "code",
   "execution_count": 38,
   "metadata": {},
   "outputs": [
    {
     "data": {
      "text/plain": [
       "(array([[ 1.       ,  0.       ,  0.       ],\n",
       "        [ 0.       ,  0.5      ,  0.8660254],\n",
       "        [ 0.       , -0.8660254,  0.5      ]]),\n",
       " array([0., 0., 5.]))"
      ]
     },
     "execution_count": 38,
     "metadata": {},
     "output_type": "execute_result"
    }
   ],
   "source": [
    "m1.tfrm"
   ]
  },
  {
   "cell_type": "code",
   "execution_count": 39,
   "metadata": {},
   "outputs": [],
   "source": [
    "m2 = em.elements[3]"
   ]
  },
  {
   "cell_type": "code",
   "execution_count": 40,
   "metadata": {},
   "outputs": [
    {
     "data": {
      "text/plain": [
       "'Gap(t=-2.25, medium=Air)'"
      ]
     },
     "execution_count": 40,
     "metadata": {},
     "output_type": "execute_result"
    }
   ],
   "source": [
    "str(m2)"
   ]
  },
  {
   "cell_type": "code",
   "execution_count": 41,
   "metadata": {},
   "outputs": [
    {
     "data": {
      "text/plain": [
       "(array([[ 1.       ,  0.       ,  0.       ],\n",
       "        [ 0.       ,  0.5      ,  0.8660254],\n",
       "        [ 0.       , -0.8660254,  0.5      ]]),\n",
       " array([0., 0., 5.]))"
      ]
     },
     "execution_count": 41,
     "metadata": {},
     "output_type": "execute_result"
    }
   ],
   "source": [
    "m2.tfrm"
   ]
  },
  {
   "cell_type": "code",
   "execution_count": 42,
   "metadata": {},
   "outputs": [
    {
     "name": "stdout",
     "output_type": "stream",
     "text": [
      "0 Aperture Stop transmit [0. 0. 1.] [-0. -0.  1.]\n",
      "1 AirGap Aperture Stop-M1 transmit [0. 0. 1.] [-0. -0.  1.]\n",
      "2 M1 reflect [0.        0.8660254 0.5      ] [-0. -0.  1.]\n",
      "3 AirGap M1-E1 reflect [0.        0.8660254 0.5      ] [-0. -0.  1.]\n",
      "4 E1 transmit [ 0.         0.8660254 -0.5      ] [0. 0. 1.]\n",
      "5 AirGap E1-E2 transmit [ 0.         0.8660254 -0.5      ] [-0. -0.  1.]\n",
      "6 E2 transmit [ 0.         0.8660254 -0.5      ] [-0. -0.  1.]\n",
      "7 AirGap E2-M3 transmit [ 0.         0.8660254 -0.5      ] [0. 0. 1.]\n",
      "8 M3 reflect [0.        0.8660254 0.5      ] [-0. -0.  1.]\n",
      "9 AirGap M3-E3 reflect [0.        0.8660254 0.5      ] [-0. -0.  1.]\n",
      "10 E3 transmit [ 0.00000000e+00 -1.48741681e-17  1.00000000e+00] [0. 0. 1.]\n",
      "11 AirGap E3-E4 transmit [ 0.00000000e+00 -1.48741681e-17  1.00000000e+00] [-0. -0.  1.]\n",
      "12 E4 transmit [ 0.00000000e+00 -1.48741681e-17  1.00000000e+00] [-0. -0.  1.]\n",
      "13 AirGap E4-M5 transmit [ 0.00000000e+00 -1.48741681e-17  1.00000000e+00] [0. 0. 1.]\n",
      "14 M5 reflect [ 0.         -0.70710678  0.70710678] [-0. -0.  1.]\n",
      "15 AirGap M5-Image reflect [ 0.         -0.70710678  0.70710678] [-0. -0.  1.]\n",
      "16 Image transmit [ 0.00000000e+00 -1.00000000e+00 -1.01465364e-17] [-0. -0.  1.]\n"
     ]
    }
   ],
   "source": [
    "for i,e in enumerate(em.elements):\n",
    "    ri = e.reference_interface()\n",
    "    rifc_indx = sm.ifcs.index(ri)\n",
    "    print(i, e.label, ri.interact_mode, e.tfrm[0].T[2], e.reference_interface().profile.normal(np.array([0., 0., 0.])))"
   ]
  },
  {
   "cell_type": "code",
   "execution_count": 43,
   "metadata": {},
   "outputs": [
    {
     "name": "stdout",
     "output_type": "stream",
     "text": [
      "0 Aperture Stop transmit 1.0\n",
      "1 AirGap Aperture Stop-M1 transmit 1.0\n",
      "2 M1 reflect -1.0\n",
      "3 AirGap M1-E1 reflect -1.0\n",
      "4 E1 transmit -1.0\n",
      "5 AirGap E1-E2 transmit -1.0\n",
      "6 E2 transmit -1.0\n",
      "7 AirGap E2-M3 transmit -1.0\n",
      "8 M3 reflect 1.0\n",
      "9 AirGap M3-E3 reflect 1.0\n",
      "10 E3 transmit 1.0\n",
      "11 AirGap E3-E4 transmit 1.0\n",
      "12 E4 transmit 1.0\n",
      "13 AirGap E4-M5 transmit 1.0\n",
      "14 M5 reflect -1.0\n",
      "15 AirGap M5-Image reflect -1.0\n",
      "16 Image transmit -1.0\n"
     ]
    }
   ],
   "source": [
    "for i,e in enumerate(em.elements):\n",
    "    ri = e.reference_interface()\n",
    "    rifc_indx = sm.ifcs.index(ri)\n",
    "    print(i, e.label, ri.interact_mode, sm.z_dir[rifc_indx])"
   ]
  },
  {
   "cell_type": "code",
   "execution_count": 44,
   "metadata": {},
   "outputs": [
    {
     "name": "stdout",
     "output_type": "stream",
     "text": [
      "             c            t        medium     mode   zdr      sd\n",
      " Obj:     0.000000  1.00000e+11       air   transmit  1      0.0000\n",
      "Stop:     0.000000      5.00000       air   transmit  1     0.50000\n",
      "   2:     0.000000     -2.25000       air    reflect -1      1.0000\n",
      "   3:    -0.670000    -0.250000     N-BK7   transmit -1     0.50000\n",
      "   4:     0.000000   -0.0500000       air   transmit -1     0.48040\n",
      "   5:     0.000000    -0.250000     N-BK7   transmit -1     0.47123\n",
      "   6:    -0.770950     -2.25000       air   transmit -1     0.43242\n",
      "   7:     0.000000      2.25000       air    reflect  1     0.86202\n",
      "   8:    -0.670000     0.250000     N-BK7   transmit  1     0.42812\n",
      "   9:     0.000000    0.0500000       air   transmit  1     0.45957\n",
      "  10:     0.000000     0.250000     N-BK7   transmit  1     0.46726\n",
      "  11:    -0.592250      2.25000       air   transmit  1     0.48523\n",
      "  12:     0.000000     -5.00000       air    reflect -1     0.68285\n",
      " Img:     0.000000      0.00000             transmit -1     0.47573\n"
     ]
    }
   ],
   "source": [
    "sm.list_model()"
   ]
  },
  {
   "cell_type": "code",
   "execution_count": 45,
   "metadata": {},
   "outputs": [
    {
     "data": {
      "text/plain": [
       "array([ 0.       , -0.8660254,  0.5      ])"
      ]
     },
     "execution_count": 45,
     "metadata": {},
     "output_type": "execute_result"
    }
   ],
   "source": [
    "m2.tfrm[0][2]"
   ]
  },
  {
   "cell_type": "code",
   "execution_count": 46,
   "metadata": {},
   "outputs": [
    {
     "data": {
      "text/plain": [
       "array([0.       , 0.8660254, 0.5      ])"
      ]
     },
     "execution_count": 46,
     "metadata": {},
     "output_type": "execute_result"
    }
   ],
   "source": [
    "d = m2.tfrm[0].dot(np.array([0., 0., 1.])); d"
   ]
  },
  {
   "cell_type": "code",
   "execution_count": 47,
   "metadata": {},
   "outputs": [
    {
     "data": {
      "text/plain": [
       "array([0.       , 0.8660254, 0.5      ])"
      ]
     },
     "execution_count": 47,
     "metadata": {},
     "output_type": "execute_result"
    }
   ],
   "source": [
    "m2.tfrm[0].T[2]"
   ]
  },
  {
   "cell_type": "code",
   "execution_count": 48,
   "metadata": {},
   "outputs": [
    {
     "data": {
      "text/plain": [
       "array([0.       , 0.8660254, 0.5      ])"
      ]
     },
     "execution_count": 48,
     "metadata": {},
     "output_type": "execute_result"
    }
   ],
   "source": [
    "m2.tfrm[0].transpose()[2]"
   ]
  },
  {
   "cell_type": "code",
   "execution_count": 49,
   "metadata": {},
   "outputs": [
    {
     "data": {
      "text/plain": [
       "2"
      ]
     },
     "execution_count": 49,
     "metadata": {},
     "output_type": "execute_result"
    }
   ],
   "source": [
    "m2_indx = sm.ifcs.index(m2.reference_interface()); m2_indx"
   ]
  },
  {
   "cell_type": "code",
   "execution_count": 50,
   "metadata": {},
   "outputs": [
    {
     "data": {
      "text/plain": [
       "array([[ 1.       ,  0.       ,  0.       ],\n",
       "       [ 0.       ,  0.5      , -0.8660254],\n",
       "       [ 0.       ,  0.8660254,  0.5      ]])"
      ]
     },
     "execution_count": 50,
     "metadata": {},
     "output_type": "execute_result"
    }
   ],
   "source": [
    "sm.gbl_tfrms[m2_indx][0].T"
   ]
  },
  {
   "cell_type": "code",
   "execution_count": 51,
   "metadata": {},
   "outputs": [
    {
     "data": {
      "text/plain": [
       "array([-0., -0.,  1.])"
      ]
     },
     "execution_count": 51,
     "metadata": {},
     "output_type": "execute_result"
    }
   ],
   "source": [
    "m2.reference_interface().profile.normal(np.array([0., 0., 0.]))"
   ]
  },
  {
   "cell_type": "code",
   "execution_count": 52,
   "metadata": {},
   "outputs": [
    {
     "data": {
      "text/plain": [
       "[1.0, 1.0, -1.0, -1.0, -1.0, -1.0, -1.0, 1.0, 1.0, 1.0, 1.0, 1.0, -1.0, -1.0]"
      ]
     },
     "execution_count": 52,
     "metadata": {},
     "output_type": "execute_result"
    }
   ],
   "source": [
    "sm.z_dir"
   ]
  },
  {
   "cell_type": "code",
   "execution_count": 53,
   "metadata": {},
   "outputs": [
    {
     "name": "stdout",
     "output_type": "stream",
     "text": [
      "             c            t        medium     mode   zdr      sd\n",
      " Obj:     0.000000  1.00000e+11       air   transmit  1      0.0000\n",
      "Stop:     0.000000      5.00000       air   transmit  1     0.50000\n",
      "   2:     0.000000     -2.25000       air    reflect -1      1.0000\n",
      "   3:    -0.670000    -0.250000     N-BK7   transmit -1     0.50000\n",
      "   4:     0.000000   -0.0500000       air   transmit -1     0.48040\n",
      "   5:     0.000000    -0.250000     N-BK7   transmit -1     0.47123\n",
      "   6:    -0.770950     -2.25000       air   transmit -1     0.43242\n",
      "   7:     0.000000      2.25000       air    reflect  1     0.86202\n",
      "   8:    -0.670000     0.250000     N-BK7   transmit  1     0.42812\n",
      "   9:     0.000000    0.0500000       air   transmit  1     0.45957\n",
      "  10:     0.000000     0.250000     N-BK7   transmit  1     0.46726\n",
      "  11:    -0.592250      2.25000       air   transmit  1     0.48523\n",
      "  12:     0.000000     -5.00000       air    reflect -1     0.68285\n",
      " Img:     0.000000      0.00000             transmit -1     0.47573\n"
     ]
    }
   ],
   "source": [
    "sm.list_model()"
   ]
  },
  {
   "cell_type": "code",
   "execution_count": 54,
   "metadata": {},
   "outputs": [
    {
     "name": "stdout",
     "output_type": "stream",
     "text": [
      "       ax_ray_ht    ax_ray_slp\n",
      " 0:            0         5e-12\n",
      " 1:          0.5         5e-12\n",
      " 2:          0.5         5e-12\n",
      " 3:          0.5     -0.173622\n",
      " 4:      0.47141     -0.173622\n",
      " 5:      0.46273     -0.173622\n",
      " 6:      0.43414  -0.000154742\n",
      " 7:      0.43379  -0.000154742\n",
      " 8:      0.43345      0.150356\n",
      " 9:       0.4582      0.150356\n",
      "10:      0.46572      0.150356\n",
      "11:      0.49048  -0.000194982\n",
      "12:      0.49004  -0.000194982\n",
      "13:      0.48906  -0.000194982\n",
      "\n",
      "       pr_ray_ht    pr_ray_slp\n",
      " 0:  -1.7455e+09     0.0174551\n",
      " 1:            0     0.0174551\n",
      " 2:     0.087275     0.0174551\n",
      " 3:      0.12655    -0.0264883\n",
      " 4:      0.12219    -0.0264883\n",
      " 5:      0.12086    -0.0264883\n",
      " 6:       0.1165     0.0200614\n",
      " 7:      0.16164     0.0200614\n",
      " 8:      0.20678     0.0918638\n",
      " 9:       0.2219     0.0918638\n",
      "10:       0.2265     0.0918638\n",
      "11:      0.24162     0.0176979\n",
      "12:      0.28144     0.0176979\n",
      "13:      0.36993     0.0176979\n",
      "\n",
      "            power           tau        index    type\n",
      " 0:             0         1e+11      1.00000    transmit\n",
      " 1:             0             5      1.00000    transmit\n",
      " 2:            -0          2.25     -1.00000    reflect\n",
      " 3:     0.3472436       0.16466     -1.51827    transmit\n",
      " 4:             0          0.05     -1.00000    transmit\n",
      " 5:            -0       0.16466     -1.51827    transmit\n",
      " 6:    -0.3995634          2.25     -1.00000    transmit\n",
      " 7:             0          2.25      1.00000    reflect\n",
      " 8:    -0.3472436       0.16466      1.51827    transmit\n",
      " 9:            -0          0.05      1.00000    transmit\n",
      "10:             0       0.16466      1.51827    transmit\n",
      "11:     0.3069478          2.25      1.00000    transmit\n",
      "12:            -0             5     -1.00000    reflect\n",
      "13:             0             0     -1.00000    transmit\n"
     ]
    }
   ],
   "source": [
    "pm.list_lens()"
   ]
  },
  {
   "cell_type": "code",
   "execution_count": 55,
   "metadata": {},
   "outputs": [
    {
     "name": "stdout",
     "output_type": "stream",
     "text": [
      "            X            Y            Z           L            M            N               Len\n",
      "  0:      0.00000      0.00000            0     0.000000     0.000000     1.000000        1e+11\n",
      "  1:      0.00000      0.50000            0     0.000000     0.000000     1.000000        4.134\n",
      "  2:      0.00000      1.00000            0     0.000000    -0.866025    -0.500000       3.2023\n",
      "  3:      0.00000      0.50000    -0.086242     0.000000    -0.118848    -0.992913      0.16493\n",
      "  4:      0.00000      0.48040            0     0.000000    -0.180443    -0.983585     0.050834\n",
      "  5:      0.00000      0.47123            0     0.000000    -0.118848    -0.992913      0.32652\n",
      "  6:      0.00000      0.43242    -0.074201     0.000000    -0.000985    -1.000000       1.4293\n",
      "  7:      0.00000      0.86202            0     0.000000    -0.866518     0.499147       2.9338\n",
      "  8:      0.00000      0.42812    -0.062719     0.000000     0.100059     0.994981       0.3143\n",
      "  9:      0.00000      0.45957            0     0.000000     0.151917     0.988393     0.050587\n",
      " 10:      0.00000      0.46726            0     0.000000     0.100059     0.994981      0.17968\n",
      " 11:      0.00000      0.48523    -0.071225     0.000000    -0.001298     0.999999       2.8028\n",
      " 12:      0.00000      0.68108            0     0.000000     0.706189    -0.708024       4.5184\n",
      " 13:      0.00000      0.47573            0     0.000000    -0.001298    -0.999999            0\n"
     ]
    }
   ],
   "source": [
    "pupil = [0., 1.]\n",
    "fi = 0\n",
    "wl = osp.spectral_region.reference_wvl\n",
    "fld, wvl, foc = osp.lookup_fld_wvl_focus(fi, wl)\n",
    "ray, ray_op, wvl = trace_base(opm, pupil, fld, wvl)\n",
    "list_ray(ray)"
   ]
  },
  {
   "cell_type": "code",
   "execution_count": 56,
   "metadata": {},
   "outputs": [],
   "source": [
    "def ray_lister(ray):\n",
    "    colHeader = \"            X            Y            Z           L\" \\\n",
    "                \"          M          N          SRL        SRM        SRN          Len\"\n",
    "    print(colHeader)\n",
    "\n",
    "    colFormats = \"{:3d}: {:12.5f} {:12.5f} {:12.5g} {:10.4f} {:10.4f} \" \\\n",
    "                 \"{:10.4f} {:10.4f} {:10.4f} {:10.4f} {:12.5g}\"\n",
    "\n",
    "    for i, r in enumerate(ray):\n",
    "        print(colFormats.format(i,\n",
    "                                r[mc.p][0], r[mc.p][1], r[mc.p][2],\n",
    "                                r[mc.d][0], r[mc.d][1], r[mc.d][2],\n",
    "                                r[mc.nrml][0], r[mc.nrml][1], r[mc.nrml][2],\n",
    "                                r[mc.dst]))"
   ]
  },
  {
   "cell_type": "code",
   "execution_count": 57,
   "metadata": {},
   "outputs": [
    {
     "name": "stdout",
     "output_type": "stream",
     "text": [
      "            X            Y            Z           L          M          N          SRL        SRM        SRN          Len\n",
      "  0:      0.00000      0.00000            0     0.0000     0.0000     1.0000    -0.0000    -0.0000     1.0000        1e+11\n",
      "  1:      0.00000      0.50000            0     0.0000     0.0000     1.0000    -0.0000    -0.0000     1.0000        4.134\n",
      "  2:      0.00000      1.00000            0     0.0000    -0.8660    -0.5000    -0.0000    -0.0000     1.0000       3.2023\n",
      "  3:      0.00000      0.50000    -0.086242     0.0000    -0.1188    -0.9929     0.0000     0.3350     0.9422      0.16493\n",
      "  4:      0.00000      0.48040            0     0.0000    -0.1804    -0.9836    -0.0000    -0.0000     1.0000     0.050834\n",
      "  5:      0.00000      0.47123            0     0.0000    -0.1188    -0.9929    -0.0000    -0.0000     1.0000      0.32652\n",
      "  6:      0.00000      0.43242    -0.074201     0.0000    -0.0010    -1.0000     0.0000     0.3334     0.9428       1.4293\n",
      "  7:      0.00000      0.86202            0     0.0000    -0.8665     0.4991    -0.0000    -0.0000     1.0000       2.9338\n",
      "  8:      0.00000      0.42812    -0.062719     0.0000     0.1001     0.9950     0.0000     0.2868     0.9580       0.3143\n",
      "  9:      0.00000      0.45957            0     0.0000     0.1519     0.9884    -0.0000    -0.0000     1.0000     0.050587\n",
      " 10:      0.00000      0.46726            0     0.0000     0.1001     0.9950    -0.0000    -0.0000     1.0000      0.17968\n",
      " 11:      0.00000      0.48523    -0.071225     0.0000    -0.0013     1.0000     0.0000     0.2874     0.9578       2.8028\n",
      " 12:      0.00000      0.68108            0     0.0000     0.7062    -0.7080    -0.0000    -0.0000     1.0000       4.5184\n",
      " 13:      0.00000      0.47573            0     0.0000    -0.0013    -1.0000    -0.0000    -0.0000     1.0000            0\n"
     ]
    }
   ],
   "source": [
    "ray_lister(ray)"
   ]
  },
  {
   "cell_type": "code",
   "execution_count": 58,
   "metadata": {},
   "outputs": [
    {
     "name": "stdout",
     "output_type": "stream",
     "text": [
      "             c            t        medium     mode   zdr      sd\n",
      " Obj:     0.000000  1.00000e+11       air   transmit  1      0.0000\n",
      "Stop:     0.000000      5.00000       air   transmit  1     0.50000\n",
      "   2:     0.000000     -2.25000       air    reflect -1      1.0000\n",
      "   3:    -0.670000    -0.250000     N-BK7   transmit -1     0.50000\n",
      "   4:     0.000000   -0.0500000       air   transmit -1     0.48040\n",
      "   5:     0.000000    -0.250000     N-BK7   transmit -1     0.47123\n",
      "   6:    -0.770950     -2.25000       air   transmit -1     0.43242\n",
      "   7:     0.000000      2.25000       air    reflect  1     0.86202\n",
      "   8:    -0.670000     0.250000     N-BK7   transmit  1     0.42812\n",
      "   9:     0.000000    0.0500000       air   transmit  1     0.45957\n",
      "  10:     0.000000     0.250000     N-BK7   transmit  1     0.46726\n",
      "  11:    -0.592250      2.25000       air   transmit  1     0.48523\n",
      "  12:     0.000000     -5.00000       air    reflect -1     0.68285\n",
      " Img:     0.000000      0.00000             transmit -1     0.47573\n"
     ]
    }
   ],
   "source": [
    "sm.list_model()"
   ]
  },
  {
   "cell_type": "code",
   "execution_count": 59,
   "metadata": {},
   "outputs": [
    {
     "name": "stdout",
     "output_type": "stream",
     "text": [
      "{\n",
      "  \"shell_port\": 51193,\n",
      "  \"iopub_port\": 51194,\n",
      "  \"stdin_port\": 51195,\n",
      "  \"control_port\": 51197,\n",
      "  \"hb_port\": 51196,\n",
      "  \"ip\": \"127.0.0.1\",\n",
      "  \"key\": \"d00f3282-e1c41a54a353f0d198fbec58\",\n",
      "  \"transport\": \"tcp\",\n",
      "  \"signature_scheme\": \"hmac-sha256\",\n",
      "  \"kernel_name\": \"\"\n",
      "}\n",
      "\n",
      "Paste the above JSON into a file, and connect with:\n",
      "    $> jupyter <app> --existing <file>\n",
      "or, if you are local, you can connect with just:\n",
      "    $> jupyter <app> --existing kernel-94d74742-1293-49d2-8129-8464c601b5f4.json\n",
      "or even just:\n",
      "    $> jupyter <app> --existing\n",
      "if this is the most recent Jupyter kernel you have started.\n"
     ]
    }
   ],
   "source": [
    "%connect_info"
   ]
  },
  {
   "cell_type": "code",
   "execution_count": null,
   "metadata": {},
   "outputs": [],
   "source": []
  }
 ],
 "metadata": {
  "kernelspec": {
   "display_name": "Python 3",
   "language": "python",
   "name": "python3"
  },
  "language_info": {
   "codemirror_mode": {
    "name": "ipython",
    "version": 3
   },
   "file_extension": ".py",
   "mimetype": "text/x-python",
   "name": "python",
   "nbconvert_exporter": "python",
   "pygments_lexer": "ipython3",
   "version": "3.7.7"
  }
 },
 "nbformat": 4,
 "nbformat_minor": 4
}
