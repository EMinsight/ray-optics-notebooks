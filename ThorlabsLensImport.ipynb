{
 "cells": [
  {
   "cell_type": "raw",
   "metadata": {},
   "source": [
    ".. currentmodule:: rayoptics\n",
    "\n",
    "#############################\n",
    "ThorLabs catalog lens example\n",
    "#############################\n",
    "\n",
    "This notebook shows the steps to follow to open a Zemax zmx file of a ThorLabs aspheric singlet"
   ]
  },
  {
   "cell_type": "code",
   "execution_count": 1,
   "metadata": {},
   "outputs": [],
   "source": [
    "#%matplotlib widget\n",
    "%matplotlib inline"
   ]
  },
  {
   "cell_type": "code",
   "execution_count": 2,
   "metadata": {},
   "outputs": [],
   "source": [
    "# initialization\n",
    "from rayoptics.environment import *"
   ]
  },
  {
   "cell_type": "raw",
   "metadata": {},
   "source": [
    "Use the object oriented filesystem interface from Python 3\n",
    "----------------------------------------------------------"
   ]
  },
  {
   "cell_type": "code",
   "execution_count": 3,
   "metadata": {},
   "outputs": [],
   "source": [
    "root_pth = Path(rayoptics.__file__).resolve().parent"
   ]
  },
  {
   "cell_type": "raw",
   "metadata": {},
   "source": [
    "Read Zemax .zmx file for ThorLabs part 354710-C\n",
    "-----------------------------------------------\n",
    "\n",
    "Use the :func:`~.gui.appcmds.open_model` function to read Zemax **.zmx** files, CODE V **.seq** files and the native rayoptics JSON files, **.roa**\n",
    "\n",
    "It returns an instance of :class:`~.opticalmodel.OpticalModel` that contains all of the model data.\n",
    "\n",
    "Use the info keyword argument to get additional information about the details of the imported file."
   ]
  },
  {
   "cell_type": "raw",
   "metadata": {},
   "source": [
    "The webpage for the 354710-C aspheric lens is `here <https://www.thorlabs.com/thorproduct.cfm?partnumber=354710-C>`_ "
   ]
  },
  {
   "cell_type": "code",
   "execution_count": 4,
   "metadata": {},
   "outputs": [],
   "source": [
    "opm, info = open_model(root_pth/\"zemax/tests/354710-C-Zemax(ZMX).zmx\", info=True)"
   ]
  },
  {
   "cell_type": "raw",
   "metadata": {},
   "source": [
    "info is a tuple of the following items:\n",
    "\n",
    "    - the track_contents dict \n",
    "    - glasses not found dict"
   ]
  },
  {
   "cell_type": "code",
   "execution_count": 5,
   "metadata": {},
   "outputs": [
    {
     "data": {
      "text/plain": [
       "({'VERS': '140124 258 36214',\n",
       "  'pupil': ('aperture', 'object', 'pupil'),\n",
       "  'FTYP': '0 0 1 1 0 0 0',\n",
       "  'STANDARD': 5,\n",
       "  'EVENASPH': 1,\n",
       "  'CONI': 1,\n",
       "  'conj type': 'infinite',\n",
       "  '# surfs': 6,\n",
       "  '# wvls': 1,\n",
       "  'fov': ('field', 'object', 'angle'),\n",
       "  '# fields': 1,\n",
       "  'GCAT': ['LIGHTPATH', 'SCHOTT'],\n",
       "  'glass substituted': 2,\n",
       "  'encoding': 'utf-16'},\n",
       " {'D-ZK3M': ('D-ZK3', 'CDGM'), 'BK7': ('BK7', 'Robb1983.SCHOTT')})"
      ]
     },
     "execution_count": 5,
     "metadata": {},
     "output_type": "execute_result"
    }
   ],
   "source": [
    "info"
   ]
  },
  {
   "cell_type": "raw",
   "metadata": {},
   "source": [
    "The second dict indicates that there were two glasses in the model file that are not in the glass catalog set that ray-optics uses from the opticalglass package. There is a file called 354710-C-Zemax(ZMX)_tmpl.smx that contains the glasses not found dict dict.\n",
    "\n",
    "One is a substitute material. One of the glasses was named BK7, and that's not an exact match in the current Schott catalog. But there is a similar glass N-BK7, and what the import process did was substitute that glass for the BK7 glass. \n",
    "\n",
    "The other glass here isn't in any of the ray-optics catalogs, and it apparently is from the LightPath catalog, as indicated by the 'GCAT' key in the track contents dict. A web search leads to this `D-ZK3M datasheet <https://www.amstechnologies-webshop.com/media/pdf/e9/04/26/D-ZK3.pdf>`_. \n",
    "\n",
    "One thing of importance is what wavelength this material is going to be used. The usual convenient way of specifying an optical glass with the index and V number is really only adequate in the visible wavelengths. In this case, the lens file is going to be used in the infrared, at 1550 nanometers. Fortunately there are adequate data points for the material definition in the IR.\n",
    "\n",
    "The best approach to using the available data is to interpolate refractive index values from the refractive index table in the datasheet. There is a material model in the :mod:`~.seq.medium` package called :class:`~.seq.medium.InterpolatedGlass` that takes a glass name, a catalog name, and a list of wavelength/refractive index pairs. The template .smx file is edited with new InterpolatedGlass definition for D-ZK3M and saved with the same name as the .zmx file but with a .smx extender. The template file can be deleted, because it's no longer needed.\n",
    "\n",
    "The name of this file should be the same as the name of the original Zemax file. But instead of an extender of zmx use an extender of smx, so when we do that, we now have an smx file right next to it. We can delete the template file, because that's no longer needed.\n",
    "\n",
    "Open the model again."
   ]
  },
  {
   "cell_type": "code",
   "execution_count": 6,
   "metadata": {},
   "outputs": [],
   "source": [
    "opm, info = open_model(root_pth/\"zemax/tests/354710-C-Zemax(ZMX).zmx\", info=True)"
   ]
  },
  {
   "cell_type": "code",
   "execution_count": 7,
   "metadata": {},
   "outputs": [
    {
     "data": {
      "text/plain": [
       "({'VERS': '140124 258 36214',\n",
       "  'pupil': ('aperture', 'object', 'pupil'),\n",
       "  'FTYP': '0 0 1 1 0 0 0',\n",
       "  'STANDARD': 5,\n",
       "  'EVENASPH': 1,\n",
       "  'CONI': 1,\n",
       "  'conj type': 'infinite',\n",
       "  '# surfs': 6,\n",
       "  '# wvls': 1,\n",
       "  'fov': ('field', 'object', 'angle'),\n",
       "  '# fields': 1,\n",
       "  'GCAT': ['LIGHTPATH', 'SCHOTT'],\n",
       "  'glass substituted': 2,\n",
       "  'encoding': 'utf-16'},\n",
       " {'D-ZK3M': ('D-ZK3', 'CDGM'), 'BK7': ('BK7', 'Robb1983.SCHOTT')})"
      ]
     },
     "execution_count": 7,
     "metadata": {},
     "output_type": "execute_result"
    }
   ],
   "source": [
    "info"
   ]
  },
  {
   "cell_type": "raw",
   "metadata": {},
   "source": [
    "Examining the info, The InterpolatedGlass definition for D-ZK3M is being used as well as the N-BK7 substitution for BK7. All of the flags for glass not found or glass substituted have been resolved."
   ]
  },
  {
   "cell_type": "raw",
   "metadata": {},
   "source": [
    "Setup convenient aliases for using rayoptics functions"
   ]
  },
  {
   "cell_type": "code",
   "execution_count": 8,
   "metadata": {},
   "outputs": [],
   "source": [
    "sm = opm['seq_model']\n",
    "osp = opm['optical_spec']\n",
    "pm = opm['parax_model']"
   ]
  },
  {
   "cell_type": "code",
   "execution_count": 9,
   "metadata": {},
   "outputs": [
    {
     "data": {
      "text/plain": [
       "[1550.0]"
      ]
     },
     "execution_count": 9,
     "metadata": {},
     "output_type": "execute_result"
    }
   ],
   "source": [
    "osp['wvls'].wavelengths"
   ]
  },
  {
   "cell_type": "code",
   "execution_count": 10,
   "metadata": {},
   "outputs": [
    {
     "name": "stdout",
     "output_type": "stream",
     "text": [
      "             c            t        medium     mode   zdr      sd\n",
      " Obj:     0.000000  1.00000e+10       air             1      0.0000\n",
      "Stop:     1.182174     0.862527     D-ZK3             1     0.75000\n",
      "   2:     0.000000     0.523243       air             1     0.57417\n",
      "   3:     0.000000     0.250000       BK7             1     0.24917\n",
      "   4:     0.000000     0.249999       air             1     0.15527\n",
      " Img:     0.000000      0.00000                       1  8.9134e-06\n"
     ]
    }
   ],
   "source": [
    "sm.list_model()"
   ]
  },
  {
   "cell_type": "raw",
   "metadata": {},
   "source": [
    "Display first order properties of the model\n",
    "-------------------------------------------\n",
    "\n",
    "The calculated first order data is in the :class:`~.firstorder.FirstOrderData` class.\n",
    "An instance of :class:`~.FirstOrderData`, :attr:`~.opticalspec.OpticalSpecs.parax_data`, is managed by the :class:`~.opticalspec.OpticalSpecs` class.\n",
    "\n",
    "Other essential optical specification data is also managed by the :class:`~.opticalspec.OpticalSpecs` class:\n",
    "\n",
    "    - spectral_region (:class:`~.opticalspec.WvlSpec`)\n",
    "    - pupil (:class:`~.opticalspec.PupilSpec`)\n",
    "    - field_of_view (:class:`~.opticalspec.FieldSpec`)\n",
    "    - defocus (:class:`~.opticalspec.FocusRange`)\n",
    "\n",
    "A convenience method in :class:`~.ParaxialModel`, :meth:`~.paraxialdesign.ParaxialModel.first_order_data`, can be used to display the first order properties of the model."
   ]
  },
  {
   "cell_type": "code",
   "execution_count": 11,
   "metadata": {},
   "outputs": [
    {
     "name": "stdout",
     "output_type": "stream",
     "text": [
      "efl               1.483\n",
      "ffl              -1.483\n",
      "pp1           3.294e-16\n",
      "bfl              0.2446\n",
      "ppk               1.239\n",
      "f/#              0.9889\n",
      "m            -1.483e-10\n",
      "red          -6.742e+09\n",
      "obj_dist          1e+10\n",
      "obj_ang               1\n",
      "enp_dist             -0\n",
      "enp_radius         0.75\n",
      "na obj          7.5e-11\n",
      "n obj                 1\n",
      "img_dist         0.2446\n",
      "img_ht          0.02589\n",
      "exp_dist         -1.244\n",
      "exp_radius         0.75\n",
      "na img          -0.4512\n",
      "n img                 1\n",
      "optical invariant      0.01309\n"
     ]
    }
   ],
   "source": [
    "pm.first_order_data()"
   ]
  },
  {
   "cell_type": "raw",
   "metadata": {},
   "source": [
    "Generate a lens picture\n",
    "-----------------------\n",
    "\n",
    "This is done using the :mod:`.interactivelayout` module.\n",
    "All graphics in rayoptics are based on matplotlib."
   ]
  },
  {
   "cell_type": "code",
   "execution_count": 12,
   "metadata": {},
   "outputs": [
    {
     "data": {
      "image/png": "[encoded data removed]",
      "text/plain": [
       "<InteractiveLayout size 432x288 with 1 Axes>"
      ]
     },
     "metadata": {},
     "output_type": "display_data"
    }
   ],
   "source": [
    "layout_plt = plt.figure(FigureClass=InteractiveLayout, opt_model=opm,\n",
    "                        do_draw_rays=True, do_paraxial_layout=False).plot()"
   ]
  },
  {
   "cell_type": "raw",
   "metadata": {},
   "source": [
    "Draw a transverse ray aberration plot\n",
    "-------------------------------------\n",
    "\n",
    "This is done using the :mod:`.axisarrayfigure` module."
   ]
  },
  {
   "cell_type": "code",
   "execution_count": 13,
   "metadata": {},
   "outputs": [
    {
     "data": {
      "image/png": "[encoded data removed]",
      "text/plain": [
       "<RayFanFigure size 432x288 with 2 Axes>"
      ]
     },
     "metadata": {},
     "output_type": "display_data"
    }
   ],
   "source": [
    "abr_plt = plt.figure(FigureClass=RayFanFigure, opt_model=opm, data_type='Ray',\n",
    "                     scale_type=Fit.All_Same).plot()"
   ]
  },
  {
   "cell_type": "raw",
   "metadata": {},
   "source": [
    "The model from ThorLabs only had 1 wavelength defined. Use the :class:`~.opticalspec.OpticalSpecs` instance, `osp`, to modify the :attr:`~.opticalspec.OpticalSpecs.spectral_region` in the optical subpackage to add wavelengths in the red and blue. The wavelenghts can be specified directly in nm or by using spectral line designations."
   ]
  },
  {
   "cell_type": "code",
   "execution_count": 14,
   "metadata": {},
   "outputs": [],
   "source": [
    "osp['wvls'].set_from_list([[1050., 1], [1550., 2], [1700., 1]])\n",
    "osp['wvls'].reference_wvl = 1"
   ]
  },
  {
   "cell_type": "code",
   "execution_count": 15,
   "metadata": {},
   "outputs": [
    {
     "data": {
      "text/plain": [
       "[1050.0, 1550.0, 1700.0]"
      ]
     },
     "execution_count": 15,
     "metadata": {},
     "output_type": "execute_result"
    }
   ],
   "source": [
    "osp['wvls'].wavelengths"
   ]
  },
  {
   "cell_type": "raw",
   "metadata": {},
   "source": [
    "After changing the wavelengths, update the optical model using :meth:`~.OpticalModel.update_model` to ensure all of the data is consistent.\n",
    "The :class:`~.opticalmodel.OpticalModel` class is in the :mod:`~.opticalmodel` module in the :mod:`~.optical` subpackage."
   ]
  },
  {
   "cell_type": "code",
   "execution_count": 16,
   "metadata": {},
   "outputs": [],
   "source": [
    "opm.update_model()"
   ]
  },
  {
   "cell_type": "raw",
   "metadata": {},
   "source": [
    "The aberration plot can be updated by calling :meth:`~.axisarrayfigure.AxisArrayFigure.refresh` on abr_plt"
   ]
  },
  {
   "cell_type": "code",
   "execution_count": 17,
   "metadata": {},
   "outputs": [
    {
     "data": {
      "image/png": "[encoded data removed]",
      "text/plain": [
       "<RayFanFigure size 432x288 with 2 Axes>"
      ]
     },
     "execution_count": 17,
     "metadata": {},
     "output_type": "execute_result"
    }
   ],
   "source": [
    "abr_plt.refresh()"
   ]
  },
  {
   "cell_type": "raw",
   "metadata": {},
   "source": [
    "List the model, and use an alternate model listing command, list_sg, for \"list surface and gap\". This is useful because it will allow us to look at element decenters or surface decenters in our model."
   ]
  },
  {
   "cell_type": "code",
   "execution_count": 18,
   "metadata": {},
   "outputs": [
    {
     "name": "stdout",
     "output_type": "stream",
     "text": [
      "             c            t        medium     mode   zdr      sd\n",
      " Obj:     0.000000  1.00000e+10       air             1      0.0000\n",
      "Stop:     1.182174     0.862527     D-ZK3             1     0.75000\n",
      "   2:     0.000000     0.523243       air             1     0.57417\n",
      "   3:     0.000000     0.250000       BK7             1     0.24917\n",
      "   4:     0.000000     0.249999       air             1     0.15527\n",
      " Img:     0.000000      0.00000                       1  8.9134e-06\n"
     ]
    }
   ],
   "source": [
    "sm.list_model()"
   ]
  },
  {
   "cell_type": "code",
   "execution_count": 19,
   "metadata": {},
   "outputs": [
    {
     "name": "stdout",
     "output_type": "stream",
     "text": [
      "              c               mode        type        y       alpha\n",
      "                      t           medium\n",
      " Obj:      0.00000                 \n",
      "                1.00000e+10          air\n",
      "Stop:      1.18217                 \n",
      "                   0.862527        D-ZK3\n",
      "   2:      0.00000                 \n",
      "                   0.523243          air\n",
      "   3:      0.00000                 \n",
      "                   0.250000          BK7\n",
      "   4:      0.00000                 \n",
      "                   0.249999          air\n",
      " Img:      0.00000                 \n"
     ]
    }
   ],
   "source": [
    "sm.list_sg()"
   ]
  },
  {
   "cell_type": "raw",
   "metadata": {},
   "source": [
    "So we just take a quick look at what the actual surface definition is. We see the first surface has an even polynomial: a sphere with a conic constant, and aspheric coefficients, up to 12th order, and it's a transmitting surface."
   ]
  },
  {
   "cell_type": "code",
   "execution_count": 20,
   "metadata": {},
   "outputs": [
    {
     "data": {
      "text/plain": [
       "'Surface(profile=EvenPolynomial(c=1.1821736792829385, cc=-0.4776343430417, coefs=[0.0, -0.006313587842251, -0.009394960901464, -0.01707674864971, 0.008070222726967, -0.02139444912229, 0.0, 0.0]), interact_mode=transmit)'"
      ]
     },
     "execution_count": 20,
     "metadata": {},
     "output_type": "execute_result"
    }
   ],
   "source": [
    "repr(sm.ifcs[1])"
   ]
  },
  {
   "cell_type": "raw",
   "metadata": {},
   "source": [
    "Now add decentered surfaces to both the first and the second surface of the lens element. These surfaces are defined as a local decenter type and a reverse decenter. A local decenter applies a translation first, and then a rotation, wheras the reverse decenter applies the reverse: the inverse of the rotation matrix, and then subtracting the translation. "
   ]
  },
  {
   "cell_type": "code",
   "execution_count": 21,
   "metadata": {},
   "outputs": [],
   "source": [
    "sm.ifcs[1].decenter = srf.DecenterData('decenter')\n",
    "sm.ifcs[2].decenter = srf.DecenterData('reverse')"
   ]
  },
  {
   "cell_type": "raw",
   "metadata": {},
   "source": [
    "Listing the model shows the decentered parameters."
   ]
  },
  {
   "cell_type": "code",
   "execution_count": 22,
   "metadata": {},
   "outputs": [
    {
     "name": "stdout",
     "output_type": "stream",
     "text": [
      "              c               mode        type        y       alpha\n",
      "                      t           medium\n",
      " Obj:      0.00000                 \n",
      "                1.00000e+10          air\n",
      "Stop:      1.18217                      decenter     0.0000     0.0000\n",
      "                   0.862527        D-ZK3\n",
      "   2:      0.00000                      reverse     0.0000     0.0000\n",
      "                   0.523243          air\n",
      "   3:      0.00000                 \n",
      "                   0.250000          BK7\n",
      "   4:      0.00000                 \n",
      "                   0.249999          air\n",
      " Img:      0.00000                 \n"
     ]
    }
   ],
   "source": [
    "sm.list_sg()"
   ]
  },
  {
   "cell_type": "raw",
   "metadata": {},
   "source": [
    "The decenter is defined by a translation, the tilt is defined by alpha, beta, and gamma euler angles. The euler angles will be converted into a rotation matrix. So, this information gives you a translation and a rotation matrix."
   ]
  },
  {
   "cell_type": "code",
   "execution_count": 23,
   "metadata": {},
   "outputs": [
    {
     "data": {
      "text/plain": [
       "'decenter': Decenter: array([0., 0., 0.]), Tilt: array([0., 0., 0.])"
      ]
     },
     "execution_count": 23,
     "metadata": {},
     "output_type": "execute_result"
    }
   ],
   "source": [
    "sm.ifcs[1].decenter"
   ]
  },
  {
   "cell_type": "raw",
   "metadata": {},
   "source": [
    "To laterally offset the lens element in the y direction, say by 0.2 millimeters, set the second element of the translation vector of each of the surfaces to 0.2. And because the second surface is a reverse decenter we'll see that the optical axis comes back to the original position. So now we've decentered the surfaces we see that the y component value is 0.2. "
   ]
  },
  {
   "cell_type": "code",
   "execution_count": 24,
   "metadata": {},
   "outputs": [],
   "source": [
    "sm.ifcs[1].decenter.dec[1] = .2\n",
    "sm.ifcs[2].decenter.dec[1] = .2"
   ]
  },
  {
   "cell_type": "code",
   "execution_count": 25,
   "metadata": {},
   "outputs": [
    {
     "name": "stdout",
     "output_type": "stream",
     "text": [
      "              c               mode        type        y       alpha\n",
      "                      t           medium\n",
      " Obj:      0.00000                 \n",
      "                1.00000e+10          air\n",
      "Stop:      1.18217                      decenter    0.20000     0.0000\n",
      "                   0.862527        D-ZK3\n",
      "   2:      0.00000                      reverse    0.20000     0.0000\n",
      "                   0.523243          air\n",
      "   3:      0.00000                 \n",
      "                   0.250000          BK7\n",
      "   4:      0.00000                 \n",
      "                   0.249999          air\n",
      " Img:      0.00000                 \n"
     ]
    }
   ],
   "source": [
    "sm.list_sg()"
   ]
  },
  {
   "cell_type": "raw",
   "metadata": {},
   "source": [
    "When perturbing the lens position, we want the ray bundle to stay directed along the axis. So we want to separate the definition of the stop surface from the first surface, and put the stop on a dummy plane in front of the lens element. So when the lens element is laterally shifted, the stop plane, which is what the rays are aimed at, will stay the same.\n",
    "\n",
    "Add a dummy plane, following the object surface. I'll list the model, and we see here, the dummy plane, and the current surface should be the surface that we did the insert at so that's surface one, and we want to set the stop to the current surface. And when we redo the listing, we see the stop is moved to the dummy plane. We have laterally offset the second and third surfaces by an amount of 0.2, "
   ]
  },
  {
   "cell_type": "code",
   "execution_count": 26,
   "metadata": {},
   "outputs": [],
   "source": [
    "opm.add_dummy_plane(idx=0)"
   ]
  },
  {
   "cell_type": "code",
   "execution_count": 27,
   "metadata": {},
   "outputs": [
    {
     "name": "stdout",
     "output_type": "stream",
     "text": [
      "              c               mode        type        y       alpha\n",
      "                      t           medium\n",
      " Obj:      0.00000                 \n",
      "                1.00000e+10          air\n",
      "   1:      0.00000                 \n",
      "                    0.00000          air\n",
      "Stop:      1.18217                      decenter    0.20000     0.0000\n",
      "                   0.862527        D-ZK3\n",
      "   3:      0.00000                      reverse    0.20000     0.0000\n",
      "                   0.523243          air\n",
      "   4:      0.00000                 \n",
      "                   0.250000          BK7\n",
      "   5:      0.00000                 \n",
      "                   0.249999          air\n",
      " Img:      0.00000                 \n"
     ]
    }
   ],
   "source": [
    "sm.list_sg()"
   ]
  },
  {
   "cell_type": "code",
   "execution_count": 28,
   "metadata": {},
   "outputs": [
    {
     "data": {
      "text/plain": [
       "1"
      ]
     },
     "execution_count": 28,
     "metadata": {},
     "output_type": "execute_result"
    }
   ],
   "source": [
    "sm.cur_surface"
   ]
  },
  {
   "cell_type": "code",
   "execution_count": 29,
   "metadata": {},
   "outputs": [
    {
     "data": {
      "text/plain": [
       "1"
      ]
     },
     "execution_count": 29,
     "metadata": {},
     "output_type": "execute_result"
    }
   ],
   "source": [
    "sm.set_stop()"
   ]
  },
  {
   "cell_type": "code",
   "execution_count": 30,
   "metadata": {},
   "outputs": [
    {
     "name": "stdout",
     "output_type": "stream",
     "text": [
      "              c               mode        type        y       alpha\n",
      "                      t           medium\n",
      " Obj:      0.00000                 \n",
      "                1.00000e+10          air\n",
      "Stop:      0.00000                 \n",
      "                    0.00000          air\n",
      "   2:      1.18217                      decenter    0.20000     0.0000\n",
      "                   0.862527        D-ZK3\n",
      "   3:      0.00000                      reverse    0.20000     0.0000\n",
      "                   0.523243          air\n",
      "   4:      0.00000                 \n",
      "                   0.250000          BK7\n",
      "   5:      0.00000                 \n",
      "                   0.249999          air\n",
      " Img:      0.00000                 \n"
     ]
    }
   ],
   "source": [
    "sm.list_sg()"
   ]
  },
  {
   "cell_type": "raw",
   "metadata": {},
   "source": [
    "Now update the model and redraw the layout. Note that the lens element has shifted upward by 0.2 millimeters. The original ray fan is is unperturbed in object space but note that it gets deflected off axis, and in fact the aberration is large enough that flare is visible, even on the lens layout."
   ]
  },
  {
   "cell_type": "code",
   "execution_count": 31,
   "metadata": {},
   "outputs": [],
   "source": [
    "opm.update_model()"
   ]
  },
  {
   "cell_type": "code",
   "execution_count": 32,
   "metadata": {},
   "outputs": [
    {
     "data": {
      "image/png": "[encoded data removed]",
      "text/plain": [
       "<InteractiveLayout size 432x288 with 1 Axes>"
      ]
     },
     "execution_count": 32,
     "metadata": {},
     "output_type": "execute_result"
    }
   ],
   "source": [
    "layout_plt.refresh()"
   ]
  },
  {
   "cell_type": "raw",
   "metadata": {},
   "source": [
    "Now refresh the aberration plot to see what the aberrations look like now. Notice the scale size is now about two and a half times larger than it was just previously. Across the center of the aperture you're pretty well corrected but there is some flare occurring at the lower edge of the aperture. "
   ]
  },
  {
   "cell_type": "code",
   "execution_count": 33,
   "metadata": {},
   "outputs": [
    {
     "data": {
      "image/png": "[encoded data removed]",
      "text/plain": [
       "<RayFanFigure size 432x288 with 2 Axes>"
      ]
     },
     "execution_count": 33,
     "metadata": {},
     "output_type": "execute_result"
    }
   ],
   "source": [
    "abr_plt.refresh()"
   ]
  },
  {
   "cell_type": "code",
   "execution_count": null,
   "metadata": {},
   "outputs": [],
   "source": []
  }
 ],
 "metadata": {
  "kernelspec": {
   "display_name": "Python 3",
   "language": "python",
   "name": "python3"
  },
  "language_info": {
   "codemirror_mode": {
    "name": "ipython",
    "version": 3
   },
   "file_extension": ".py",
   "mimetype": "text/x-python",
   "name": "python",
   "nbconvert_exporter": "python",
   "pygments_lexer": "ipython3",
   "version": "3.8.6"
  }
 },
 "nbformat": 4,
 "nbformat_minor": 4
}
