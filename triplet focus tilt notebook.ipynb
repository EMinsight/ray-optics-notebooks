{
 "cells": [
  {
   "cell_type": "code",
   "execution_count": 1,
   "metadata": {},
   "outputs": [],
   "source": [
    "%matplotlib widget"
   ]
  },
  {
   "cell_type": "code",
   "execution_count": 2,
   "metadata": {},
   "outputs": [],
   "source": [
    "# initialization\n",
    "from rayoptics.environment import *\n",
    "\n",
    "from rayoptics.gui import dashboards\n",
    "import ipywidgets as widgets"
   ]
  },
  {
   "cell_type": "code",
   "execution_count": 3,
   "metadata": {},
   "outputs": [],
   "source": [
    "isdark = False\n",
    "nbdpi = 150"
   ]
  },
  {
   "cell_type": "markdown",
   "metadata": {},
   "source": [
    "# Create a new model"
   ]
  },
  {
   "cell_type": "code",
   "execution_count": 4,
   "metadata": {},
   "outputs": [],
   "source": [
    "opm = OpticalModel()\n",
    "sm  = opm['seq_model']\n",
    "osp = opm['optical_spec']\n",
    "pm = opm['parax_model']"
   ]
  },
  {
   "cell_type": "markdown",
   "metadata": {},
   "source": [
    "### Define first order aperture and field for system"
   ]
  },
  {
   "cell_type": "code",
   "execution_count": 5,
   "metadata": {},
   "outputs": [],
   "source": [
    "osp['pupil'] = PupilSpec(osp, key=['object', 'pupil'], value=12.5)\n",
    "\n",
    "osp['fov'] = FieldSpec(osp, key=['object', 'angle'], value=20.0, flds=[0., 0.707, 1.], is_relative=True)\n",
    "\n",
    "osp['wvls'] = WvlSpec([('F', 0.5), ('d', 1.0), ('C', 0.5)], ref_wl=1)"
   ]
  },
  {
   "cell_type": "markdown",
   "metadata": {},
   "source": [
    "### Define interface and gap data for the sequential model"
   ]
  },
  {
   "cell_type": "code",
   "execution_count": 6,
   "metadata": {},
   "outputs": [],
   "source": [
    "opm.radius_mode = True\n",
    "\n",
    "sm.gaps[0].thi=1e10\n",
    "\n",
    "sm.add_surface([23.713, 4.831, 'N-LAK9', 'Schott'])\n",
    "sm.add_surface([7331.288, 5.86])\n",
    "sm.add_surface([-24.456, .975, 'N-SF5,Schott'])\n",
    "sm.set_stop()\n",
    "sm.add_surface([21.896, 4.822])\n",
    "sm.add_surface([86.759, 3.127, 'N-LAK9', 'Schott'])\n",
    "sm.add_surface([-20.4942, 41.2365-.11])"
   ]
  },
  {
   "cell_type": "markdown",
   "metadata": {},
   "source": [
    "### Update the model"
   ]
  },
  {
   "cell_type": "code",
   "execution_count": 7,
   "metadata": {},
   "outputs": [],
   "source": [
    "opm.update_model()"
   ]
  },
  {
   "cell_type": "markdown",
   "metadata": {},
   "source": [
    "## List the optical specifications"
   ]
  },
  {
   "cell_type": "code",
   "execution_count": 8,
   "metadata": {},
   "outputs": [
    {
     "name": "stdout",
     "output_type": "stream",
     "text": [
      "efl                  50\n",
      "ffl               -37.1\n",
      "pp1                12.9\n",
      "bfl               41.24\n",
      "ppk               8.763\n",
      "f/#                   4\n",
      "m                -5e-09\n",
      "red              -2e+08\n",
      "obj_dist          1e+10\n",
      "obj_ang              20\n",
      "enp_dist          11.68\n",
      "enp_radius         6.25\n",
      "na obj         6.25e-10\n",
      "n obj                 1\n",
      "img_dist          41.24\n",
      "img_ht             18.2\n",
      "exp_dist         -9.902\n",
      "exp_radius        6.406\n",
      "na img           -0.124\n",
      "n img                 1\n",
      "optical invariant        2.275\n"
     ]
    }
   ],
   "source": [
    "pm.first_order_data()"
   ]
  },
  {
   "cell_type": "markdown",
   "metadata": {},
   "source": [
    "# Draw a lens picture"
   ]
  },
  {
   "cell_type": "code",
   "execution_count": 9,
   "metadata": {},
   "outputs": [
    {
     "data": {
      "application/vnd.jupyter.widget-view+json": {
       "model_id": "1bfaaccc419d4ddc8590fbebfb66346c",
       "version_major": 2,
       "version_minor": 0
      },
      "text/plain": [
       "Canvas(toolbar=Toolbar(toolitems=[('Home', 'Reset original view', 'home', 'home'), ('Back', 'Back to previous …"
      ]
     },
     "metadata": {},
     "output_type": "display_data"
    }
   ],
   "source": [
    "layout_plt = plt.figure(FigureClass=InteractiveLayout, opt_model=opm,\n",
    "                        do_draw_beams=True,\n",
    "                        do_draw_ray_fans=False,\n",
    "                        do_paraxial_layout=False,\n",
    "                        dpi=nbdpi, is_dark=isdark).plot()"
   ]
  },
  {
   "cell_type": "markdown",
   "metadata": {},
   "source": [
    "## Plot the transverse ray aberrations"
   ]
  },
  {
   "cell_type": "code",
   "execution_count": 10,
   "metadata": {},
   "outputs": [
    {
     "data": {
      "application/vnd.jupyter.widget-view+json": {
       "model_id": "d1510d4ab19544e99ff1dce9d1782f4e",
       "version_major": 2,
       "version_minor": 0
      },
      "text/plain": [
       "Canvas(toolbar=Toolbar(toolitems=[('Home', 'Reset original view', 'home', 'home'), ('Back', 'Back to previous …"
      ]
     },
     "metadata": {},
     "output_type": "display_data"
    }
   ],
   "source": [
    "abr_plt = plt.figure(FigureClass=RayFanFigure, opt_model=opm,\n",
    "                     data_type='Ray',\n",
    "                     scale_type=Fit.All_Same,\n",
    "                     dpi=nbdpi, is_dark=isdark).plot()"
   ]
  },
  {
   "cell_type": "markdown",
   "metadata": {},
   "source": [
    "## Plot the wavefront aberration"
   ]
  },
  {
   "cell_type": "code",
   "execution_count": 11,
   "metadata": {},
   "outputs": [
    {
     "data": {
      "application/vnd.jupyter.widget-view+json": {
       "model_id": "e52d2ccbdd714622a76a8da81fa0753a",
       "version_major": 2,
       "version_minor": 0
      },
      "text/plain": [
       "Canvas(toolbar=Toolbar(toolitems=[('Home', 'Reset original view', 'home', 'home'), ('Back', 'Back to previous …"
      ]
     },
     "metadata": {},
     "output_type": "display_data"
    }
   ],
   "source": [
    "wav_plt = plt.figure(FigureClass=RayFanFigure, opt_model=opm,\n",
    "                     data_type='OPD',\n",
    "                     scale_type=Fit.All_Same,\n",
    "                     dpi=nbdpi, is_dark=isdark).plot()"
   ]
  },
  {
   "cell_type": "markdown",
   "metadata": {},
   "source": [
    "# Create Aberration Dashboard\n",
    "### select field 0, the axial field"
   ]
  },
  {
   "cell_type": "code",
   "execution_count": 12,
   "metadata": {},
   "outputs": [],
   "source": [
    "fld, wvl, foc = osp.lookup_fld_wvl_focus(0)"
   ]
  },
  {
   "cell_type": "markdown",
   "metadata": {},
   "source": [
    "### create fan and grid objects for use by plot grid"
   ]
  },
  {
   "cell_type": "code",
   "execution_count": 13,
   "metadata": {},
   "outputs": [],
   "source": [
    "ray_xfan = analyses.RayFan(opm, f=fld, wl=wvl, xyfan='x')\n",
    "ray_yfan = analyses.RayFan(opm, f=fld, wl=wvl, xyfan='y')\n",
    "ray_grid = analyses.RayGrid(opm, f=fld, wl=wvl)"
   ]
  },
  {
   "cell_type": "markdown",
   "metadata": {},
   "source": [
    "### Create lists of fans, data types, and plotting keyword arguments to drive "
   ]
  },
  {
   "cell_type": "code",
   "execution_count": 14,
   "metadata": {},
   "outputs": [],
   "source": [
    "xyabr_fan_list = [(ray_xfan, 'dx', dict(num_points=100)),\n",
    "                  (ray_yfan, 'dy', dict(num_points=100, linestyle='--'))]"
   ]
  },
  {
   "cell_type": "code",
   "execution_count": 15,
   "metadata": {},
   "outputs": [],
   "source": [
    "opd_fan_list = [(ray_yfan, 'opd', dict(linestyle='', linewidth=1, marker='D', markersize=3.5)),\n",
    "                (ray_yfan, 'opd', dict(num_points=100, linewidth=2))]"
   ]
  },
  {
   "cell_type": "markdown",
   "metadata": {},
   "source": [
    "### create focus dashboard"
   ]
  },
  {
   "cell_type": "code",
   "execution_count": 16,
   "metadata": {},
   "outputs": [],
   "source": [
    "fod = osp.parax_data.fod\n",
    "one_wave = opm.nm_to_sys_units(wvl)\n",
    "# one wave of defocus\n",
    "dfoc = one_wave/(fod.img_na**2/(2*fod.n_img))\n",
    "qwrt_dfoc = abs(0.25*dfoc)\n",
    "\n",
    "# one wave of tilt\n",
    "_, _, ref_sphere_radius = fld.ref_sphere\n",
    "shft = ref_sphere_radius*one_wave/fod.exp_radius"
   ]
  },
  {
   "cell_type": "code",
   "execution_count": 17,
   "metadata": {},
   "outputs": [],
   "source": [
    "opd_scale = 1.\n",
    "ta_scale = .05"
   ]
  },
  {
   "cell_type": "code",
   "execution_count": 18,
   "metadata": {},
   "outputs": [
    {
     "data": {
      "application/vnd.jupyter.widget-view+json": {
       "model_id": "f8a11e205b73457eacbb16c0a392ea08",
       "version_major": 2,
       "version_minor": 0
      },
      "text/plain": [
       "Canvas(toolbar=Toolbar(toolitems=[('Home', 'Reset original view', 'home', 'home'), ('Back', 'Back to previous …"
      ]
     },
     "metadata": {},
     "output_type": "display_data"
    },
    {
     "data": {
      "application/vnd.jupyter.widget-view+json": {
       "model_id": "28b9c5601db9425ab76b14a15e2804fb",
       "version_major": 2,
       "version_minor": 0
      },
      "text/plain": [
       "Canvas(toolbar=Toolbar(toolitems=[('Home', 'Reset original view', 'home', 'home'), ('Back', 'Back to previous …"
      ]
     },
     "metadata": {},
     "output_type": "display_data"
    },
    {
     "data": {
      "application/vnd.jupyter.widget-view+json": {
       "model_id": "9b641c59df2e40c08f4b6f21106c0ddf",
       "version_major": 2,
       "version_minor": 0
      },
      "text/plain": [
       "HBox(children=(FloatSlider(value=0.0, description='defocus', max=0.15277202172075116, min=-0.15277202172075116…"
      ]
     },
     "metadata": {},
     "output_type": "display_data"
    }
   ],
   "source": [
    "# create a figure with a wavefront map and transverse ray and opd ray fans\n",
    "wfr = Wavefront(ray_grid, user_scale_value=opd_scale, do_contours=False, title='Wavefront Map')\n",
    "xy_fan = RayFanPlot(xyabr_fan_list, user_scale_value=ta_scale, scale_type='user',\n",
    "                    yaxis_ticks_position='right', title='Transverse Ray Aberration')\n",
    "opd_fan = RayFanPlot(opd_fan_list, user_scale_value=opd_scale, scale_type='user',\n",
    "                     yaxis_ticks_position='right', title='Wavefront Aberration')\n",
    "\n",
    "fig = plt.figure(FigureClass=AnalysisFigure, data_objs=[ray_grid, ray_xfan, ray_yfan], subplots=[wfr, xy_fan, opd_fan],\n",
    "                 grid=(8, 13), figsize=[9, 5], tight_layout=True, is_dark=isdark)\n",
    "fig.gridspecs = [fig.gs[:8, :8], fig.gs[:4, 9:], fig.gs[4:8, 9:]]\n",
    "\n",
    "fig.refresh()\n",
    "\n",
    "# create a figure with transverse ray and opd ray fans \n",
    "tabr = RayFanPlot(xyabr_fan_list, user_scale_value=ta_scale, scale_type='user',\n",
    "                  yaxis_ticks_position='right', title='Transverse Ray Aberration')\n",
    "wabr = RayFanPlot(opd_fan_list, user_scale_value=opd_scale, scale_type='user',\n",
    "                  yaxis_ticks_position='left', title='Wavefront Aberration')\n",
    "fig2 = plt.figure(FigureClass=AnalysisFigure, data_objs=[ray_xfan, ray_yfan], subplots=[wabr, tabr],\n",
    "                 grid=(1, 2), figsize=[9, 5], is_dark=isdark)\n",
    "\n",
    "fig2.plot()\n",
    "\n",
    "# create sliders for controlling defocus and image offset\n",
    "defocus, x_shift, y_shift = dashboards.create_focus_dashboard([fig, fig2],\n",
    "                                                   [ray_grid, ray_xfan, ray_yfan],\n",
    "                                                   osp.defocus.focus_shift, abs(2*dfoc), shft, on_axis_pt=[0, 0])\n",
    "display(widgets.HBox([defocus, y_shift]))"
   ]
  },
  {
   "cell_type": "code",
   "execution_count": null,
   "metadata": {},
   "outputs": [],
   "source": []
  }
 ],
 "metadata": {
  "kernelspec": {
   "display_name": "Python 3",
   "language": "python",
   "name": "python3"
  },
  "language_info": {
   "codemirror_mode": {
    "name": "ipython",
    "version": 3
   },
   "file_extension": ".py",
   "mimetype": "text/x-python",
   "name": "python",
   "nbconvert_exporter": "python",
   "pygments_lexer": "ipython3",
   "version": "3.8.6"
  }
 },
 "nbformat": 4,
 "nbformat_minor": 4
}
