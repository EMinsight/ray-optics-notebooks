{
 "cells": [
  {
   "cell_type": "code",
   "execution_count": 1,
   "metadata": {},
   "outputs": [],
   "source": [
    "%matplotlib widget\n",
    "#%matplotlib inline"
   ]
  },
  {
   "cell_type": "code",
   "execution_count": 2,
   "metadata": {},
   "outputs": [],
   "source": [
    "# initialization\n",
    "from rayoptics.environment import *"
   ]
  },
  {
   "cell_type": "code",
   "execution_count": 3,
   "metadata": {},
   "outputs": [],
   "source": [
    "import pprint\n",
    "import json"
   ]
  },
  {
   "cell_type": "code",
   "execution_count": 4,
   "metadata": {},
   "outputs": [],
   "source": [
    "root_pth = Path(rayoptics.__file__).resolve().parent"
   ]
  },
  {
   "cell_type": "code",
   "execution_count": 5,
   "metadata": {},
   "outputs": [],
   "source": [
    "opm = OpticalModel()\n",
    "sm = opm['seq_model']\n",
    "osp = opm['optical_spec']\n",
    "pm = opm['parax_model']\n",
    "em = opm['ele_model']\n",
    "pt = opm['part_tree']"
   ]
  },
  {
   "cell_type": "markdown",
   "metadata": {},
   "source": [
    "### Define first order aperture and field for model"
   ]
  },
  {
   "cell_type": "code",
   "execution_count": 6,
   "metadata": {},
   "outputs": [],
   "source": [
    "osp.pupil = PupilSpec(osp, key=['object', 'pupil'], value=1.)\n",
    "osp.field_of_view = FieldSpec(osp, key=['object', 'angle'], flds=[0.])\n",
    "osp.spectral_region = WvlSpec([(555.0, 1.0)], ref_wl=0)"
   ]
  },
  {
   "cell_type": "markdown",
   "metadata": {},
   "source": [
    "### Enter sequential model"
   ]
  },
  {
   "cell_type": "code",
   "execution_count": 7,
   "metadata": {},
   "outputs": [],
   "source": [
    "opm.radius_mode = True\n",
    "\n",
    "sm.gaps[0].thi=1e10\n",
    "\n",
    "opm.add_dummy_plane(t=5.0)\n",
    "sm.set_stop()\n",
    "\n",
    "opm.add_mirror(t=-5.0)\n",
    "sm.ifcs[2].decenter = srf.DecenterData('bend', alpha=60.)\n",
    "\n",
    "opm.add_mirror(t=5.0)\n",
    "sm.ifcs[3].decenter = srf.DecenterData('bend', alpha=-60.)\n",
    "\n",
    "opm.add_mirror(t=-5.0)\n",
    "sm.ifcs[4].decenter = srf.DecenterData('bend', alpha=-45.)"
   ]
  },
  {
   "cell_type": "code",
   "execution_count": 8,
   "metadata": {},
   "outputs": [],
   "source": [
    "opm.update_model()"
   ]
  },
  {
   "cell_type": "code",
   "execution_count": 9,
   "metadata": {},
   "outputs": [
    {
     "name": "stdout",
     "output_type": "stream",
     "text": [
      "             r            t        medium     mode   zdr      sd\n",
      " Obj:     0.000000  1.00000e+10       air             1      0.0000\n",
      "Stop:     0.000000      5.00000       air             1     0.50000\n",
      "   2:     0.000000     -5.00000       air    reflect -1      1.0000\n",
      "   3:     0.000000      5.00000       air    reflect  1      1.0000\n",
      "   4:     0.000000     -5.00000       air    reflect -1     0.70711\n",
      " Img:    -0.000000      0.00000                      -1     0.50000\n",
      "\n",
      "             thi    medium/mode       type             y       alpha\n",
      "   0:  1.00000e+10          air\n",
      "   1:      5.00000          air\n",
      "   2:                   reflect            bend     0.0000     60.000\n",
      "   2:     -5.00000          air\n",
      "   3:                   reflect            bend     0.0000    -60.000\n",
      "   3:      5.00000          air\n",
      "   4:                   reflect            bend     0.0000    -45.000\n",
      "   4:     -5.00000          air\n",
      "   5:                     dummy\n"
     ]
    }
   ],
   "source": [
    "sm.list_model()\n",
    "print('')\n",
    "sm.list_decenters()"
   ]
  },
  {
   "cell_type": "code",
   "execution_count": 10,
   "metadata": {},
   "outputs": [
    {
     "data": {
      "text/plain": [
       "IdealImager(m=None, s=-inf, sp=None, tt=None, f=None)"
      ]
     },
     "execution_count": 10,
     "metadata": {},
     "output_type": "execute_result"
    }
   ],
   "source": [
    "opm.specsheet.imager"
   ]
  },
  {
   "cell_type": "code",
   "execution_count": 11,
   "metadata": {},
   "outputs": [
    {
     "data": {
      "application/vnd.jupyter.widget-view+json": {
       "model_id": "fee8413082304f5b870f0f47cc17c618",
       "version_major": 2,
       "version_minor": 0
      },
      "text/plain": [
       "Canvas(toolbar=Toolbar(toolitems=[('Home', 'Reset original view', 'home', 'home'), ('Back', 'Back to previous …"
      ]
     },
     "metadata": {},
     "output_type": "display_data"
    }
   ],
   "source": [
    "layout_plt = plt.figure(FigureClass=InteractiveLayout, opt_model=opm,\n",
    "                        do_draw_rays=False, do_paraxial_layout=False,\n",
    "                        refresh_gui=None).plot()"
   ]
  },
  {
   "cell_type": "code",
   "execution_count": null,
   "metadata": {},
   "outputs": [],
   "source": []
  },
  {
   "cell_type": "code",
   "execution_count": 12,
   "metadata": {},
   "outputs": [
    {
     "name": "stdout",
     "output_type": "stream",
     "text": [
      "0: Object (DummyInterface): Surface(lbl='Obj', profile=Spherical(c=0.0), interact_mode=dummy)\n",
      "1: Object space (AirGap): Gap(t=10000000000.0, medium=Air())\n",
      "2: D1 (DummyInterface): Surface(profile=Spherical(c=0.0), interact_mode=transmit)\n",
      "3: AG1 (AirGap): Gap(t=5.0, medium=Air())\n",
      "4: M1 (Mirror): Mirror: Spherical(c=0.0), t=0.0500, sd=1.0000\n",
      "5: AG2 (AirGap): Gap(t=-5.0, medium=Air())\n",
      "6: M2 (Mirror): Mirror: Spherical(c=0.0), t=0.0500, sd=1.0000\n",
      "7: AG3 (AirGap): Gap(t=5.0, medium=Air())\n",
      "8: Image space (AirGap): Gap(t=-5.0, medium=Air())\n",
      "9: M3 (Mirror): Mirror: Spherical(c=0.0), t=0.0354, sd=0.7071\n",
      "10: Image (DummyInterface): Surface(lbl='Img', profile=Spherical(c=-0.0), interact_mode=dummy)\n"
     ]
    }
   ],
   "source": [
    "em.list_elements()"
   ]
  },
  {
   "cell_type": "code",
   "execution_count": 13,
   "metadata": {},
   "outputs": [
    {
     "name": "stdout",
     "output_type": "stream",
     "text": [
      "4 0.05000000002933008 -1.0 -1.0 [-0. -0.  1.]\n",
      "6 0.050000000054330085 1.0 1.0 [-0. -0.  1.]\n",
      "9 0.035355339114128186 -1.0 -1.0 [-0. -0.  1.]\n"
     ]
    }
   ],
   "source": [
    "for i,e in enumerate(em.elements):\n",
    "    if hasattr(e, 'get_thi'):\n",
    "        print(i, e.get_thi(), e.z_dir, sm.z_dir[e.reference_idx()], e.reference_interface().normal(np.array([0., 0., 0.])))"
   ]
  },
  {
   "cell_type": "code",
   "execution_count": 14,
   "metadata": {},
   "outputs": [
    {
     "name": "stdout",
     "output_type": "stream",
     "text": [
      "0:            0            0       -1e+10\n",
      "1:            0            0            0\n",
      "2:            0            0            5\n",
      "3:            0    -4.330127          7.5\n",
      "4:            0    -4.330127         12.5\n",
      "5:            0     0.669873         12.5\n"
     ]
    }
   ],
   "source": [
    "for i,trfm in enumerate(sm.gbl_tfrms):\n",
    "    print(\"{}: {:12.7g} {:12.7g} {:12.7g}\".format(i, trfm[1][0], trfm[1][1], trfm[1][2]))"
   ]
  },
  {
   "cell_type": "code",
   "execution_count": 15,
   "metadata": {},
   "outputs": [
    {
     "name": "stdout",
     "output_type": "stream",
     "text": [
      "            X            Y            Z           L            M            N               Len\n",
      "  0:      0.00000      0.00000            0     0.000000     0.000000     1.000000        1e+10\n",
      "  1:      0.00000      0.00000            0     0.000000     0.000000     1.000000            5\n",
      "  2:      0.00000      0.00000            0     0.000000    -0.866025    -0.500000            5\n",
      "  3:      0.00000      0.00000            0     0.000000    -0.866025     0.500000            5\n",
      "  4:      0.00000     -0.00000            0     0.000000     0.707107    -0.707107            5\n",
      "  5:      0.00000      0.00000            0     0.000000     0.000000    -1.000000            0\n"
     ]
    }
   ],
   "source": [
    "pt0 = np.array([0., 0., 0.])\n",
    "dir0 = np.array([0., 0., 1.])\n",
    "wvl = sm.central_wavelength()\n",
    "oar = rt.trace(sm, pt0, dir0, wvl)\n",
    "list_ray(oar[0])"
   ]
  },
  {
   "cell_type": "code",
   "execution_count": 16,
   "metadata": {},
   "outputs": [
    {
     "name": "stdout",
     "output_type": "stream",
     "text": [
      "            X            Y            Z        z_dir     SRL          SRM          SRN\n",
      "  0:      0.00000      0.00000       -1e+10      1     0.000000     0.000000     1.000000\n",
      "  1:      0.00000      0.00000            0      1     0.000000     0.000000     1.000000\n",
      "  2:      0.00000      0.00000            5     -1     0.000000     0.866025     0.500000\n",
      "  3:      0.00000     -4.33013          7.5      1     0.000000     0.866025     0.500000\n",
      "  4:      0.00000     -4.33013         12.5     -1     0.000000    -0.707107     0.707107\n",
      "  5:      0.00000      0.66987         12.5     -1     0.000000    -1.000000     0.000000\n"
     ]
    }
   ],
   "source": [
    "tfrms = sm.gbl_tfrms\n",
    "print(\"            X            Y            Z        z_dir     SRL\"\n",
    "      \"          SRM          SRN\")\n",
    "for i, r in enumerate(oar[mc.ray][0:]):\n",
    "    rot, trns = tfrms[i]\n",
    "    p = rot.dot(r[mc.p]) + trns\n",
    "    snr = rot.dot(r[mc.nrml])\n",
    "    try:\n",
    "        z_dir = sm.z_dir[i]\n",
    "    except:\n",
    "        z_dir = sm.z_dir[i-1]\n",
    "    print(\"{:3d}: {:12.5f} {:12.5f} {:12.5g}   {:4.0f} {:12.6f} {:12.6f} {:12.6f}\"\n",
    "          .format(i, p[0], p[1], p[2], z_dir, snr[0], snr[1], snr[2]))"
   ]
  },
  {
   "cell_type": "code",
   "execution_count": 17,
   "metadata": {},
   "outputs": [
    {
     "name": "stdout",
     "output_type": "stream",
     "text": [
      "            X            Y            Z           L            M            N               Len\n",
      "  0:      0.00000      0.00000       -1e+10     0.000000     0.000000     1.000000        1e+10\n",
      "  1:      0.00000      0.00000            0     0.000000     0.000000     1.000000            5\n",
      "  2:      0.00000      0.00000            5     0.000000    -0.866025     0.500000            5\n",
      "  3:      0.00000     -4.33013          7.5     0.000000     0.000000     1.000000            5\n",
      "  4:      0.00000     -4.33013         12.5     0.000000     1.000000     0.000000            5\n",
      "  5:      0.00000      0.66987         12.5     0.000000     1.000000     0.000000            0\n"
     ]
    }
   ],
   "source": [
    "list_ray(oar,tfrms=sm.gbl_tfrms)"
   ]
  },
  {
   "cell_type": "code",
   "execution_count": 18,
   "metadata": {},
   "outputs": [
    {
     "data": {
      "text/plain": [
       "[1.0, 1.0, -1.0, 1.0, -1.0]"
      ]
     },
     "execution_count": 18,
     "metadata": {},
     "output_type": "execute_result"
    }
   ],
   "source": [
    "sm.z_dir"
   ]
  },
  {
   "cell_type": "code",
   "execution_count": 19,
   "metadata": {},
   "outputs": [
    {
     "name": "stdout",
     "output_type": "stream",
     "text": [
      "             thi    medium/mode       type             y       alpha\n",
      "   0:  1.00000e+10          air\n",
      "   1:      5.00000          air\n",
      "   2:                   reflect            bend     0.0000     60.000\n",
      "   2:     -5.00000          air\n",
      "   3:                   reflect            bend     0.0000    -60.000\n",
      "   3:      5.00000          air\n",
      "   4:                   reflect            bend     0.0000    -45.000\n",
      "   4:     -5.00000          air\n",
      "   5:                     dummy\n"
     ]
    }
   ],
   "source": [
    "sm.list_decenters()"
   ]
  },
  {
   "cell_type": "code",
   "execution_count": 20,
   "metadata": {},
   "outputs": [],
   "source": [
    "opm.save_model('Tilted mirrors')"
   ]
  },
  {
   "cell_type": "code",
   "execution_count": 26,
   "metadata": {},
   "outputs": [],
   "source": [
    "opm = open_model(root_pth/\"codev/tests/folded_lenses.seq\")\n",
    "sm = opm['seq_model']\n",
    "osp = opm['optical_spec']\n",
    "pm = opm['parax_model']\n",
    "em = opm['ele_model']\n",
    "pt = opm['part_tree']\n",
    "ss = opm['specsheet']"
   ]
  },
  {
   "cell_type": "code",
   "execution_count": 27,
   "metadata": {},
   "outputs": [
    {
     "name": "stdout",
     "output_type": "stream",
     "text": [
      "             c            t        medium     mode   zdr      sd\n",
      " Obj:     0.000000  1.00000e+11       air             1      0.0000\n",
      "   1:     0.000000      5.00000       air             1     0.50000\n",
      "   2:     0.000000     -2.25000       air    reflect -1      1.0000\n",
      "   3:    -0.670000    -0.250000     N-BK7            -1     0.50000\n",
      "   4:     0.000000   -0.0500000       air            -1     0.48040\n",
      "   5:     0.000000    -0.250000     N-BK7            -1     0.47123\n",
      "   6:    -0.770950     -2.25000       air            -1     0.43242\n",
      "   7:     0.000000      2.25000       air    reflect  1     0.86202\n",
      "   8:    -0.670000     0.250000     N-BK7             1     0.42812\n",
      "   9:     0.000000    0.0500000       air             1     0.45957\n",
      "  10:     0.000000     0.250000     N-BK7             1     0.46726\n",
      "  11:    -0.592250      2.25000       air             1     0.48523\n",
      "  12:     0.000000     -5.00000       air    reflect -1     0.68285\n",
      " Img:     0.000000      0.00000                      -1     0.47573\n",
      "\n",
      "             thi    medium/mode       type             y       alpha\n",
      "   0:  1.00000e+11          air\n",
      "   1:      5.00000          air\n",
      "   2:                   reflect            bend     0.0000     60.000\n",
      "   2:     -2.25000          air\n",
      "   3:    -0.250000        N-BK7\n",
      "   4:   -0.0500000          air\n",
      "   5:    -0.250000        N-BK7\n",
      "   6:     -2.25000          air\n",
      "   7:                   reflect            bend     0.0000    -60.000\n",
      "   7:      2.25000          air\n",
      "   8:     0.250000        N-BK7\n",
      "   9:    0.0500000          air\n",
      "  10:     0.250000        N-BK7\n",
      "  11:      2.25000          air\n",
      "  12:                   reflect            bend     0.0000    -45.000\n",
      "  12:     -5.00000          air\n",
      "  13:                     dummy\n"
     ]
    }
   ],
   "source": [
    "sm.list_model()\n",
    "print('')\n",
    "sm.list_decenters()"
   ]
  },
  {
   "cell_type": "code",
   "execution_count": 28,
   "metadata": {},
   "outputs": [
    {
     "data": {
      "application/vnd.jupyter.widget-view+json": {
       "model_id": "b2c0dadbf144436ca178646d9a81c503",
       "version_major": 2,
       "version_minor": 0
      },
      "text/plain": [
       "Canvas(toolbar=Toolbar(toolitems=[('Home', 'Reset original view', 'home', 'home'), ('Back', 'Back to previous …"
      ]
     },
     "metadata": {},
     "output_type": "display_data"
    }
   ],
   "source": [
    "layout_plt = plt.figure(FigureClass=InteractiveLayout, opt_model=opm,\n",
    "                        do_draw_rays=True, do_paraxial_layout=False,\n",
    "                        refresh_gui=None).plot()\n",
    "#layout_plt.update_data()\n",
    "#layout_plt.plot()"
   ]
  },
  {
   "cell_type": "code",
   "execution_count": 29,
   "metadata": {},
   "outputs": [
    {
     "name": "stdout",
     "output_type": "stream",
     "text": [
      "efl                2564\n",
      "ffl               -2600\n",
      "pp1              -35.67\n",
      "bfl                2615\n",
      "ppk              -51.08\n",
      "f/#                2564\n",
      "m            -2.564e-08\n",
      "red            -3.9e+07\n",
      "obj_dist          1e+11\n",
      "obj_ang               1\n",
      "enp_dist             -0\n",
      "enp_radius          0.5\n",
      "na obj            5e-12\n",
      "n obj                 1\n",
      "img_dist          -2513\n",
      "img_ht            44.76\n",
      "exp_dist          -2492\n",
      "exp_radius       0.4931\n",
      "na img         0.000195\n",
      "n img                -1\n",
      "optical invariant     0.008728\n"
     ]
    }
   ],
   "source": [
    "pm.first_order_data()"
   ]
  },
  {
   "cell_type": "code",
   "execution_count": 30,
   "metadata": {},
   "outputs": [
    {
     "name": "stdout",
     "output_type": "stream",
     "text": [
      "{\"s\": -Infinity}\n"
     ]
    }
   ],
   "source": [
    "print(json.dumps(ss.imager_inputs))"
   ]
  },
  {
   "cell_type": "code",
   "execution_count": 31,
   "metadata": {},
   "outputs": [
    {
     "name": "stdout",
     "output_type": "stream",
     "text": [
      "{'image': {'height': 0.0}, 'object': {'angle': 0.0}}\n"
     ]
    }
   ],
   "source": [
    "pprint.pprint(ss.etendue_values['field'], indent=4)"
   ]
  },
  {
   "cell_type": "code",
   "execution_count": 32,
   "metadata": {},
   "outputs": [
    {
     "data": {
      "text/plain": [
       "'infinite'"
      ]
     },
     "execution_count": 32,
     "metadata": {},
     "output_type": "execute_result"
    }
   ],
   "source": [
    "ss.conjugate_type"
   ]
  },
  {
   "cell_type": "code",
   "execution_count": 33,
   "metadata": {},
   "outputs": [
    {
     "data": {
      "text/plain": [
       "(None, 1)"
      ]
     },
     "execution_count": 33,
     "metadata": {},
     "output_type": "execute_result"
    }
   ],
   "source": [
    "ss.partition_defined()"
   ]
  },
  {
   "cell_type": "code",
   "execution_count": 34,
   "metadata": {},
   "outputs": [
    {
     "name": "stdout",
     "output_type": "stream",
     "text": [
      "0 1.0 0.0\n",
      "1 1.0 0.0\n",
      "2 -1.0 0.0\n",
      "3 -1.0 -0.67\n",
      "4 -1.0 0.0\n",
      "5 -1.0 0.0\n",
      "6 -1.0 -0.77095\n",
      "7 1.0 0.0\n",
      "8 1.0 -0.67\n",
      "9 1.0 0.0\n",
      "10 1.0 0.0\n",
      "11 1.0 -0.59225\n",
      "12 -1.0 0.0\n",
      "13 -1.0 0.0\n"
     ]
    }
   ],
   "source": [
    "for i,s in enumerate(sm.ifcs):\n",
    "    try:\n",
    "        z_dir = sm.z_dir[i]\n",
    "    except:\n",
    "        z_dir = sm.z_dir[i-1]\n",
    "    print(i, z_dir, s.profile_cv)"
   ]
  },
  {
   "cell_type": "code",
   "execution_count": 35,
   "metadata": {},
   "outputs": [
    {
     "name": "stdout",
     "output_type": "stream",
     "text": [
      "0: Object (DummyInterface): Surface(lbl='Obj', profile=Spherical(c=0.0), interact_mode=dummy)\n",
      "1: Object space (AirGap): Gap(t=100000000000.0, medium=Air())\n",
      "2: D1 (DummyInterface): Surface(profile=Spherical(c=0.0), interact_mode=transmit)\n",
      "3: AG1 (AirGap): Gap(t=5.0, medium=Air())\n",
      "4: M1 (Mirror): Mirror: Spherical(c=0.0), t=0.0500, sd=1.0000\n",
      "5: AG2 (AirGap): Gap(t=-2.25, medium=Air())\n",
      "6: E1 (Element): Element: Spherical(c=-0.67), Spherical(c=0.0), t=-0.2500, sd=0.5000, glass: N-BK7\n",
      "7: AG3 (AirGap): Gap(t=-0.05, medium=Air())\n",
      "8: E2 (Element): Element: Spherical(c=0.0), Spherical(c=-0.77095), t=-0.2500, sd=0.4712, glass: N-BK7\n",
      "9: AG4 (AirGap): Gap(t=-2.25, medium=Air())\n",
      "10: M2 (Mirror): Mirror: Spherical(c=0.0), t=0.0431, sd=0.8620\n",
      "11: AG5 (AirGap): Gap(t=2.25, medium=Air())\n",
      "12: E3 (Element): Element: Spherical(c=-0.67), Spherical(c=0.0), t=0.2500, sd=0.4596, glass: N-BK7\n",
      "13: AG6 (AirGap): Gap(t=0.05, medium=Air())\n",
      "14: E4 (Element): Element: Spherical(c=0.0), Spherical(c=-0.59225), t=0.2500, sd=0.4852, glass: N-BK7\n",
      "15: AG7 (AirGap): Gap(t=2.25, medium=Air())\n",
      "16: M3 (Mirror): Mirror: Spherical(c=0.0), t=0.0341, sd=0.6829\n",
      "17: Image space (AirGap): Gap(t=-5.0, medium=Air())\n",
      "18: Image (DummyInterface): Surface(lbl='Img', profile=Spherical(c=0.0), interact_mode=dummy)\n"
     ]
    }
   ],
   "source": [
    "em.list_elements()"
   ]
  },
  {
   "cell_type": "code",
   "execution_count": 36,
   "metadata": {},
   "outputs": [
    {
     "name": "stdout",
     "output_type": "stream",
     "text": [
      "4 0.05000000000293301 1.0 1.0\n",
      "10 0.043101242814776786 -1.0 1.0\n",
      "16 0.03414251962975203 1.0 1.0\n"
     ]
    }
   ],
   "source": [
    "for i,e in enumerate(em.elements):\n",
    "    if hasattr(e, 'get_thi'):\n",
    "        thi = e.get_thi()\n",
    "        z_dir = sm.z_dir[e.reference_idx()]\n",
    "        normal_00 = e.reference_interface().normal(np.array([0., 0., 0.]))\n",
    "        print(i, thi, -z_dir, normal_00[2])"
   ]
  },
  {
   "cell_type": "code",
   "execution_count": 37,
   "metadata": {},
   "outputs": [
    {
     "name": "stdout",
     "output_type": "stream",
     "text": [
      "             c            t        medium     mode   zdr      sd\n",
      " Obj:     0.000000  1.00000e+11       air             1      0.0000\n",
      "   1:     0.000000      5.00000       air             1     0.50000\n",
      "   2:     0.000000     -2.25000       air    reflect -1      1.0000\n",
      "   3:    -0.670000    -0.250000     N-BK7            -1     0.50000\n",
      "   4:     0.000000   -0.0500000       air            -1     0.48040\n",
      "   5:     0.000000    -0.250000     N-BK7            -1     0.47123\n",
      "   6:    -0.770950     -2.25000       air            -1     0.43242\n",
      "   7:     0.000000      2.25000       air    reflect  1     0.86202\n",
      "   8:    -0.670000     0.250000     N-BK7             1     0.42812\n",
      "   9:     0.000000    0.0500000       air             1     0.45957\n",
      "  10:     0.000000     0.250000     N-BK7             1     0.46726\n",
      "  11:    -0.592250      2.25000       air             1     0.48523\n",
      "  12:     0.000000     -5.00000       air    reflect -1     0.68285\n",
      " Img:     0.000000      0.00000                      -1     0.47573\n"
     ]
    }
   ],
   "source": [
    "sm.list_model()"
   ]
  },
  {
   "cell_type": "code",
   "execution_count": 38,
   "metadata": {},
   "outputs": [
    {
     "data": {
      "text/plain": [
       "'Surface(profile=Spherical(c=0.0), interact_mode=transmit)'"
      ]
     },
     "execution_count": 38,
     "metadata": {},
     "output_type": "execute_result"
    }
   ],
   "source": [
    "m1 = em.elements[2]\n",
    "str(m1)"
   ]
  },
  {
   "cell_type": "code",
   "execution_count": 39,
   "metadata": {},
   "outputs": [
    {
     "data": {
      "text/plain": [
       "(array([[1., 0., 0.],\n",
       "        [0., 1., 0.],\n",
       "        [0., 0., 1.]]),\n",
       " array([0., 0., 0.]))"
      ]
     },
     "execution_count": 39,
     "metadata": {},
     "output_type": "execute_result"
    }
   ],
   "source": [
    "m1.tfrm"
   ]
  },
  {
   "cell_type": "code",
   "execution_count": 40,
   "metadata": {},
   "outputs": [],
   "source": [
    "m2 = em.elements[3]"
   ]
  },
  {
   "cell_type": "code",
   "execution_count": 41,
   "metadata": {},
   "outputs": [
    {
     "data": {
      "text/plain": [
       "'Gap(t=5.0, medium=Air())'"
      ]
     },
     "execution_count": 41,
     "metadata": {},
     "output_type": "execute_result"
    }
   ],
   "source": [
    "str(m2)"
   ]
  },
  {
   "cell_type": "code",
   "execution_count": 42,
   "metadata": {},
   "outputs": [
    {
     "data": {
      "text/plain": [
       "(array([[1., 0., 0.],\n",
       "        [0., 1., 0.],\n",
       "        [0., 0., 1.]]),\n",
       " array([0., 0., 0.]))"
      ]
     },
     "execution_count": 42,
     "metadata": {},
     "output_type": "execute_result"
    }
   ],
   "source": [
    "m2.tfrm"
   ]
  },
  {
   "cell_type": "code",
   "execution_count": 43,
   "metadata": {},
   "outputs": [
    {
     "name": "stdout",
     "output_type": "stream",
     "text": [
      "0: Object, idx=0\n",
      "1: D1, idx=1\n",
      "2: M1, idx=2\n",
      "3: E1, idx=3\n",
      "4: E2, idx=5\n",
      "5: M2, idx=7\n",
      "6: E3, idx=8\n",
      "7: E4, idx=10\n",
      "8: M3, idx=12\n",
      "9: Image, idx=13\n"
     ]
    }
   ],
   "source": [
    "nodes = pt.nodes_with_tag(tag='#element#dummyifc')\n",
    "elements = [n.id for n in nodes]\n",
    "for i,e in enumerate(elements):\n",
    "    ri = sm.ifcs[e.reference_idx()]\n",
    "    #if ri is None:\n",
    "    print(f'{i}: {e.label}, idx={e.reference_idx()}')\n",
    "        #continue\n",
    "    #ri = e.reference_interface()\n",
    "    #rifc_indx = sm.ifcs.index(ri)\n",
    "    #print(i, e.label, ri.interact_mode, e.tfrm[0].T[2], e.reference_interface().profile.normal(np.array([0., 0., 0.])))"
   ]
  },
  {
   "cell_type": "code",
   "execution_count": 45,
   "metadata": {},
   "outputs": [
    {
     "name": "stdout",
     "output_type": "stream",
     "text": [
      "0 Object dummy 1.0\n",
      "1 D1 transmit 1.0\n",
      "2 M1 reflect -1.0\n",
      "3 E1 transmit -1.0\n",
      "4 E2 transmit -1.0\n",
      "5 M2 reflect -1.0\n",
      "6 E3 transmit -1.0\n",
      "7 E4 transmit 1.0\n",
      "8 M3 reflect 1.0\n",
      "9 Image dummy 1.0\n"
     ]
    }
   ],
   "source": [
    "for i,e in enumerate(elements):\n",
    "    try:\n",
    "        z_dir = sm.z_dir[i]\n",
    "    except:\n",
    "        z_dir = sm.z_dir[i-1]\n",
    "    ri = e.reference_interface()\n",
    "    rifc_indx = e.reference_idx()\n",
    "    print(i, e.label, ri.interact_mode, z_dir)"
   ]
  },
  {
   "cell_type": "code",
   "execution_count": 46,
   "metadata": {},
   "outputs": [
    {
     "name": "stdout",
     "output_type": "stream",
     "text": [
      "             c            t        medium     mode   zdr      sd\n",
      " Obj:     0.000000  1.00000e+11       air             1      0.0000\n",
      "   1:     0.000000      5.00000       air             1     0.50000\n",
      "   2:     0.000000     -2.25000       air    reflect -1      1.0000\n",
      "   3:    -0.670000    -0.250000     N-BK7            -1     0.50000\n",
      "   4:     0.000000   -0.0500000       air            -1     0.48040\n",
      "   5:     0.000000    -0.250000     N-BK7            -1     0.47123\n",
      "   6:    -0.770950     -2.25000       air            -1     0.43242\n",
      "   7:     0.000000      2.25000       air    reflect  1     0.86202\n",
      "   8:    -0.670000     0.250000     N-BK7             1     0.42812\n",
      "   9:     0.000000    0.0500000       air             1     0.45957\n",
      "  10:     0.000000     0.250000     N-BK7             1     0.46726\n",
      "  11:    -0.592250      2.25000       air             1     0.48523\n",
      "  12:     0.000000     -5.00000       air    reflect -1     0.68285\n",
      " Img:     0.000000      0.00000                      -1     0.47573\n"
     ]
    }
   ],
   "source": [
    "sm.list_model()"
   ]
  },
  {
   "cell_type": "code",
   "execution_count": 47,
   "metadata": {},
   "outputs": [
    {
     "data": {
      "text/plain": [
       "array([0., 0., 1.])"
      ]
     },
     "execution_count": 47,
     "metadata": {},
     "output_type": "execute_result"
    }
   ],
   "source": [
    "m2.tfrm[0][2]"
   ]
  },
  {
   "cell_type": "code",
   "execution_count": 48,
   "metadata": {},
   "outputs": [
    {
     "data": {
      "text/plain": [
       "array([0., 0., 1.])"
      ]
     },
     "execution_count": 48,
     "metadata": {},
     "output_type": "execute_result"
    }
   ],
   "source": [
    "d = m2.tfrm[0].dot(np.array([0., 0., 1.])); d"
   ]
  },
  {
   "cell_type": "code",
   "execution_count": 49,
   "metadata": {},
   "outputs": [
    {
     "data": {
      "text/plain": [
       "array([0., 0., 1.])"
      ]
     },
     "execution_count": 49,
     "metadata": {},
     "output_type": "execute_result"
    }
   ],
   "source": [
    "m2.tfrm[0].T[2]"
   ]
  },
  {
   "cell_type": "code",
   "execution_count": 50,
   "metadata": {},
   "outputs": [
    {
     "data": {
      "text/plain": [
       "array([0., 0., 1.])"
      ]
     },
     "execution_count": 50,
     "metadata": {},
     "output_type": "execute_result"
    }
   ],
   "source": [
    "m2.tfrm[0].transpose()[2]"
   ]
  },
  {
   "cell_type": "code",
   "execution_count": 51,
   "metadata": {},
   "outputs": [
    {
     "data": {
      "text/plain": [
       "1"
      ]
     },
     "execution_count": 51,
     "metadata": {},
     "output_type": "execute_result"
    }
   ],
   "source": [
    "m2_indx = m2.reference_idx(); m2_indx"
   ]
  },
  {
   "cell_type": "code",
   "execution_count": 52,
   "metadata": {},
   "outputs": [
    {
     "data": {
      "text/plain": [
       "array([[1., 0., 0.],\n",
       "       [0., 1., 0.],\n",
       "       [0., 0., 1.]])"
      ]
     },
     "execution_count": 52,
     "metadata": {},
     "output_type": "execute_result"
    }
   ],
   "source": [
    "sm.gbl_tfrms[m2_indx][0].T"
   ]
  },
  {
   "cell_type": "code",
   "execution_count": 53,
   "metadata": {},
   "outputs": [
    {
     "data": {
      "text/plain": [
       "array([-0., -0.,  1.])"
      ]
     },
     "execution_count": 53,
     "metadata": {},
     "output_type": "execute_result"
    }
   ],
   "source": [
    "sm.ifcs[m2.reference_idx()].profile.normal(np.array([0., 0., 0.]))"
   ]
  },
  {
   "cell_type": "code",
   "execution_count": 54,
   "metadata": {},
   "outputs": [
    {
     "data": {
      "text/plain": [
       "[1.0, 1.0, -1.0, -1.0, -1.0, -1.0, -1.0, 1.0, 1.0, 1.0, 1.0, 1.0, -1.0]"
      ]
     },
     "execution_count": 54,
     "metadata": {},
     "output_type": "execute_result"
    }
   ],
   "source": [
    "sm.z_dir"
   ]
  },
  {
   "cell_type": "code",
   "execution_count": 55,
   "metadata": {},
   "outputs": [
    {
     "name": "stdout",
     "output_type": "stream",
     "text": [
      "             c            t        medium     mode   zdr      sd\n",
      " Obj:     0.000000  1.00000e+11       air             1      0.0000\n",
      "   1:     0.000000      5.00000       air             1     0.50000\n",
      "   2:     0.000000     -2.25000       air    reflect -1      1.0000\n",
      "   3:    -0.670000    -0.250000     N-BK7            -1     0.50000\n",
      "   4:     0.000000   -0.0500000       air            -1     0.48040\n",
      "   5:     0.000000    -0.250000     N-BK7            -1     0.47123\n",
      "   6:    -0.770950     -2.25000       air            -1     0.43242\n",
      "   7:     0.000000      2.25000       air    reflect  1     0.86202\n",
      "   8:    -0.670000     0.250000     N-BK7             1     0.42812\n",
      "   9:     0.000000    0.0500000       air             1     0.45957\n",
      "  10:     0.000000     0.250000     N-BK7             1     0.46726\n",
      "  11:    -0.592250      2.25000       air             1     0.48523\n",
      "  12:     0.000000     -5.00000       air    reflect -1     0.68285\n",
      " Img:     0.000000      0.00000                      -1     0.47573\n"
     ]
    }
   ],
   "source": [
    "sm.list_model()"
   ]
  },
  {
   "cell_type": "code",
   "execution_count": 56,
   "metadata": {},
   "outputs": [
    {
     "name": "stdout",
     "output_type": "stream",
     "text": [
      "       ax_ray_ht    ax_ray_slp\n",
      " 0:            0         5e-12\n",
      " 1:          0.5         5e-12\n",
      " 2:          0.5         5e-12\n",
      " 3:          0.5     -0.173622\n",
      " 4:     0.471411     -0.173622\n",
      " 5:      0.46273     -0.173622\n",
      " 6:     0.434142  -0.000154742\n",
      " 7:     0.433793  -0.000154742\n",
      " 8:     0.433445      0.150356\n",
      " 9:     0.458203      0.150356\n",
      "10:     0.465721      0.150356\n",
      "11:     0.490479  -0.000194982\n",
      "12:      0.49004  -0.000194982\n",
      "13:     0.489065  -0.000194982\n",
      "\n",
      "       pr_ray_ht    pr_ray_slp\n",
      " 0: -1.74551e+09     0.0174551\n",
      " 1:            0     0.0174551\n",
      " 2:    0.0872753     0.0174551\n",
      " 3:     0.126549    -0.0264883\n",
      " 4:     0.122188    -0.0264883\n",
      " 5:     0.120863    -0.0264883\n",
      " 6:     0.116502     0.0200614\n",
      " 7:      0.16164     0.0200614\n",
      " 8:     0.206778     0.0918638\n",
      " 9:     0.221904     0.0918638\n",
      "10:     0.226498     0.0918638\n",
      "11:     0.241624     0.0176979\n",
      "12:     0.281444     0.0176979\n",
      "13:     0.369933     0.0176979\n",
      "\n",
      "            power           tau        index    type\n",
      " 0:             0         1e+11      1.00000    dummy\n",
      " 1:             0             5      1.00000    transmit\n",
      " 2:            -0          2.25     -1.00000    reflect\n",
      " 3:     0.3472436       0.16466     -1.51827    transmit\n",
      " 4:             0          0.05     -1.00000    transmit\n",
      " 5:            -0       0.16466     -1.51827    transmit\n",
      " 6:    -0.3995634          2.25     -1.00000    transmit\n",
      " 7:             0          2.25      1.00000    reflect\n",
      " 8:    -0.3472436       0.16466      1.51827    transmit\n",
      " 9:            -0          0.05      1.00000    transmit\n",
      "10:             0       0.16466      1.51827    transmit\n",
      "11:     0.3069478          2.25      1.00000    transmit\n",
      "12:            -0             5     -1.00000    reflect\n",
      "13:             0             0     -1.00000    dummy\n"
     ]
    }
   ],
   "source": [
    "pm.list_lens()"
   ]
  },
  {
   "cell_type": "code",
   "execution_count": 57,
   "metadata": {},
   "outputs": [
    {
     "name": "stdout",
     "output_type": "stream",
     "text": [
      "            X            Y            Z           L            M            N               Len\n",
      "  0:      0.00000      0.00000            0     0.000000     0.000000     1.000000        1e+11\n",
      "  1:      0.00000      0.50000            0     0.000000     0.000000     1.000000        4.134\n",
      "  2:      0.00000      1.00000            0     0.000000    -0.866025    -0.500000       3.2023\n",
      "  3:      0.00000      0.50000    -0.086242     0.000000    -0.118848    -0.992913      0.16493\n",
      "  4:      0.00000      0.48040            0     0.000000    -0.180443    -0.983585     0.050834\n",
      "  5:      0.00000      0.47123            0     0.000000    -0.118848    -0.992913      0.32652\n",
      "  6:      0.00000      0.43242    -0.074201     0.000000    -0.000985    -1.000000       1.4293\n",
      "  7:      0.00000      0.86202            0     0.000000    -0.866518     0.499147       2.9338\n",
      "  8:      0.00000      0.42812    -0.062719     0.000000     0.100059     0.994981       0.3143\n",
      "  9:      0.00000      0.45957            0     0.000000     0.151917     0.988393     0.050587\n",
      " 10:      0.00000      0.46726            0     0.000000     0.100059     0.994981      0.17968\n",
      " 11:      0.00000      0.48523    -0.071225     0.000000    -0.001298     0.999999       2.8028\n",
      " 12:      0.00000      0.68108            0     0.000000     0.706189    -0.708024       4.5184\n",
      " 13:      0.00000      0.47573            0     0.000000    -0.001298    -0.999999            0\n"
     ]
    }
   ],
   "source": [
    "pupil = [0., 1.]\n",
    "fi = 0\n",
    "wl = osp.spectral_region.reference_wvl\n",
    "fld, wvl, foc = osp.lookup_fld_wvl_focus(fi, wl)\n",
    "ray, ray_op, wvl = trace_base(opm, pupil, fld, wvl)\n",
    "list_ray(ray)"
   ]
  },
  {
   "cell_type": "code",
   "execution_count": 58,
   "metadata": {},
   "outputs": [],
   "source": [
    "def ray_lister(ray):\n",
    "    colHeader = \"            X            Y            Z           L\" \\\n",
    "                \"          M          N          SRL        SRM        SRN          Len\"\n",
    "    print(colHeader)\n",
    "\n",
    "    colFormats = \"{:3d}: {:12.5f} {:12.5f} {:12.5g} {:10.4f} {:10.4f} \" \\\n",
    "                 \"{:10.4f} {:10.4f} {:10.4f} {:10.4f} {:12.5g}\"\n",
    "\n",
    "    for i, r in enumerate(ray):\n",
    "        print(colFormats.format(i,\n",
    "                                r[mc.p][0], r[mc.p][1], r[mc.p][2],\n",
    "                                r[mc.d][0], r[mc.d][1], r[mc.d][2],\n",
    "                                r[mc.nrml][0], r[mc.nrml][1], r[mc.nrml][2],\n",
    "                                r[mc.dst]))"
   ]
  },
  {
   "cell_type": "code",
   "execution_count": 59,
   "metadata": {},
   "outputs": [
    {
     "name": "stdout",
     "output_type": "stream",
     "text": [
      "            X            Y            Z           L          M          N          SRL        SRM        SRN          Len\n",
      "  0:      0.00000      0.00000            0     0.0000     0.0000     1.0000    -0.0000    -0.0000     1.0000        1e+11\n",
      "  1:      0.00000      0.50000            0     0.0000     0.0000     1.0000    -0.0000    -0.0000     1.0000        4.134\n",
      "  2:      0.00000      1.00000            0     0.0000    -0.8660    -0.5000    -0.0000    -0.0000     1.0000       3.2023\n",
      "  3:      0.00000      0.50000    -0.086242     0.0000    -0.1188    -0.9929     0.0000     0.3350     0.9422      0.16493\n",
      "  4:      0.00000      0.48040            0     0.0000    -0.1804    -0.9836    -0.0000    -0.0000     1.0000     0.050834\n",
      "  5:      0.00000      0.47123            0     0.0000    -0.1188    -0.9929    -0.0000    -0.0000     1.0000      0.32652\n",
      "  6:      0.00000      0.43242    -0.074201     0.0000    -0.0010    -1.0000     0.0000     0.3334     0.9428       1.4293\n",
      "  7:      0.00000      0.86202            0     0.0000    -0.8665     0.4991    -0.0000    -0.0000     1.0000       2.9338\n",
      "  8:      0.00000      0.42812    -0.062719     0.0000     0.1001     0.9950     0.0000     0.2868     0.9580       0.3143\n",
      "  9:      0.00000      0.45957            0     0.0000     0.1519     0.9884    -0.0000    -0.0000     1.0000     0.050587\n",
      " 10:      0.00000      0.46726            0     0.0000     0.1001     0.9950    -0.0000    -0.0000     1.0000      0.17968\n",
      " 11:      0.00000      0.48523    -0.071225     0.0000    -0.0013     1.0000     0.0000     0.2874     0.9578       2.8028\n",
      " 12:      0.00000      0.68108            0     0.0000     0.7062    -0.7080    -0.0000    -0.0000     1.0000       4.5184\n",
      " 13:      0.00000      0.47573            0     0.0000    -0.0013    -1.0000    -0.0000    -0.0000     1.0000            0\n"
     ]
    }
   ],
   "source": [
    "ray_lister(ray)"
   ]
  },
  {
   "cell_type": "code",
   "execution_count": 60,
   "metadata": {},
   "outputs": [
    {
     "name": "stdout",
     "output_type": "stream",
     "text": [
      "             c            t        medium     mode   zdr      sd\n",
      " Obj:     0.000000  1.00000e+11       air             1      0.0000\n",
      "   1:     0.000000      5.00000       air             1     0.50000\n",
      "   2:     0.000000     -2.25000       air    reflect -1      1.0000\n",
      "   3:    -0.670000    -0.250000     N-BK7            -1     0.50000\n",
      "   4:     0.000000   -0.0500000       air            -1     0.48040\n",
      "   5:     0.000000    -0.250000     N-BK7            -1     0.47123\n",
      "   6:    -0.770950     -2.25000       air            -1     0.43242\n",
      "   7:     0.000000      2.25000       air    reflect  1     0.86202\n",
      "   8:    -0.670000     0.250000     N-BK7             1     0.42812\n",
      "   9:     0.000000    0.0500000       air             1     0.45957\n",
      "  10:     0.000000     0.250000     N-BK7             1     0.46726\n",
      "  11:    -0.592250      2.25000       air             1     0.48523\n",
      "  12:     0.000000     -5.00000       air    reflect -1     0.68285\n",
      " Img:     0.000000      0.00000                      -1     0.47573\n"
     ]
    }
   ],
   "source": [
    "sm.list_model()"
   ]
  },
  {
   "cell_type": "code",
   "execution_count": null,
   "metadata": {},
   "outputs": [],
   "source": []
  },
  {
   "cell_type": "code",
   "execution_count": null,
   "metadata": {},
   "outputs": [],
   "source": []
  }
 ],
 "metadata": {
  "kernelspec": {
   "display_name": "Python 3",
   "language": "python",
   "name": "python3"
  },
  "language_info": {
   "codemirror_mode": {
    "name": "ipython",
    "version": 3
   },
   "file_extension": ".py",
   "mimetype": "text/x-python",
   "name": "python",
   "nbconvert_exporter": "python",
   "pygments_lexer": "ipython3",
   "version": "3.8.6"
  }
 },
 "nbformat": 4,
 "nbformat_minor": 4
}
