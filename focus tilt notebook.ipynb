{
 "cells": [
  {
   "cell_type": "code",
   "execution_count": 1,
   "metadata": {},
   "outputs": [],
   "source": [
    "#%matplotlib inline\n",
    "%matplotlib widget"
   ]
  },
  {
   "cell_type": "code",
   "execution_count": 2,
   "metadata": {},
   "outputs": [],
   "source": [
    "isdark = True"
   ]
  },
  {
   "cell_type": "code",
   "execution_count": 3,
   "metadata": {},
   "outputs": [],
   "source": [
    "# initialization\n",
    "from rayoptics.environment import *\n",
    "\n",
    "from rayoptics.optical import analyses\n",
    "from rayoptics.mpl.analysisfigure import Wavefront, RayFanPlot, AnalysisFigure, DiffractionPSF\n",
    "from rayoptics.gui import dashboards\n",
    "\n",
    "from matplotlib import gridspec\n",
    "from matplotlib.colors import LogNorm, PowerNorm, Normalize\n",
    "from mpl_toolkits.mplot3d import axes3d\n",
    "\n",
    "import colorcet as cc\n",
    "\n",
    "import ipywidgets as widgets\n",
    "from ipywidgets import interact, interactive, fixed, interact_manual"
   ]
  },
  {
   "cell_type": "code",
   "execution_count": 4,
   "metadata": {},
   "outputs": [],
   "source": [
    "root_pth = Path(rayoptics.__file__).resolve().parent"
   ]
  },
  {
   "cell_type": "markdown",
   "metadata": {},
   "source": [
    "# Create a new model"
   ]
  },
  {
   "cell_type": "code",
   "execution_count": 5,
   "metadata": {},
   "outputs": [],
   "source": [
    "opm = OpticalModel()\n",
    "sm = opm.seq_model\n",
    "osp = opm.optical_spec\n",
    "pm = opm.parax_model"
   ]
  },
  {
   "cell_type": "markdown",
   "metadata": {},
   "source": [
    "## Define first order aperture and field for system"
   ]
  },
  {
   "cell_type": "code",
   "execution_count": 6,
   "metadata": {},
   "outputs": [],
   "source": [
    "pupil_diameter = 100.\n",
    "pupil_radius = pupil_diameter/2\n",
    "osp.pupil = PupilSpec(osp, key=['object', 'pupil'], value=pupil_diameter)\n",
    "\n",
    "# single field on-axis\n",
    "osp.field_of_view = FieldSpec(osp, key=['object', 'angle'], flds=[0.0])\n",
    "\n",
    "# wavelength for analysis: 550nm\n",
    "osp.spectral_region = WvlSpec([(550.0, 1.0)], ref_wl=0)"
   ]
  },
  {
   "cell_type": "markdown",
   "metadata": {},
   "source": [
    "### object at infinity, i.e. collimated input"
   ]
  },
  {
   "cell_type": "code",
   "execution_count": 7,
   "metadata": {},
   "outputs": [],
   "source": [
    "sm.gaps[0].thi = 1e+11"
   ]
  },
  {
   "cell_type": "code",
   "execution_count": 8,
   "metadata": {},
   "outputs": [],
   "source": [
    "#opm.add_mirror(lbl='M1', r=-500., t=-250.)\n",
    "opm.add_mirror(lbl='M1', profile=Conic, r=-500., cc=-1., t=-250.)"
   ]
  },
  {
   "cell_type": "code",
   "execution_count": 9,
   "metadata": {},
   "outputs": [],
   "source": [
    "opm.update_model()\n",
    "fod = osp.parax_data.fod"
   ]
  },
  {
   "cell_type": "markdown",
   "metadata": {},
   "source": [
    "# Draw a lens picture"
   ]
  },
  {
   "cell_type": "code",
   "execution_count": 10,
   "metadata": {},
   "outputs": [
    {
     "data": {
      "application/vnd.jupyter.widget-view+json": {
       "model_id": "b95bfdc804f9475cacd8db2a119742e2",
       "version_major": 2,
       "version_minor": 0
      },
      "text/plain": [
       "Canvas(toolbar=Toolbar(toolitems=[('Home', 'Reset original view', 'home', 'home'), ('Back', 'Back to previous …"
      ]
     },
     "metadata": {},
     "output_type": "display_data"
    }
   ],
   "source": [
    "layout_plt = plt.figure(FigureClass=InteractiveLayout, opt_model=opm, is_dark=isdark,\n",
    "                        do_draw_rays=True, do_paraxial_layout=False).plot()"
   ]
  },
  {
   "cell_type": "markdown",
   "metadata": {},
   "source": [
    "# List first order data"
   ]
  },
  {
   "cell_type": "code",
   "execution_count": 11,
   "metadata": {},
   "outputs": [
    {
     "name": "stdout",
     "output_type": "stream",
     "text": [
      "efl                 250\n",
      "ffl                -250\n",
      "pp1                  -0\n",
      "bfl                 250\n",
      "ppk                   0\n",
      "f/#                 2.5\n",
      "m                     0\n",
      "red              -4e+08\n",
      "obj_dist          1e+11\n",
      "obj_ang               1\n",
      "enp_dist             -0\n",
      "enp_radius           50\n",
      "na obj            5e-10\n",
      "n obj                 1\n",
      "img_dist           -250\n",
      "img_ht            4.364\n",
      "exp_dist             -0\n",
      "exp_radius           50\n",
      "na img           0.1961\n",
      "n img                -1\n",
      "optical invariant       0.8728\n"
     ]
    }
   ],
   "source": [
    "fod.list_first_order_data()"
   ]
  },
  {
   "cell_type": "code",
   "execution_count": 12,
   "metadata": {},
   "outputs": [],
   "source": [
    "fld, wvl, foc = osp.lookup_fld_wvl_focus(0)"
   ]
  },
  {
   "cell_type": "markdown",
   "metadata": {},
   "source": [
    "### create fan and grid objects for use by plot grid"
   ]
  },
  {
   "cell_type": "code",
   "execution_count": 13,
   "metadata": {},
   "outputs": [],
   "source": [
    "ray_xfan = analyses.RayFan(opm, f=fld, wl=wvl, xyfan='x')\n",
    "ray_yfan = analyses.RayFan(opm, f=fld, wl=wvl, xyfan='y')\n",
    "ray_grid = analyses.RayGrid(opm, f=fld, wl=wvl)"
   ]
  },
  {
   "cell_type": "code",
   "execution_count": 14,
   "metadata": {},
   "outputs": [],
   "source": [
    "ndim = 32\n",
    "maxdim = 256\n",
    "pupil_grid = analyses.RayGrid(opm, num_rays=ndim, f=fld, wl=wvl, foc=-0.0)"
   ]
  },
  {
   "cell_type": "markdown",
   "metadata": {},
   "source": [
    "### Create lists of fans, data types, and plotting keyword arguments to drive "
   ]
  },
  {
   "cell_type": "code",
   "execution_count": 15,
   "metadata": {},
   "outputs": [],
   "source": [
    "xyabr_fan_list = [(ray_xfan, 'dx', dict(num_points=100)),\n",
    "                  (ray_yfan, 'dy', dict(num_points=100, linestyle='--'))]"
   ]
  },
  {
   "cell_type": "code",
   "execution_count": 16,
   "metadata": {},
   "outputs": [],
   "source": [
    "opd_fan_list = [(ray_yfan, 'opd', dict(linestyle='', linewidth=1, marker='D', markersize=3.5)),\n",
    "                (ray_yfan, 'opd', dict(num_points=100, linewidth=2))]"
   ]
  },
  {
   "cell_type": "markdown",
   "metadata": {},
   "source": [
    "### create focus dashboard"
   ]
  },
  {
   "cell_type": "code",
   "execution_count": 17,
   "metadata": {},
   "outputs": [],
   "source": [
    "one_wave = opm.nm_to_sys_units(wvl)\n",
    "# one wave of defocus\n",
    "dfoc = one_wave/(fod.img_na**2/(2*fod.n_img))\n",
    "qwrt_dfoc = abs(0.25*dfoc)\n",
    "\n",
    "# one wave of tilt\n",
    "_, _, ref_sphere_radius = fld.ref_sphere\n",
    "shft = ref_sphere_radius*one_wave/fod.exp_radius"
   ]
  },
  {
   "cell_type": "code",
   "execution_count": 18,
   "metadata": {},
   "outputs": [],
   "source": [
    "opd_scale = 1.0\n",
    "ta_scale = .01"
   ]
  },
  {
   "cell_type": "code",
   "execution_count": 19,
   "metadata": {},
   "outputs": [
    {
     "data": {
      "application/vnd.jupyter.widget-view+json": {
       "model_id": "d576361ead914b87b54ce3cb7887cadf",
       "version_major": 2,
       "version_minor": 0
      },
      "text/plain": [
       "Canvas(toolbar=Toolbar(toolitems=[('Home', 'Reset original view', 'home', 'home'), ('Back', 'Back to previous …"
      ]
     },
     "metadata": {},
     "output_type": "display_data"
    },
    {
     "data": {
      "application/vnd.jupyter.widget-view+json": {
       "model_id": "be33518655484244a01d3d8928bae377",
       "version_major": 2,
       "version_minor": 0
      },
      "text/plain": [
       "Canvas(toolbar=Toolbar(toolitems=[('Home', 'Reset original view', 'home', 'home'), ('Back', 'Back to previous …"
      ]
     },
     "metadata": {},
     "output_type": "display_data"
    },
    {
     "data": {
      "application/vnd.jupyter.widget-view+json": {
       "model_id": "7fd68d0fb93249a699d6c995637e10f3",
       "version_major": 2,
       "version_minor": 0
      },
      "text/plain": [
       "HBox(children=(FloatSlider(value=0.0, description='defocus', max=0.028600000137499998, min=-0.0286000001374999…"
      ]
     },
     "metadata": {},
     "output_type": "display_data"
    }
   ],
   "source": [
    "# create a figure with a wavefront map and transverse ray and opd ray fans\n",
    "fig = plt.figure(FigureClass=AnalysisFigure, data_objs=[ray_grid, ray_xfan, ray_yfan],\n",
    "                 figsize=[9, 5], tight_layout=True, is_dark=isdark)\n",
    "gs = gridspec.GridSpec(nrows=8, ncols=13, figure=fig)\n",
    "\n",
    "Wavefront(fig, gs[:8, :8], ray_grid, user_scale_value=opd_scale, do_contours=False, title='Wavefront Map')\n",
    "RayFanPlot(fig, gs[:4, 9:], xyabr_fan_list, user_scale_value=ta_scale, scale_type='user',\n",
    "           yaxis_ticks_position='right', title='Transverse Ray Aberration')\n",
    "RayFanPlot(fig, gs[4:8, 9:], opd_fan_list, user_scale_value=opd_scale, scale_type='user',\n",
    "           yaxis_ticks_position='right', title='Wavefront Aberration')\n",
    "fig.refresh()\n",
    "\n",
    "# create a figure with transverse ray and opd ray fans \n",
    "fig2 = plt.figure(FigureClass=AnalysisFigure, data_objs=[ray_xfan, ray_yfan],\n",
    "                 figsize=[9, 5], is_dark=isdark)\n",
    "gs2 = gridspec.GridSpec(nrows=1, ncols=2, figure=fig2)\n",
    "\n",
    "RayFanPlot(fig2, gs2[0, 0], xyabr_fan_list, user_scale_value=ta_scale, scale_type='user',\n",
    "           title='Transverse Ray Aberration')\n",
    "RayFanPlot(fig2, gs2[0, 1], opd_fan_list, user_scale_value=opd_scale, scale_type='user',\n",
    "           yaxis_ticks_position='right', title='Wavefront Aberration')\n",
    "fig2.plot()\n",
    "\n",
    "# create sliders for controlling defocus and image offset\n",
    "defocus, x_shift, y_shift = dashboards.create_focus_dashboard([fig, fig2],\n",
    "                                                   [ray_grid, ray_xfan, ray_yfan],\n",
    "                                                   osp.defocus.focus_shift, abs(dfoc), shft, on_axis_pt=[0, 0])\n",
    "display(widgets.HBox([defocus, y_shift]))"
   ]
  },
  {
   "cell_type": "code",
   "execution_count": 20,
   "metadata": {},
   "outputs": [
    {
     "data": {
      "application/vnd.jupyter.widget-view+json": {
       "model_id": "f9679d4bee454e8cb56ce26119fa940b",
       "version_major": 2,
       "version_minor": 0
      },
      "text/plain": [
       "Canvas(toolbar=Toolbar(toolitems=[('Home', 'Reset original view', 'home', 'home'), ('Back', 'Back to previous …"
      ]
     },
     "metadata": {},
     "output_type": "display_data"
    }
   ],
   "source": [
    "fig_psf = plt.figure(FigureClass=AnalysisFigure, data_objs=[pupil_grid],\n",
    "                     figsize=[6, 6], is_dark=isdark)\n",
    "gs_psf = gridspec.GridSpec(nrows=2, ncols=2, figure=fig_psf)\n",
    "\n",
    "wfr = Wavefront(fig_psf, gs_psf[:, :1], pupil_grid, user_scale_value=None, do_contours=False,\n",
    "                title='Wavefront Map', cmap=\"BrBG_r\")\n",
    "\n",
    "psf = DiffractionPSF(fig_psf, gs_psf[:, -1:], pupil_grid, maxdim, cmap=cc.m_fire,\n",
    "                     yaxis_ticks_position='left', title='PSF', norm=PowerNorm(gamma=0.5, vmin=1e-4))\n",
    "\n",
    "fig_psf.plot()"
   ]
  },
  {
   "cell_type": "code",
   "execution_count": 21,
   "metadata": {},
   "outputs": [],
   "source": [
    "from numpy.fft import fftshift, fft2"
   ]
  },
  {
   "cell_type": "code",
   "execution_count": 22,
   "metadata": {},
   "outputs": [],
   "source": [
    "ndim = 64\n",
    "maxdim = 4096\n",
    "pupil_grid = analyses.RayGrid(opm, num_rays=ndim, f=fld, wl=wvl, foc=-0.0)"
   ]
  },
  {
   "cell_type": "code",
   "execution_count": 23,
   "metadata": {},
   "outputs": [
    {
     "data": {
      "text/plain": [
       "(4096, 64, 156)"
      ]
     },
     "execution_count": 23,
     "metadata": {},
     "output_type": "execute_result"
    }
   ],
   "source": [
    "psf_dim = analyses.psf_sampling(maxdim, ndim)\n",
    "n_airy = psf_dim[2]\n",
    "psf_dim"
   ]
  },
  {
   "cell_type": "code",
   "execution_count": 24,
   "metadata": {},
   "outputs": [],
   "source": [
    "opd = pupil_grid.grid[2]"
   ]
  },
  {
   "cell_type": "code",
   "execution_count": 25,
   "metadata": {},
   "outputs": [],
   "source": [
    "AP = analyses.calc_psf(opd, ndim, maxdim)"
   ]
  },
  {
   "cell_type": "code",
   "execution_count": 26,
   "metadata": {},
   "outputs": [
    {
     "data": {
      "application/vnd.jupyter.widget-view+json": {
       "model_id": "bc84292453e247c38ff6dd8d0f66e0b6",
       "version_major": 2,
       "version_minor": 0
      },
      "text/plain": [
       "Canvas(toolbar=Toolbar(toolitems=[('Home', 'Reset original view', 'home', 'home'), ('Back', 'Back to previous …"
      ]
     },
     "metadata": {},
     "output_type": "display_data"
    }
   ],
   "source": [
    "figg = plt.figure()\n",
    "plt.imshow(AP, origin='lower', norm=LogNorm(vmin=5e-4), cmap=cc.m_fire)\n",
    "plt.colorbar()\n",
    "plt.show()"
   ]
  },
  {
   "cell_type": "code",
   "execution_count": 27,
   "metadata": {},
   "outputs": [],
   "source": [
    "delta_x, delta_xp = analyses.calc_psf_scaling(pupil_grid, ndim, maxdim)"
   ]
  },
  {
   "cell_type": "code",
   "execution_count": 28,
   "metadata": {},
   "outputs": [],
   "source": [
    "maxdim_by_2 = maxdim//2\n",
    "W = np.zeros([maxdim, maxdim])\n",
    "nd2 = ndim//2"
   ]
  },
  {
   "cell_type": "code",
   "execution_count": 29,
   "metadata": {},
   "outputs": [],
   "source": [
    "image_scale = maxdim_by_2 * delta_xp\n",
    "xi = np.linspace(-image_scale, image_scale, maxdim)\n",
    "yi = np.linspace(-image_scale, image_scale, maxdim)\n",
    "#xi = np.linspace(-image_scale, image_scale, nd)\n",
    "#yi = np.linspace(-image_scale, image_scale, nd)\n",
    "[XI, YI] = np.meshgrid(xi, yi)"
   ]
  },
  {
   "cell_type": "code",
   "execution_count": 30,
   "metadata": {},
   "outputs": [
    {
     "data": {
      "application/vnd.jupyter.widget-view+json": {
       "model_id": "68ccc403bf2c4f298ddcb0939b15115a",
       "version_major": 2,
       "version_minor": 0
      },
      "text/plain": [
       "Canvas(toolbar=Toolbar(toolitems=[('Home', 'Reset original view', 'home', 'home'), ('Back', 'Back to previous …"
      ]
     },
     "metadata": {},
     "output_type": "display_data"
    }
   ],
   "source": [
    "fig = plt.figure()\n",
    "ax = fig.gca(projection='3d')\n",
    "surf = ax.plot_surface(XI, YI, AP)"
   ]
  },
  {
   "cell_type": "code",
   "execution_count": 31,
   "metadata": {},
   "outputs": [
    {
     "data": {
      "text/plain": [
       "(1.5625, 2.1484374999999995e-05, 0.04399999999999999)"
      ]
     },
     "execution_count": 31,
     "metadata": {},
     "output_type": "execute_result"
    }
   ],
   "source": [
    "delta_x, delta_xp, image_scale"
   ]
  },
  {
   "cell_type": "code",
   "execution_count": 32,
   "metadata": {},
   "outputs": [
    {
     "data": {
      "text/plain": [
       "(26.256410256410255, 64.0)"
      ]
     },
     "execution_count": 32,
     "metadata": {},
     "output_type": "execute_result"
    }
   ],
   "source": [
    "maxdim/n_airy, maxdim/ndim"
   ]
  },
  {
   "cell_type": "code",
   "execution_count": 33,
   "metadata": {},
   "outputs": [
    {
     "data": {
      "text/plain": [
       "(4096, 64, 156)"
      ]
     },
     "execution_count": 33,
     "metadata": {},
     "output_type": "execute_result"
    }
   ],
   "source": [
    "psf_dim"
   ]
  },
  {
   "cell_type": "code",
   "execution_count": null,
   "metadata": {},
   "outputs": [],
   "source": []
  },
  {
   "cell_type": "raw",
   "metadata": {},
   "source": [
    "W[maxdim_by_2-(nd2-1):maxdim_by_2+(nd2+1), maxdim_by_2-(nd2-1):maxdim_by_2+(nd2+1)] = np.nan_to_num(opd)"
   ]
  },
  {
   "cell_type": "raw",
   "metadata": {},
   "source": [
    "phase = np.exp(1j*2*np.pi*W)"
   ]
  },
  {
   "cell_type": "raw",
   "metadata": {},
   "source": [
    "for i in range(len(phase)):\n",
    "    for j in range(len(phase)):\n",
    "        if phase[i][j] == 1:\n",
    "            phase[i][j] = 0"
   ]
  },
  {
   "cell_type": "raw",
   "metadata": {},
   "source": [
    "AP = abs(fftshift(fft2(fftshift(phase))))**2"
   ]
  },
  {
   "cell_type": "raw",
   "metadata": {},
   "source": [
    "AP_max = np.nanmax(AP); AP_max"
   ]
  },
  {
   "cell_type": "raw",
   "metadata": {},
   "source": [
    "AP = AP/AP_max"
   ]
  },
  {
   "cell_type": "raw",
   "metadata": {},
   "source": [
    "AP_sub = AP[maxdim_by_2-(ndim-1):maxdim_by_2+(ndim+1), maxdim_by_2-(ndim-1):maxdim_by_2+(ndim+1)]"
   ]
  }
 ],
 "metadata": {
  "kernelspec": {
   "display_name": "Python 3",
   "language": "python",
   "name": "python3"
  },
  "language_info": {
   "codemirror_mode": {
    "name": "ipython",
    "version": 3
   },
   "file_extension": ".py",
   "mimetype": "text/x-python",
   "name": "python",
   "nbconvert_exporter": "python",
   "pygments_lexer": "ipython3",
   "version": "3.7.7"
  }
 },
 "nbformat": 4,
 "nbformat_minor": 4
}
