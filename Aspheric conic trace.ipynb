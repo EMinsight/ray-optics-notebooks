{
 "cells": [
  {
   "cell_type": "code",
   "execution_count": 1,
   "metadata": {},
   "outputs": [],
   "source": [
    "#%matplotlib inline\n",
    "%matplotlib widget"
   ]
  },
  {
   "cell_type": "code",
   "execution_count": 2,
   "metadata": {},
   "outputs": [],
   "source": [
    "# initialization\n",
    "from rayoptics.environment import *\n",
    "from rayoptics.parax import specsheet"
   ]
  },
  {
   "cell_type": "code",
   "execution_count": 3,
   "metadata": {},
   "outputs": [],
   "source": [
    "isdark = True"
   ]
  },
  {
   "cell_type": "code",
   "execution_count": 4,
   "metadata": {},
   "outputs": [],
   "source": [
    "def conic_to_asphere(c, cc):\n",
    "    ec = cc + 1\n",
    "    B = [0.]*5\n",
    "    B[1] = (1/8)*(ec - 1)*c**3\n",
    "    B[2] = (1/16)*(ec**2 - 1)*c**5\n",
    "    B[3] = (5/128)*(ec**3 - 1)*c**7\n",
    "    B[4] = (7/256)*(ec**4 - 1)*c**9\n",
    "    return B"
   ]
  },
  {
   "cell_type": "code",
   "execution_count": 5,
   "metadata": {},
   "outputs": [],
   "source": [
    "def fit_asphere_to_conic(cv, cc, degree=12, max_y=1.0):\n",
    "    from scipy import linalg\n",
    "    y_incr = 0.05\n",
    "    conic_prof = Conic(c=cv, cc=cc)\n",
    "    conic_prof.update()\n",
    "    even_poly_conic = EvenPolynomial(c=cv, cc=0, coefs=[0]*(degree//2))\n",
    "    even_poly_conic.update()\n",
    "    \n",
    "    a = np.array([[y**(i) for i in range(4, degree+2, 2)] for y in np.arange(0., max_y+y_incr, y_incr)])\n",
    "    b = np.array([conic_prof.sag(0., y)-even_poly_conic.sag(0., y) for y in np.arange(0., max_y+y_incr, y_incr)])\n",
    "\n",
    "    results = linalg.lstsq(a, b)\n",
    "#    coefs = results[0]\n",
    "\n",
    "    return results, a, b"
   ]
  },
  {
   "cell_type": "code",
   "execution_count": 6,
   "metadata": {},
   "outputs": [],
   "source": [
    "cv = -(1 - 1e-15)\n",
    "cc = -1\n",
    "ec = 0"
   ]
  },
  {
   "cell_type": "code",
   "execution_count": 7,
   "metadata": {},
   "outputs": [
    {
     "data": {
      "text/plain": [
       "[0.0,\n",
       " 0.12499999999999963,\n",
       " 0.06249999999999969,\n",
       " 0.03906249999999973,\n",
       " 0.027343749999999754]"
      ]
     },
     "execution_count": 7,
     "metadata": {},
     "output_type": "execute_result"
    }
   ],
   "source": [
    "conic_to_asphere(c=cv, cc=cc)"
   ]
  },
  {
   "cell_type": "code",
   "execution_count": 8,
   "metadata": {},
   "outputs": [],
   "source": [
    "results = fit_asphere_to_conic(cv, cc, degree=20, max_y=0.9)"
   ]
  },
  {
   "cell_type": "code",
   "execution_count": 9,
   "metadata": {},
   "outputs": [
    {
     "data": {
      "text/plain": [
       "(array([ 0.12515898,  0.05701812,  0.11192644, -0.47484661,  2.02460993,\n",
       "        -4.80113964,  6.91380101, -5.44435364,  1.86420446]),\n",
       " 2.481176627162566e-14,\n",
       " 9,\n",
       " array([1.51391288e+00, 2.79177031e-01, 5.10052735e-02, 8.34958459e-03,\n",
       "        1.18516372e-03, 1.42513685e-04, 1.40301257e-05, 1.06356383e-06,\n",
       "        5.36055525e-08]))"
      ]
     },
     "execution_count": 9,
     "metadata": {},
     "output_type": "execute_result"
    }
   ],
   "source": [
    "results[0]"
   ]
  },
  {
   "cell_type": "code",
   "execution_count": 10,
   "metadata": {},
   "outputs": [
    {
     "data": {
      "text/plain": [
       "array([ 0.        ,  0.12515898,  0.05701812,  0.11192644, -0.47484661,\n",
       "        2.02460993, -4.80113964,  6.91380101, -5.44435364,  1.86420446])"
      ]
     },
     "execution_count": 10,
     "metadata": {},
     "output_type": "execute_result"
    }
   ],
   "source": [
    "coefs_fit = np.concatenate((np.array([0.]), results[0][0])); coefs_fit"
   ]
  },
  {
   "cell_type": "code",
   "execution_count": 11,
   "metadata": {},
   "outputs": [],
   "source": [
    "sphere_prof = Spherical(c=cv).update()\n",
    "conic_prof = Conic(c=cv, cc=cc).update()\n",
    "even_poly_conic_fit = EvenPolynomial(c=cv, cc=0, coefs=coefs_fit).update()\n",
    "even_poly_conic_calc = EvenPolynomial(c=cv, cc=0, coefs=conic_to_asphere(c=cv, cc=cc)).update()\n",
    "rad_coefs_fit = []\n",
    "rad_coefs_calc = []\n",
    "for i, c in enumerate(coefs_fit):\n",
    "    rad_coefs_fit.append(0)\n",
    "    rad_coefs_fit.append(c)\n",
    "rad_poly_conic = RadialPolynomial(c=cv, ec=1, coefs=rad_coefs_fit).update()"
   ]
  },
  {
   "cell_type": "code",
   "execution_count": 12,
   "metadata": {},
   "outputs": [
    {
     "name": "stdout",
     "output_type": "stream",
     "text": [
      "profile: RadialPolynomial\n",
      "c=-0.999999999999999,   r=-1.000000000000001   conic cnst=0.0\n",
      "coefficients: [0, 0.0, 0, 0.12515897565317008, 0, 0.05701812015383613, 0, 0.11192644308242643, 0, -0.4748466080788697, 0, 2.0246099289062016, 0, -4.801139636197904, 0, 6.9138010096835805, 0, -5.444353644548694, 0, 1.864204456984458]\n"
     ]
    }
   ],
   "source": [
    "rad_poly_conic.listobj()"
   ]
  },
  {
   "cell_type": "code",
   "execution_count": 13,
   "metadata": {},
   "outputs": [
    {
     "name": "stdout",
     "output_type": "stream",
     "text": [
      " 0.0:            0             0\n",
      " 0.1:  -0.00499999     0.0995034\n",
      " 0.2:        -0.02      0.196116\n",
      " 0.3:       -0.045      0.287349\n",
      " 0.4:        -0.08       0.37139\n",
      " 0.5:       -0.125      0.447215\n",
      " 0.6:        -0.18      0.514494\n",
      " 0.7:       -0.245      0.573464\n",
      " 0.8:        -0.32      0.624704\n",
      " 0.9:       -0.405      0.669541\n",
      " 1.0:    -0.623621             1\n"
     ]
    }
   ],
   "source": [
    "for y in np.arange(0., 1.1, .1):\n",
    "    sag_z = even_poly_conic_fit.sag(0, y)\n",
    "    print('{:4.1f}: {:12.6g}  {:12.6g}'.format(y, sag_z, even_poly_conic_fit.normal(np.array([0, y, sag_z]))[1]))"
   ]
  },
  {
   "cell_type": "code",
   "execution_count": 14,
   "metadata": {},
   "outputs": [
    {
     "name": "stdout",
     "output_type": "stream",
     "text": [
      " 0.0:           -0             0\n",
      " 0.1:       -0.005     0.0995037\n",
      " 0.2:        -0.02      0.196116\n",
      " 0.3:       -0.045      0.287348\n",
      " 0.4:        -0.08      0.371391\n",
      " 0.5:       -0.125      0.447214\n",
      " 0.6:        -0.18      0.514496\n",
      " 0.7:       -0.245      0.573462\n",
      " 0.8:        -0.32      0.624695\n",
      " 0.9:       -0.405      0.668965\n",
      " 1.0:         -0.5      0.707107\n"
     ]
    }
   ],
   "source": [
    "for y in np.arange(0., 1.1, .1):\n",
    "    sag_z = conic_prof.sag(0, y)\n",
    "    print('{:4.1f}: {:12.6g}  {:12.6g}'.format(y, sag_z, conic_prof.normal(np.array([0, y, sag_z]))[1]))"
   ]
  },
  {
   "cell_type": "code",
   "execution_count": 15,
   "metadata": {},
   "outputs": [
    {
     "name": "stdout",
     "output_type": "stream",
     "text": [
      " 0.0:           -0             0\n",
      " 0.1:  -0.00501256           0.1\n",
      " 0.2:   -0.0202041           0.2\n",
      " 0.3:   -0.0460608           0.3\n",
      " 0.4:   -0.0834849           0.4\n",
      " 0.5:    -0.133975           0.5\n",
      " 0.6:         -0.2           0.6\n",
      " 0.7:    -0.285857           0.7\n",
      " 0.8:         -0.4           0.8\n",
      " 0.9:     -0.56411           0.9\n",
      " 1.0:           -1             1\n"
     ]
    }
   ],
   "source": [
    "for y in np.arange(0., 1.1, .1):\n",
    "    sag_z = sphere_prof.sag(0, y)\n",
    "    print('{:4.1f}: {:12.6g}  {:12.6g}'.format(y, sag_z, sphere_prof.normal(np.array([0, y, sag_z]))[1]))"
   ]
  },
  {
   "cell_type": "code",
   "execution_count": 16,
   "metadata": {},
   "outputs": [
    {
     "data": {
      "text/plain": [
       "array([-0.00000000e+00, -9.10741152e-10, -1.10960625e-08, -3.40641430e-08,\n",
       "       -4.60914940e-08, -1.85756924e-08,  3.10573792e-08,  4.09961867e-08,\n",
       "       -1.10020378e-08, -4.95448294e-08,  9.25177851e-11,  5.71616149e-08,\n",
       "       -1.06356526e-08, -6.50351538e-08,  7.78544063e-08, -4.42042564e-08,\n",
       "        1.43145271e-08, -2.56242033e-09,  1.98700723e-10])"
      ]
     },
     "execution_count": 16,
     "metadata": {},
     "output_type": "execute_result"
    }
   ],
   "source": [
    "np.array([conic_prof.sag(0., y)-even_poly_conic_fit.sag(0., y) for y in np.arange(0., .95, .05)])"
   ]
  },
  {
   "cell_type": "code",
   "execution_count": 17,
   "metadata": {},
   "outputs": [
    {
     "name": "stdout",
     "output_type": "stream",
     "text": [
      " 0.0:           -0             0\n",
      " 0.1: -1.10961e-08   3.55152e-07\n",
      " 0.2: -4.60915e-08  -1.01041e-07\n",
      " 0.3:  3.10574e-08  -7.09939e-07\n",
      " 0.4:  -1.1002e-08   1.02368e-06\n",
      " 0.5:  9.25178e-11  -1.16477e-06\n",
      " 0.6: -1.06357e-08   1.42755e-06\n",
      " 0.7:  7.78544e-08  -1.42814e-06\n",
      " 0.8:  1.43145e-08   -9.2203e-06\n",
      " 0.9:  1.98701e-10  -0.000576324\n"
     ]
    }
   ],
   "source": [
    "for y in np.arange(0., 1.0, .1):\n",
    "    sag_z_conic = conic_prof.sag(0., y)\n",
    "    sag_z_poly = even_poly_conic_fit.sag(0, y)\n",
    "    sag_z_delta = conic_prof.sag(0., y)-even_poly_conic_fit.sag(0, y)\n",
    "    slope_y_delta = conic_prof.normal(np.array([0, y, sag_z_conic]))[1]-even_poly_conic_fit.normal(np.array([0, y, sag_z_poly]))[1]\n",
    "    print('{:4.1f}: {:12.6g}  {:12.6g}'.format(y, sag_z_delta, slope_y_delta))"
   ]
  },
  {
   "cell_type": "markdown",
   "metadata": {},
   "source": [
    "# Create a new model"
   ]
  },
  {
   "cell_type": "code",
   "execution_count": 18,
   "metadata": {},
   "outputs": [],
   "source": [
    "opm = OpticalModel()\n",
    "sm = opm.seq_model\n",
    "osp = opm.optical_spec\n",
    "pm = opm.parax_model\n",
    "em = opm.ele_model"
   ]
  },
  {
   "cell_type": "markdown",
   "metadata": {},
   "source": [
    "## Define first order aperture and field for system"
   ]
  },
  {
   "cell_type": "code",
   "execution_count": 19,
   "metadata": {},
   "outputs": [],
   "source": [
    "osp.pupil = PupilSpec(osp, key=['object', 'pupil'], value=.5)\n",
    "osp.field_of_view = FieldSpec(osp, key=['object', 'height'], flds=[0.])\n",
    "osp.spectral_region = WvlSpec([('d', 1.0)], ref_wl=0)"
   ]
  },
  {
   "cell_type": "markdown",
   "metadata": {},
   "source": [
    "## Define interface and gap data for the sequential model"
   ]
  },
  {
   "cell_type": "code",
   "execution_count": 20,
   "metadata": {},
   "outputs": [],
   "source": [
    "sm.gaps[0].thi=1e11\n",
    "\n",
    "\n",
    "opm.add_dummy_plane(t=1)\n",
    "\n",
    "opm.add_mirror(profile=even_poly_conic_fit, t=-0.5)"
   ]
  },
  {
   "cell_type": "markdown",
   "metadata": {},
   "source": [
    "## Update the model"
   ]
  },
  {
   "cell_type": "raw",
   "metadata": {},
   "source": [
    "opm.update_model()"
   ]
  },
  {
   "cell_type": "raw",
   "metadata": {},
   "source": [
    "sm.gaps[1].thi=1\n",
    "sm.gaps[2].thi=-.5"
   ]
  },
  {
   "cell_type": "code",
   "execution_count": 21,
   "metadata": {},
   "outputs": [],
   "source": [
    "opm.update_model()"
   ]
  },
  {
   "cell_type": "code",
   "execution_count": 22,
   "metadata": {},
   "outputs": [
    {
     "name": "stdout",
     "output_type": "stream",
     "text": [
      "             c            t        medium     mode   zdr      sd\n",
      " Obj:     0.000000  1.00000e+11       air             1      0.0000\n",
      "   1:     0.000000      1.00000       air             1     0.25000\n",
      "   2:    -1.000000    -0.500000       air    reflect -1     0.25000\n",
      " Img:    -0.000000      0.00000                      -1  1.0722e-06\n"
     ]
    }
   ],
   "source": [
    "sm.list_model()"
   ]
  },
  {
   "cell_type": "code",
   "execution_count": 23,
   "metadata": {},
   "outputs": [
    {
     "name": "stdout",
     "output_type": "stream",
     "text": [
      "profile: EvenPolynomial\n",
      "c=-0.999999999999999,   r=-1.000000000000001   conic cnst=0\n",
      "coefficients: [ 0.          0.12515898  0.05701812  0.11192644 -0.47484661  2.02460993\n",
      " -4.80113964  6.91380101 -5.44435364  1.86420446]\n"
     ]
    }
   ],
   "source": [
    "sm.ifcs[2].profile.listobj()"
   ]
  },
  {
   "cell_type": "markdown",
   "metadata": {},
   "source": [
    "# Draw a lens picture"
   ]
  },
  {
   "cell_type": "code",
   "execution_count": 24,
   "metadata": {},
   "outputs": [
    {
     "data": {
      "application/vnd.jupyter.widget-view+json": {
       "model_id": "7eef1badec8449b093f4c368e216be20",
       "version_major": 2,
       "version_minor": 0
      },
      "text/plain": [
       "Canvas(toolbar=Toolbar(toolitems=[('Home', 'Reset original view', 'home', 'home'), ('Back', 'Back to previous …"
      ]
     },
     "metadata": {},
     "output_type": "display_data"
    }
   ],
   "source": [
    "layout_plt1 = plt.figure(FigureClass=InteractiveLayout, opt_model=opm,\n",
    "                        do_draw_rays=True, do_paraxial_layout=False, is_dark=isdark).plot()"
   ]
  },
  {
   "cell_type": "code",
   "execution_count": 25,
   "metadata": {},
   "outputs": [
    {
     "data": {
      "application/vnd.jupyter.widget-view+json": {
       "model_id": "502b56a7c65f48b899faebd52c28e61a",
       "version_major": 2,
       "version_minor": 0
      },
      "text/plain": [
       "Canvas(toolbar=Toolbar(toolitems=[('Home', 'Reset original view', 'home', 'home'), ('Back', 'Back to previous …"
      ]
     },
     "metadata": {},
     "output_type": "display_data"
    }
   ],
   "source": [
    "abr_plt1 = plt.figure(FigureClass=RayFanFigure, opt_model=opm, data_type='Ray',\n",
    "                      scale_type=Fit.User_Scale, user_scale_value=0.01, is_dark=isdark).plot()"
   ]
  },
  {
   "cell_type": "code",
   "execution_count": 26,
   "metadata": {},
   "outputs": [],
   "source": [
    "s1=sm.ifcs[2]\n",
    "g=sm.gaps[1]"
   ]
  },
  {
   "cell_type": "code",
   "execution_count": 27,
   "metadata": {},
   "outputs": [],
   "source": [
    "s1.profile = rad_poly_conic\n",
    "opm.update_model()"
   ]
  },
  {
   "cell_type": "markdown",
   "metadata": {},
   "source": [
    "# Draw a lens picture"
   ]
  },
  {
   "cell_type": "code",
   "execution_count": 28,
   "metadata": {},
   "outputs": [
    {
     "data": {
      "application/vnd.jupyter.widget-view+json": {
       "model_id": "ec2b4627cc61447bbfc6ca1b364d00a1",
       "version_major": 2,
       "version_minor": 0
      },
      "text/plain": [
       "Canvas(toolbar=Toolbar(toolitems=[('Home', 'Reset original view', 'home', 'home'), ('Back', 'Back to previous …"
      ]
     },
     "metadata": {},
     "output_type": "display_data"
    }
   ],
   "source": [
    "layout_plt2 = plt.figure(FigureClass=InteractiveLayout, opt_model=opm,\n",
    "                         do_draw_beams=True, \n",
    "                         do_draw_edge_rays=True, \n",
    "                         do_draw_ray_fans=False, \n",
    "                         do_paraxial_layout=False, \n",
    "                         is_dark=isdark).plot()"
   ]
  },
  {
   "cell_type": "code",
   "execution_count": 29,
   "metadata": {},
   "outputs": [
    {
     "data": {
      "application/vnd.jupyter.widget-view+json": {
       "model_id": "f47653e93e544565a37eb04adf9f4cfa",
       "version_major": 2,
       "version_minor": 0
      },
      "text/plain": [
       "Canvas(toolbar=Toolbar(toolitems=[('Home', 'Reset original view', 'home', 'home'), ('Back', 'Back to previous …"
      ]
     },
     "metadata": {},
     "output_type": "display_data"
    }
   ],
   "source": [
    "abr_plt2 = plt.figure(FigureClass=RayFanFigure, opt_model=opm, data_type='Ray',\n",
    "                      scale_type=Fit.User_Scale, user_scale_value=0.01, is_dark=isdark).plot()"
   ]
  },
  {
   "cell_type": "code",
   "execution_count": 30,
   "metadata": {},
   "outputs": [
    {
     "name": "stdout",
     "output_type": "stream",
     "text": [
      " 0.0:            0             0\n",
      " 0.1:  -0.00499999     0.0995034\n",
      " 0.2:        -0.02      0.196116\n",
      " 0.3:       -0.045      0.287349\n",
      " 0.4:        -0.08       0.37139\n",
      " 0.5:       -0.125      0.447215\n",
      " 0.6:        -0.18      0.514494\n",
      " 0.7:       -0.245      0.573464\n",
      " 0.8:        -0.32      0.624704\n",
      " 0.9:       -0.405      0.669541\n",
      " 1.0:    -0.623621             1\n"
     ]
    }
   ],
   "source": [
    "for y in np.arange(0., 1.1, .1):\n",
    "    sag_z = rad_poly_conic.sag(0, y)\n",
    "    print('{:4.1f}: {:12.6g}  {:12.6g}'.format(y, sag_z, rad_poly_conic.normal(np.array([0, y, sag_z]))[1]))"
   ]
  },
  {
   "cell_type": "code",
   "execution_count": 31,
   "metadata": {},
   "outputs": [],
   "source": [
    "even_poly = EvenPolynomial(c=cv, ec=ec, coefs=[0., 0.25]).update()\n",
    "rad_poly = RadialPolynomial(c=cv, ec=ec, coefs=[0., 0., 0., 0.25]).update()"
   ]
  },
  {
   "cell_type": "code",
   "execution_count": 32,
   "metadata": {},
   "outputs": [
    {
     "name": "stdout",
     "output_type": "stream",
     "text": [
      " 0.0:            0             0\n",
      " 0.1:    -0.004975     0.0985184\n",
      " 0.2:      -0.0196      0.188556\n",
      " 0.3:    -0.042975      0.263362\n",
      " 0.4:      -0.0736      0.318502\n",
      " 0.5:    -0.109375      0.351123\n",
      " 0.6:      -0.1476      0.358479\n",
      " 0.7:    -0.184975      0.336217\n",
      " 0.8:      -0.2176      0.276751\n",
      " 0.9:    -0.240975      0.168553\n",
      " 1.0:        -0.25  -9.99201e-16\n"
     ]
    }
   ],
   "source": [
    "for y in np.arange(0., 1.1, .1):\n",
    "    sag_z = even_poly.sag(0, y)\n",
    "    print('{:4.1f}: {:12.6g}  {:12.6g}'.format(y, sag_z, even_poly.normal(np.array([0, y, sag_z]))[1]))"
   ]
  },
  {
   "cell_type": "code",
   "execution_count": 33,
   "metadata": {},
   "outputs": [
    {
     "name": "stdout",
     "output_type": "stream",
     "text": [
      " 0.0:            0             0\n",
      " 0.1:    -0.004975     0.0985184\n",
      " 0.2:      -0.0196      0.188556\n",
      " 0.3:    -0.042975      0.263362\n",
      " 0.4:      -0.0736      0.318502\n",
      " 0.5:    -0.109375      0.351123\n",
      " 0.6:      -0.1476      0.358479\n",
      " 0.7:    -0.184975      0.336217\n",
      " 0.8:      -0.2176      0.276751\n",
      " 0.9:    -0.240975      0.168553\n",
      " 1.0:        -0.25  -9.99201e-16\n"
     ]
    }
   ],
   "source": [
    "for y in np.arange(0., 1.1, .1):\n",
    "    sag_z = rad_poly.sag(0, y)\n",
    "    print('{:4.1f}: {:12.6g}  {:12.6g}'.format(y, sag_z, rad_poly.normal(np.array([0, y, sag_z]))[1]))"
   ]
  },
  {
   "cell_type": "code",
   "execution_count": 34,
   "metadata": {},
   "outputs": [],
   "source": [
    "even_poly_only = EvenPolynomial(coefs=[0., 0.25]).update()\n",
    "rad_poly_only = RadialPolynomial(coefs=[0., 0., 0., 0.25]).update()"
   ]
  },
  {
   "cell_type": "code",
   "execution_count": 35,
   "metadata": {},
   "outputs": [
    {
     "name": "stdout",
     "output_type": "stream",
     "text": [
      " 0.0:            0            -0\n",
      " 0.1:      2.5e-05        -0.001\n",
      " 0.2:       0.0004   -0.00799974\n",
      " 0.3:     0.002025    -0.0269902\n",
      " 0.4:       0.0064    -0.0638693\n",
      " 0.5:     0.015625     -0.124035\n",
      " 0.6:       0.0324     -0.211131\n",
      " 0.7:     0.060025     -0.324445\n",
      " 0.8:       0.1024     -0.455738\n",
      " 0.9:     0.164025     -0.589084\n",
      " 1.0:         0.25     -0.707107\n"
     ]
    }
   ],
   "source": [
    "for y in np.arange(0., 1.1, .1):\n",
    "    sag_z = even_poly_only.sag(0, y)\n",
    "    print('{:4.1f}: {:12.6g}  {:12.6g}'.format(y, sag_z, even_poly_only.normal(np.array([0, y, sag_z]))[1]))"
   ]
  },
  {
   "cell_type": "code",
   "execution_count": 36,
   "metadata": {},
   "outputs": [
    {
     "name": "stdout",
     "output_type": "stream",
     "text": [
      " 0.0:            0            -0\n",
      " 0.1:      2.5e-05        -0.001\n",
      " 0.2:       0.0004   -0.00799974\n",
      " 0.3:     0.002025    -0.0269902\n",
      " 0.4:       0.0064    -0.0638693\n",
      " 0.5:     0.015625     -0.124035\n",
      " 0.6:       0.0324     -0.211131\n",
      " 0.7:     0.060025     -0.324445\n",
      " 0.8:       0.1024     -0.455738\n",
      " 0.9:     0.164025     -0.589084\n",
      " 1.0:         0.25     -0.707107\n"
     ]
    }
   ],
   "source": [
    "for y in np.arange(0., 1.1, .1):\n",
    "    sag_z = rad_poly_only.sag(0, y)\n",
    "    print('{:4.1f}: {:12.6g}  {:12.6g}'.format(y, sag_z, rad_poly_only.normal(np.array([0, y, sag_z]))[1]))"
   ]
  },
  {
   "cell_type": "code",
   "execution_count": 37,
   "metadata": {},
   "outputs": [],
   "source": [
    "s1.profile = even_poly_only\n",
    "opm.update_model()"
   ]
  },
  {
   "cell_type": "code",
   "execution_count": 38,
   "metadata": {},
   "outputs": [
    {
     "data": {
      "application/vnd.jupyter.widget-view+json": {
       "model_id": "0c2c769cfac04d70803c378683247f01",
       "version_major": 2,
       "version_minor": 0
      },
      "text/plain": [
       "Canvas(toolbar=Toolbar(toolitems=[('Home', 'Reset original view', 'home', 'home'), ('Back', 'Back to previous …"
      ]
     },
     "metadata": {},
     "output_type": "display_data"
    }
   ],
   "source": [
    "layout_plt = plt.figure(FigureClass=InteractiveLayout, opt_model=opm,\n",
    "                        do_draw_rays=False, do_paraxial_layout=False).plot()"
   ]
  },
  {
   "cell_type": "code",
   "execution_count": 39,
   "metadata": {},
   "outputs": [
    {
     "name": "stdout",
     "output_type": "stream",
     "text": [
      "profile: EvenPolynomial\n",
      "c=0.0,   r=0.0   conic cnst=0.0\n",
      "coefficients: [0.0, 0.25]\n"
     ]
    }
   ],
   "source": [
    "even_poly_only.listobj()"
   ]
  },
  {
   "cell_type": "code",
   "execution_count": 40,
   "metadata": {},
   "outputs": [
    {
     "name": "stdout",
     "output_type": "stream",
     "text": [
      "efl                   0\n",
      "ffl                   0\n",
      "pp1                   0\n",
      "bfl                   0\n",
      "ppk                   0\n",
      "f/#              -2e+11\n",
      "m                     1\n",
      "red                   1\n",
      "obj_dist          1e+11\n",
      "obj_ang        5.73e-10\n",
      "enp_dist       1.11e-05\n",
      "enp_radius         0.25\n",
      "na obj          2.5e-12\n",
      "n obj                 1\n",
      "img_dist          1e+10\n",
      "img_ht               -1\n",
      "exp_dist          1e+10\n",
      "exp_radius         0.25\n",
      "na img         -2.5e-12\n",
      "n img                -1\n",
      "optical invariant      2.5e-12\n"
     ]
    }
   ],
   "source": [
    "pm.first_order_data()"
   ]
  },
  {
   "cell_type": "code",
   "execution_count": null,
   "metadata": {},
   "outputs": [],
   "source": []
  }
 ],
 "metadata": {
  "kernelspec": {
   "display_name": "Python 3",
   "language": "python",
   "name": "python3"
  },
  "language_info": {
   "codemirror_mode": {
    "name": "ipython",
    "version": 3
   },
   "file_extension": ".py",
   "mimetype": "text/x-python",
   "name": "python",
   "nbconvert_exporter": "python",
   "pygments_lexer": "ipython3",
   "version": "3.8.6"
  }
 },
 "nbformat": 4,
 "nbformat_minor": 4
}
