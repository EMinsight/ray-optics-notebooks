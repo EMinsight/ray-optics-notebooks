{
 "cells": [
  {
   "cell_type": "code",
   "execution_count": 1,
   "metadata": {},
   "outputs": [],
   "source": [
    "%matplotlib widget"
   ]
  },
  {
   "cell_type": "code",
   "execution_count": 2,
   "metadata": {},
   "outputs": [],
   "source": [
    "from rayoptics.environment import *"
   ]
  },
  {
   "cell_type": "code",
   "execution_count": 3,
   "metadata": {},
   "outputs": [],
   "source": [
    "from rayoptics.optical import sampler, analyses"
   ]
  },
  {
   "cell_type": "code",
   "execution_count": 4,
   "metadata": {},
   "outputs": [],
   "source": [
    "num_rays = 32"
   ]
  },
  {
   "cell_type": "code",
   "execution_count": 5,
   "metadata": {},
   "outputs": [],
   "source": [
    "grid_start = np.array([-1., -1.])\n",
    "grid_stop = np.array([1., 1.])\n",
    "grid_def = [grid_start, grid_stop, num_rays]"
   ]
  },
  {
   "cell_type": "code",
   "execution_count": 6,
   "metadata": {},
   "outputs": [],
   "source": [
    "grid_x = []\n",
    "grid_y = []\n",
    "grg0 = sampler.create_generator(sampler.grid_ray_generator, grid_def)\n",
    "\n",
    "for xy in grg0:\n",
    "    if (xy[0]**2 + xy[1]**2) < 1.0:\n",
    "        grid_x.append(xy[0])\n",
    "        grid_y.append(xy[1])"
   ]
  },
  {
   "cell_type": "code",
   "execution_count": 7,
   "metadata": {},
   "outputs": [],
   "source": [
    "csd_grid_start = np.array([0., 0.])\n",
    "csd_grid_stop = np.array([1., 1.])\n",
    "csd_grid_def = csd_grid_start, csd_grid_stop, num_rays\n",
    "csd_grid_x = []\n",
    "csd_grid_y = []\n",
    "grg = sampler.create_generator(sampler.grid_ray_generator, grid_def,\n",
    "                               mapper=sampler.concentric_sample_disk, offset=False)\n",
    "for csd in grg:\n",
    "    csd_grid_x.append(csd[0])\n",
    "    csd_grid_y.append(csd[1])"
   ]
  },
  {
   "cell_type": "code",
   "execution_count": 8,
   "metadata": {},
   "outputs": [],
   "source": [
    "r2_grid_x = []\n",
    "r2_grid_y = []\n",
    "r2g0 = sampler.create_generator(sampler.R_2_quasi_random_generator, num_rays**2,\n",
    "                               mapper=lambda xy: 2*xy - np.array([1, 1]))\n",
    "\n",
    "for xys in r2g0:\n",
    "    if (xys[0]**2 + xys[1]**2) < 1.0:\n",
    "        r2_grid_x.append(xys[0])\n",
    "        r2_grid_y.append(xys[1])"
   ]
  },
  {
   "cell_type": "code",
   "execution_count": 9,
   "metadata": {},
   "outputs": [],
   "source": [
    "csd_r2_grid_x = []\n",
    "csd_r2_grid_y = []\n",
    "r2g = sampler.create_generator(sampler.R_2_quasi_random_generator, num_rays**2,\n",
    "                               mapper=sampler.concentric_sample_disk)\n",
    "\n",
    "for csd in r2g:\n",
    "    csd_r2_grid_x.append(csd[0])\n",
    "    csd_r2_grid_y.append(csd[1])"
   ]
  },
  {
   "cell_type": "code",
   "execution_count": 10,
   "metadata": {},
   "outputs": [
    {
     "data": {
      "application/vnd.jupyter.widget-view+json": {
       "model_id": "074a335b312141f3abd4436540e03a69",
       "version_major": 2,
       "version_minor": 0
      },
      "text/plain": [
       "Canvas(toolbar=Toolbar(toolitems=[('Home', 'Reset original view', 'home', 'home'), ('Back', 'Back to previous …"
      ]
     },
     "metadata": {},
     "output_type": "display_data"
    }
   ],
   "source": [
    "fig, axs = plt.subplots(2, 2, figsize=[9, 9])"
   ]
  },
  {
   "cell_type": "code",
   "execution_count": 11,
   "metadata": {},
   "outputs": [],
   "source": [
    "axs[0, 0].scatter(grid_x, grid_y, s=4)\n",
    "axs[0, 0].set_aspect('equal')\n",
    "axs[0, 1].scatter(r2_grid_x, r2_grid_y, s=4)\n",
    "axs[0, 1].set_aspect('equal')\n",
    "axs[1, 0].scatter(csd_grid_x, csd_grid_y, s=4)\n",
    "axs[1, 0].set_aspect('equal')\n",
    "axs[1, 1].scatter(csd_r2_grid_x, csd_r2_grid_y, s=4)\n",
    "axs[1, 1].set_aspect('equal')\n",
    "plt.show()"
   ]
  },
  {
   "cell_type": "code",
   "execution_count": 12,
   "metadata": {},
   "outputs": [
    {
     "data": {
      "text/plain": [
       "(array([0., 0.]), array([1., 1.]), 32)"
      ]
     },
     "execution_count": 12,
     "metadata": {},
     "output_type": "execute_result"
    }
   ],
   "source": [
    "csd_grid_def"
   ]
  },
  {
   "cell_type": "code",
   "execution_count": null,
   "metadata": {},
   "outputs": [],
   "source": []
  }
 ],
 "metadata": {
  "kernelspec": {
   "display_name": "Python 3",
   "language": "python",
   "name": "python3"
  },
  "language_info": {
   "codemirror_mode": {
    "name": "ipython",
    "version": 3
   },
   "file_extension": ".py",
   "mimetype": "text/x-python",
   "name": "python",
   "nbconvert_exporter": "python",
   "pygments_lexer": "ipython3",
   "version": "3.7.7"
  }
 },
 "nbformat": 4,
 "nbformat_minor": 4
}
