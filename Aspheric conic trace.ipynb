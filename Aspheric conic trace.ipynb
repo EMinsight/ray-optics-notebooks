{
 "cells": [
  {
   "cell_type": "code",
   "execution_count": 1,
   "metadata": {},
   "outputs": [],
   "source": [
    "#%matplotlib inline\n",
    "%matplotlib widget"
   ]
  },
  {
   "cell_type": "code",
   "execution_count": 2,
   "metadata": {},
   "outputs": [],
   "source": [
    "# initialization\n",
    "from rayoptics.environment import *\n",
    "from rayoptics.parax import specsheet"
   ]
  },
  {
   "cell_type": "code",
   "execution_count": 3,
   "metadata": {},
   "outputs": [],
   "source": [
    "isdark = True"
   ]
  },
  {
   "cell_type": "code",
   "execution_count": 4,
   "metadata": {},
   "outputs": [],
   "source": [
    "def conic_to_asphere(c, cc):\n",
    "    ec = cc + 1\n",
    "    B = [0.]*5\n",
    "    B[1] = (1/8)*(ec - 1)*c**3\n",
    "    B[2] = (1/16)*(ec**2 - 1)*c**5\n",
    "    B[3] = (5/128)*(ec**3 - 1)*c**7\n",
    "    B[4] = (7/256)*(ec**4 - 1)*c**9\n",
    "    return B"
   ]
  },
  {
   "cell_type": "code",
   "execution_count": 5,
   "metadata": {},
   "outputs": [],
   "source": [
    "def fit_asphere_to_conic(cv, cc, degree=12, max_y=1.0):\n",
    "    from scipy import linalg\n",
    "    y_incr = 0.05\n",
    "    conic_prof = Conic(c=cv, cc=cc)\n",
    "    conic_prof.update()\n",
    "    even_poly_conic = EvenPolynomial(c=cv, cc=0, coefs=[0]*(degree//2))\n",
    "    even_poly_conic.update()\n",
    "    \n",
    "    a = np.array([[y**(i) for i in range(4, degree+2, 2)] for y in np.arange(0., max_y+y_incr, y_incr)])\n",
    "    b = np.array([conic_prof.sag(0., y)-even_poly_conic.sag(0., y) for y in np.arange(0., max_y+y_incr, y_incr)])\n",
    "\n",
    "    results = linalg.lstsq(a, b)\n",
    "#    coefs = results[0]\n",
    "\n",
    "    return results, a, b"
   ]
  },
  {
   "cell_type": "code",
   "execution_count": 6,
   "metadata": {},
   "outputs": [],
   "source": [
    "cv = -(1 - 1e-15)\n",
    "cc = -1\n",
    "ec = 0"
   ]
  },
  {
   "cell_type": "code",
   "execution_count": 7,
   "metadata": {},
   "outputs": [
    {
     "data": {
      "text/plain": [
       "[0.0,\n",
       " 0.12499999999999963,\n",
       " 0.06249999999999969,\n",
       " 0.03906249999999973,\n",
       " 0.027343749999999754]"
      ]
     },
     "execution_count": 7,
     "metadata": {},
     "output_type": "execute_result"
    }
   ],
   "source": [
    "conic_to_asphere(c=cv, cc=cc)"
   ]
  },
  {
   "cell_type": "code",
   "execution_count": 8,
   "metadata": {},
   "outputs": [],
   "source": [
    "results = fit_asphere_to_conic(cv, cc, degree=20, max_y=0.9)"
   ]
  },
  {
   "cell_type": "code",
   "execution_count": 9,
   "metadata": {},
   "outputs": [
    {
     "data": {
      "text/plain": [
       "(array([ 0.12515898,  0.05701812,  0.11192644, -0.47484661,  2.02460993,\n",
       "        -4.80113964,  6.91380101, -5.44435364,  1.86420446]),\n",
       " 2.481176627162566e-14,\n",
       " 9,\n",
       " array([1.51391288e+00, 2.79177031e-01, 5.10052735e-02, 8.34958459e-03,\n",
       "        1.18516372e-03, 1.42513685e-04, 1.40301257e-05, 1.06356383e-06,\n",
       "        5.36055525e-08]))"
      ]
     },
     "execution_count": 9,
     "metadata": {},
     "output_type": "execute_result"
    }
   ],
   "source": [
    "results[0]"
   ]
  },
  {
   "cell_type": "code",
   "execution_count": 10,
   "metadata": {},
   "outputs": [
    {
     "data": {
      "text/plain": [
       "array([ 0.        ,  0.12515898,  0.05701812,  0.11192644, -0.47484661,\n",
       "        2.02460993, -4.80113964,  6.91380101, -5.44435364,  1.86420446])"
      ]
     },
     "execution_count": 10,
     "metadata": {},
     "output_type": "execute_result"
    }
   ],
   "source": [
    "coefs_fit = np.concatenate((np.array([0.]), results[0][0])); coefs_fit"
   ]
  },
  {
   "cell_type": "code",
   "execution_count": 11,
   "metadata": {},
   "outputs": [],
   "source": [
    "sphere_prof = Spherical(c=cv).update()\n",
    "conic_prof = Conic(c=cv, cc=cc).update()\n",
    "even_poly_conic_fit = EvenPolynomial(c=cv, cc=0, coefs=coefs_fit).update()\n",
    "even_poly_conic_calc = EvenPolynomial(c=cv, cc=0, coefs=conic_to_asphere(c=cv, cc=cc)).update()\n",
    "rad_coefs_fit = []\n",
    "rad_coefs_calc = []\n",
    "for i, c in enumerate(coefs_fit):\n",
    "    rad_coefs_fit.append(0)\n",
    "    rad_coefs_fit.append(c)\n",
    "rad_poly_conic = RadialPolynomial(c=cv, ec=1, coefs=rad_coefs_fit).update()"
   ]
  },
  {
   "cell_type": "code",
   "execution_count": 12,
   "metadata": {},
   "outputs": [
    {
     "name": "stdout",
     "output_type": "stream",
     "text": [
      "profile: RadialPolynomial\n",
      "c=-0.999999999999999,   r=-1.000000000000001   conic cnst=0.0\n",
      "coefficients: [0, 0.0, 0, 0.12515897565317008, 0, 0.05701812015383613, 0, 0.11192644308242643, 0, -0.4748466080788697, 0, 2.0246099289062016, 0, -4.801139636197904, 0, 6.9138010096835805, 0, -5.444353644548694, 0, 1.864204456984458]\n",
      "\n"
     ]
    }
   ],
   "source": [
    "listobj(rad_poly_conic)"
   ]
  },
  {
   "cell_type": "code",
   "execution_count": 13,
   "metadata": {},
   "outputs": [
    {
     "name": "stdout",
     "output_type": "stream",
     "text": [
      " 0.0:            0             0\n",
      " 0.1:  -0.00499999     0.0995034\n",
      " 0.2:        -0.02      0.196116\n",
      " 0.3:       -0.045      0.287349\n",
      " 0.4:        -0.08       0.37139\n",
      " 0.5:       -0.125      0.447215\n",
      " 0.6:        -0.18      0.514494\n",
      " 0.7:       -0.245      0.573464\n",
      " 0.8:        -0.32      0.624704\n",
      " 0.9:       -0.405      0.669541\n",
      " 1.0:    -0.623621             1\n"
     ]
    }
   ],
   "source": [
    "for y in np.arange(0., 1.1, .1):\n",
    "    sag_z = even_poly_conic_fit.sag(0, y)\n",
    "    print('{:4.1f}: {:12.6g}  {:12.6g}'.format(y, sag_z, even_poly_conic_fit.normal(np.array([0, y, sag_z]))[1]))"
   ]
  },
  {
   "cell_type": "code",
   "execution_count": 14,
   "metadata": {},
   "outputs": [
    {
     "name": "stdout",
     "output_type": "stream",
     "text": [
      " 0.0:           -0             0\n",
      " 0.1:       -0.005     0.0995037\n",
      " 0.2:        -0.02      0.196116\n",
      " 0.3:       -0.045      0.287348\n",
      " 0.4:        -0.08      0.371391\n",
      " 0.5:       -0.125      0.447214\n",
      " 0.6:        -0.18      0.514496\n",
      " 0.7:       -0.245      0.573462\n",
      " 0.8:        -0.32      0.624695\n",
      " 0.9:       -0.405      0.668965\n",
      " 1.0:         -0.5      0.707107\n"
     ]
    }
   ],
   "source": [
    "for y in np.arange(0., 1.1, .1):\n",
    "    sag_z = conic_prof.sag(0, y)\n",
    "    print('{:4.1f}: {:12.6g}  {:12.6g}'.format(y, sag_z, conic_prof.normal(np.array([0, y, sag_z]))[1]))"
   ]
  },
  {
   "cell_type": "code",
   "execution_count": 15,
   "metadata": {},
   "outputs": [
    {
     "name": "stdout",
     "output_type": "stream",
     "text": [
      " 0.0:           -0             0\n",
      " 0.1:  -0.00501256           0.1\n",
      " 0.2:   -0.0202041           0.2\n",
      " 0.3:   -0.0460608           0.3\n",
      " 0.4:   -0.0834849           0.4\n",
      " 0.5:    -0.133975           0.5\n",
      " 0.6:         -0.2           0.6\n",
      " 0.7:    -0.285857           0.7\n",
      " 0.8:         -0.4           0.8\n",
      " 0.9:     -0.56411           0.9\n",
      " 1.0:           -1             1\n"
     ]
    }
   ],
   "source": [
    "for y in np.arange(0., 1.1, .1):\n",
    "    sag_z = sphere_prof.sag(0, y)\n",
    "    print('{:4.1f}: {:12.6g}  {:12.6g}'.format(y, sag_z, sphere_prof.normal(np.array([0, y, sag_z]))[1]))"
   ]
  },
  {
   "cell_type": "code",
   "execution_count": 16,
   "metadata": {},
   "outputs": [
    {
     "data": {
      "text/plain": [
       "array([-0.00000000e+00, -9.10741152e-10, -1.10960625e-08, -3.40641430e-08,\n",
       "       -4.60914940e-08, -1.85756924e-08,  3.10573792e-08,  4.09961867e-08,\n",
       "       -1.10020378e-08, -4.95448294e-08,  9.25177851e-11,  5.71616149e-08,\n",
       "       -1.06356526e-08, -6.50351538e-08,  7.78544063e-08, -4.42042564e-08,\n",
       "        1.43145271e-08, -2.56242033e-09,  1.98700723e-10])"
      ]
     },
     "execution_count": 16,
     "metadata": {},
     "output_type": "execute_result"
    }
   ],
   "source": [
    "np.array([conic_prof.sag(0., y)-even_poly_conic_fit.sag(0., y) for y in np.arange(0., .95, .05)])"
   ]
  },
  {
   "cell_type": "code",
   "execution_count": 17,
   "metadata": {},
   "outputs": [
    {
     "name": "stdout",
     "output_type": "stream",
     "text": [
      " 0.0:           -0             0\n",
      " 0.1: -1.10961e-08   3.55152e-07\n",
      " 0.2: -4.60915e-08  -1.01041e-07\n",
      " 0.3:  3.10574e-08  -7.09939e-07\n",
      " 0.4:  -1.1002e-08   1.02368e-06\n",
      " 0.5:  9.25178e-11  -1.16477e-06\n",
      " 0.6: -1.06357e-08   1.42755e-06\n",
      " 0.7:  7.78544e-08  -1.42814e-06\n",
      " 0.8:  1.43145e-08   -9.2203e-06\n",
      " 0.9:  1.98701e-10  -0.000576324\n"
     ]
    }
   ],
   "source": [
    "for y in np.arange(0., 1.0, .1):\n",
    "    sag_z_conic = conic_prof.sag(0., y)\n",
    "    sag_z_poly = even_poly_conic_fit.sag(0, y)\n",
    "    sag_z_delta = conic_prof.sag(0., y)-even_poly_conic_fit.sag(0, y)\n",
    "    slope_y_delta = conic_prof.normal(np.array([0, y, sag_z_conic]))[1]-even_poly_conic_fit.normal(np.array([0, y, sag_z_poly]))[1]\n",
    "    print('{:4.1f}: {:12.6g}  {:12.6g}'.format(y, sag_z_delta, slope_y_delta))"
   ]
  },
  {
   "cell_type": "markdown",
   "metadata": {},
   "source": [
    "# Create a new model"
   ]
  },
  {
   "cell_type": "code",
   "execution_count": 18,
   "metadata": {},
   "outputs": [],
   "source": [
    "opm = OpticalModel()\n",
    "sm = opm.seq_model\n",
    "osp = opm.optical_spec\n",
    "pm = opm.parax_model\n",
    "em = opm.ele_model"
   ]
  },
  {
   "cell_type": "markdown",
   "metadata": {},
   "source": [
    "## Define first order aperture and field for system"
   ]
  },
  {
   "cell_type": "code",
   "execution_count": 19,
   "metadata": {},
   "outputs": [],
   "source": [
    "osp.pupil = PupilSpec(osp, key=['object', 'pupil'], value=.5)\n",
    "osp.field_of_view = FieldSpec(osp, key=['object', 'height'], flds=[0.])\n",
    "osp.spectral_region = WvlSpec([('d', 1.0)], ref_wl=0)"
   ]
  },
  {
   "cell_type": "markdown",
   "metadata": {},
   "source": [
    "## Define interface and gap data for the sequential model"
   ]
  },
  {
   "cell_type": "code",
   "execution_count": 20,
   "metadata": {},
   "outputs": [],
   "source": [
    "sm.gaps[0].thi=1e11\n",
    "\n",
    "\n",
    "opm.add_dummy_plane(t=1)\n",
    "\n",
    "opm.add_mirror(profile=even_poly_conic_fit, t=-0.5)"
   ]
  },
  {
   "cell_type": "markdown",
   "metadata": {},
   "source": [
    "## Update the model"
   ]
  },
  {
   "cell_type": "raw",
   "metadata": {},
   "source": [
    "opm.update_model()"
   ]
  },
  {
   "cell_type": "raw",
   "metadata": {},
   "source": [
    "sm.gaps[1].thi=1\n",
    "sm.gaps[2].thi=-.5"
   ]
  },
  {
   "cell_type": "code",
   "execution_count": 21,
   "metadata": {},
   "outputs": [],
   "source": [
    "opm.update_model()"
   ]
  },
  {
   "cell_type": "code",
   "execution_count": 22,
   "metadata": {},
   "outputs": [
    {
     "name": "stdout",
     "output_type": "stream",
     "text": [
      "              c            t        medium     mode   zdr      sd\n",
      "  Obj:     0.000000  1.00000e+11       air             1      0.0000\n",
      "    1:     0.000000      1.00000       air             1     0.25000\n",
      "    2:    -1.000000    -0.500000       air    reflect -1     0.25000\n",
      "  Img:    -0.000000      0.00000                      -1  1.0722e-06\n"
     ]
    }
   ],
   "source": [
    "sm.list_model()"
   ]
  },
  {
   "cell_type": "code",
   "execution_count": 23,
   "metadata": {},
   "outputs": [
    {
     "name": "stdout",
     "output_type": "stream",
     "text": [
      "profile: EvenPolynomial\n",
      "c=-0.999999999999999,   r=-1.000000000000001   conic cnst=0\n",
      "coefficients: [ 0.          0.12515898  0.05701812  0.11192644 -0.47484661  2.02460993\n",
      " -4.80113964  6.91380101 -5.44435364  1.86420446]\n",
      "\n"
     ]
    }
   ],
   "source": [
    "listobj(sm.ifcs[2].profile)"
   ]
  },
  {
   "cell_type": "markdown",
   "metadata": {},
   "source": [
    "# Draw a lens picture"
   ]
  },
  {
   "cell_type": "code",
   "execution_count": 24,
   "metadata": {},
   "outputs": [
    {
     "data": {
      "application/vnd.jupyter.widget-view+json": {
       "model_id": "29bde387dff74278b760c99e46433508",
       "version_major": 2,
       "version_minor": 0
      },
      "image/png": "[encoded data removed]",
      "text/html": [
       "\n",
       "            <div style=\"display: inline-block;\">\n",
       "                <div class=\"jupyter-widgets widget-label\" style=\"text-align: center;\">\n",
       "                    Figure\n",
       "                </div>\n",
       "                <img src='data:image/png;base64,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' width=640.0/>\n",
       "            </div>\n",
       "        "
      ],
      "text/plain": [
       "Canvas(toolbar=Toolbar(toolitems=[('Home', 'Reset original view', 'home', 'home'), ('Back', 'Back to previous …"
      ]
     },
     "metadata": {},
     "output_type": "display_data"
    }
   ],
   "source": [
    "layout_plt1 = plt.figure(FigureClass=InteractiveLayout, opt_model=opm,\n",
    "                        do_draw_rays=True, do_paraxial_layout=False, is_dark=isdark).plot()"
   ]
  },
  {
   "cell_type": "code",
   "execution_count": 25,
   "metadata": {},
   "outputs": [
    {
     "data": {
      "application/vnd.jupyter.widget-view+json": {
       "model_id": "849cb595961b4afd86d88276ebf2f7ab",
       "version_major": 2,
       "version_minor": 0
      },
      "image/png": "[encoded data removed]",
      "text/html": [
       "\n",
       "            <div style=\"display: inline-block;\">\n",
       "                <div class=\"jupyter-widgets widget-label\" style=\"text-align: center;\">\n",
       "                    Figure\n",
       "                </div>\n",
       "                <img src='data:image/png;base64,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' width=640.0/>\n",
       "            </div>\n",
       "        "
      ],
      "text/plain": [
       "Canvas(toolbar=Toolbar(toolitems=[('Home', 'Reset original view', 'home', 'home'), ('Back', 'Back to previous …"
      ]
     },
     "metadata": {},
     "output_type": "display_data"
    }
   ],
   "source": [
    "abr_plt1 = plt.figure(FigureClass=RayFanFigure, opt_model=opm, data_type='Ray',\n",
    "                      scale_type=Fit.User_Scale, user_scale_value=0.01, is_dark=isdark).plot()"
   ]
  },
  {
   "cell_type": "code",
   "execution_count": 26,
   "metadata": {},
   "outputs": [],
   "source": [
    "s1=sm.ifcs[2]\n",
    "g=sm.gaps[1]"
   ]
  },
  {
   "cell_type": "code",
   "execution_count": 27,
   "metadata": {},
   "outputs": [],
   "source": [
    "s1.profile = rad_poly_conic\n",
    "opm.update_model()"
   ]
  },
  {
   "cell_type": "markdown",
   "metadata": {},
   "source": [
    "# Draw a lens picture"
   ]
  },
  {
   "cell_type": "code",
   "execution_count": 28,
   "metadata": {},
   "outputs": [
    {
     "data": {
      "application/vnd.jupyter.widget-view+json": {
       "model_id": "a4687882f569486a9b5514569b4cb102",
       "version_major": 2,
       "version_minor": 0
      },
      "image/png": "[encoded data removed]",
      "text/html": [
       "\n",
       "            <div style=\"display: inline-block;\">\n",
       "                <div class=\"jupyter-widgets widget-label\" style=\"text-align: center;\">\n",
       "                    Figure\n",
       "                </div>\n",
       "                <img src='data:image/png;base64,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' width=640.0/>\n",
       "            </div>\n",
       "        "
      ],
      "text/plain": [
       "Canvas(toolbar=Toolbar(toolitems=[('Home', 'Reset original view', 'home', 'home'), ('Back', 'Back to previous …"
      ]
     },
     "metadata": {},
     "output_type": "display_data"
    }
   ],
   "source": [
    "layout_plt2 = plt.figure(FigureClass=InteractiveLayout, opt_model=opm,\n",
    "                         do_draw_beams=True, \n",
    "                         do_draw_edge_rays=True, \n",
    "                         do_draw_ray_fans=False, \n",
    "                         do_paraxial_layout=False, \n",
    "                         is_dark=isdark).plot()"
   ]
  },
  {
   "cell_type": "code",
   "execution_count": 29,
   "metadata": {},
   "outputs": [
    {
     "data": {
      "application/vnd.jupyter.widget-view+json": {
       "model_id": "7859f4376fa845ccb2e595b3c2c80b13",
       "version_major": 2,
       "version_minor": 0
      },
      "image/png": "[encoded data removed]",
      "text/html": [
       "\n",
       "            <div style=\"display: inline-block;\">\n",
       "                <div class=\"jupyter-widgets widget-label\" style=\"text-align: center;\">\n",
       "                    Figure\n",
       "                </div>\n",
       "                <img src='data:image/png;base64,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' width=640.0/>\n",
       "            </div>\n",
       "        "
      ],
      "text/plain": [
       "Canvas(toolbar=Toolbar(toolitems=[('Home', 'Reset original view', 'home', 'home'), ('Back', 'Back to previous …"
      ]
     },
     "metadata": {},
     "output_type": "display_data"
    }
   ],
   "source": [
    "abr_plt2 = plt.figure(FigureClass=RayFanFigure, opt_model=opm, data_type='Ray',\n",
    "                      scale_type=Fit.User_Scale, user_scale_value=0.01, is_dark=isdark).plot()"
   ]
  },
  {
   "cell_type": "code",
   "execution_count": 30,
   "metadata": {},
   "outputs": [
    {
     "name": "stdout",
     "output_type": "stream",
     "text": [
      " 0.0:            0             0\n",
      " 0.1:  -0.00499999     0.0995034\n",
      " 0.2:        -0.02      0.196116\n",
      " 0.3:       -0.045      0.287349\n",
      " 0.4:        -0.08       0.37139\n",
      " 0.5:       -0.125      0.447215\n",
      " 0.6:        -0.18      0.514494\n",
      " 0.7:       -0.245      0.573464\n",
      " 0.8:        -0.32      0.624704\n",
      " 0.9:       -0.405      0.669541\n",
      " 1.0:    -0.623621             1\n"
     ]
    }
   ],
   "source": [
    "for y in np.arange(0., 1.1, .1):\n",
    "    sag_z = rad_poly_conic.sag(0, y)\n",
    "    print('{:4.1f}: {:12.6g}  {:12.6g}'.format(y, sag_z, rad_poly_conic.normal(np.array([0, y, sag_z]))[1]))"
   ]
  },
  {
   "cell_type": "code",
   "execution_count": 31,
   "metadata": {},
   "outputs": [],
   "source": [
    "even_poly = EvenPolynomial(c=cv, ec=ec, coefs=[0., 0.25]).update()\n",
    "rad_poly = RadialPolynomial(c=cv, ec=ec, coefs=[0., 0., 0., 0.25]).update()"
   ]
  },
  {
   "cell_type": "code",
   "execution_count": 32,
   "metadata": {},
   "outputs": [
    {
     "name": "stdout",
     "output_type": "stream",
     "text": [
      " 0.0:            0             0\n",
      " 0.1:    -0.004975     0.0985184\n",
      " 0.2:      -0.0196      0.188556\n",
      " 0.3:    -0.042975      0.263362\n",
      " 0.4:      -0.0736      0.318502\n",
      " 0.5:    -0.109375      0.351123\n",
      " 0.6:      -0.1476      0.358479\n",
      " 0.7:    -0.184975      0.336217\n",
      " 0.8:      -0.2176      0.276751\n",
      " 0.9:    -0.240975      0.168553\n",
      " 1.0:        -0.25  -9.99201e-16\n"
     ]
    }
   ],
   "source": [
    "for y in np.arange(0., 1.1, .1):\n",
    "    sag_z = even_poly.sag(0, y)\n",
    "    print('{:4.1f}: {:12.6g}  {:12.6g}'.format(y, sag_z, even_poly.normal(np.array([0, y, sag_z]))[1]))"
   ]
  },
  {
   "cell_type": "code",
   "execution_count": 33,
   "metadata": {},
   "outputs": [
    {
     "name": "stdout",
     "output_type": "stream",
     "text": [
      " 0.0:            0             0\n",
      " 0.1:    -0.004975     0.0985184\n",
      " 0.2:      -0.0196      0.188556\n",
      " 0.3:    -0.042975      0.263362\n",
      " 0.4:      -0.0736      0.318502\n",
      " 0.5:    -0.109375      0.351123\n",
      " 0.6:      -0.1476      0.358479\n",
      " 0.7:    -0.184975      0.336217\n",
      " 0.8:      -0.2176      0.276751\n",
      " 0.9:    -0.240975      0.168553\n",
      " 1.0:        -0.25  -9.99201e-16\n"
     ]
    }
   ],
   "source": [
    "for y in np.arange(0., 1.1, .1):\n",
    "    sag_z = rad_poly.sag(0, y)\n",
    "    print('{:4.1f}: {:12.6g}  {:12.6g}'.format(y, sag_z, rad_poly.normal(np.array([0, y, sag_z]))[1]))"
   ]
  },
  {
   "cell_type": "code",
   "execution_count": 34,
   "metadata": {},
   "outputs": [],
   "source": [
    "even_poly_only = EvenPolynomial(coefs=[0., 0.25]).update()\n",
    "rad_poly_only = RadialPolynomial(coefs=[0., 0., 0., 0.25]).update()"
   ]
  },
  {
   "cell_type": "code",
   "execution_count": 35,
   "metadata": {},
   "outputs": [
    {
     "name": "stdout",
     "output_type": "stream",
     "text": [
      " 0.0:            0            -0\n",
      " 0.1:      2.5e-05        -0.001\n",
      " 0.2:       0.0004   -0.00799974\n",
      " 0.3:     0.002025    -0.0269902\n",
      " 0.4:       0.0064    -0.0638693\n",
      " 0.5:     0.015625     -0.124035\n",
      " 0.6:       0.0324     -0.211131\n",
      " 0.7:     0.060025     -0.324445\n",
      " 0.8:       0.1024     -0.455738\n",
      " 0.9:     0.164025     -0.589084\n",
      " 1.0:         0.25     -0.707107\n"
     ]
    }
   ],
   "source": [
    "for y in np.arange(0., 1.1, .1):\n",
    "    sag_z = even_poly_only.sag(0, y)\n",
    "    print('{:4.1f}: {:12.6g}  {:12.6g}'.format(y, sag_z, even_poly_only.normal(np.array([0, y, sag_z]))[1]))"
   ]
  },
  {
   "cell_type": "code",
   "execution_count": 36,
   "metadata": {},
   "outputs": [
    {
     "name": "stdout",
     "output_type": "stream",
     "text": [
      " 0.0:            0            -0\n",
      " 0.1:      2.5e-05        -0.001\n",
      " 0.2:       0.0004   -0.00799974\n",
      " 0.3:     0.002025    -0.0269902\n",
      " 0.4:       0.0064    -0.0638693\n",
      " 0.5:     0.015625     -0.124035\n",
      " 0.6:       0.0324     -0.211131\n",
      " 0.7:     0.060025     -0.324445\n",
      " 0.8:       0.1024     -0.455738\n",
      " 0.9:     0.164025     -0.589084\n",
      " 1.0:         0.25     -0.707107\n"
     ]
    }
   ],
   "source": [
    "for y in np.arange(0., 1.1, .1):\n",
    "    sag_z = rad_poly_only.sag(0, y)\n",
    "    print('{:4.1f}: {:12.6g}  {:12.6g}'.format(y, sag_z, rad_poly_only.normal(np.array([0, y, sag_z]))[1]))"
   ]
  },
  {
   "cell_type": "code",
   "execution_count": 37,
   "metadata": {},
   "outputs": [],
   "source": [
    "s1.profile = even_poly_only\n",
    "opm.update_model()"
   ]
  },
  {
   "cell_type": "code",
   "execution_count": 38,
   "metadata": {},
   "outputs": [
    {
     "data": {
      "application/vnd.jupyter.widget-view+json": {
       "model_id": "c529816ee72642a7adf762253ac6e8f7",
       "version_major": 2,
       "version_minor": 0
      },
      "image/png": "[encoded data removed]",
      "text/html": [
       "\n",
       "            <div style=\"display: inline-block;\">\n",
       "                <div class=\"jupyter-widgets widget-label\" style=\"text-align: center;\">\n",
       "                    Figure\n",
       "                </div>\n",
       "                <img src='data:image/png;base64,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' width=640.0/>\n",
       "            </div>\n",
       "        "
      ],
      "text/plain": [
       "Canvas(toolbar=Toolbar(toolitems=[('Home', 'Reset original view', 'home', 'home'), ('Back', 'Back to previous …"
      ]
     },
     "metadata": {},
     "output_type": "display_data"
    }
   ],
   "source": [
    "layout_plt = plt.figure(FigureClass=InteractiveLayout, opt_model=opm,\n",
    "                        do_draw_rays=False, do_paraxial_layout=False).plot()"
   ]
  },
  {
   "cell_type": "code",
   "execution_count": 39,
   "metadata": {},
   "outputs": [
    {
     "name": "stdout",
     "output_type": "stream",
     "text": [
      "profile: EvenPolynomial\n",
      "c=0.0,   r=0.0   conic cnst=0.0\n",
      "coefficients: [0.0, 0.25]\n",
      "\n"
     ]
    }
   ],
   "source": [
    "listobj(even_poly_only)"
   ]
  },
  {
   "cell_type": "code",
   "execution_count": 40,
   "metadata": {},
   "outputs": [
    {
     "name": "stdout",
     "output_type": "stream",
     "text": [
      "efl                   0\n",
      "ffl                   0\n",
      "pp1                   0\n",
      "bfl                   0\n",
      "ppk                   0\n",
      "f/#              -2e+11\n",
      "m                     1\n",
      "red                   1\n",
      "obj_dist          1e+11\n",
      "obj_ang        5.73e-10\n",
      "enp_dist       1.11e-05\n",
      "enp_radius         0.25\n",
      "na obj          2.5e-12\n",
      "n obj                 1\n",
      "img_dist          1e+10\n",
      "img_ht               -1\n",
      "exp_dist          1e+10\n",
      "exp_radius         0.25\n",
      "na img         -2.5e-12\n",
      "n img                -1\n",
      "optical invariant      2.5e-12\n"
     ]
    }
   ],
   "source": [
    "pm.first_order_data()"
   ]
  },
  {
   "cell_type": "code",
   "execution_count": null,
   "metadata": {},
   "outputs": [],
   "source": []
  }
 ],
 "metadata": {
  "kernelspec": {
   "display_name": "Python 3 (ipykernel)",
   "language": "python",
   "name": "python3"
  },
  "language_info": {
   "codemirror_mode": {
    "name": "ipython",
    "version": 3
   },
   "file_extension": ".py",
   "mimetype": "text/x-python",
   "name": "python",
   "nbconvert_exporter": "python",
   "pygments_lexer": "ipython3",
   "version": "3.8.12"
  }
 },
 "nbformat": 4,
 "nbformat_minor": 4
}
