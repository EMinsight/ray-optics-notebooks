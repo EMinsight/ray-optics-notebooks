{
 "cells": [
  {
   "cell_type": "code",
   "execution_count": 1,
   "metadata": {},
   "outputs": [],
   "source": [
    "#%matplotlib inline\n",
    "%matplotlib widget"
   ]
  },
  {
   "cell_type": "code",
   "execution_count": 2,
   "metadata": {},
   "outputs": [],
   "source": [
    "# initialization\n",
    "from rayoptics.environment import *\n",
    "\n",
    "from rayoptics.optical import analyses\n",
    "from rayoptics.mpl.analysisfigure import Wavefront, RayFanPlot, AnalysisFigure\n",
    "\n",
    "from matplotlib import gridspec\n",
    "\n",
    "import ipywidgets as widgets\n",
    "from ipywidgets import interact, interactive, fixed, interact_manual"
   ]
  },
  {
   "cell_type": "code",
   "execution_count": 3,
   "metadata": {},
   "outputs": [],
   "source": [
    "root_pth = Path(rayoptics.__file__).resolve().parent"
   ]
  },
  {
   "cell_type": "markdown",
   "metadata": {},
   "source": [
    "# Create a new model"
   ]
  },
  {
   "cell_type": "code",
   "execution_count": 4,
   "metadata": {},
   "outputs": [],
   "source": [
    "opm = OpticalModel()\n",
    "sm = opm.seq_model\n",
    "osp = opm.optical_spec\n",
    "pm = opm.parax_model"
   ]
  },
  {
   "cell_type": "markdown",
   "metadata": {},
   "source": [
    "## Define first order aperture and field for system"
   ]
  },
  {
   "cell_type": "code",
   "execution_count": 5,
   "metadata": {},
   "outputs": [],
   "source": [
    "pupil_diameter = 100.\n",
    "pupil_radius = pupil_diameter/2\n",
    "osp.pupil = PupilSpec(osp, key=['object', 'pupil'], value=pupil_diameter)\n",
    "\n",
    "# single field on-axis\n",
    "osp.field_of_view = FieldSpec(osp, key=['object', 'angle'], flds=[0.0])\n",
    "\n",
    "# wavelength for analysis: 550nm\n",
    "osp.spectral_region = WvlSpec([(550.0, 1.0)], ref_wl=0)"
   ]
  },
  {
   "cell_type": "markdown",
   "metadata": {},
   "source": [
    "### object at infinity, i.e. collimated input"
   ]
  },
  {
   "cell_type": "code",
   "execution_count": 6,
   "metadata": {},
   "outputs": [],
   "source": [
    "sm.gaps[0].thi = 1e+11"
   ]
  },
  {
   "cell_type": "code",
   "execution_count": 7,
   "metadata": {},
   "outputs": [],
   "source": [
    "#opm.add_mirror(lbl='M1', r=-500., t=-250.)\n",
    "opm.add_mirror(lbl='M1', profile=Conic, r=-500., cc=-1., t=-250.)"
   ]
  },
  {
   "cell_type": "code",
   "execution_count": 8,
   "metadata": {},
   "outputs": [],
   "source": [
    "opm.update_model()\n",
    "fod = osp.parax_data.fod"
   ]
  },
  {
   "cell_type": "markdown",
   "metadata": {},
   "source": [
    "# Draw a lens picture"
   ]
  },
  {
   "cell_type": "code",
   "execution_count": 9,
   "metadata": {},
   "outputs": [
    {
     "data": {
      "application/vnd.jupyter.widget-view+json": {
       "model_id": "7ba40eb78909468aa7bb46103242986e",
       "version_major": 2,
       "version_minor": 0
      },
      "text/plain": [
       "Canvas(toolbar=Toolbar(toolitems=[('Home', 'Reset original view', 'home', 'home'), ('Back', 'Back to previous …"
      ]
     },
     "metadata": {},
     "output_type": "display_data"
    }
   ],
   "source": [
    "layout_plt = plt.figure(FigureClass=InteractiveLayout, opt_model=opm,\n",
    "                        do_draw_rays=True, do_paraxial_layout=False).plot()"
   ]
  },
  {
   "cell_type": "markdown",
   "metadata": {},
   "source": [
    "# List first order data"
   ]
  },
  {
   "cell_type": "code",
   "execution_count": 10,
   "metadata": {},
   "outputs": [
    {
     "name": "stdout",
     "output_type": "stream",
     "text": [
      "efl                 250\n",
      "ffl                -250\n",
      "pp1                  -0\n",
      "bfl                 250\n",
      "ppk                   0\n",
      "f/#                 2.5\n",
      "m                     0\n",
      "red              -4e+08\n",
      "obj_dist          1e+11\n",
      "obj_ang               1\n",
      "enp_dist             -0\n",
      "enp_radius           50\n",
      "na obj            5e-10\n",
      "n obj                 1\n",
      "img_dist           -250\n",
      "img_ht            4.364\n",
      "exp_dist             -0\n",
      "exp_radius           50\n",
      "na img           0.1961\n",
      "n img                -1\n",
      "optical invariant       0.8728\n"
     ]
    }
   ],
   "source": [
    "fod.list_first_order_data()"
   ]
  },
  {
   "cell_type": "code",
   "execution_count": 11,
   "metadata": {},
   "outputs": [
    {
     "data": {
      "text/plain": [
       "0.196116134666751"
      ]
     },
     "execution_count": 11,
     "metadata": {},
     "output_type": "execute_result"
    }
   ],
   "source": [
    "fod.img_na"
   ]
  },
  {
   "cell_type": "code",
   "execution_count": 12,
   "metadata": {},
   "outputs": [
    {
     "data": {
      "text/plain": [
       "-0.0071500000343749995"
      ]
     },
     "execution_count": 12,
     "metadata": {},
     "output_type": "execute_result"
    }
   ],
   "source": [
    "opd = 0.25*opm.nm_to_sys_units(osp.spectral_region.central_wvl)\n",
    "dfoc = opd/(fod.img_na**2/(2*fod.n_img)); dfoc"
   ]
  },
  {
   "cell_type": "code",
   "execution_count": 13,
   "metadata": {},
   "outputs": [],
   "source": [
    "fld, wvl, foc = osp.lookup_fld_wvl_focus(0)"
   ]
  },
  {
   "cell_type": "code",
   "execution_count": 14,
   "metadata": {},
   "outputs": [],
   "source": [
    "osp.defocus.focus_shift = dfoc/2"
   ]
  },
  {
   "cell_type": "markdown",
   "metadata": {},
   "source": [
    "### create fan and grid objects for use by plot grid"
   ]
  },
  {
   "cell_type": "code",
   "execution_count": 15,
   "metadata": {},
   "outputs": [],
   "source": [
    "ray_xfan = analyses.RayFan(opm, f=fld, wl=wvl, xyfan='x')\n",
    "ray_yfan = analyses.RayFan(opm, f=fld, wl=wvl, xyfan='y')\n",
    "ray_grid = analyses.RayGrid(opm, f=fld, wl=wvl)"
   ]
  },
  {
   "cell_type": "markdown",
   "metadata": {},
   "source": [
    "Create lists of fans, data types, and plotting keyword arguments to drive "
   ]
  },
  {
   "cell_type": "code",
   "execution_count": 16,
   "metadata": {},
   "outputs": [],
   "source": [
    "xyabr_fan_list = [(ray_xfan, 'dx', dict(num_points=100)),\n",
    "                  (ray_yfan, 'dy', dict(num_points=100, linestyle='--'))]"
   ]
  },
  {
   "cell_type": "code",
   "execution_count": 17,
   "metadata": {},
   "outputs": [],
   "source": [
    "opd_fan_list = [(ray_yfan, 'opd', dict(linestyle='', linewidth=1, marker='D', markersize=3.5)),\n",
    "                (ray_yfan, 'opd', dict(num_points=100, linewidth=2))]"
   ]
  },
  {
   "cell_type": "markdown",
   "metadata": {},
   "source": [
    "### create focus dashboard"
   ]
  },
  {
   "cell_type": "code",
   "execution_count": 18,
   "metadata": {},
   "outputs": [],
   "source": [
    "def create_focus_dashboard(fig, opm, fld, wvl):\n",
    "    osp = opm.optical_spec\n",
    "    fod = osp.parax_data.fod\n",
    "    foc = osp.defocus.focus_shift\n",
    "    opd = opm.nm_to_sys_units(wvl)\n",
    "    # one wave of defocus\n",
    "    dfoc = opd/(fod.img_na**2/(2*fod.n_img))\n",
    "    qwrt_dfoc = abs(0.25*dfoc)\n",
    "    # one wave of tilt\n",
    "    _, _, ref_sphere_radius = fld.ref_sphere\n",
    "    shft = ref_sphere_radius*opd/fod.exp_radius\n",
    "    defocus=widgets.FloatSlider(min=-qwrt_dfoc, max=+qwrt_dfoc, step=.05*qwrt_dfoc,\n",
    "                                description='defocus', value=foc,\n",
    "                                readout_format='.4f', continuous_update=True)\n",
    "    x_shift=widgets.FloatSlider(min=-1.5*shft, max=+1.5*shft, step=.05*shft,\n",
    "                                description='x shift', value=0.,\n",
    "                                readout_format='.4f', continuous_update=True)\n",
    "    y_shift=widgets.FloatSlider(min=-1.5*shft, max=+1.5*shft, step=.05*shft,\n",
    "                                description='y shift', value=0.,\n",
    "                                readout_format='.4f', continuous_update=True)\n",
    "\n",
    "    def slider_update(change):\n",
    "        dfoc_val = defocus.value\n",
    "        dx = x_shift.value\n",
    "        dy = y_shift.value\n",
    "\n",
    "        # apply changes to fans and grids\n",
    "        for data_obj in fig.data_objs:\n",
    "            data_obj.foc = dfoc_val\n",
    "            data_obj.image_pt_2d = np.array([dx, dy])\n",
    "\n",
    "        # update and plot results\n",
    "        fig.refresh(build='update')\n",
    "        fig2.refresh(build='update')\n",
    "\n",
    "    defocus.observe(slider_update, names='value')\n",
    "    x_shift.observe(slider_update, names='value')\n",
    "    y_shift.observe(slider_update, names='value')\n",
    "    \n",
    "    return defocus, x_shift, y_shift"
   ]
  },
  {
   "cell_type": "code",
   "execution_count": 19,
   "metadata": {},
   "outputs": [
    {
     "data": {
      "application/vnd.jupyter.widget-view+json": {
       "model_id": "a0319a0882974be397aac4e65978b418",
       "version_major": 2,
       "version_minor": 0
      },
      "text/plain": [
       "Canvas(toolbar=Toolbar(toolitems=[('Home', 'Reset original view', 'home', 'home'), ('Back', 'Back to previous …"
      ]
     },
     "metadata": {},
     "output_type": "display_data"
    },
    {
     "data": {
      "application/vnd.jupyter.widget-view+json": {
       "model_id": "a9f186cabee84688a4f53580cf09f870",
       "version_major": 2,
       "version_minor": 0
      },
      "text/plain": [
       "HBox(children=(FloatSlider(value=-0.0035750000171874997, description='defocus', max=0.0071500000343749995, min…"
      ]
     },
     "metadata": {},
     "output_type": "display_data"
    }
   ],
   "source": [
    "fig = plt.figure(FigureClass=AnalysisFigure, data_objs=[ray_grid, ray_xfan, ray_yfan],\n",
    "                 figsize=[9, 5], tight_layout=True)\n",
    "gs = gridspec.GridSpec(nrows=8, ncols=13, figure=fig)\n",
    "\n",
    "Wavefront(fig, gs[:8, :8], ray_grid, user_scale_value=1.5, do_contours=False, title='Wavefront Map')\n",
    "RayFanPlot(fig, gs[:4, 9:], xyabr_fan_list, user_scale_value=0.001, scale_type='user',\n",
    "           yaxis_ticks_position='right', title='Transverse Ray Aberration')\n",
    "RayFanPlot(fig, gs[4:8, 9:], opd_fan_list, user_scale_value=1.5, scale_type='user',\n",
    "           yaxis_ticks_position='right', title='Wavefront Aberration')\n",
    "fig.refresh()\n",
    "defocus, x_shift, y_shift = create_focus_dashboard(fig, opm, fld, wvl)\n",
    "display(widgets.HBox([defocus, y_shift]))"
   ]
  },
  {
   "cell_type": "code",
   "execution_count": 20,
   "metadata": {},
   "outputs": [
    {
     "data": {
      "application/vnd.jupyter.widget-view+json": {
       "model_id": "71a831a7ddde4d4a806e366fb85c9c70",
       "version_major": 2,
       "version_minor": 0
      },
      "text/plain": [
       "Canvas(toolbar=Toolbar(toolitems=[('Home', 'Reset original view', 'home', 'home'), ('Back', 'Back to previous …"
      ]
     },
     "metadata": {},
     "output_type": "display_data"
    }
   ],
   "source": [
    "fig2 = plt.figure(FigureClass=AnalysisFigure, data_objs=[ray_xfan, ray_yfan],\n",
    "                 figsize=[9, 5])\n",
    "gs2 = gridspec.GridSpec(nrows=1, ncols=2, figure=fig2)\n",
    "\n",
    "RayFanPlot(fig2, gs2[0, 0], xyabr_fan_list, user_scale_value=0.001, scale_type='user',\n",
    "           title='Transverse Ray Aberration')\n",
    "RayFanPlot(fig2, gs2[0, 1], opd_fan_list, user_scale_value=1.5, scale_type='user',\n",
    "           yaxis_ticks_position='right', title='Wavefront Aberration')\n",
    "fig2.refresh()"
   ]
  },
  {
   "cell_type": "code",
   "execution_count": 21,
   "metadata": {},
   "outputs": [],
   "source": [
    "fig.clf()\n",
    "fig.refresh(build='update')"
   ]
  },
  {
   "cell_type": "code",
   "execution_count": 22,
   "metadata": {},
   "outputs": [
    {
     "data": {
      "text/plain": [
       "0.0005499999999999999"
      ]
     },
     "execution_count": 22,
     "metadata": {},
     "output_type": "execute_result"
    }
   ],
   "source": [
    "4*opd"
   ]
  },
  {
   "cell_type": "code",
   "execution_count": 23,
   "metadata": {},
   "outputs": [
    {
     "data": {
      "text/plain": [
       "50.0"
      ]
     },
     "execution_count": 23,
     "metadata": {},
     "output_type": "execute_result"
    }
   ],
   "source": [
    "fod.exp_radius"
   ]
  },
  {
   "cell_type": "code",
   "execution_count": 24,
   "metadata": {},
   "outputs": [
    {
     "data": {
      "text/plain": [
       "1.0999999999999998e-05"
      ]
     },
     "execution_count": 24,
     "metadata": {},
     "output_type": "execute_result"
    }
   ],
   "source": [
    "tan_a = 4*opd/fod.exp_radius; tan_a"
   ]
  },
  {
   "cell_type": "code",
   "execution_count": 25,
   "metadata": {},
   "outputs": [
    {
     "data": {
      "text/plain": [
       "250.00357500001718"
      ]
     },
     "execution_count": 25,
     "metadata": {},
     "output_type": "execute_result"
    }
   ],
   "source": [
    "fld.ref_sphere[2]"
   ]
  },
  {
   "cell_type": "code",
   "execution_count": 26,
   "metadata": {},
   "outputs": [
    {
     "data": {
      "text/plain": [
       "0.004125058987500283"
      ]
     },
     "execution_count": 26,
     "metadata": {},
     "output_type": "execute_result"
    }
   ],
   "source": [
    "1.5*tan_a*fld.ref_sphere[2]"
   ]
  },
  {
   "cell_type": "code",
   "execution_count": null,
   "metadata": {},
   "outputs": [],
   "source": []
  }
 ],
 "metadata": {
  "kernelspec": {
   "display_name": "Python 3",
   "language": "python",
   "name": "python3"
  },
  "language_info": {
   "codemirror_mode": {
    "name": "ipython",
    "version": 3
   },
   "file_extension": ".py",
   "mimetype": "text/x-python",
   "name": "python",
   "nbconvert_exporter": "python",
   "pygments_lexer": "ipython3",
   "version": "3.7.7"
  }
 },
 "nbformat": 4,
 "nbformat_minor": 4
}
