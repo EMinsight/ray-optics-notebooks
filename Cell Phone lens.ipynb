{
 "cells": [
  {
   "cell_type": "code",
   "execution_count": 1,
   "metadata": {},
   "outputs": [],
   "source": [
    "#%matplotlib inline\n",
    "%matplotlib widget"
   ]
  },
  {
   "cell_type": "code",
   "execution_count": 2,
   "metadata": {},
   "outputs": [],
   "source": [
    "isdark = True"
   ]
  },
  {
   "cell_type": "code",
   "execution_count": 3,
   "metadata": {},
   "outputs": [],
   "source": [
    "# initialization\n",
    "import itertools\n",
    "from rayoptics.util.misc_math import euler2opt\n",
    "import transforms3d as t3d\n",
    "\n",
    "# use standard rayoptics environment\n",
    "from rayoptics.environment import *\n",
    "\n",
    "from rayoptics.elem.elements import Element, Mirror\n",
    "from rayoptics.elem import parttree\n",
    "\n",
    "# util functions\n",
    "from rayoptics.util.misc_math import normalize"
   ]
  },
  {
   "cell_type": "markdown",
   "metadata": {},
   "source": [
    "# Create a new model"
   ]
  },
  {
   "cell_type": "code",
   "execution_count": 4,
   "metadata": {},
   "outputs": [],
   "source": [
    "opm = OpticalModel()\n",
    "sm = opm.seq_model\n",
    "osp = opm.optical_spec\n",
    "pm = opm.parax_model\n",
    "em = opm.ele_model\n",
    "pt = opm.part_tree"
   ]
  },
  {
   "cell_type": "markdown",
   "metadata": {},
   "source": [
    "## Define first order aperture and field for system"
   ]
  },
  {
   "cell_type": "code",
   "execution_count": 5,
   "metadata": {},
   "outputs": [],
   "source": [
    "osp.pupil = PupilSpec(osp, key=['image', 'f/#'], value=3.5)\n",
    "osp.field_of_view = FieldSpec(osp, key=['image', 'height'], flds=[0., .7071*3.5, 3.5])\n",
    "osp.spectral_region = WvlSpec([(486.1327, 0.5), (587.5618, 1.0), (656.2725, 0.5)], ref_wl=1)"
   ]
  },
  {
   "cell_type": "markdown",
   "metadata": {},
   "source": [
    "## Define interface and gap data for the sequential model"
   ]
  },
  {
   "cell_type": "code",
   "execution_count": 6,
   "metadata": {},
   "outputs": [],
   "source": [
    "opm.system_spec.title = 'Cell Phone Lens - U.S. Patent 7,535,658'\n",
    "opm.system_spec.dimensions = 'MM'\n",
    "opm.radius_mode = True\n",
    "\n",
    "sm.gaps[0].thi=1e10\n",
    "\n",
    "sm.add_surface([0., 0.])\n",
    "sm.set_stop()\n",
    "sm.add_surface([1.962, 1.19, 1.471, 76.6])\n",
    "sm.add_surface([33.398, .93])\n",
    "sm.add_surface([-2.182, .75, 1.603, 27.5])\n",
    "sm.add_surface([-6.367, 0.1])\n",
    "sm.add_surface([5.694, .89, 1.510, 56.2])\n",
    "sm.add_surface([9.192, .16])\n",
    "sm.add_surface([1.674, .85, 1.510, 56.2])\n",
    "sm.add_surface([1.509, .70])\n",
    "sm.add_surface([0., .40, 1.516, 64.1])\n",
    "sm.add_surface([0., .64])\n",
    "\n",
    "asp1 = RadialPolynomial(r=1.962, ec=2.153,\n",
    "                        coefs=[0., 0., -1.895e-2, 2.426e-2, -5.123e-2, 8.371e-4, 7.850e-3, 4.091e-3, -7.732e-3, -4.265e-3])\n",
    "asp2 = RadialPolynomial(r=33.398, ec=40.18,\n",
    "                        coefs=[0., 0., -4.966e-3, -1.434e-2, -6.139e-3, -9.284e-5, 6.438e-3, -5.72e-3, -2.385e-2, 1.108e-2])\n",
    "asp3 = RadialPolynomial(r=-2.182, ec=2.105,\n",
    "                        coefs=[0., 0., -4.388e-2, -2.555e-2, 5.16e-2, -4.307e-2, -2.831e-2, 3.162e-2, 4.630e-2, -4.877e-2])\n",
    "asp4 = RadialPolynomial(r=-6.367, ec=3.382,\n",
    "                        coefs=[0., 0., -1.131e-1, -7.863e-2, 1.094e-1, 6.228e-3, -2.216e-2, -5.89e-3, 4.123e-3, 1.041e-3])\n",
    "asp5 = RadialPolynomial(r=5.694, ec=-221.1,\n",
    "                        coefs=[0., 0., -7.876e-2, 7.02e-2, 1.575e-3, -9.958e-3, -7.322e-3, 6.914e-4, 2.54e-3, -7.65e-4])\n",
    "asp6 = RadialPolynomial(r=9.192, ec=0.9331,\n",
    "                        coefs=[0., 0., 9.694e-3, -2.516e-3, -3.606e-3, -2.497e-4, -6.84e-4, -1.414e-4, 2.932e-4, -7.284e-5])\n",
    "asp7 = RadialPolynomial(r=1.674, ec=-7.617,\n",
    "                        coefs=[0., 0., 7.429e-2, -6.933e-2, -5.811e-3, 2.396e-3, 2.100e-3, -3.119e-4, -5.552e-5, 7.969e-6])\n",
    "asp8 = RadialPolynomial(r=1.509, ec=-2.707,\n",
    "                        coefs=[0., 0., 1.767e-3, -4.652e-2, 1.625e-2, -3.522e-3, -7.106e-4, 3.825e-4, 6.271e-5, -2.631e-5])\n",
    "sm.ifcs[2].profile = asp1\n",
    "sm.ifcs[3].profile = asp2\n",
    "sm.ifcs[4].profile = asp3\n",
    "sm.ifcs[5].profile = asp4\n",
    "sm.ifcs[6].profile = asp5\n",
    "sm.ifcs[7].profile = asp6\n",
    "sm.ifcs[8].profile = asp7\n",
    "sm.ifcs[9].profile = asp8\n"
   ]
  },
  {
   "cell_type": "code",
   "execution_count": 7,
   "metadata": {},
   "outputs": [
    {
     "name": "stdout",
     "output_type": "stream",
     "text": [
      "1:\n",
      "profile: Spherical\n",
      "c=0.0,   r=0.0\n",
      "2:\n",
      "profile: RadialPolynomial\n",
      "c=0.509683995922528,   r=1.9620000000000002   conic cnst=1.153\n",
      "coefficients: [0.0, 0.0, -0.01895, 0.02426, -0.05123, 0.0008371, 0.00785, 0.004091, -0.007732, -0.004265]\n",
      "3:\n",
      "profile: RadialPolynomial\n",
      "c=0.029941912689382594,   r=33.398   conic cnst=39.18\n",
      "coefficients: [0.0, 0.0, -0.004966, -0.01434, -0.006139, -9.284e-05, 0.006438, -0.00572, -0.02385, 0.01108]\n",
      "4:\n",
      "profile: RadialPolynomial\n",
      "c=-0.4582951420714941,   r=-2.182   conic cnst=1.105\n",
      "coefficients: [0.0, 0.0, -0.04388, -0.02555, 0.0516, -0.04307, -0.02831, 0.03162, 0.0463, -0.04877]\n",
      "5:\n",
      "profile: RadialPolynomial\n",
      "c=-0.1570598397989634,   r=-6.367   conic cnst=2.382\n",
      "coefficients: [0.0, 0.0, -0.1131, -0.07863, 0.1094, 0.006228, -0.02216, -0.00589, 0.004123, 0.001041]\n",
      "6:\n",
      "profile: RadialPolynomial\n",
      "c=0.17562346329469616,   r=5.694   conic cnst=-222.1\n",
      "coefficients: [0.0, 0.0, -0.07876, 0.0702, 0.001575, -0.009958, -0.007322, 0.0006914, 0.00254, -0.000765]\n",
      "7:\n",
      "profile: RadialPolynomial\n",
      "c=0.10879025239338555,   r=9.192   conic cnst=-0.06689999999999996\n",
      "coefficients: [0.0, 0.0, 0.009694, -0.002516, -0.003606, -0.0002497, -0.000684, -0.0001414, 0.0002932, -7.284e-05]\n",
      "8:\n",
      "profile: RadialPolynomial\n",
      "c=0.5973715651135006,   r=1.674   conic cnst=-8.617\n",
      "coefficients: [0.0, 0.0, 0.07429, -0.06933, -0.005811, 0.002396, 0.0021, -0.0003119, -5.552e-05, 7.969e-06]\n",
      "9:\n",
      "profile: RadialPolynomial\n",
      "c=0.6626905235255136,   r=1.509   conic cnst=-3.707\n",
      "coefficients: [0.0, 0.0, 0.001767, -0.04652, 0.01625, -0.003522, -0.0007106, 0.0003825, 6.271e-05, -2.631e-05]\n",
      "10:\n",
      "profile: Spherical\n",
      "c=0.0,   r=0.0\n",
      "11:\n",
      "profile: Spherical\n",
      "c=0.0,   r=0.0\n"
     ]
    }
   ],
   "source": [
    "for i, ifc in enumerate(sm.ifcs[1:-1], start=1):\n",
    "    print(f'{i}:')\n",
    "    ifc.profile.listobj()"
   ]
  },
  {
   "cell_type": "markdown",
   "metadata": {},
   "source": [
    "## Update the model"
   ]
  },
  {
   "cell_type": "code",
   "execution_count": 8,
   "metadata": {
    "scrolled": true
   },
   "outputs": [],
   "source": [
    "opm.update_model()"
   ]
  },
  {
   "cell_type": "markdown",
   "metadata": {},
   "source": [
    "## List the sequential model and the first order properties"
   ]
  },
  {
   "cell_type": "code",
   "execution_count": 9,
   "metadata": {},
   "outputs": [
    {
     "name": "stdout",
     "output_type": "stream",
     "text": [
      "              r            t        medium     mode   zdr      sd\n",
      "  Obj:     0.000000  1.00000e+10       air             1  6.3006e+09\n",
      " Stop:     0.000000      0.00000       air             1     0.79358\n",
      "    2:     1.962000      1.19000   471.766             1     0.93800\n",
      "    3:    33.398000     0.930000       air             1      1.0837\n",
      "    4:    -2.182000     0.750000   603.275             1      1.1338\n",
      "    5:    -6.367000     0.100000       air             1      1.5390\n",
      "    6:     5.694000     0.890000   510.562             1      1.8254\n",
      "    7:     9.192000     0.160000       air             1      2.3978\n",
      "    8:     1.674000     0.850000   510.562             1      2.4820\n",
      "    9:     1.509000     0.700000       air             1      2.9297\n",
      "   10:     0.000000     0.400000   516.641             1      3.3067\n",
      "   11:     0.000000     0.640000       air             1      3.4058\n",
      "  Img:     0.000000      0.00000                       1      3.6910\n"
     ]
    }
   ],
   "source": [
    "sm.list_model()"
   ]
  },
  {
   "cell_type": "code",
   "execution_count": 10,
   "metadata": {},
   "outputs": [
    {
     "name": "stdout",
     "output_type": "stream",
     "text": [
      "efl               5.555\n",
      "ffl              -7.531\n",
      "pp1              -1.976\n",
      "bfl              0.5678\n",
      "ppk               4.987\n",
      "f/#                 3.5\n",
      "m            -5.555e-10\n",
      "red            -1.8e+09\n",
      "obj_dist          1e+10\n",
      "obj_ang           32.21\n",
      "enp_dist             -0\n",
      "enp_radius       0.7936\n",
      "na obj        7.936e-11\n",
      "n obj                 1\n",
      "img_dist         0.5678\n",
      "img_ht              3.5\n",
      "exp_dist         -3.602\n",
      "exp_radius       0.5854\n",
      "na img          -0.1414\n",
      "n img                 1\n",
      "optical invariant          0.5\n"
     ]
    }
   ],
   "source": [
    "pm.first_order_data()"
   ]
  },
  {
   "cell_type": "code",
   "execution_count": 11,
   "metadata": {},
   "outputs": [
    {
     "name": "stdout",
     "output_type": "stream",
     "text": [
      "stop surface: 1\n",
      "           y           u           n*i         ybar         ubar        n*ibar\n",
      " 0            0  7.93581e-11  7.93581e-11 -6.30055e+09     0.630055     0.630055\n",
      " 1     0.793581  7.93581e-11  7.93581e-11            0     0.630055     0.630055\n",
      " 2     0.793581    -0.129509     0.404476            0     0.428317     0.630055\n",
      " 3     0.639465     -0.18149    -0.162343     0.509698     0.637243     0.652504\n",
      " 4      0.47068   -0.0320753      -0.3972      1.10233      0.58757     0.132049\n",
      " 5     0.446623    -0.093715    -0.163862      1.54301     0.795741     0.553396\n",
      " 6     0.437252   -0.0879992   -0.0169233      1.62259     0.430735      1.08071\n",
      " 7     0.358933    -0.112964   -0.0739158      2.00594     0.761705     0.979932\n",
      " 8     0.340858    -0.143583    0.0906549      2.12781    0.0751303       2.0328\n",
      " 9     0.218813    -0.142857   0.00214819      2.19167     0.854171      2.30657\n",
      "10     0.118813   -0.0942329    -0.142857      2.78959     0.563438     0.854171\n",
      "11    0.0811199    -0.142857    -0.142857      3.01497     0.854171     0.854171\n",
      "12   -0.0103087    -0.142857    -0.142857      3.56164     0.854171     0.854171\n"
     ]
    }
   ],
   "source": [
    "fo.list_parax_trace(opm)"
   ]
  },
  {
   "cell_type": "markdown",
   "metadata": {},
   "source": [
    "## Create elements from the sequential model and then set semi-diameters and flats for manufacturing and mounting"
   ]
  },
  {
   "cell_type": "code",
   "execution_count": 12,
   "metadata": {},
   "outputs": [],
   "source": [
    "parttree.elements_from_sequence(em, sm, pt)"
   ]
  },
  {
   "cell_type": "code",
   "execution_count": 13,
   "metadata": {},
   "outputs": [],
   "source": [
    "elmn = [e for e in opm.ele_model.elements if isinstance(e, Element) or isinstance(e, Mirror)]"
   ]
  },
  {
   "cell_type": "code",
   "execution_count": 14,
   "metadata": {},
   "outputs": [],
   "source": [
    "elmn[0].sd = 1.25\n",
    "elmn[1].sd = 1.75\n",
    "elmn[1].flat1 = 1.25\n",
    "elmn[1].flat2 = 1.645\n",
    "elmn[1].do_flat1 = 'always'\n",
    "elmn[1].do_flat2 = 'always'\n",
    "elmn[2].sd = 2.5\n",
    "elmn[2].flat1 = 2.1\n",
    "elmn[2].do_flat1 = 'always'\n",
    "elmn[2].do_flat2 = 'always'\n",
    "elmn[3].sd = 3.0\n",
    "elmn[3].flat1 = 2.6\n",
    "elmn[3].do_flat1 = 'always'\n",
    "elmn[3].do_flat2 = 'always'\n",
    "elmn[4].sd = 3.5"
   ]
  },
  {
   "cell_type": "markdown",
   "metadata": {},
   "source": [
    "## Draw a lens layout to verify the model"
   ]
  },
  {
   "cell_type": "code",
   "execution_count": 15,
   "metadata": {},
   "outputs": [
    {
     "data": {
      "application/vnd.jupyter.widget-view+json": {
       "model_id": "67e1c7a0485d4a7e883281f4e0590ac0",
       "version_major": 2,
       "version_minor": 0
      },
      "text/plain": [
       "Canvas(toolbar=Toolbar(toolitems=[('Home', 'Reset original view', 'home', 'home'), ('Back', 'Back to previous …"
      ]
     },
     "metadata": {},
     "output_type": "display_data"
    }
   ],
   "source": [
    "live_layout = plt.figure(FigureClass=InteractiveLayout, opt_model=opm,\n",
    "                         do_draw_rays=True, do_paraxial_layout=False,\n",
    "                         offset_factor=0.1, is_dark=isdark).plot()"
   ]
  },
  {
   "cell_type": "code",
   "execution_count": 16,
   "metadata": {},
   "outputs": [
    {
     "data": {
      "text/plain": [
       "[[1.0, 1.0, 1.0],\n",
       " [1.0, 1.0, 1.0],\n",
       " [1.47466823288944, 1.471, 1.469170103837133],\n",
       " [1.0, 1.0, 1.0],\n",
       " [1.6192290090504393, 1.603, 1.5963558189310294],\n",
       " [1.0, 1.0, 1.0],\n",
       " [1.5159974655636532, 1.51, 1.5072773572773235],\n",
       " [1.0, 1.0, 1.0],\n",
       " [1.5159974655636532, 1.51, 1.5072773572773235],\n",
       " [1.0, 1.0, 1.0],\n",
       " [1.5211816424167774, 1.516, 1.513590045363769],\n",
       " [1.0, 1.0, 1.0]]"
      ]
     },
     "execution_count": 16,
     "metadata": {},
     "output_type": "execute_result"
    }
   ],
   "source": [
    "sm.rndx"
   ]
  },
  {
   "cell_type": "markdown",
   "metadata": {},
   "source": [
    "## Use Pathlib to find the installation directory and save the model."
   ]
  },
  {
   "cell_type": "code",
   "execution_count": 17,
   "metadata": {},
   "outputs": [],
   "source": [
    "root_pth = Path(rayoptics.__file__).resolve().parent\n",
    "\n",
    "opm.save_model(str(root_pth/\"optical/tests/cell_phone_camera\"))"
   ]
  },
  {
   "cell_type": "markdown",
   "metadata": {},
   "source": [
    "## List the element model"
   ]
  },
  {
   "cell_type": "code",
   "execution_count": 18,
   "metadata": {},
   "outputs": [
    {
     "name": "stdout",
     "output_type": "stream",
     "text": [
      "0: Object (DummyInterface): Surface(lbl='Obj', profile=Spherical(c=0.0), interact_mode='dummy')\n",
      "1: Stop (DummyInterface): Surface(profile=Spherical(c=0.0), interact_mode='transmit')\n",
      "2: E1 (Element): Element: RadialPolynomial(c=0.509683995922528, ec=2.153, coefs=[0.0, 0.0, -0.01895, 0.02426, -0.05123, 0.0008371, 0.00785, 0.004091, -0.007732, -0.004265]), RadialPolynomial(c=0.029941912689382594, ec=40.18, coefs=[0.0, 0.0, -0.004966, -0.01434, -0.006139, -9.284e-05, 0.006438, -0.00572, -0.02385, 0.01108]), t=1.1900, sd=1.2500, glass: 471.766\n",
      "3: E2 (Element): Element: RadialPolynomial(c=-0.4582951420714941, ec=2.105, coefs=[0.0, 0.0, -0.04388, -0.02555, 0.0516, -0.04307, -0.02831, 0.03162, 0.0463, -0.04877]), RadialPolynomial(c=-0.1570598397989634, ec=3.382, coefs=[0.0, 0.0, -0.1131, -0.07863, 0.1094, 0.006228, -0.02216, -0.00589, 0.004123, 0.001041]), t=0.7500, sd=1.7500, glass: 603.275\n",
      "4: E3 (Element): Element: RadialPolynomial(c=0.17562346329469616, ec=-221.1, coefs=[0.0, 0.0, -0.07876, 0.0702, 0.001575, -0.009958, -0.007322, 0.0006914, 0.00254, -0.000765]), RadialPolynomial(c=0.10879025239338555, ec=0.9331, coefs=[0.0, 0.0, 0.009694, -0.002516, -0.003606, -0.0002497, -0.000684, -0.0001414, 0.0002932, -7.284e-05]), t=0.8900, sd=2.5000, glass: 510.562\n",
      "5: E4 (Element): Element: RadialPolynomial(c=0.5973715651135006, ec=-7.617, coefs=[0.0, 0.0, 0.07429, -0.06933, -0.005811, 0.002396, 0.0021, -0.0003119, -5.552e-05, 7.969e-06]), RadialPolynomial(c=0.6626905235255136, ec=-2.707, coefs=[0.0, 0.0, 0.001767, -0.04652, 0.01625, -0.003522, -0.0007106, 0.0003825, 6.271e-05, -2.631e-05]), t=0.8500, sd=3.0000, glass: 510.562\n",
      "6: E5 (Element): Element: Spherical(c=0.0), Spherical(c=0.0), t=0.4000, sd=3.5000, glass: 516.641\n",
      "7: Image (DummyInterface): Surface(lbl='Img', profile=Spherical(c=0.0), interact_mode='dummy')\n"
     ]
    }
   ],
   "source": [
    "opm['ele_model'].list_model()"
   ]
  },
  {
   "cell_type": "markdown",
   "metadata": {},
   "source": [
    "## Trace axial marginal ray"
   ]
  },
  {
   "cell_type": "code",
   "execution_count": 19,
   "metadata": {},
   "outputs": [
    {
     "name": "stdout",
     "output_type": "stream",
     "text": [
      "            X            Y            Z           L            M            N               Len\n",
      "  0:      0.00000      1.00000            0     0.000000     0.000000     1.000000        1e+10\n",
      "  1:      0.00000      1.00000            0     0.000000     0.000000     1.000000      0.26119\n",
      "  2:      0.00000      1.00000      0.26119     0.000000    -0.163284     0.986579      0.93632\n",
      "  3:      0.00000      0.84711   -0.0050525     0.000000    -0.272278     0.962219      0.86687\n",
      "  4:      0.00000      0.61108     -0.10094     0.000000    -0.024063     0.999710      0.79796\n",
      "  5:      0.00000      0.59188    -0.053212     0.000000    -0.171810     0.985130      0.16841\n",
      "  6:      0.00000      0.56295     0.012694     0.000000    -0.122925     0.992416      0.89598\n",
      "  7:      0.00000      0.45281      0.01188     0.000000    -0.158261     0.987397       0.2017\n",
      "  8:      0.00000      0.42089     0.051033     0.000000    -0.178956     0.983857      0.83614\n",
      "  9:      0.00000      0.27126     0.023675     0.000000    -0.185004     0.982738       0.6882\n",
      " 10:      0.00000      0.14394            0     0.000000    -0.122034     0.992526      0.40301\n",
      " 11:      0.00000      0.09476            0     0.000000    -0.185004     0.982738      0.65124\n",
      " 12:      0.00000     -0.02573            0     0.000000    -0.185004     0.982738            0\n"
     ]
    }
   ],
   "source": [
    "pt0 = np.array([0., 1., 0.])\n",
    "dir0 = np.array([0., 0., 1.])\n",
    "wvl = sm.central_wavelength()\n",
    "marg_ray = rt.trace(sm, pt0, dir0, wvl)\n",
    "list_ray(marg_ray[0])"
   ]
  },
  {
   "cell_type": "code",
   "execution_count": 20,
   "metadata": {},
   "outputs": [
    {
     "name": "stdout",
     "output_type": "stream",
     "text": [
      "0 [ 0.e+00  0.e+00 -1.e+10] -0.0 0.0 0.0\n",
      "1 [0. 0. 0.] -0.0 0.0 0.0\n",
      "2 [0. 0. 0.] -0.0 0.0 0.0\n",
      "3 [0.   0.   1.19] -0.0 0.0 0.0\n",
      "4 [0.   0.   2.12] -0.0 0.0 0.0\n",
      "5 [0.   0.   2.87] -0.0 0.0 0.0\n",
      "6 [0.   0.   2.97] -0.0 0.0 0.0\n",
      "7 [0.   0.   3.86] -0.0 0.0 0.0\n",
      "8 [0.   0.   4.02] -0.0 0.0 0.0\n",
      "9 [0.   0.   4.87] -0.0 0.0 0.0\n",
      "10 [0.   0.   5.57] -0.0 0.0 0.0\n",
      "11 [0.   0.   5.97] -0.0 0.0 0.0\n",
      "12 [0.   0.   6.61] -0.0 0.0 0.0\n"
     ]
    }
   ],
   "source": [
    "g_tfrms = sm.compute_global_coords(glo=2)\n",
    "for i, rottrn in enumerate(g_tfrms):\n",
    "    r, t = rottrn\n",
    "    print(i, t, *np.rad2deg(euler2opt(t3d.euler.mat2euler(r))))"
   ]
  },
  {
   "cell_type": "code",
   "execution_count": 21,
   "metadata": {},
   "outputs": [],
   "source": [
    "glo=2\n",
    "seq = itertools.zip_longest(sm.ifcs[glo::-1], sm.gaps[glo-1::-1])"
   ]
  },
  {
   "cell_type": "code",
   "execution_count": 22,
   "metadata": {},
   "outputs": [
    {
     "data": {
      "text/plain": [
       "[(Surface(profile=RadialPolynomial(c=0.509683995922528, ec=2.153, coefs=[0.0, 0.0, -0.01895, 0.02426, -0.05123, 0.0008371, 0.00785, 0.004091, -0.007732, -0.004265]), interact_mode='transmit'),\n",
       "  Gap(t=0.0, medium=Air())),\n",
       " (Surface(profile=Spherical(c=0.0), interact_mode='transmit'),\n",
       "  Gap(t=10000000000.0, medium=Air())),\n",
       " (Surface(lbl='Obj', profile=Spherical(c=0.0), interact_mode='dummy'), None)]"
      ]
     },
     "execution_count": 22,
     "metadata": {},
     "output_type": "execute_result"
    }
   ],
   "source": [
    "list(seq)"
   ]
  },
  {
   "cell_type": "code",
   "execution_count": 23,
   "metadata": {},
   "outputs": [
    {
     "name": "stdout",
     "output_type": "stream",
     "text": [
      "              r            t        medium     mode   zdr      sd\n",
      "  Obj:     0.000000  1.00000e+10       air             1  6.3006e+09\n",
      " Stop:     0.000000      0.00000       air             1     0.79358\n",
      "    2:     1.962000      1.19000   471.766             1     0.93800\n",
      "    3:    33.398000     0.930000       air             1      1.0837\n",
      "    4:    -2.182000     0.750000   603.275             1      1.1338\n",
      "    5:    -6.367000     0.100000       air             1      1.5390\n",
      "    6:     5.694000     0.890000   510.562             1      1.8254\n",
      "    7:     9.192000     0.160000       air             1      2.3978\n",
      "    8:     1.674000     0.850000   510.562             1      2.4820\n",
      "    9:     1.509000     0.700000       air             1      2.9297\n",
      "   10:     0.000000     0.400000   516.641             1      3.3067\n",
      "   11:     0.000000     0.640000       air             1      3.4058\n",
      "  Img:     0.000000      0.00000                       1      3.6910\n"
     ]
    }
   ],
   "source": [
    "sm.list_model()"
   ]
  },
  {
   "cell_type": "code",
   "execution_count": 24,
   "metadata": {},
   "outputs": [
    {
     "data": {
      "text/plain": [
       "(array([0.08601351, 0.17302717, 0.98115405]),\n",
       " [0.086, 0.173, 0.981],\n",
       " array([-0.08601351, -0.17302717,  0.        ]))"
      ]
     },
     "execution_count": 24,
     "metadata": {},
     "output_type": "execute_result"
    }
   ],
   "source": [
    "dir0 = normalize(np.array([0.086, 0.173, 0.981]))\n",
    "pt1 = np.array(-dir0)\n",
    "sm.gaps[1].thi = dir0[2]\n",
    "pt1[2] = 0.\n",
    "dir0, [0.086, 0.173, 0.981], pt1"
   ]
  },
  {
   "cell_type": "markdown",
   "metadata": {},
   "source": [
    "## Trace an arbitrary skew ray using the low level trace_raw function."
   ]
  },
  {
   "cell_type": "code",
   "execution_count": 25,
   "metadata": {},
   "outputs": [
    {
     "name": "stdout",
     "output_type": "stream",
     "text": [
      "            X            Y            Z           L            M            N               Len\n",
      "  0:     -0.08601     -0.17303            0     0.086014     0.173027     0.981154     0.009449\n",
      "  1:     -0.08520     -0.17139     0.009271     0.072254     0.145349     0.986739       1.1966\n",
      "  2:      0.00126      0.00253         1.19     0.106304     0.213844     0.971066      0.94474\n",
      "  3:      0.10169      0.20456       2.1074     0.085295     0.171581     0.981471      0.75899\n",
      "  4:      0.16643      0.33479       2.8523     0.106581     0.214401     0.970913      0.12979\n",
      "  5:      0.18026      0.36261       2.9783     0.066253     0.133277     0.988862      0.90879\n",
      "  6:      0.24047      0.48374        3.877     0.115071     0.231480     0.966010      0.24881\n",
      "  7:      0.26910      0.54133       4.1174     0.032613     0.065605     0.997313      0.88059\n",
      "  8:      0.29782      0.59910       4.9956     0.126731     0.254936     0.958617       0.5992\n",
      "  9:      0.37376      0.75186         5.57     0.083596     0.168164     0.982208      0.40725\n",
      " 10:      0.40780      0.82034         5.97     0.126731     0.254936     0.958617      0.66763\n",
      " 11:      0.49241      0.99054         6.61     0.126731     0.254936     0.958617            0\n"
     ]
    }
   ],
   "source": [
    "wvl = sm.central_wavelength()\n",
    "\n",
    "path = sm.path(wl=wvl, start=1)\n",
    "skew_ray = rt.trace_raw(path, pt1, dir0, wvl)\n",
    "\n",
    "list_ray(skew_ray[0], tfrms=g_tfrms[1:])"
   ]
  },
  {
   "cell_type": "code",
   "execution_count": 26,
   "metadata": {},
   "outputs": [
    {
     "name": "stdout",
     "output_type": "stream",
     "text": [
      "  0:     -0.08601     -0.17303            0     0.086014     0.173027     0.981154     0.000000     0.000000     1.000000     0.009449\n",
      "  1:     -0.08520     -0.17139     0.009271     0.072254     0.145349     0.986739     0.042901     0.086301     0.995345       1.1966\n",
      "  2:      0.00126      0.00253   1.1955e-07     0.106304     0.213844     0.971066    -0.000038    -0.000076     1.000000      0.94474\n",
      "  3:      0.10169      0.20456    -0.012595     0.085295     0.171581     0.981471     0.050195     0.100974     0.993622      0.75899\n",
      "  4:      0.16643      0.33479    -0.017664     0.106581     0.214401     0.970913     0.049732     0.100042     0.993740      0.12979\n",
      "  5:      0.18026      0.36261    0.0083478     0.066253     0.133277     0.988862    -0.012514    -0.025174     0.999605      0.90879\n",
      "  6:      0.24047      0.48374     0.017019     0.115071     0.231480     0.966010    -0.028450    -0.057230     0.997956      0.24881\n",
      "  7:      0.26910      0.54133     0.097372     0.032613     0.065605     0.997313    -0.117584    -0.236536     0.964482      0.88059\n",
      "  8:      0.29782      0.59910       0.1256     0.126731     0.254936     0.958617    -0.134914    -0.271396     0.952965       0.5992\n",
      "  9:      0.37376      0.75186            0     0.083596     0.168164     0.982208    -0.000000    -0.000000     1.000000      0.40725\n",
      " 10:      0.40780      0.82034            0     0.126731     0.254936     0.958617    -0.000000    -0.000000     1.000000      0.66763\n",
      " 11:      0.49241      0.99054            0     0.126731     0.254936     0.958617    -0.000000    -0.000000     1.000000            0\n"
     ]
    }
   ],
   "source": [
    "colFormats = \"{:3d}: {:12.5f} {:12.5f} {:12.5g} {:12.6f} {:12.6f} {:12.6f} {:12.6f} {:12.6f} {:12.6f} {:12.5g}\"\n",
    "for i, r in enumerate(skew_ray[0]):\n",
    "    print(colFormats.format(i,\n",
    "                            r[mc.p][0], r[mc.p][1], r[mc.p][2],\n",
    "                            r[mc.d][0], r[mc.d][1], r[mc.d][2],\n",
    "                            r[mc.nrml][0], r[mc.nrml][1], r[mc.nrml][2],\n",
    "                            r[mc.dst]))"
   ]
  },
  {
   "cell_type": "code",
   "execution_count": 27,
   "metadata": {},
   "outputs": [
    {
     "name": "stdout",
     "output_type": "stream",
     "text": [
      "              r            t        medium     mode   zdr      sd\n",
      "  Obj:     0.000000  1.00000e+10       air             1  6.3006e+09\n",
      " Stop:     0.000000     0.981154       air             1     0.79358\n",
      "    2:     1.962000      1.19000   471.766             1     0.93800\n",
      "    3:    33.398000     0.930000       air             1      1.0837\n",
      "    4:    -2.182000     0.750000   603.275             1      1.1338\n",
      "    5:    -6.367000     0.100000       air             1      1.5390\n",
      "    6:     5.694000     0.890000   510.562             1      1.8254\n",
      "    7:     9.192000     0.160000       air             1      2.3978\n",
      "    8:     1.674000     0.850000   510.562             1      2.4820\n",
      "    9:     1.509000     0.700000       air             1      2.9297\n",
      "   10:     0.000000     0.400000   516.641             1      3.3067\n",
      "   11:     0.000000     0.640000       air             1      3.4058\n",
      "  Img:     0.000000      0.00000                       1      3.6910\n"
     ]
    }
   ],
   "source": [
    "sm.list_model()"
   ]
  },
  {
   "cell_type": "markdown",
   "metadata": {},
   "source": [
    "## Set up the ray trace for the second field point (field point index = 1)"
   ]
  },
  {
   "cell_type": "code",
   "execution_count": 28,
   "metadata": {},
   "outputs": [],
   "source": [
    "fld, wvl, foc = osp.lookup_fld_wvl_focus(1)"
   ]
  },
  {
   "cell_type": "markdown",
   "metadata": {},
   "source": [
    "## Trace central, upper and lower rays"
   ]
  },
  {
   "cell_type": "code",
   "execution_count": 29,
   "metadata": {},
   "outputs": [
    {
     "name": "stdout",
     "output_type": "stream",
     "text": [
      "            X            Y            Z           L            M            N               Len\n",
      "  0:      0.00000 -4455119074.82455            0     0.000000     0.406953     0.913449   1.0948e+10\n",
      "  1:      0.00000      0.00000            0     0.000000     0.406953     0.913449   3.0134e-15\n",
      "  2:      0.00000      0.00000   2.6771e-15     0.000000     0.276650     0.960971       1.2397\n",
      "  3:      0.00000      0.34297     0.001336     0.000000     0.409866     0.912146      0.86869\n",
      "  4:      0.00000      0.69902     -0.13629     0.000000     0.407402     0.913249      0.76898\n",
      "  5:      0.00000      1.01230     -0.18402     0.000000     0.432712     0.901532      0.34554\n",
      "  6:      0.00000      1.16182     0.027492     0.000000     0.283196     0.959062       1.0047\n",
      "  7:      0.00000      1.44636      0.10111     0.000000     0.468716     0.883349      0.36927\n",
      "  8:      0.00000      1.61944       0.2673     0.000000     0.352162     0.935939       1.0087\n",
      "  9:      0.00000      1.97467       0.3614     0.000000     0.436135     0.899881      0.37628\n",
      " 10:      0.00000      2.13878            0     0.000000     0.287688     0.957724      0.41766\n",
      " 11:      0.00000      2.25894            0     0.000000     0.436135     0.899881      0.71121\n",
      " 12:      0.00000      2.56912            0     0.000000     0.436135     0.899881            0\n"
     ]
    }
   ],
   "source": [
    "ray_f1_r0 = trace_base(opm, [0., 0.], fld, wvl)\n",
    "list_ray(ray_f1_r0[0])"
   ]
  },
  {
   "cell_type": "code",
   "execution_count": 30,
   "metadata": {},
   "outputs": [
    {
     "name": "stdout",
     "output_type": "stream",
     "text": [
      "            X            Y            Z           L            M            N               Len\n",
      "  0:      0.00000 -4455119074.82455            0     0.000000     0.406953     0.913449   1.0948e+10\n",
      "  1:      0.00000      0.79358            0     0.000000     0.406953     0.913449      0.22235\n",
      "  2:      0.00000      0.88407       0.2031     0.000000     0.101114     0.994875      0.97236\n",
      "  3:      0.00000      0.98239    -0.019515     0.000000     0.074330     0.997234      0.60425\n",
      "  4:      0.00000      1.02730     -0.34694     0.000000     0.342927     0.939362       0.8381\n",
      "  5:      0.00000      1.31471     -0.30965     0.000000     0.320198     0.947351      0.45073\n",
      "  6:      0.00000      1.45903     0.017345     0.000000     0.246733     0.969084       1.0139\n",
      "  7:      0.00000      1.70918      0.10987     0.000000     0.362970     0.931801      0.29718\n",
      "  8:      0.00000      1.81705      0.22678     0.000000     0.335417     0.942070      0.99575\n",
      "  9:      0.00000      2.15104      0.31485     0.000000     0.340775     0.940145      0.40967\n",
      " 10:      0.00000      2.29065            0     0.000000     0.224786     0.974408      0.41051\n",
      " 11:      0.00000      2.38292            0     0.000000     0.340775     0.940145      0.68075\n",
      " 12:      0.00000      2.61491            0     0.000000     0.340775     0.940145            0\n"
     ]
    }
   ],
   "source": [
    "ray_f1_py = trace_base(opm, [0., 1.], fld, wvl)\n",
    "list_ray(ray_f1_py[0])"
   ]
  },
  {
   "cell_type": "code",
   "execution_count": 31,
   "metadata": {},
   "outputs": [
    {
     "name": "stdout",
     "output_type": "stream",
     "text": [
      "            X            Y            Z           L            M            N               Len\n",
      "  0:      0.00000 -4455119074.82455            0     0.000000     0.406953     0.913449   1.0948e+10\n",
      "  1:      0.00000     -0.79358            0     0.000000     0.406953     0.913449      0.15124\n",
      "  2:      0.00000     -0.73203      0.13815     0.000000     0.391742     0.920075       1.1443\n",
      "  3:      0.00000     -0.28377   0.00098906     0.000000     0.573151     0.819450       1.0975\n",
      "  4:      0.00000      0.34526    -0.029681     0.000000     0.428272     0.903650      0.78087\n",
      "  5:      0.00000      0.67968    -0.074048     0.000000     0.531021     0.847359      0.22793\n",
      "  6:      0.00000      0.80071     0.019088     0.000000     0.341292     0.939957       1.0037\n",
      "  7:      0.00000      1.14325     0.072483     0.000000     0.579551     0.814936      0.44361\n",
      "  8:      0.00000      1.40035      0.27399     0.000000     0.363252     0.931691       1.0285\n",
      "  9:      0.00000      1.77395      0.38224     0.000000     0.534421     0.845218      0.37595\n",
      " 10:      0.00000      1.97487   1.1102e-16     0.000000     0.352521     0.935804      0.42744\n",
      " 11:      0.00000      2.12555            0     0.000000     0.534421     0.845218       0.7572\n",
      " 12:      0.00000      2.53021            0     0.000000     0.534421     0.845218            0\n"
     ]
    }
   ],
   "source": [
    "ray_f1_my = trace_base(opm, [0., -1.], fld, wvl)\n",
    "list_ray(ray_f1_my[0])"
   ]
  },
  {
   "cell_type": "code",
   "execution_count": null,
   "metadata": {},
   "outputs": [],
   "source": []
  }
 ],
 "metadata": {
  "kernelspec": {
   "display_name": "Python 3",
   "language": "python",
   "name": "python3"
  },
  "language_info": {
   "codemirror_mode": {
    "name": "ipython",
    "version": 3
   },
   "file_extension": ".py",
   "mimetype": "text/x-python",
   "name": "python",
   "nbconvert_exporter": "python",
   "pygments_lexer": "ipython3",
   "version": "3.8.6"
  }
 },
 "nbformat": 4,
 "nbformat_minor": 4
}
