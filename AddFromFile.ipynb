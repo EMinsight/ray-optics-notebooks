{
 "cells": [
  {
   "cell_type": "raw",
   "metadata": {},
   "source": [
    ".. currentmodule:: rayoptics\n",
    "\n",
    "###########################\n",
    "Edmund catalog lens example\n",
    "###########################\n",
    "\n",
    "This notebook shows the steps to follow to open a CODE V seq file of a Edmund achromatic doublet."
   ]
  },
  {
   "cell_type": "code",
   "execution_count": 1,
   "metadata": {},
   "outputs": [],
   "source": [
    "%matplotlib widget"
   ]
  },
  {
   "cell_type": "code",
   "execution_count": 2,
   "metadata": {},
   "outputs": [],
   "source": [
    "# initialization\n",
    "from rayoptics.environment import *"
   ]
  },
  {
   "cell_type": "raw",
   "metadata": {},
   "source": [
    "Use the object oriented filesystem interface from Python 3\n",
    "----------------------------------------------------------"
   ]
  },
  {
   "cell_type": "code",
   "execution_count": 3,
   "metadata": {},
   "outputs": [],
   "source": [
    "root_pth = Path(rayoptics.__file__).resolve().parent"
   ]
  },
  {
   "cell_type": "raw",
   "metadata": {},
   "source": [
    "Read CODE V seq file for Edmund part 32-327, Achromatic Lens\n",
    "------------------------------------------------------------\n",
    "\n",
    "Use the :func:`~.opticalmodel.open_model` function to read CODE V **.seq** files and the native rayoptics JSON files, **.roa**\n",
    "\n",
    "It returns an instance of :class:`~.opticalmodel.OpticalModel` that contains all of the model data."
   ]
  },
  {
   "cell_type": "raw",
   "metadata": {},
   "source": [
    "opm = open_model(root_pth/\"codev/tests/CODV_32327.seq\")"
   ]
  },
  {
   "cell_type": "code",
   "execution_count": 4,
   "metadata": {},
   "outputs": [],
   "source": [
    "app = AppManager(None)\n",
    "opm = app.model = OpticalModel()\n",
    "sm = opm['seq_model']\n",
    "osp = opm['optical_spec']\n",
    "pm = opm['parax_model']\n",
    "em = opm['ele_model']\n",
    "pt = opm['part_tree']"
   ]
  },
  {
   "cell_type": "code",
   "execution_count": 5,
   "metadata": {},
   "outputs": [],
   "source": [
    "sm.gaps[0].thi = 1e10"
   ]
  },
  {
   "cell_type": "code",
   "execution_count": 6,
   "metadata": {},
   "outputs": [
    {
     "name": "stdout",
     "output_type": "stream",
     "text": [
      "              c            t        medium     mode   zdr      sd\n",
      "  Obj:     0.000000  1.00000e+10       air             1      1.0000\n",
      "  Img:     0.000000      0.00000                       1      1.0000\n"
     ]
    }
   ],
   "source": [
    "sm.list_model()"
   ]
  },
  {
   "cell_type": "code",
   "execution_count": 7,
   "metadata": {},
   "outputs": [
    {
     "data": {
      "text/plain": [
       "(('aperture', 'object', 'pupil'), 1.0)"
      ]
     },
     "execution_count": 7,
     "metadata": {},
     "output_type": "execute_result"
    }
   ],
   "source": [
    "osp.pupil.key, osp.pupil.value"
   ]
  },
  {
   "cell_type": "code",
   "execution_count": 8,
   "metadata": {},
   "outputs": [],
   "source": [
    "osp.pupil.value=22\n",
    "opm.update_model()"
   ]
  },
  {
   "cell_type": "code",
   "execution_count": 9,
   "metadata": {},
   "outputs": [],
   "source": [
    "opm.add_from_file(root_pth/\"codev/tests/CODV_32327.seq\", t=10.)"
   ]
  },
  {
   "cell_type": "code",
   "execution_count": 10,
   "metadata": {},
   "outputs": [],
   "source": [
    "opm.update_model()"
   ]
  },
  {
   "cell_type": "raw",
   "metadata": {},
   "source": [
    "Generate a lens picture\n",
    "-----------------------\n",
    "\n",
    "This is done using the :mod:`.interactivelayout` module.\n",
    "All graphics in rayoptics are based on matplotlib."
   ]
  },
  {
   "cell_type": "code",
   "execution_count": 11,
   "metadata": {},
   "outputs": [
    {
     "data": {
      "application/vnd.jupyter.widget-view+json": {
       "model_id": "a803928403c94183ab664c45e2333232",
       "version_major": 2,
       "version_minor": 0
      },
      "text/plain": [
       "Canvas(toolbar=Toolbar(toolitems=[('Home', 'Reset original view', 'home', 'home'), ('Back', 'Back to previous …"
      ]
     },
     "metadata": {},
     "output_type": "display_data"
    }
   ],
   "source": [
    "layout_plt = plt.figure(FigureClass=InteractiveLayout, opt_model=opm,\n",
    "                        do_draw_rays=True, do_paraxial_layout=False).plot()"
   ]
  },
  {
   "cell_type": "code",
   "execution_count": 12,
   "metadata": {},
   "outputs": [
    {
     "name": "stdout",
     "output_type": "stream",
     "text": [
      "              c            t        medium     mode   zdr      sd\n",
      "  Obj:     0.000000  1.00000e+10       air             1      0.0000\n",
      "32327:     0.016268      6.00000     N-BK7             1      12.000\n",
      "    2:    -0.022401      2.50000     N-SF5             1      10.772\n",
      "    3:    -0.007696      10.0000       air             1      12.000\n",
      "  Img:     0.000000      0.00000                       1      9.5072\n"
     ]
    }
   ],
   "source": [
    "sm.list_model()"
   ]
  },
  {
   "cell_type": "code",
   "execution_count": 13,
   "metadata": {},
   "outputs": [
    {
     "name": "stdout",
     "output_type": "stream",
     "text": [
      "0: Object (DummyInterface): Surface(lbl='Obj', profile=Spherical(c=0.0), interact_mode='dummy')\n",
      "1: Object space (AirGap): Gap(t=10000000000.0, medium=Air())\n",
      "2: CE1 (CementedElement): CementedElement: [1, 2, 3]\n",
      "3: Image space (AirGap): Gap(t=10.0, medium=Air())\n",
      "4: Image (DummyInterface): Surface(lbl='Img', profile=Spherical(c=0.0), interact_mode='dummy')\n"
     ]
    }
   ],
   "source": [
    "em.list_elements()"
   ]
  },
  {
   "cell_type": "code",
   "execution_count": 14,
   "metadata": {},
   "outputs": [
    {
     "name": "stdout",
     "output_type": "stream",
     "text": [
      "root\n",
      "├── Object\n",
      "│   └── p\n",
      "│       └── i0\n",
      "├── Object space\n",
      "│   └── t\n",
      "│       └── g0\n",
      "├── CE1\n",
      "│   ├── p1\n",
      "│   │   └── i1\n",
      "│   ├── t1\n",
      "│   │   └── g1\n",
      "│   ├── p2\n",
      "│   │   └── i2\n",
      "│   ├── t2\n",
      "│   │   └── g2\n",
      "│   └── p3\n",
      "│       └── i3\n",
      "├── Image space\n",
      "│   └── t\n",
      "│       └── g3\n",
      "└── Image\n",
      "    └── p\n",
      "        └── i4\n"
     ]
    }
   ],
   "source": [
    "pt.list_tree()"
   ]
  },
  {
   "cell_type": "code",
   "execution_count": 15,
   "metadata": {},
   "outputs": [],
   "source": [
    "opm.add_from_file(root_pth/\"codev/tests/CODV_49664.seq\", t=17.8)"
   ]
  },
  {
   "cell_type": "code",
   "execution_count": 16,
   "metadata": {},
   "outputs": [
    {
     "name": "stdout",
     "output_type": "stream",
     "text": [
      "              c            t        medium     mode   zdr      sd\n",
      "  Obj:     0.000000  1.00000e+10       air             1      0.0000\n",
      "32327:     0.016268      6.00000     N-BK7             1      12.000\n",
      "    2:    -0.022401      2.50000     N-SF5             1      10.772\n",
      "    3:    -0.007696      10.0000       air             1      12.000\n",
      "49663:     0.042553      9.00000   S-LAL 8             1      12.629\n",
      "    5:    -0.027248      2.50000   S-TIH53             1      11.842\n",
      "    6:     0.000000    0.0800000   517.520             1      11.004\n",
      "    7:    -0.003096      17.8000       air             1      10.990\n",
      "  Img:     0.000000      0.00000                       1      9.5072\n"
     ]
    }
   ],
   "source": [
    "sm.list_model()"
   ]
  },
  {
   "cell_type": "code",
   "execution_count": 17,
   "metadata": {},
   "outputs": [
    {
     "name": "stdout",
     "output_type": "stream",
     "text": [
      "profile: EvenPolynomial\n",
      "c=-0.003095913950326,   r=-323.006393602994   conic cnst=0.0\n",
      "coefficients: [0.0, 1.38925111836e-05, -2.08175206307e-08, 0.0, 0.0, 0.0, 0.0, 0.0, 0.0, 0.0]\n"
     ]
    }
   ],
   "source": [
    "sm.ifcs[7].profile.listobj()"
   ]
  },
  {
   "cell_type": "code",
   "execution_count": 18,
   "metadata": {},
   "outputs": [
    {
     "data": {
      "text/plain": [
       "(('field', 'object', 'angle'), (0.0, 0))"
      ]
     },
     "execution_count": 18,
     "metadata": {},
     "output_type": "execute_result"
    }
   ],
   "source": [
    "osp.field_of_view.key, osp.field_of_view.max_field()"
   ]
  },
  {
   "cell_type": "code",
   "execution_count": 19,
   "metadata": {},
   "outputs": [],
   "source": [
    "opm.update_model()"
   ]
  },
  {
   "cell_type": "code",
   "execution_count": 20,
   "metadata": {},
   "outputs": [
    {
     "name": "stdout",
     "output_type": "stream",
     "text": [
      "efl               28.88\n",
      "ffl              -16.06\n",
      "pp1               12.82\n",
      "bfl               17.98\n",
      "ppk                10.9\n",
      "f/#               1.313\n",
      "m            -2.888e-09\n",
      "red          -3.462e+08\n",
      "obj_dist          1e+10\n",
      "obj_ang               1\n",
      "enp_dist             -0\n",
      "enp_radius           11\n",
      "na obj          1.1e-09\n",
      "n obj                 1\n",
      "img_dist          17.98\n",
      "img_ht           0.5041\n",
      "exp_dist         -33.79\n",
      "exp_radius        19.78\n",
      "na img          -0.3559\n",
      "n img                 1\n",
      "optical invariant        0.192\n"
     ]
    }
   ],
   "source": [
    "pm.first_order_data()"
   ]
  },
  {
   "cell_type": "code",
   "execution_count": 21,
   "metadata": {},
   "outputs": [
    {
     "data": {
      "application/vnd.jupyter.widget-view+json": {
       "model_id": "f62eb0e3618a44dbb672664cc8789763",
       "version_major": 2,
       "version_minor": 0
      },
      "text/plain": [
       "Canvas(toolbar=Toolbar(toolitems=[('Home', 'Reset original view', 'home', 'home'), ('Back', 'Back to previous …"
      ]
     },
     "metadata": {},
     "output_type": "display_data"
    }
   ],
   "source": [
    "layout_plt = plt.figure(FigureClass=InteractiveLayout, opt_model=opm,\n",
    "                        do_draw_rays=True, do_paraxial_layout=False).plot()"
   ]
  },
  {
   "cell_type": "code",
   "execution_count": 22,
   "metadata": {},
   "outputs": [
    {
     "name": "stdout",
     "output_type": "stream",
     "text": [
      "0: Object (DummyInterface): Surface(lbl='Obj', profile=Spherical(c=0.0), interact_mode='dummy')\n",
      "1: Object space (AirGap): Gap(t=10000000000.0, medium=Air())\n",
      "2: CE1 (CementedElement): CementedElement: [1, 2, 3]\n",
      "3: AG2 (AirGap): Gap(t=10.0, medium=Air())\n",
      "4: CE1 (CementedElement): CementedElement: [4, 5, 6, 7]\n",
      "5: Image space (AirGap): Gap(t=17.8, medium=Air())\n",
      "6: Image (DummyInterface): Surface(lbl='Img', profile=Spherical(c=0.0), interact_mode='dummy')\n"
     ]
    }
   ],
   "source": [
    "em.list_elements()"
   ]
  },
  {
   "cell_type": "code",
   "execution_count": 23,
   "metadata": {},
   "outputs": [
    {
     "name": "stdout",
     "output_type": "stream",
     "text": [
      "root\n",
      "├── Object\n",
      "│   └── p\n",
      "│       └── i0\n",
      "├── Object space\n",
      "│   └── t\n",
      "│       └── g0\n",
      "├── CE1\n",
      "│   ├── p1\n",
      "│   │   └── i1\n",
      "│   ├── t1\n",
      "│   │   └── g1\n",
      "│   ├── p2\n",
      "│   │   └── i2\n",
      "│   ├── t2\n",
      "│   │   └── g2\n",
      "│   └── p3\n",
      "│       └── i3\n",
      "├── AG2\n",
      "│   └── t\n",
      "│       └── g3\n",
      "├── CE1\n",
      "│   ├── p1\n",
      "│   │   └── i4\n",
      "│   ├── t1\n",
      "│   │   └── g4\n",
      "│   ├── p2\n",
      "│   │   └── i5\n",
      "│   ├── t2\n",
      "│   │   └── g5\n",
      "│   ├── p3\n",
      "│   │   └── i6\n",
      "│   ├── t3\n",
      "│   │   └── g6\n",
      "│   └── p4\n",
      "│       └── i7\n",
      "├── Image space\n",
      "│   └── t\n",
      "│       └── g7\n",
      "└── Image\n",
      "    └── p\n",
      "        └── i8\n"
     ]
    }
   ],
   "source": [
    "pt.list_tree()"
   ]
  },
  {
   "cell_type": "code",
   "execution_count": null,
   "metadata": {},
   "outputs": [],
   "source": []
  }
 ],
 "metadata": {
  "kernelspec": {
   "display_name": "Python 3",
   "language": "python",
   "name": "python3"
  },
  "language_info": {
   "codemirror_mode": {
    "name": "ipython",
    "version": 3
   },
   "file_extension": ".py",
   "mimetype": "text/x-python",
   "name": "python",
   "nbconvert_exporter": "python",
   "pygments_lexer": "ipython3",
   "version": "3.8.6"
  }
 },
 "nbformat": 4,
 "nbformat_minor": 4
}
