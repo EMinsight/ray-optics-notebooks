{
 "cells": [
  {
   "cell_type": "code",
   "execution_count": 1,
   "metadata": {},
   "outputs": [],
   "source": [
    "%matplotlib inline"
   ]
  },
  {
   "cell_type": "code",
   "execution_count": 2,
   "metadata": {},
   "outputs": [],
   "source": [
    "# initialization\n",
    "from rayoptics.environment import *\n",
    "import ipywidgets as widgets\n",
    "from rayoptics.optical.trace import trace_coddington_fan"
   ]
  },
  {
   "cell_type": "code",
   "execution_count": 3,
   "metadata": {},
   "outputs": [],
   "source": [
    "root_pth = Path(rayoptics.__file__).resolve().parent"
   ]
  },
  {
   "cell_type": "code",
   "execution_count": 4,
   "metadata": {},
   "outputs": [],
   "source": [
    "app = AppManager(None)"
   ]
  },
  {
   "cell_type": "markdown",
   "metadata": {},
   "source": [
    "# Read in Double Gauss example"
   ]
  },
  {
   "cell_type": "code",
   "execution_count": 5,
   "metadata": {},
   "outputs": [],
   "source": [
    "app.model = open_model(root_pth/\"codev/tests/ag_dblgauss.seq\")\n",
    "opm = app.model\n",
    "sm = opm.seq_model\n",
    "osp = opm.optical_spec\n",
    "pm = opm.parax_model"
   ]
  },
  {
   "cell_type": "code",
   "execution_count": 6,
   "metadata": {},
   "outputs": [],
   "source": [
    "opm.update_model()"
   ]
  },
  {
   "cell_type": "code",
   "execution_count": 7,
   "metadata": {},
   "outputs": [
    {
     "name": "stdout",
     "output_type": "stream",
     "text": [
      "       ax_ray_ht    ax_ray_slp\n",
      " 0:            0   2.51525e-11\n",
      " 1:           25     -0.276808\n",
      " 2:       23.507     -0.180751\n",
      " 3:       23.417     -0.558186\n",
      " 4:       19.076     -0.558186\n",
      " 5:       17.753     -0.116096\n",
      " 6:       15.853     -0.116096\n",
      " 7:       14.256      0.187054\n",
      " 8:         14.7      0.187054\n",
      " 9:        15.97    -0.0741853\n",
      "10:       15.932     -0.129901\n",
      "11:       15.371     -0.249991\n",
      "12:      0.10006     -0.249991\n",
      "\n",
      "       pr_ray_ht    pr_ray_slp\n",
      " 0:  -2.4782e+11      0.249328\n",
      " 1:      -14.439      0.409202\n",
      " 2:      -12.232      0.359218\n",
      " 3:      -12.052      0.553482\n",
      " 4:      -7.7482      0.553482\n",
      " 5:      -6.4365      0.393199\n",
      " 6:   -1.748e-06      0.393199\n",
      " 7:       5.4057      0.508146\n",
      " 8:         6.61      0.508146\n",
      " 9:       10.059      0.343587\n",
      "10:       10.231      0.307809\n",
      "11:       11.561      0.217488\n",
      "12:       24.847      0.217488\n",
      "\n",
      "            power           tau        index    type\n",
      " 0:             0    9.9394e+11      1.00000    transmit\n",
      " 1:    0.01107233        5.3936      1.62229    transmit\n",
      " 2:   -0.00408634           0.5      1.00000    transmit\n",
      " 3:    0.01611828        7.7766      1.60738    transmit\n",
      " 4:            -0        2.3699      1.60342    transmit\n",
      " 5:   -0.02490238        16.369      1.00000    transmit\n",
      " 6:             0        13.748      1.00000    transmit\n",
      " 7:   -0.02126408        2.3699      1.60342    transmit\n",
      " 8:             0        6.7884      1.62041    transmit\n",
      " 9:    0.01635861           0.5      1.00000    transmit\n",
      "10:   0.003496994        4.3199      1.62041    transmit\n",
      "11:   0.007812577        61.087      1.00000    transmit\n",
      "12:             0             0      1.00000    transmit\n"
     ]
    }
   ],
   "source": [
    "pm.list_lens()"
   ]
  },
  {
   "cell_type": "code",
   "execution_count": 8,
   "metadata": {},
   "outputs": [],
   "source": [
    "fld, wvl, foc = osp.lookup_fld_wvl_focus(2)"
   ]
  },
  {
   "cell_type": "code",
   "execution_count": 9,
   "metadata": {},
   "outputs": [],
   "source": [
    "ray, op, wvl = trace_base(opm, [0., 0.], fld, wvl)\n",
    "cr = RayPkg(ray, op, wvl)"
   ]
  },
  {
   "cell_type": "code",
   "execution_count": 10,
   "metadata": {},
   "outputs": [
    {
     "name": "stdout",
     "output_type": "stream",
     "text": [
      "            X            Y            Z           L            M            N               Len\n",
      "  0:      0.00000 -247816674315.63208            0     0.000000     0.241922     0.970296   1.0244e+12\n",
      "  1:      0.00000    -14.40611       1.8777     0.000000     0.247454     0.968900       7.6249\n",
      "  2:      0.00000    -12.51930      0.51547     0.000000     0.349083     0.937092       2.0119\n",
      "  3:      0.00000    -11.81698       1.9008     0.000000     0.335724     0.941960       11.252\n",
      "  4:      0.00000     -8.03932            0     0.000000     0.336554     0.941664       4.9422\n",
      "  5:      0.00000     -6.37600      0.85391     0.000000     0.380100     0.924946       16.775\n",
      "  6:      0.00000      0.00000            0     0.000000     0.380100     0.924946       14.296\n",
      "  7:      0.00000      5.43384     -0.52511     0.000000     0.309998     0.950737       4.5492\n",
      "  8:      0.00000      6.84409            0     0.000000     0.306748     0.951791       10.158\n",
      "  9:      0.00000      9.96017      -1.3313     0.000000     0.333841     0.942629       2.2868\n",
      " 10:      0.00000     10.72362      0.32439     0.000000     0.181702     0.983354        5.893\n",
      " 11:      0.00000     11.79438     -0.88075     0.000000     0.202202     0.979344       63.275\n",
      " 12:      0.00000     24.58874            0     0.000000     0.202202     0.979344            0\n"
     ]
    }
   ],
   "source": [
    "list_ray(ray)"
   ]
  },
  {
   "cell_type": "code",
   "execution_count": 11,
   "metadata": {},
   "outputs": [
    {
     "data": {
      "text/plain": [
       "(-0.1313029911732997, 0.03458272372224919)"
      ]
     },
     "execution_count": 11,
     "metadata": {},
     "output_type": "execute_result"
    }
   ],
   "source": [
    "s_dfoc, t_dfoc = trace_coddington_fan(opm, RayPkg(ray, op, wvl))\n",
    "s_dfoc, t_dfoc"
   ]
  },
  {
   "cell_type": "code",
   "execution_count": 12,
   "metadata": {},
   "outputs": [],
   "source": [
    "s_data = []\n",
    "t_data = []\n",
    "field_data = []"
   ]
  },
  {
   "cell_type": "code",
   "execution_count": 13,
   "metadata": {},
   "outputs": [],
   "source": [
    "for f in np.linspace(0., osp.field_of_view.max_field()[0], num=11):\n",
    "    fld.y = f\n",
    "    cr = RayPkg(*trace_base(opm, [0., 0.], fld, wvl))\n",
    "    s_dfoc, t_dfoc = trace_coddington_fan(opm, cr)\n",
    "    s_data.append(s_dfoc)\n",
    "    t_data.append(t_dfoc)\n",
    "    field_data.append(f)"
   ]
  },
  {
   "cell_type": "code",
   "execution_count": 14,
   "metadata": {},
   "outputs": [
    {
     "data": {
      "image/png": "[encoded data removed]",
      "text/plain": [
       "<Figure size 432x288 with 1 Axes>"
      ]
     },
     "metadata": {
      "needs_background": "light"
     },
     "output_type": "display_data"
    }
   ],
   "source": [
    "plt.plot(s_data, field_data, label='sagittal')\n",
    "plt.plot(t_data, field_data, label='tangential')\n",
    "\n",
    "plt.xlabel('focus')\n",
    "plt.ylabel('field height')\n",
    "\n",
    "plt.title(\"Astigmatic Field Plot\")\n",
    "\n",
    "plt.legend()\n",
    "\n",
    "plt.show()"
   ]
  },
  {
   "cell_type": "code",
   "execution_count": 15,
   "metadata": {},
   "outputs": [],
   "source": [
    "r00 = RayPkg(*trace_base(opm, [0., 0.], fld, wvl))\n",
    "r10 = RayPkg(*trace_base(opm, [0.001, 0.], fld, wvl))\n",
    "r01 = RayPkg(*trace_base(opm, [0., 0.001], fld, wvl))\n",
    "rm10 = RayPkg(*trace_base(opm, [-0.001, 0.], fld, wvl))\n",
    "r0m1 = RayPkg(*trace_base(opm, [0., -0.001], fld, wvl))"
   ]
  },
  {
   "cell_type": "code",
   "execution_count": 16,
   "metadata": {},
   "outputs": [
    {
     "name": "stdout",
     "output_type": "stream",
     "text": [
      "            X            Y            Z           L            M            N               Len\n",
      "  0:      0.00000 -247816674315.63208            0     0.000000     0.241922     0.970296   1.0244e+12\n",
      "  1:      0.00000    -14.40611       1.8777     0.000000     0.247454     0.968900       7.6249\n",
      "  2:      0.00000    -12.51930      0.51547     0.000000     0.349083     0.937092       2.0119\n",
      "  3:      0.00000    -11.81698       1.9008     0.000000     0.335724     0.941960       11.252\n",
      "  4:      0.00000     -8.03932            0     0.000000     0.336554     0.941664       4.9422\n",
      "  5:      0.00000     -6.37600      0.85391     0.000000     0.380100     0.924946       16.775\n",
      "  6:      0.00000      0.00000            0     0.000000     0.380100     0.924946       14.296\n",
      "  7:      0.00000      5.43384     -0.52511     0.000000     0.309998     0.950737       4.5492\n",
      "  8:      0.00000      6.84409            0     0.000000     0.306748     0.951791       10.158\n",
      "  9:      0.00000      9.96017      -1.3313     0.000000     0.333841     0.942629       2.2868\n",
      " 10:      0.00000     10.72362      0.32439     0.000000     0.181702     0.983354        5.893\n",
      " 11:      0.00000     11.79438     -0.88075     0.000000     0.202202     0.979344       63.275\n",
      " 12:      0.00000     24.58874            0     0.000000     0.202202     0.979344            0\n"
     ]
    }
   ],
   "source": [
    "list_ray(r00.ray)"
   ]
  },
  {
   "cell_type": "code",
   "execution_count": 17,
   "metadata": {},
   "outputs": [
    {
     "name": "stdout",
     "output_type": "stream",
     "text": [
      "            X            Y            Z           L            M            N               Len\n",
      "  0:      0.00000 -247816674315.63208            0     0.000000     0.241922     0.970296   1.0244e+12\n",
      "  1:      0.02500    -14.40611       1.8777    -0.000171     0.247454     0.968900       7.6249\n",
      "  2:      0.02370    -12.51930      0.51547    -0.000178     0.349083     0.937092       2.0119\n",
      "  3:      0.02334    -11.81698       1.9008    -0.000345     0.335724     0.941960       11.252\n",
      "  4:      0.01946     -8.03932            0    -0.000346     0.336554     0.941664       4.9422\n",
      "  5:      0.01775     -6.37599      0.85391    -0.000110     0.380100     0.924946       16.775\n",
      "  6:      0.01591      0.00000            0    -0.000110     0.380100     0.924946       14.296\n",
      "  7:      0.01434      5.43384     -0.52511     0.000124     0.309998     0.950737       4.5492\n",
      "  8:      0.01491      6.84409            0     0.000123     0.306748     0.951791       10.158\n",
      "  9:      0.01615      9.96017      -1.3313    -0.000066     0.333841     0.942629       2.2869\n",
      " 10:      0.01600     10.72362      0.32439    -0.000077     0.181702     0.983354        5.893\n",
      " 11:      0.01555     11.79438     -0.88075    -0.000246     0.202202     0.979344       63.275\n",
      " 12:     -0.00003     24.58874            0    -0.000246     0.202202     0.979344            0\n"
     ]
    }
   ],
   "source": [
    "list_ray(r10.ray)"
   ]
  },
  {
   "cell_type": "code",
   "execution_count": 18,
   "metadata": {},
   "outputs": [
    {
     "name": "stdout",
     "output_type": "stream",
     "text": [
      "            X            Y            Z           L            M            N               Len\n",
      "  0:     -0.00000 -247816674315.63208            0    -0.000000     0.241922     0.970296   1.0244e+12\n",
      "  1:     -0.02500    -14.40611       1.8777     0.000171     0.247454     0.968900       7.6249\n",
      "  2:     -0.02370    -12.51930      0.51547     0.000178     0.349083     0.937092       2.0119\n",
      "  3:     -0.02334    -11.81698       1.9008     0.000345     0.335724     0.941960       11.252\n",
      "  4:     -0.01946     -8.03932            0     0.000346     0.336554     0.941664       4.9422\n",
      "  5:     -0.01775     -6.37599      0.85391     0.000110     0.380100     0.924946       16.775\n",
      "  6:     -0.01591      0.00000            0     0.000110     0.380100     0.924946       14.296\n",
      "  7:     -0.01434      5.43384     -0.52511    -0.000124     0.309998     0.950737       4.5492\n",
      "  8:     -0.01491      6.84409            0    -0.000123     0.306748     0.951791       10.158\n",
      "  9:     -0.01615      9.96017      -1.3313     0.000066     0.333841     0.942629       2.2869\n",
      " 10:     -0.01600     10.72362      0.32439     0.000077     0.181702     0.983354        5.893\n",
      " 11:     -0.01555     11.79438     -0.88075     0.000246     0.202202     0.979344       63.275\n",
      " 12:      0.00003     24.58874            0     0.000246     0.202202     0.979344            0\n"
     ]
    }
   ],
   "source": [
    "list_ray(rm10.ray)"
   ]
  },
  {
   "cell_type": "code",
   "execution_count": 19,
   "metadata": {},
   "outputs": [
    {
     "data": {
      "text/plain": [
       "array([-2.46239666e-04,  2.02202341e-01,  9.79343736e-01])"
      ]
     },
     "execution_count": 19,
     "metadata": {},
     "output_type": "execute_result"
    }
   ],
   "source": [
    "r10.ray[-1][mc.d]"
   ]
  },
  {
   "cell_type": "raw",
   "metadata": {},
   "source": [
    "a(V1 x V2) = (P2-P1) x V2"
   ]
  },
  {
   "cell_type": "code",
   "execution_count": 20,
   "metadata": {},
   "outputs": [],
   "source": [
    "cp1 = np.cross(rm10.ray[-1][mc.p]-r10.ray[-1][mc.p], rm10.ray[-1][mc.d])"
   ]
  },
  {
   "cell_type": "code",
   "execution_count": 21,
   "metadata": {},
   "outputs": [],
   "source": [
    "cp2 = np.cross(r10.ray[-1][mc.d], rm10.ray[-1][mc.d])"
   ]
  },
  {
   "cell_type": "code",
   "execution_count": 22,
   "metadata": {},
   "outputs": [
    {
     "data": {
      "text/plain": [
       "-0.1340730316113066"
      ]
     },
     "execution_count": 22,
     "metadata": {},
     "output_type": "execute_result"
    }
   ],
   "source": [
    "cp1[2]/cp2[2]"
   ]
  },
  {
   "cell_type": "code",
   "execution_count": 23,
   "metadata": {},
   "outputs": [
    {
     "data": {
      "text/plain": [
       "-0.13407303161130657"
      ]
     },
     "execution_count": 23,
     "metadata": {},
     "output_type": "execute_result"
    }
   ],
   "source": [
    "cp1[1]/cp2[1]"
   ]
  },
  {
   "cell_type": "raw",
   "metadata": {},
   "source": [
    "s = ((P2 - P1) x V1).(V1 x V2)/|(V1 x V2)|**2\n",
    "\n",
    "Weisstein, Eric W. \"Line-Line Intersection.\" From MathWorld--A Wolfram Web Resource. http://mathworld.wolfram.com/Line-LineIntersection.html"
   ]
  },
  {
   "cell_type": "code",
   "execution_count": 24,
   "metadata": {},
   "outputs": [],
   "source": [
    "def intersect_2_lines(P1, V1, P2, V2):\n",
    "    Vx = np.cross(V1, V2)\n",
    "    s = np.dot(np.cross(P2 - P1, V1), Vx)/np.dot(Vx, Vx)\n",
    "    return s"
   ]
  },
  {
   "cell_type": "code",
   "execution_count": 25,
   "metadata": {},
   "outputs": [
    {
     "data": {
      "text/plain": [
       "-0.13407303161130657"
      ]
     },
     "execution_count": 25,
     "metadata": {},
     "output_type": "execute_result"
    }
   ],
   "source": [
    "intersect_2_lines(r10.ray[-1][mc.p], r10.ray[-1][mc.d], rm10.ray[-1][mc.p], rm10.ray[-1][mc.d])"
   ]
  },
  {
   "cell_type": "code",
   "execution_count": 26,
   "metadata": {},
   "outputs": [],
   "source": [
    "cp3 = np.cross(r0m1.ray[-1][mc.p]-r01.ray[-1][mc.p], r0m1.ray[-1][mc.d])"
   ]
  },
  {
   "cell_type": "code",
   "execution_count": 27,
   "metadata": {},
   "outputs": [],
   "source": [
    "cp4 = np.cross(r01.ray[-1][mc.d], r0m1.ray[-1][mc.d])"
   ]
  },
  {
   "cell_type": "code",
   "execution_count": 28,
   "metadata": {},
   "outputs": [
    {
     "data": {
      "text/plain": [
       "(array([-1.02447551e-05,  0.00000000e+00,  0.00000000e+00]),\n",
       " array([-0.00029013,  0.        ,  0.        ]))"
      ]
     },
     "execution_count": 28,
     "metadata": {},
     "output_type": "execute_result"
    }
   ],
   "source": [
    "cp3, cp4"
   ]
  },
  {
   "cell_type": "code",
   "execution_count": 29,
   "metadata": {},
   "outputs": [
    {
     "data": {
      "text/plain": [
       "0.03531076939654498"
      ]
     },
     "execution_count": 29,
     "metadata": {},
     "output_type": "execute_result"
    }
   ],
   "source": [
    "cp3[0]/cp4[0]"
   ]
  },
  {
   "cell_type": "code",
   "execution_count": 30,
   "metadata": {},
   "outputs": [
    {
     "name": "stdout",
     "output_type": "stream",
     "text": [
      "            X            Y            Z           L            M            N               Len\n",
      "  0:      0.00000 -247816674315.63208            0     0.000000     0.241922     0.970296   1.0244e+12\n",
      "  1:      0.00000    -14.39203        1.874     0.000000     0.247357     0.968924       7.6274\n",
      "  2:      0.00000    -12.50534      0.51432     0.000000     0.348985     0.937128       2.0086\n",
      "  3:      0.00000    -11.80437       1.8966     0.000000     0.335538     0.942027       11.256\n",
      "  4:      0.00000     -8.02759            0     0.000000     0.336367     0.941731        4.939\n",
      "  5:      0.00000     -6.36626      0.85125     0.000000     0.380039     0.924970       16.777\n",
      "  6:      0.00000      0.00964            0     0.000000     0.380039     0.924970       14.294\n",
      "  7:      0.00000      5.44182     -0.52667     0.000000     0.310064     0.950716        4.551\n",
      "  8:      0.00000      6.85291            0     0.000000     0.306813     0.951770       10.156\n",
      "  9:      0.00000      9.96895      -1.3337     0.000000     0.333805     0.942642         2.29\n",
      " 10:      0.00000     10.73336      0.32498     0.000000     0.181658     0.983362       5.8909\n",
      " 11:      0.00000     11.80349     -0.88212     0.000000     0.202060     0.979373       63.275\n",
      " 12:      0.00000     24.58874            0     0.000000     0.202060     0.979373            0\n"
     ]
    }
   ],
   "source": [
    "list_ray(r01.ray)"
   ]
  },
  {
   "cell_type": "code",
   "execution_count": 31,
   "metadata": {},
   "outputs": [
    {
     "name": "stdout",
     "output_type": "stream",
     "text": [
      "            X            Y            Z           L            M            N               Len\n",
      "  0:      0.00000 -247816674315.63208            0     0.000000     0.241922     0.970296   1.0244e+12\n",
      "  1:      0.00000    -14.42013       1.8814     0.000000     0.247550     0.968875       7.6225\n",
      "  2:      0.00000    -12.53320      0.51662     0.000000     0.349180     0.937056       2.0152\n",
      "  3:      0.00000    -11.82954       1.9049     0.000000     0.335910     0.941894       11.249\n",
      "  4:      0.00000     -8.05100            0     0.000000     0.336740     0.941598       4.9454\n",
      "  5:      0.00000     -6.38569      0.85655     0.000000     0.380160     0.924921       16.772\n",
      "  6:      0.00000     -0.00959            0     0.000000     0.380160     0.924921       14.298\n",
      "  7:      0.00000      5.42589     -0.52356     0.000000     0.309932     0.950759       4.5475\n",
      "  8:      0.00000      6.83530            0     0.000000     0.306682     0.951812       10.161\n",
      "  9:      0.00000      9.95142      -1.3289     0.000000     0.333877     0.942617       2.2837\n",
      " 10:      0.00000     10.71391       0.3238     0.000000     0.181746     0.983345        5.895\n",
      " 11:      0.00000     11.78530     -0.87939     0.000000     0.202344     0.979314       63.276\n",
      " 12:      0.00000     24.58873            0     0.000000     0.202344     0.979314            0\n"
     ]
    }
   ],
   "source": [
    "list_ray(r0m1.ray)"
   ]
  },
  {
   "cell_type": "code",
   "execution_count": 32,
   "metadata": {},
   "outputs": [
    {
     "data": {
      "text/plain": [
       "array([0.00000000e+00, 1.04611494e-05, 0.00000000e+00])"
      ]
     },
     "execution_count": 32,
     "metadata": {},
     "output_type": "execute_result"
    }
   ],
   "source": [
    "r01.ray[-1][mc.p]-r0m1.ray[-1][mc.p]"
   ]
  },
  {
   "cell_type": "raw",
   "metadata": {},
   "source": [
    "def trace_astigmatism(opt_model, fld, wvl, foc, dx=0.001, dy=0.001):\n",
    "    rlist = []\n",
    "    rlist.append(RayPkg(*trace_base(opt_model, [0., 0.], fld, wvl)))\n",
    "    rlist.append(RayPkg(*trace_base(opt_model, [dx, 0.], fld, wvl)))\n",
    "    rlist.append(RayPkg(*trace_base(opt_model, [0., dy], fld, wvl)))\n",
    "    rlist.append(RayPkg(*trace_base(opt_model, [-dx, 0.], fld, wvl)))\n",
    "    rlist.append(RayPkg(*trace_base(opt_model, [0., -dy], fld, wvl)))\n",
    "    s = intersect_2_lines(rlist[1].ray[-1][mc.p], rlist[1].ray[-1][mc.d], \n",
    "                          rlist[3].ray[-1][mc.p], rlist[3].ray[-1][mc.d])\n",
    "    s_foc = s * rlist[1].ray[-1][mc.d][2]\n",
    "    t = intersect_2_lines(rlist[2].ray[-1][mc.p], rlist[2].ray[-1][mc.d], \n",
    "                          rlist[4].ray[-1][mc.p], rlist[4].ray[-1][mc.d])\n",
    "    t_foc = t * rlist[2].ray[-1][mc.d][2]\n",
    "    return s_foc, t_foc"
   ]
  },
  {
   "cell_type": "code",
   "execution_count": 33,
   "metadata": {},
   "outputs": [],
   "source": [
    "s_data = []\n",
    "t_data = []\n",
    "field_data = []\n",
    "field = Field()"
   ]
  },
  {
   "cell_type": "code",
   "execution_count": 34,
   "metadata": {},
   "outputs": [],
   "source": [
    "for f in np.linspace(0., osp.field_of_view.max_field()[0], num=11):\n",
    "    field.y = f\n",
    "    s_dfoc, t_dfoc = trace_astigmatism(opm, field, wvl, foc)\n",
    "    s_data.append(s_dfoc)\n",
    "    t_data.append(t_dfoc)\n",
    "    field_data.append(f)"
   ]
  },
  {
   "cell_type": "code",
   "execution_count": 35,
   "metadata": {},
   "outputs": [
    {
     "data": {
      "image/png": "[encoded data removed]",
      "text/plain": [
       "<Figure size 432x288 with 1 Axes>"
      ]
     },
     "metadata": {
      "needs_background": "light"
     },
     "output_type": "display_data"
    }
   ],
   "source": [
    "plt.plot(s_data, field_data, label='sagittal')\n",
    "plt.plot(t_data, field_data, label='tangential')\n",
    "\n",
    "plt.xlabel('focus')\n",
    "plt.ylabel('field height')\n",
    "\n",
    "plt.title(\"Astigmatic Field Plot\")\n",
    "\n",
    "plt.legend()\n",
    "\n",
    "plt.show()"
   ]
  },
  {
   "cell_type": "markdown",
   "metadata": {},
   "source": [
    "# Parabola with stop at the focus"
   ]
  },
  {
   "cell_type": "code",
   "execution_count": 36,
   "metadata": {},
   "outputs": [],
   "source": [
    "app.model = OpticalModel()\n",
    "opm = app.model\n",
    "sm = opm.seq_model\n",
    "osp = opm.optical_spec\n",
    "pm = opm.parax_model"
   ]
  },
  {
   "cell_type": "code",
   "execution_count": 37,
   "metadata": {},
   "outputs": [],
   "source": [
    "ep_diam = 12.5\n",
    "osp.pupil = PupilSpec(osp, key=['object', 'pupil'], value=ep_diam)\n",
    "osp.field_of_view = FieldSpec(osp, key=['object', 'angle'], flds=[0., 2.0])\n",
    "osp.spectral_region = WvlSpec([(550.0, 1.0)], ref_wl=0)"
   ]
  },
  {
   "cell_type": "code",
   "execution_count": 38,
   "metadata": {},
   "outputs": [],
   "source": [
    "sm.gaps[0].thi=1e10\n",
    "\n",
    "fl = 50.0\n",
    "opm.add_dummy_plane(sd=ep_diam/2, t=fl)\n",
    "sm.stop_surface = 1"
   ]
  },
  {
   "cell_type": "code",
   "execution_count": 39,
   "metadata": {},
   "outputs": [],
   "source": [
    "opm.add_mirror(lbl='M1', sd=ep_diam/2, profile=Conic, r=-2*fl, cc=-1.0, t=-fl)"
   ]
  },
  {
   "cell_type": "code",
   "execution_count": 40,
   "metadata": {},
   "outputs": [],
   "source": [
    "opm.update_model()"
   ]
  },
  {
   "cell_type": "code",
   "execution_count": 41,
   "metadata": {},
   "outputs": [
    {
     "name": "stdout",
     "output_type": "stream",
     "text": [
      "             c            t        medium     mode   zdr      sd\n",
      " Obj:     0.000000  1.00000e+10       air   transmit  1  3.4921e+08\n",
      "Stop:     0.000000      50.0000       air   transmit  1      6.2500\n",
      "  M1:    -0.010000     -50.0000       air    reflect -1      7.9849\n",
      " Img:    -0.000000      0.00000             transmit -1      1.7698\n"
     ]
    }
   ],
   "source": [
    "sm.list_model()"
   ]
  },
  {
   "cell_type": "markdown",
   "metadata": {},
   "source": [
    "## first and third order"
   ]
  },
  {
   "cell_type": "code",
   "execution_count": 42,
   "metadata": {},
   "outputs": [
    {
     "name": "stdout",
     "output_type": "stream",
     "text": [
      "       ax_ray_ht    ax_ray_slp\n",
      " 0:            0      6.25e-10\n",
      " 1:         6.25      6.25e-10\n",
      " 2:         6.25        -0.125\n",
      " 3:    3.125e-08        -0.125\n",
      "\n",
      "       pr_ray_ht    pr_ray_slp\n",
      " 0:  -3.4921e+08     0.0349208\n",
      " 1:            0     0.0349208\n",
      " 2:        1.746            -0\n",
      " 3:        1.746            -0\n",
      "\n",
      "            power           tau        index    type\n",
      " 0:             0         1e+10      1.00000    transmit\n",
      " 1:             0            50      1.00000    transmit\n",
      " 2:          0.02            50     -1.00000    reflect\n",
      " 3:            -0             0     -1.00000    transmit\n"
     ]
    }
   ],
   "source": [
    "pm.list_lens()"
   ]
  },
  {
   "cell_type": "code",
   "execution_count": 43,
   "metadata": {},
   "outputs": [
    {
     "name": "stdout",
     "output_type": "stream",
     "text": [
      "efl                  50\n",
      "ffl                   0\n",
      "pp1                  50\n",
      "bfl                  50\n",
      "ppk                   0\n",
      "f/#                   4\n",
      "m                     0\n",
      "red              -2e+08\n",
      "obj_dist          1e+10\n",
      "obj_ang               2\n",
      "enp_dist             -0\n",
      "enp_radius         6.25\n",
      "na obj         6.25e-10\n",
      "n obj                 1\n",
      "img_dist            -50\n",
      "img_ht            1.746\n",
      "exp_dist         -1e+10\n",
      "exp_radius        1e+10\n",
      "na img            0.124\n",
      "n img                -1\n",
      "optical invariant       0.2183\n"
     ]
    }
   ],
   "source": [
    "osp.parax_data.fod.list_first_order_data()"
   ]
  },
  {
   "cell_type": "code",
   "execution_count": 44,
   "metadata": {},
   "outputs": [
    {
     "data": {
      "application/vnd.jupyter.widget-view+json": {
       "model_id": "1f75d36152e14d6d977ecb9e5e429a0a",
       "version_major": 2,
       "version_minor": 0
      },
      "text/plain": [
       "Output()"
      ]
     },
     "metadata": {},
     "output_type": "display_data"
    }
   ],
   "source": [
    "# compute 3rd order aberrations\n",
    "ax_ray, pr_ray, fod = osp.parax_data\n",
    "u_last = ax_ray[-1][mc.slp]\n",
    "central_wv = opm.nm_to_sys_units(sm.central_wavelength())\n",
    "n_last = pm.sys[-1][mc.indx]\n",
    "to_df = compute_third_order(opm)\n",
    "\n",
    "tr_df=to_df.apply(to.seidel_to_transverse_aberration, axis='columns', args=(n_last,u_last))\n",
    "out = widgets.Output()\n",
    "wv_df=to_df.apply(to.seidel_to_wavefront, axis='columns', args=(central_wv,))\n",
    "with out:\n",
    "    display(to_df)\n",
    "    display(wv_df)\n",
    "display(out)\n",
    "\n",
    "fcv=to.seidel_to_field_curv(to_df.loc['sum'], n_last, fod.opt_inv)"
   ]
  },
  {
   "cell_type": "code",
   "execution_count": 45,
   "metadata": {},
   "outputs": [
    {
     "data": {
      "image/png": "[encoded data removed]",
      "text/plain": [
       "<Figure size 432x288 with 1 Axes>"
      ]
     },
     "metadata": {
      "needs_background": "light"
     },
     "output_type": "display_data"
    }
   ],
   "source": [
    "# display bar chart\n",
    "fig, ax = plt.subplots()\n",
    "ax.set_xlabel('Surface')\n",
    "ax.set_ylabel('third order aberration')\n",
    "ax.set_title('Surface by surface third order aberrations')\n",
    "to_df.plot.bar(ax=ax, rot=0)\n",
    "ax.grid(True)\n",
    "fig.tight_layout()"
   ]
  },
  {
   "cell_type": "markdown",
   "metadata": {},
   "source": [
    "## Begin finite difference astigmatism calculation"
   ]
  },
  {
   "cell_type": "code",
   "execution_count": 46,
   "metadata": {},
   "outputs": [],
   "source": [
    "fld, wvl, foc = osp.lookup_fld_wvl_focus(1)"
   ]
  },
  {
   "cell_type": "code",
   "execution_count": 47,
   "metadata": {},
   "outputs": [],
   "source": [
    "s_data = []\n",
    "t_data = []\n",
    "field_data = []\n",
    "field = Field()"
   ]
  },
  {
   "cell_type": "code",
   "execution_count": 48,
   "metadata": {},
   "outputs": [],
   "source": [
    "for f in np.linspace(0., osp.field_of_view.max_field()[0], num=11):\n",
    "    field.y = f\n",
    "    s_dfoc, t_dfoc = trace_astigmatism(opm, field, wvl, foc)\n",
    "    s_data.append(s_dfoc)\n",
    "    t_data.append(t_dfoc)\n",
    "    field_data.append(f)"
   ]
  },
  {
   "cell_type": "code",
   "execution_count": 49,
   "metadata": {},
   "outputs": [
    {
     "data": {
      "image/png": "[encoded data removed]",
      "text/plain": [
       "<Figure size 432x288 with 1 Axes>"
      ]
     },
     "metadata": {
      "needs_background": "light"
     },
     "output_type": "display_data"
    }
   ],
   "source": [
    "plt.plot(s_data, field_data, label='sagittal')\n",
    "plt.plot(t_data, field_data, label='tangential')\n",
    "\n",
    "plt.xlabel('focus')\n",
    "plt.ylabel('field height')\n",
    "\n",
    "plt.title(\"Astigmatic Field Plot\")\n",
    "\n",
    "plt.legend()\n",
    "\n",
    "plt.show()"
   ]
  },
  {
   "cell_type": "code",
   "execution_count": 50,
   "metadata": {},
   "outputs": [
    {
     "name": "stdout",
     "output_type": "stream",
     "text": [
      "0 Surface(lbl='Obj', profile=Spherical(c=0.0), interact_mode=transmit)\n",
      "1 Surface(profile=Spherical(c=0.0), interact_mode=transmit)\n",
      "2 Surface(lbl='M1', profile=Conic(c=-0.01, cc=-1.0), interact_mode=reflect)\n",
      "3 Surface(lbl='Img', profile=Spherical(c=-0.0), interact_mode=transmit)\n"
     ]
    }
   ],
   "source": [
    "sm.list_surfaces()"
   ]
  },
  {
   "cell_type": "code",
   "execution_count": 51,
   "metadata": {},
   "outputs": [
    {
     "data": {
      "image/png": "[encoded data removed]",
      "text/plain": [
       "<FieldCurveFigure size 432x288 with 1 Axes>"
      ]
     },
     "metadata": {},
     "output_type": "display_data"
    }
   ],
   "source": [
    "fig_astig = plt.figure(FigureClass=analysisplots.FieldCurveFigure, opt_model=opm).plot()"
   ]
  }
 ],
 "metadata": {
  "kernelspec": {
   "display_name": "Python 3",
   "language": "python",
   "name": "python3"
  },
  "language_info": {
   "codemirror_mode": {
    "name": "ipython",
    "version": 3
   },
   "file_extension": ".py",
   "mimetype": "text/x-python",
   "name": "python",
   "nbconvert_exporter": "python",
   "pygments_lexer": "ipython3",
   "version": "3.7.6"
  }
 },
 "nbformat": 4,
 "nbformat_minor": 2
}
