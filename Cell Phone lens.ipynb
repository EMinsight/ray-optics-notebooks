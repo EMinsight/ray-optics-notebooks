{
 "cells": [
  {
   "cell_type": "code",
   "execution_count": 1,
   "metadata": {},
   "outputs": [],
   "source": [
    "#%matplotlib inline\n",
    "%matplotlib widget"
   ]
  },
  {
   "cell_type": "code",
   "execution_count": 2,
   "metadata": {},
   "outputs": [],
   "source": [
    "isdark = True"
   ]
  },
  {
   "cell_type": "code",
   "execution_count": 3,
   "metadata": {},
   "outputs": [],
   "source": [
    "# initialization\n",
    "import itertools\n",
    "from rayoptics.util.misc_math import euler2opt\n",
    "import transforms3d as t3d\n",
    "\n",
    "# use standard rayoptics environment\n",
    "from rayoptics.environment import *\n",
    "\n",
    "from rayoptics.elem.elements import Element, Mirror\n",
    "from rayoptics.elem import parttree\n",
    "\n",
    "# util functions\n",
    "from rayoptics.util.misc_math import normalize"
   ]
  },
  {
   "cell_type": "markdown",
   "metadata": {},
   "source": [
    "# Create a new model"
   ]
  },
  {
   "cell_type": "code",
   "execution_count": 4,
   "metadata": {},
   "outputs": [],
   "source": [
    "opm = OpticalModel()\n",
    "sm = opm.seq_model\n",
    "osp = opm.optical_spec\n",
    "pm = opm.parax_model\n",
    "em = opm.ele_model\n",
    "pt = opm.part_tree"
   ]
  },
  {
   "cell_type": "markdown",
   "metadata": {},
   "source": [
    "## Define first order aperture and field for system"
   ]
  },
  {
   "cell_type": "code",
   "execution_count": 5,
   "metadata": {},
   "outputs": [],
   "source": [
    "osp.pupil = PupilSpec(osp, key=['image', 'f/#'], value=3.5)\n",
    "osp.field_of_view = FieldSpec(osp, key=['image', 'height'], flds=[0., .7071*3.5, 3.5])\n",
    "osp.spectral_region = WvlSpec([(486.1327, 0.5), (587.5618, 1.0), (656.2725, 0.5)], ref_wl=1)"
   ]
  },
  {
   "cell_type": "markdown",
   "metadata": {},
   "source": [
    "## Define interface and gap data for the sequential model"
   ]
  },
  {
   "cell_type": "code",
   "execution_count": 6,
   "metadata": {},
   "outputs": [],
   "source": [
    "opm.system_spec.title = 'Cell Phone Lens - U.S. Patent 7,535,658'\n",
    "opm.system_spec.dimensions = 'MM'\n",
    "opm.radius_mode = True\n",
    "\n",
    "sm.gaps[0].thi=1e10\n",
    "\n",
    "sm.add_surface([0., 0.])\n",
    "sm.set_stop()\n",
    "sm.add_surface([1.962, 1.19, 1.471, 76.6])\n",
    "sm.add_surface([33.398, .93])\n",
    "sm.add_surface([-2.182, .75, 1.603, 27.5])\n",
    "sm.add_surface([-6.367, 0.1])\n",
    "sm.add_surface([5.694, .89, 1.510, 56.2])\n",
    "sm.add_surface([9.192, .16])\n",
    "sm.add_surface([1.674, .85, 1.510, 56.2])\n",
    "sm.add_surface([1.509, .70])\n",
    "sm.add_surface([0., .40, 1.516, 64.1])\n",
    "sm.add_surface([0., .64])\n",
    "\n",
    "asp1 = RadialPolynomial(r=1.962, ec=2.153,\n",
    "                        coefs=[0., 0., -1.895e-2, 2.426e-2, -5.123e-2, 8.371e-4, 7.850e-3, 4.091e-3, -7.732e-3, -4.265e-3])\n",
    "asp2 = RadialPolynomial(r=33.398, ec=40.18,\n",
    "                        coefs=[0., 0., -4.966e-3, -1.434e-2, -6.139e-3, -9.284e-5, 6.438e-3, -5.72e-3, -2.385e-2, 1.108e-2])\n",
    "asp3 = RadialPolynomial(r=-2.182, ec=2.105,\n",
    "                        coefs=[0., 0., -4.388e-2, -2.555e-2, 5.16e-2, -4.307e-2, -2.831e-2, 3.162e-2, 4.630e-2, -4.877e-2])\n",
    "asp4 = RadialPolynomial(r=-6.367, ec=3.382,\n",
    "                        coefs=[0., 0., -1.131e-1, -7.863e-2, 1.094e-1, 6.228e-3, -2.216e-2, -5.89e-3, 4.123e-3, 1.041e-3])\n",
    "asp5 = RadialPolynomial(r=5.694, ec=-221.1,\n",
    "                        coefs=[0., 0., -7.876e-2, 7.02e-2, 1.575e-3, -9.958e-3, -7.322e-3, 6.914e-4, 2.54e-3, -7.65e-4])\n",
    "asp6 = RadialPolynomial(r=9.192, ec=0.9331,\n",
    "                        coefs=[0., 0., 9.694e-3, -2.516e-3, -3.606e-3, -2.497e-4, -6.84e-4, -1.414e-4, 2.932e-4, -7.284e-5])\n",
    "asp7 = RadialPolynomial(r=1.674, ec=-7.617,\n",
    "                        coefs=[0., 0., 7.429e-2, -6.933e-2, -5.811e-3, 2.396e-3, 2.100e-3, -3.119e-4, -5.552e-5, 7.969e-6])\n",
    "asp8 = RadialPolynomial(r=1.509, ec=-2.707,\n",
    "                        coefs=[0., 0., 1.767e-3, -4.652e-2, 1.625e-2, -3.522e-3, -7.106e-4, 3.825e-4, 6.271e-5, -2.631e-5])\n",
    "sm.ifcs[2].profile = asp1\n",
    "sm.ifcs[3].profile = asp2\n",
    "sm.ifcs[4].profile = asp3\n",
    "sm.ifcs[5].profile = asp4\n",
    "sm.ifcs[6].profile = asp5\n",
    "sm.ifcs[7].profile = asp6\n",
    "sm.ifcs[8].profile = asp7\n",
    "sm.ifcs[9].profile = asp8"
   ]
  },
  {
   "cell_type": "code",
   "execution_count": 7,
   "metadata": {},
   "outputs": [
    {
     "name": "stdout",
     "output_type": "stream",
     "text": [
      "1: profile: Spherical\n",
      "c=0.0,   r=0.0\n",
      "\n",
      "2: profile: RadialPolynomial\n",
      "c=0.509683995922528,   r=1.9620000000000002   conic cnst=1.153\n",
      "coefficients: [0.0, 0.0, -0.01895, 0.02426, -0.05123, 0.0008371, 0.00785, 0.004091, -0.007732, -0.004265]\n",
      "\n",
      "3: profile: RadialPolynomial\n",
      "c=0.029941912689382594,   r=33.398   conic cnst=39.18\n",
      "coefficients: [0.0, 0.0, -0.004966, -0.01434, -0.006139, -9.284e-05, 0.006438, -0.00572, -0.02385, 0.01108]\n",
      "\n",
      "4: profile: RadialPolynomial\n",
      "c=-0.4582951420714941,   r=-2.182   conic cnst=1.105\n",
      "coefficients: [0.0, 0.0, -0.04388, -0.02555, 0.0516, -0.04307, -0.02831, 0.03162, 0.0463, -0.04877]\n",
      "\n",
      "5: profile: RadialPolynomial\n",
      "c=-0.1570598397989634,   r=-6.367   conic cnst=2.382\n",
      "coefficients: [0.0, 0.0, -0.1131, -0.07863, 0.1094, 0.006228, -0.02216, -0.00589, 0.004123, 0.001041]\n",
      "\n",
      "6: profile: RadialPolynomial\n",
      "c=0.17562346329469616,   r=5.694   conic cnst=-222.1\n",
      "coefficients: [0.0, 0.0, -0.07876, 0.0702, 0.001575, -0.009958, -0.007322, 0.0006914, 0.00254, -0.000765]\n",
      "\n",
      "7: profile: RadialPolynomial\n",
      "c=0.10879025239338555,   r=9.192   conic cnst=-0.06689999999999996\n",
      "coefficients: [0.0, 0.0, 0.009694, -0.002516, -0.003606, -0.0002497, -0.000684, -0.0001414, 0.0002932, -7.284e-05]\n",
      "\n",
      "8: profile: RadialPolynomial\n",
      "c=0.5973715651135006,   r=1.674   conic cnst=-8.617\n",
      "coefficients: [0.0, 0.0, 0.07429, -0.06933, -0.005811, 0.002396, 0.0021, -0.0003119, -5.552e-05, 7.969e-06]\n",
      "\n",
      "9: profile: RadialPolynomial\n",
      "c=0.6626905235255136,   r=1.509   conic cnst=-3.707\n",
      "coefficients: [0.0, 0.0, 0.001767, -0.04652, 0.01625, -0.003522, -0.0007106, 0.0003825, 6.271e-05, -2.631e-05]\n",
      "\n",
      "10: profile: Spherical\n",
      "c=0.0,   r=0.0\n",
      "\n",
      "11: profile: Spherical\n",
      "c=0.0,   r=0.0\n",
      "\n"
     ]
    }
   ],
   "source": [
    "for i, ifc in enumerate(sm.ifcs[1:-1], start=1):\n",
    "    print(f'{i}: ' + ifc.profile.listobj_str())"
   ]
  },
  {
   "cell_type": "markdown",
   "metadata": {},
   "source": [
    "## Update the model"
   ]
  },
  {
   "cell_type": "code",
   "execution_count": 8,
   "metadata": {
    "scrolled": true
   },
   "outputs": [],
   "source": [
    "opm.update_model()"
   ]
  },
  {
   "cell_type": "markdown",
   "metadata": {},
   "source": [
    "## List the sequential model and the first order properties"
   ]
  },
  {
   "cell_type": "code",
   "execution_count": 9,
   "metadata": {},
   "outputs": [
    {
     "name": "stdout",
     "output_type": "stream",
     "text": [
      "              r            t        medium     mode   zdr      sd\n",
      "  Obj:     0.000000  1.00000e+10       air             1  6.3006e+09\n",
      " Stop:     0.000000      0.00000       air             1     0.79358\n",
      "    2:     1.962000      1.19000   471.766             1     0.93800\n",
      "    3:    33.398000     0.930000       air             1      1.0837\n",
      "    4:    -2.182000     0.750000   603.275             1      1.1338\n",
      "    5:    -6.367000     0.100000       air             1      1.5390\n",
      "    6:     5.694000     0.890000   510.562             1      1.8254\n",
      "    7:     9.192000     0.160000       air             1      2.3978\n",
      "    8:     1.674000     0.850000   510.562             1      2.4820\n",
      "    9:     1.509000     0.700000       air             1      2.9297\n",
      "   10:     0.000000     0.400000   516.641             1      3.3067\n",
      "   11:     0.000000     0.640000       air             1      3.4058\n",
      "  Img:     0.000000      0.00000                       1      3.6910\n"
     ]
    }
   ],
   "source": [
    "sm.list_model()"
   ]
  },
  {
   "cell_type": "code",
   "execution_count": 10,
   "metadata": {},
   "outputs": [
    {
     "name": "stdout",
     "output_type": "stream",
     "text": [
      "efl               5.555\n",
      "ffl              -7.531\n",
      "pp1              -1.976\n",
      "bfl              0.5678\n",
      "ppk               4.987\n",
      "f/#                 3.5\n",
      "m            -5.555e-10\n",
      "red            -1.8e+09\n",
      "obj_dist          1e+10\n",
      "obj_ang           32.21\n",
      "enp_dist             -0\n",
      "enp_radius       0.7936\n",
      "na obj        7.936e-11\n",
      "n obj                 1\n",
      "img_dist         0.5678\n",
      "img_ht              3.5\n",
      "exp_dist         -3.602\n",
      "exp_radius       0.5854\n",
      "na img          -0.1414\n",
      "n img                 1\n",
      "optical invariant          0.5\n"
     ]
    }
   ],
   "source": [
    "pm.first_order_data()"
   ]
  },
  {
   "cell_type": "code",
   "execution_count": 11,
   "metadata": {},
   "outputs": [
    {
     "name": "stdout",
     "output_type": "stream",
     "text": [
      "stop surface: 1\n",
      "           y           u           n*i         ybar         ubar        n*ibar\n",
      " 0            0  7.93581e-11  7.93581e-11 -6.30055e+09     0.630055     0.630055\n",
      " 1     0.793581  7.93581e-11  7.93581e-11            0     0.630055     0.630055\n",
      " 2     0.793581    -0.129509     0.404476            0     0.428317     0.630055\n",
      " 3     0.639465     -0.18149    -0.162343     0.509698     0.637243     0.652504\n",
      " 4      0.47068   -0.0320753      -0.3972      1.10233      0.58757     0.132049\n",
      " 5     0.446623    -0.093715    -0.163862      1.54301     0.795741     0.553396\n",
      " 6     0.437252   -0.0879992   -0.0169233      1.62259     0.430735      1.08071\n",
      " 7     0.358933    -0.112964   -0.0739158      2.00594     0.761705     0.979932\n",
      " 8     0.340858    -0.143583    0.0906549      2.12781    0.0751303       2.0328\n",
      " 9     0.218813    -0.142857   0.00214819      2.19167     0.854171      2.30657\n",
      "10     0.118813   -0.0942329    -0.142857      2.78959     0.563438     0.854171\n",
      "11    0.0811199    -0.142857    -0.142857      3.01497     0.854171     0.854171\n",
      "12   -0.0103087    -0.142857    -0.142857      3.56164     0.854171     0.854171\n"
     ]
    }
   ],
   "source": [
    "fo.list_parax_trace(opm)"
   ]
  },
  {
   "cell_type": "markdown",
   "metadata": {},
   "source": [
    "## Create elements from the sequential model and then set semi-diameters and flats for manufacturing and mounting"
   ]
  },
  {
   "cell_type": "code",
   "execution_count": 12,
   "metadata": {},
   "outputs": [],
   "source": [
    "parttree.elements_from_sequence(em, sm, pt)"
   ]
  },
  {
   "cell_type": "code",
   "execution_count": 13,
   "metadata": {},
   "outputs": [],
   "source": [
    "elmn = [e for e in opm.ele_model.elements if isinstance(e, Element) or isinstance(e, Mirror)]"
   ]
  },
  {
   "cell_type": "code",
   "execution_count": 14,
   "metadata": {},
   "outputs": [],
   "source": [
    "elmn[0].sd = 1.25\n",
    "elmn[1].sd = 1.75\n",
    "elmn[1].flat1 = 1.25\n",
    "elmn[1].flat2 = 1.645\n",
    "elmn[1].do_flat1 = 'always'\n",
    "elmn[1].do_flat2 = 'always'\n",
    "elmn[2].sd = 2.5\n",
    "elmn[2].flat1 = 2.1\n",
    "elmn[2].do_flat1 = 'always'\n",
    "elmn[2].do_flat2 = 'always'\n",
    "elmn[3].sd = 3.0\n",
    "elmn[3].flat1 = 2.6\n",
    "elmn[3].do_flat1 = 'always'\n",
    "elmn[3].do_flat2 = 'always'\n",
    "elmn[4].sd = 3.5"
   ]
  },
  {
   "cell_type": "markdown",
   "metadata": {},
   "source": [
    "## Draw a lens layout to verify the model"
   ]
  },
  {
   "cell_type": "code",
   "execution_count": 15,
   "metadata": {},
   "outputs": [
    {
     "data": {
      "application/vnd.jupyter.widget-view+json": {
       "model_id": "11b885f379e34015b6c0c4fa0cfa3a82",
       "version_major": 2,
       "version_minor": 0
      },
      "image/png": "[encoded data removed]",
      "text/html": [
       "\n",
       "            <div style=\"display: inline-block;\">\n",
       "                <div class=\"jupyter-widgets widget-label\" style=\"text-align: center;\">\n",
       "                    Figure\n",
       "                </div>\n",
       "                <img src='data:image/png;base64,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' width=640.0/>\n",
       "            </div>\n",
       "        "
      ],
      "text/plain": [
       "Canvas(toolbar=Toolbar(toolitems=[('Home', 'Reset original view', 'home', 'home'), ('Back', 'Back to previous …"
      ]
     },
     "metadata": {},
     "output_type": "display_data"
    }
   ],
   "source": [
    "live_layout = plt.figure(FigureClass=InteractiveLayout, opt_model=opm,\n",
    "                         do_draw_rays=True, do_paraxial_layout=False,\n",
    "                         offset_factor=0.1, is_dark=isdark).plot()"
   ]
  },
  {
   "cell_type": "code",
   "execution_count": 16,
   "metadata": {},
   "outputs": [
    {
     "data": {
      "text/plain": [
       "[[1.0, 1.0, 1.0],\n",
       " [1.0, 1.0, 1.0],\n",
       " [1.47466823288944, 1.471, 1.469170103837133],\n",
       " [1.0, 1.0, 1.0],\n",
       " [1.6192290090504393, 1.603, 1.5963558189310294],\n",
       " [1.0, 1.0, 1.0],\n",
       " [1.5159974655636532, 1.51, 1.5072773572773235],\n",
       " [1.0, 1.0, 1.0],\n",
       " [1.5159974655636532, 1.51, 1.5072773572773235],\n",
       " [1.0, 1.0, 1.0],\n",
       " [1.5211816424167774, 1.516, 1.513590045363769],\n",
       " [1.0, 1.0, 1.0]]"
      ]
     },
     "execution_count": 16,
     "metadata": {},
     "output_type": "execute_result"
    }
   ],
   "source": [
    "sm.rndx"
   ]
  },
  {
   "cell_type": "markdown",
   "metadata": {},
   "source": [
    "## Use Pathlib to find the installation directory and save the model."
   ]
  },
  {
   "cell_type": "code",
   "execution_count": 17,
   "metadata": {},
   "outputs": [],
   "source": [
    "root_pth = Path(rayoptics.__file__).resolve().parent\n",
    "\n",
    "opm.save_model(str(root_pth/\"optical/tests/cell_phone_camera\"))"
   ]
  },
  {
   "cell_type": "markdown",
   "metadata": {},
   "source": [
    "## List the element model"
   ]
  },
  {
   "cell_type": "code",
   "execution_count": 18,
   "metadata": {},
   "outputs": [
    {
     "name": "stdout",
     "output_type": "stream",
     "text": [
      "0: Object (DummyInterface): Surface(lbl='Obj', profile=Spherical(c=0.0), interact_mode='dummy')\n",
      "1: Stop (DummyInterface): Surface(profile=Spherical(c=0.0), interact_mode='transmit')\n",
      "2: E1 (Element): Element: RadialPolynomial(c=0.509683995922528, ec=2.153, coefs=[0.0, 0.0, -0.01895, 0.02426, -0.05123, 0.0008371, 0.00785, 0.004091, -0.007732, -0.004265]), RadialPolynomial(c=0.029941912689382594, ec=40.18, coefs=[0.0, 0.0, -0.004966, -0.01434, -0.006139, -9.284e-05, 0.006438, -0.00572, -0.02385, 0.01108]), t=1.1900, sd=1.2500, glass: 471.766\n",
      "3: E2 (Element): Element: RadialPolynomial(c=-0.4582951420714941, ec=2.105, coefs=[0.0, 0.0, -0.04388, -0.02555, 0.0516, -0.04307, -0.02831, 0.03162, 0.0463, -0.04877]), RadialPolynomial(c=-0.1570598397989634, ec=3.382, coefs=[0.0, 0.0, -0.1131, -0.07863, 0.1094, 0.006228, -0.02216, -0.00589, 0.004123, 0.001041]), t=0.7500, sd=1.7500, glass: 603.275\n",
      "4: E3 (Element): Element: RadialPolynomial(c=0.17562346329469616, ec=-221.1, coefs=[0.0, 0.0, -0.07876, 0.0702, 0.001575, -0.009958, -0.007322, 0.0006914, 0.00254, -0.000765]), RadialPolynomial(c=0.10879025239338555, ec=0.9331, coefs=[0.0, 0.0, 0.009694, -0.002516, -0.003606, -0.0002497, -0.000684, -0.0001414, 0.0002932, -7.284e-05]), t=0.8900, sd=2.5000, glass: 510.562\n",
      "5: E4 (Element): Element: RadialPolynomial(c=0.5973715651135006, ec=-7.617, coefs=[0.0, 0.0, 0.07429, -0.06933, -0.005811, 0.002396, 0.0021, -0.0003119, -5.552e-05, 7.969e-06]), RadialPolynomial(c=0.6626905235255136, ec=-2.707, coefs=[0.0, 0.0, 0.001767, -0.04652, 0.01625, -0.003522, -0.0007106, 0.0003825, 6.271e-05, -2.631e-05]), t=0.8500, sd=3.0000, glass: 510.562\n",
      "6: E5 (Element): Element: Spherical(c=0.0), Spherical(c=0.0), t=0.4000, sd=3.5000, glass: 516.641\n",
      "7: Image (DummyInterface): Surface(lbl='Img', profile=Spherical(c=0.0), interact_mode='dummy')\n"
     ]
    }
   ],
   "source": [
    "em.list_model()"
   ]
  },
  {
   "cell_type": "markdown",
   "metadata": {},
   "source": [
    "## Trace axial marginal ray"
   ]
  },
  {
   "cell_type": "code",
   "execution_count": 19,
   "metadata": {},
   "outputs": [
    {
     "name": "stdout",
     "output_type": "stream",
     "text": [
      "            X            Y            Z           L            M            N               Len\n",
      "  0:      0.00000      1.00000            0     0.000000     0.000000     1.000000        1e+10\n",
      "  1:      0.00000      1.00000            0     0.000000     0.000000     1.000000      0.26119\n",
      "  2:      0.00000      1.00000      0.26119     0.000000    -0.163284     0.986579      0.93632\n",
      "  3:      0.00000      0.84711   -0.0050525     0.000000    -0.272278     0.962219      0.86687\n",
      "  4:      0.00000      0.61108     -0.10094     0.000000    -0.024063     0.999710      0.79796\n",
      "  5:      0.00000      0.59188    -0.053212     0.000000    -0.171810     0.985130      0.16841\n",
      "  6:      0.00000      0.56295     0.012694     0.000000    -0.122925     0.992416      0.89598\n",
      "  7:      0.00000      0.45281      0.01188     0.000000    -0.158261     0.987397       0.2017\n",
      "  8:      0.00000      0.42089     0.051033     0.000000    -0.178956     0.983857      0.83614\n",
      "  9:      0.00000      0.27126     0.023675     0.000000    -0.185004     0.982738       0.6882\n",
      " 10:      0.00000      0.14394            0     0.000000    -0.122034     0.992526      0.40301\n",
      " 11:      0.00000      0.09476            0     0.000000    -0.185004     0.982738      0.65124\n",
      " 12:      0.00000     -0.02573            0     0.000000    -0.185004     0.982738            0\n"
     ]
    }
   ],
   "source": [
    "pt0 = np.array([0., 1., 0.])\n",
    "dir0 = np.array([0., 0., 1.])\n",
    "wvl = sm.central_wavelength()\n",
    "marg_ray = rt.trace(sm, pt0, dir0, wvl)\n",
    "list_ray(marg_ray[0])"
   ]
  },
  {
   "cell_type": "code",
   "execution_count": 20,
   "metadata": {},
   "outputs": [
    {
     "name": "stdout",
     "output_type": "stream",
     "text": [
      "0 [ 0.e+00  0.e+00 -1.e+10] -0.0 0.0 0.0\n",
      "1 [0. 0. 0.] -0.0 0.0 0.0\n",
      "2 [0. 0. 0.] -0.0 0.0 0.0\n",
      "3 [0.   0.   1.19] -0.0 0.0 0.0\n",
      "4 [0.   0.   2.12] -0.0 0.0 0.0\n",
      "5 [0.   0.   2.87] -0.0 0.0 0.0\n",
      "6 [0.   0.   2.97] -0.0 0.0 0.0\n",
      "7 [0.   0.   3.86] -0.0 0.0 0.0\n",
      "8 [0.   0.   4.02] -0.0 0.0 0.0\n",
      "9 [0.   0.   4.87] -0.0 0.0 0.0\n",
      "10 [0.   0.   5.57] -0.0 0.0 0.0\n",
      "11 [0.   0.   5.97] -0.0 0.0 0.0\n",
      "12 [0.   0.   6.61] -0.0 0.0 0.0\n"
     ]
    }
   ],
   "source": [
    "g_tfrms = sm.compute_global_coords(glo=2)\n",
    "for i, rottrn in enumerate(g_tfrms):\n",
    "    r, t = rottrn\n",
    "    print(i, t, *np.rad2deg(euler2opt(t3d.euler.mat2euler(r))))"
   ]
  },
  {
   "cell_type": "code",
   "execution_count": 21,
   "metadata": {},
   "outputs": [],
   "source": [
    "glo=2\n",
    "seq = itertools.zip_longest(sm.ifcs[glo::-1], sm.gaps[glo-1::-1])"
   ]
  },
  {
   "cell_type": "code",
   "execution_count": 22,
   "metadata": {},
   "outputs": [
    {
     "data": {
      "text/plain": [
       "[(Surface(profile=RadialPolynomial(c=0.509683995922528, ec=2.153, coefs=[0.0, 0.0, -0.01895, 0.02426, -0.05123, 0.0008371, 0.00785, 0.004091, -0.007732, -0.004265]), interact_mode='transmit'),\n",
       "  Gap(t=0.0, medium=Air())),\n",
       " (Surface(profile=Spherical(c=0.0), interact_mode='transmit'),\n",
       "  Gap(t=10000000000.0, medium=Air())),\n",
       " (Surface(lbl='Obj', profile=Spherical(c=0.0), interact_mode='dummy'), None)]"
      ]
     },
     "execution_count": 22,
     "metadata": {},
     "output_type": "execute_result"
    }
   ],
   "source": [
    "list(seq)"
   ]
  },
  {
   "cell_type": "code",
   "execution_count": 23,
   "metadata": {},
   "outputs": [
    {
     "name": "stdout",
     "output_type": "stream",
     "text": [
      "              r            t        medium     mode   zdr      sd\n",
      "  Obj:     0.000000  1.00000e+10       air             1  6.3006e+09\n",
      " Stop:     0.000000      0.00000       air             1     0.79358\n",
      "    2:     1.962000      1.19000   471.766             1     0.93800\n",
      "    3:    33.398000     0.930000       air             1      1.0837\n",
      "    4:    -2.182000     0.750000   603.275             1      1.1338\n",
      "    5:    -6.367000     0.100000       air             1      1.5390\n",
      "    6:     5.694000     0.890000   510.562             1      1.8254\n",
      "    7:     9.192000     0.160000       air             1      2.3978\n",
      "    8:     1.674000     0.850000   510.562             1      2.4820\n",
      "    9:     1.509000     0.700000       air             1      2.9297\n",
      "   10:     0.000000     0.400000   516.641             1      3.3067\n",
      "   11:     0.000000     0.640000       air             1      3.4058\n",
      "  Img:     0.000000      0.00000                       1      3.6910\n"
     ]
    }
   ],
   "source": [
    "sm.list_model()"
   ]
  },
  {
   "cell_type": "code",
   "execution_count": 24,
   "metadata": {},
   "outputs": [
    {
     "data": {
      "text/plain": [
       "(array([0.08601351, 0.17302717, 0.98115405]),\n",
       " [0.086, 0.173, 0.981],\n",
       " array([-0.08601351, -0.17302717,  0.        ]))"
      ]
     },
     "execution_count": 24,
     "metadata": {},
     "output_type": "execute_result"
    }
   ],
   "source": [
    "dir0 = normalize(np.array([0.086, 0.173, 0.981]))\n",
    "pt1 = np.array(-dir0)\n",
    "sm.gaps[1].thi = dir0[2]\n",
    "pt1[2] = 0.\n",
    "dir0, [0.086, 0.173, 0.981], pt1"
   ]
  },
  {
   "cell_type": "markdown",
   "metadata": {},
   "source": [
    "## Trace an arbitrary skew ray using the low level trace_raw function."
   ]
  },
  {
   "cell_type": "code",
   "execution_count": 25,
   "metadata": {},
   "outputs": [
    {
     "name": "stdout",
     "output_type": "stream",
     "text": [
      "            X            Y            Z           L            M            N               Len\n",
      "  0:     -0.08601     -0.17303            0     0.086014     0.173027     0.981154     0.009449\n",
      "  1:     -0.08520     -0.17139     0.009271     0.072254     0.145349     0.986739       1.1966\n",
      "  2:      0.00126      0.00253         1.19     0.106304     0.213844     0.971066      0.94474\n",
      "  3:      0.10169      0.20456       2.1074     0.085295     0.171581     0.981471      0.75899\n",
      "  4:      0.16643      0.33479       2.8523     0.106581     0.214401     0.970913      0.12979\n",
      "  5:      0.18026      0.36261       2.9783     0.066253     0.133277     0.988862      0.90879\n",
      "  6:      0.24047      0.48374        3.877     0.115071     0.231480     0.966010      0.24881\n",
      "  7:      0.26910      0.54133       4.1174     0.032613     0.065605     0.997313      0.88059\n",
      "  8:      0.29782      0.59910       4.9956     0.126731     0.254936     0.958617       0.5992\n",
      "  9:      0.37376      0.75186         5.57     0.083596     0.168164     0.982208      0.40725\n",
      " 10:      0.40780      0.82034         5.97     0.126731     0.254936     0.958617      0.66763\n",
      " 11:      0.49241      0.99054         6.61     0.126731     0.254936     0.958617            0\n"
     ]
    }
   ],
   "source": [
    "wvl = sm.central_wavelength()\n",
    "\n",
    "path = sm.path(wl=wvl, start=1)\n",
    "skew_ray = rt.trace_raw(path, pt1, dir0, wvl)\n",
    "\n",
    "list_ray(skew_ray[0], tfrms=g_tfrms[1:])"
   ]
  },
  {
   "cell_type": "code",
   "execution_count": 26,
   "metadata": {},
   "outputs": [
    {
     "name": "stdout",
     "output_type": "stream",
     "text": [
      "  0:     -0.08601     -0.17303            0     0.086014     0.173027     0.981154     0.000000     0.000000     1.000000     0.009449\n",
      "  1:     -0.08520     -0.17139     0.009271     0.072254     0.145349     0.986739     0.042901     0.086301     0.995345       1.1966\n",
      "  2:      0.00126      0.00253   1.1955e-07     0.106304     0.213844     0.971066    -0.000038    -0.000076     1.000000      0.94474\n",
      "  3:      0.10169      0.20456    -0.012595     0.085295     0.171581     0.981471     0.050195     0.100974     0.993622      0.75899\n",
      "  4:      0.16643      0.33479    -0.017664     0.106581     0.214401     0.970913     0.049732     0.100042     0.993740      0.12979\n",
      "  5:      0.18026      0.36261    0.0083478     0.066253     0.133277     0.988862    -0.012514    -0.025174     0.999605      0.90879\n",
      "  6:      0.24047      0.48374     0.017019     0.115071     0.231480     0.966010    -0.028450    -0.057230     0.997956      0.24881\n",
      "  7:      0.26910      0.54133     0.097372     0.032613     0.065605     0.997313    -0.117584    -0.236536     0.964482      0.88059\n",
      "  8:      0.29782      0.59910       0.1256     0.126731     0.254936     0.958617    -0.134914    -0.271396     0.952965       0.5992\n",
      "  9:      0.37376      0.75186            0     0.083596     0.168164     0.982208    -0.000000    -0.000000     1.000000      0.40725\n",
      " 10:      0.40780      0.82034            0     0.126731     0.254936     0.958617    -0.000000    -0.000000     1.000000      0.66763\n",
      " 11:      0.49241      0.99054            0     0.126731     0.254936     0.958617    -0.000000    -0.000000     1.000000            0\n"
     ]
    }
   ],
   "source": [
    "colFormats = \"{:3d}: {:12.5f} {:12.5f} {:12.5g} {:12.6f} {:12.6f} {:12.6f} {:12.6f} {:12.6f} {:12.6f} {:12.5g}\"\n",
    "for i, r in enumerate(skew_ray[0]):\n",
    "    print(colFormats.format(i,\n",
    "                            r[mc.p][0], r[mc.p][1], r[mc.p][2],\n",
    "                            r[mc.d][0], r[mc.d][1], r[mc.d][2],\n",
    "                            r[mc.nrml][0], r[mc.nrml][1], r[mc.nrml][2],\n",
    "                            r[mc.dst]))"
   ]
  },
  {
   "cell_type": "code",
   "execution_count": 27,
   "metadata": {},
   "outputs": [
    {
     "name": "stdout",
     "output_type": "stream",
     "text": [
      "              r            t        medium     mode   zdr      sd\n",
      "  Obj:     0.000000  1.00000e+10       air             1  6.3006e+09\n",
      " Stop:     0.000000     0.981154       air             1     0.79358\n",
      "    2:     1.962000      1.19000   471.766             1     0.93800\n",
      "    3:    33.398000     0.930000       air             1      1.0837\n",
      "    4:    -2.182000     0.750000   603.275             1      1.1338\n",
      "    5:    -6.367000     0.100000       air             1      1.5390\n",
      "    6:     5.694000     0.890000   510.562             1      1.8254\n",
      "    7:     9.192000     0.160000       air             1      2.3978\n",
      "    8:     1.674000     0.850000   510.562             1      2.4820\n",
      "    9:     1.509000     0.700000       air             1      2.9297\n",
      "   10:     0.000000     0.400000   516.641             1      3.3067\n",
      "   11:     0.000000     0.640000       air             1      3.4058\n",
      "  Img:     0.000000      0.00000                       1      3.6910\n"
     ]
    }
   ],
   "source": [
    "sm.list_model()"
   ]
  },
  {
   "cell_type": "markdown",
   "metadata": {},
   "source": [
    "## Set up the ray trace for the second field point (field point index = 1)"
   ]
  },
  {
   "cell_type": "code",
   "execution_count": 28,
   "metadata": {},
   "outputs": [],
   "source": [
    "fld, wvl, foc = osp.lookup_fld_wvl_focus(1)"
   ]
  },
  {
   "cell_type": "markdown",
   "metadata": {},
   "source": [
    "## Trace central, upper and lower rays"
   ]
  },
  {
   "cell_type": "code",
   "execution_count": 29,
   "metadata": {},
   "outputs": [
    {
     "name": "stdout",
     "output_type": "stream",
     "text": [
      "            X            Y            Z           L            M            N               Len\n",
      "  0:      0.00000 -4455119074.82455            0     0.000000     0.406953     0.913449   1.0948e+10\n",
      "  1:      0.00000      0.00000            0     0.000000     0.406953     0.913449   3.0134e-15\n",
      "  2:      0.00000      0.00000   2.6771e-15     0.000000     0.276650     0.960971       1.2397\n",
      "  3:      0.00000      0.34297     0.001336     0.000000     0.409866     0.912146      0.86869\n",
      "  4:      0.00000      0.69902     -0.13629     0.000000     0.407402     0.913249      0.76898\n",
      "  5:      0.00000      1.01230     -0.18402     0.000000     0.432712     0.901532      0.34554\n",
      "  6:      0.00000      1.16182     0.027492     0.000000     0.283196     0.959062       1.0047\n",
      "  7:      0.00000      1.44636      0.10111     0.000000     0.468716     0.883349      0.36927\n",
      "  8:      0.00000      1.61944       0.2673     0.000000     0.352162     0.935939       1.0087\n",
      "  9:      0.00000      1.97467       0.3614     0.000000     0.436135     0.899881      0.37628\n",
      " 10:      0.00000      2.13878            0     0.000000     0.287688     0.957724      0.41766\n",
      " 11:      0.00000      2.25894            0     0.000000     0.436135     0.899881      0.71121\n",
      " 12:      0.00000      2.56912            0     0.000000     0.436135     0.899881            0\n"
     ]
    }
   ],
   "source": [
    "ray_f1_r0 = trace_base(opm, [0., 0.], fld, wvl)\n",
    "list_ray(ray_f1_r0[0])"
   ]
  },
  {
   "cell_type": "code",
   "execution_count": 30,
   "metadata": {},
   "outputs": [
    {
     "name": "stdout",
     "output_type": "stream",
     "text": [
      "            X            Y            Z           L            M            N               Len\n",
      "  0:      0.00000 -4455119074.82455            0     0.000000     0.406953     0.913449   1.0948e+10\n",
      "  1:      0.00000      0.79358            0     0.000000     0.406953     0.913449      0.22235\n",
      "  2:      0.00000      0.88407       0.2031     0.000000     0.101114     0.994875      0.97236\n",
      "  3:      0.00000      0.98239    -0.019515     0.000000     0.074330     0.997234      0.60425\n",
      "  4:      0.00000      1.02730     -0.34694     0.000000     0.342927     0.939362       0.8381\n",
      "  5:      0.00000      1.31471     -0.30965     0.000000     0.320198     0.947351      0.45073\n",
      "  6:      0.00000      1.45903     0.017345     0.000000     0.246733     0.969084       1.0139\n",
      "  7:      0.00000      1.70918      0.10987     0.000000     0.362970     0.931801      0.29718\n",
      "  8:      0.00000      1.81705      0.22678     0.000000     0.335417     0.942070      0.99575\n",
      "  9:      0.00000      2.15104      0.31485     0.000000     0.340775     0.940145      0.40967\n",
      " 10:      0.00000      2.29065            0     0.000000     0.224786     0.974408      0.41051\n",
      " 11:      0.00000      2.38292            0     0.000000     0.340775     0.940145      0.68075\n",
      " 12:      0.00000      2.61491            0     0.000000     0.340775     0.940145            0\n"
     ]
    }
   ],
   "source": [
    "ray_f1_py = trace_base(opm, [0., 1.], fld, wvl)\n",
    "list_ray(ray_f1_py[0])"
   ]
  },
  {
   "cell_type": "code",
   "execution_count": 31,
   "metadata": {},
   "outputs": [
    {
     "name": "stdout",
     "output_type": "stream",
     "text": [
      "            X            Y            Z           L            M            N               Len\n",
      "  0:      0.00000 -4455119074.82455            0     0.000000     0.406953     0.913449   1.0948e+10\n",
      "  1:      0.00000     -0.79358            0     0.000000     0.406953     0.913449      0.15124\n",
      "  2:      0.00000     -0.73203      0.13815     0.000000     0.391742     0.920075       1.1443\n",
      "  3:      0.00000     -0.28377   0.00098906     0.000000     0.573151     0.819450       1.0975\n",
      "  4:      0.00000      0.34526    -0.029681     0.000000     0.428272     0.903650      0.78087\n",
      "  5:      0.00000      0.67968    -0.074048     0.000000     0.531021     0.847359      0.22793\n",
      "  6:      0.00000      0.80071     0.019088     0.000000     0.341292     0.939957       1.0037\n",
      "  7:      0.00000      1.14325     0.072483     0.000000     0.579551     0.814936      0.44361\n",
      "  8:      0.00000      1.40035      0.27399     0.000000     0.363252     0.931691       1.0285\n",
      "  9:      0.00000      1.77395      0.38224     0.000000     0.534421     0.845218      0.37595\n",
      " 10:      0.00000      1.97487   1.1102e-16     0.000000     0.352521     0.935804      0.42744\n",
      " 11:      0.00000      2.12555            0     0.000000     0.534421     0.845218       0.7572\n",
      " 12:      0.00000      2.53021            0     0.000000     0.534421     0.845218            0\n"
     ]
    }
   ],
   "source": [
    "ray_f1_my = trace_base(opm, [0., -1.], fld, wvl)\n",
    "list_ray(ray_f1_my[0])"
   ]
  },
  {
   "cell_type": "code",
   "execution_count": 32,
   "metadata": {},
   "outputs": [
    {
     "name": "stdout",
     "output_type": "stream",
     "text": [
      "aperture: image f/#; value=3.5\n",
      "field: image height; value=3.5\n",
      "x,y=0.0 vlx= 0.000 vux= 0.000 vly= 0.000 vuy= 0.000\n",
      "y=2.47485 vly= 0.000 vuy= 0.000 vlx= 0.000 vux= 0.000\n",
      "y=3.5 vly= 0.000 vuy= 0.000 vlx= 0.000 vux= 0.000\n",
      "central wavelength=587.5618 nm\n",
      "wavelength (weight) =  486.1327 (0.500),  587.5618 (1.000)*,  656.2725 (0.500)\n",
      "focus shift=0.0\n",
      "\n"
     ]
    }
   ],
   "source": [
    "listobj(osp)"
   ]
  },
  {
   "cell_type": "code",
   "execution_count": 33,
   "metadata": {},
   "outputs": [
    {
     "name": "stdout",
     "output_type": "stream",
     "text": [
      "SystemSpec:\n",
      "title: Cell Phone Lens - U.S. Patent 7,535,658\n",
      "initials: \n",
      "_dimensions: MM\n",
      "temperature: 20.0\n",
      "pressure: 760.0\n",
      "\n"
     ]
    }
   ],
   "source": [
    "listobj(opm['sys'])"
   ]
  },
  {
   "cell_type": "code",
   "execution_count": null,
   "metadata": {},
   "outputs": [],
   "source": []
  }
 ],
 "metadata": {
  "kernelspec": {
   "display_name": "Python 3 (ipykernel)",
   "language": "python",
   "name": "python3"
  },
  "language_info": {
   "codemirror_mode": {
    "name": "ipython",
    "version": 3
   },
   "file_extension": ".py",
   "mimetype": "text/x-python",
   "name": "python",
   "nbconvert_exporter": "python",
   "pygments_lexer": "ipython3",
   "version": "3.8.12"
  }
 },
 "nbformat": 4,
 "nbformat_minor": 4
}
