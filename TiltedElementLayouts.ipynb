{
 "cells": [
  {
   "cell_type": "code",
   "execution_count": 1,
   "metadata": {},
   "outputs": [],
   "source": [
    "#%matplotlib widget\n",
    "%matplotlib ipympl"
   ]
  },
  {
   "cell_type": "code",
   "execution_count": 2,
   "metadata": {},
   "outputs": [],
   "source": [
    "# initialization\n",
    "from rayoptics.environment import *\n",
    "from rayoptics.optical.elements import create_mirror\n",
    "from rayoptics.optical.model_enums import DecenterType as dec"
   ]
  },
  {
   "cell_type": "code",
   "execution_count": 3,
   "metadata": {},
   "outputs": [],
   "source": [
    "root_pth = Path(rayoptics.__file__).resolve().parent"
   ]
  },
  {
   "cell_type": "code",
   "execution_count": 4,
   "metadata": {},
   "outputs": [],
   "source": [
    "app = AppManager(None)"
   ]
  },
  {
   "cell_type": "code",
   "execution_count": 5,
   "metadata": {},
   "outputs": [],
   "source": [
    "#app.model = open_model(root_pth/\"codev/tests/ag_dblgauss.seq\")\n",
    "app.model = OpticalModel()\n",
    "opm = app.model\n",
    "sm = opm.seq_model\n",
    "osp = opm.optical_spec"
   ]
  },
  {
   "cell_type": "markdown",
   "metadata": {},
   "source": [
    "### Define first order aperture and field for model"
   ]
  },
  {
   "cell_type": "code",
   "execution_count": 6,
   "metadata": {},
   "outputs": [],
   "source": [
    "osp.pupil = PupilSpec(osp, pupil_type=PupilType.EPD, value=1.)\n",
    "osp.field_of_view = FieldSpec(osp, field_type=FieldType.OBJ_ANG, flds=[0.])\n",
    "osp.spectral_region = WvlSpec([(555.0, 1.0)], ref_wl=0)"
   ]
  },
  {
   "cell_type": "markdown",
   "metadata": {},
   "source": [
    "### Enter sequential model"
   ]
  },
  {
   "cell_type": "code",
   "execution_count": 7,
   "metadata": {},
   "outputs": [],
   "source": [
    "opm.radius_mode = True\n",
    "\n",
    "sm.gaps[0].thi=1e10\n",
    "\n",
    "sm.add_surface([0., 5.0])\n",
    "sm.set_stop()\n",
    "\n",
    "seq_m1, me1 = create_mirror()\n",
    "m1 = seq_m1[0][0]\n",
    "sm += m1\n",
    "sm += Gap(t=-5.0)\n",
    "opm.ele_model.add_element(me1[0])\n",
    "m1.decenter = srf.DecenterData(dec.BEND, alpha=60.)\n",
    "\n",
    "seq_m2, me2 = create_mirror()\n",
    "m2 = seq_m2[0][0]\n",
    "sm += m2\n",
    "sm += Gap(t=5.0)\n",
    "me2[0].z_dir = -1.0\n",
    "opm.ele_model.add_element(me2[0])\n",
    "m2.decenter = srf.DecenterData(dec.BEND, alpha=-60.)\n",
    "\n",
    "seq_m3, me3 = create_mirror()\n",
    "m3 = seq_m3[0][0]\n",
    "sm += m3\n",
    "sm += Gap(t=-5.0)\n",
    "opm.ele_model.add_element(me3[0])\n",
    "m3.decenter = srf.DecenterData(dec.BEND, alpha=-45.)\n"
   ]
  },
  {
   "cell_type": "code",
   "execution_count": 8,
   "metadata": {},
   "outputs": [
    {
     "data": {
      "text/plain": [
       "<rayoptics.optical.elements.Mirror at 0x131ee9e240>"
      ]
     },
     "execution_count": 8,
     "metadata": {},
     "output_type": "execute_result"
    }
   ],
   "source": [
    "me3[0]"
   ]
  },
  {
   "cell_type": "code",
   "execution_count": 9,
   "metadata": {},
   "outputs": [],
   "source": [
    "opm.update_model()"
   ]
  },
  {
   "cell_type": "code",
   "execution_count": 10,
   "metadata": {},
   "outputs": [
    {
     "name": "stdout",
     "output_type": "stream",
     "text": [
      "0: Mirror (Mirror): Mirror: Spherical(c=0.0), t=0.0500, sd=1.0000\n",
      "1: Mirror (Mirror): Mirror: Spherical(c=0.0), t=0.0500, sd=1.0000\n",
      "2: Mirror (Mirror): Mirror: Spherical(c=0.0), t=0.0354, sd=0.7071\n"
     ]
    }
   ],
   "source": [
    "opm.ele_model.list_elements()"
   ]
  },
  {
   "cell_type": "code",
   "execution_count": 11,
   "metadata": {},
   "outputs": [
    {
     "name": "stdout",
     "output_type": "stream",
     "text": [
      "0:            0            0       -1e+10\n",
      "1:            0            0            0\n",
      "2:            0            0            5\n",
      "3:            0    -4.330127          7.5\n",
      "4:            0    -4.330127         12.5\n",
      "5:            0     0.669873         12.5\n"
     ]
    }
   ],
   "source": [
    "for i,trfm in enumerate(sm.gbl_tfrms):\n",
    "    print(\"{}: {:12.7g} {:12.7g} {:12.7g}\".format(i, trfm[1][0], trfm[1][1], trfm[1][2]))"
   ]
  },
  {
   "cell_type": "code",
   "execution_count": 12,
   "metadata": {},
   "outputs": [
    {
     "name": "stdout",
     "output_type": "stream",
     "text": [
      "            X            Y            Z           L            M            N               Len\n",
      "  0:      0.00000      0.00000            0     0.000000     0.000000     1.000000        1e+10\n",
      "  1:      0.00000      0.00000            0     0.000000     0.000000     1.000000            5\n",
      "  2:      0.00000      0.00000            0     0.000000    -0.866025    -0.500000            5\n",
      "  3:      0.00000      0.00000            0     0.000000    -0.866025     0.500000            5\n",
      "  4:      0.00000      0.00000            0     0.000000     0.707107    -0.707107            5\n",
      "  5:      0.00000      0.00000            0     0.000000     0.000000    -1.000000            0\n"
     ]
    }
   ],
   "source": [
    "pt0 = np.array([0., 0., 0.])\n",
    "dir0 = np.array([0., 0., 1.])\n",
    "wvl = sm.central_wavelength()\n",
    "oar = rt.trace(sm, pt0, dir0, wvl)\n",
    "list_ray(oar[0])"
   ]
  },
  {
   "cell_type": "code",
   "execution_count": 13,
   "metadata": {},
   "outputs": [
    {
     "name": "stdout",
     "output_type": "stream",
     "text": [
      "            X            Y            Z          SRL           SRM          SRN\n",
      "  0:      0.00000      0.00000       -1e+10    1     0.000000     0.000000     1.000000\n",
      "  1:      0.00000      0.00000            0    1     0.000000     0.000000     1.000000\n",
      "  2:      0.00000      0.00000            5   -1     0.000000     0.866025     0.500000\n",
      "  3:      0.00000     -4.33013          7.5    1     0.000000     0.866025     0.500000\n",
      "  4:      0.00000     -4.33013         12.5   -1     0.000000    -0.707107     0.707107\n",
      "  5:      0.00000      0.66987         12.5   -1     0.000000    -1.000000     0.000000\n"
     ]
    }
   ],
   "source": [
    "tfrms = sm.gbl_tfrms\n",
    "print(\"            X            Y            Z          SRL\"\n",
    "      \"           SRM          SRN\")\n",
    "for i, r in enumerate(oar[mc.ray][0:]):\n",
    "    rot, trns = tfrms[i]\n",
    "    p = rot.dot(r[mc.p]) + trns\n",
    "    snr = rot.dot(r[mc.nrml])\n",
    "    print(\"{:3d}: {:12.5f} {:12.5f} {:12.5g} {:4.0f} {:12.6f} {:12.6f} {:12.6f}\"\n",
    "          .format(i, p[0], p[1], p[2], sm.z_dir[i], snr[0], snr[1], snr[2]))"
   ]
  },
  {
   "cell_type": "code",
   "execution_count": 14,
   "metadata": {},
   "outputs": [
    {
     "name": "stdout",
     "output_type": "stream",
     "text": [
      "            X            Y            Z           L            M            N               Len\n",
      "  0:      0.00000      0.00000       -1e+10     0.000000     0.000000     1.000000        1e+10\n",
      "  1:      0.00000      0.00000            0     0.000000     0.000000     1.000000            5\n",
      "  2:      0.00000      0.00000            5     0.000000    -0.866025     0.500000            5\n",
      "  3:      0.00000     -4.33013          7.5     0.000000     0.000000     1.000000            5\n",
      "  4:      0.00000     -4.33013         12.5     0.000000     1.000000     0.000000            5\n",
      "  5:      0.00000      0.66987         12.5     0.000000     1.000000    -0.000000            0\n"
     ]
    }
   ],
   "source": [
    "list_ray(oar,tfrms=sm.gbl_tfrms)"
   ]
  },
  {
   "cell_type": "code",
   "execution_count": 15,
   "metadata": {},
   "outputs": [
    {
     "data": {
      "text/plain": [
       "[1.0, 1.0, -1.0, 1.0, -1.0, -1.0]"
      ]
     },
     "execution_count": 15,
     "metadata": {},
     "output_type": "execute_result"
    }
   ],
   "source": [
    "sm.z_dir"
   ]
  },
  {
   "cell_type": "code",
   "execution_count": 16,
   "metadata": {},
   "outputs": [
    {
     "data": {
      "application/vnd.jupyter.widget-view+json": {
       "model_id": "2aeaade5b6b449269adc18137eda192c",
       "version_major": 2,
       "version_minor": 0
      },
      "text/plain": [
       "FigureCanvasNbAgg()"
      ]
     },
     "metadata": {},
     "output_type": "display_data"
    }
   ],
   "source": [
    "layout_plt = plt.figure(FigureClass=LensLayoutFigure, opt_model=opm).plot()\n",
    "#app.add_view(layout_plt, ModelInfo(opm, layout_plt.refresh))"
   ]
  },
  {
   "cell_type": "code",
   "execution_count": 17,
   "metadata": {},
   "outputs": [
    {
     "name": "stdout",
     "output_type": "stream",
     "text": [
      "0 Gap(t=10000000000.0, medium=Air)\n",
      "1 Gap(t=5.0, medium=Air)\n",
      "2 Gap(t=-5.0, medium=Air)\n",
      "  'BEND': Decenter: array([0., 0., 0.]), Tilt: array([60.,  0.,  0.])\n",
      "3 Gap(t=5.0, medium=Air)\n",
      "  'BEND': Decenter: array([0., 0., 0.]), Tilt: array([-60.,   0.,   0.])\n",
      "4 Gap(t=-5.0, medium=Air)\n",
      "  'BEND': Decenter: array([0., 0., 0.]), Tilt: array([-45.,   0.,   0.])\n"
     ]
    }
   ],
   "source": [
    "sm.list_decenters()"
   ]
  },
  {
   "cell_type": "code",
   "execution_count": 18,
   "metadata": {},
   "outputs": [],
   "source": [
    "opm.save_model('Tilted mirrors')"
   ]
  },
  {
   "cell_type": "code",
   "execution_count": 19,
   "metadata": {},
   "outputs": [],
   "source": [
    "opm = open_model(root_pth/\"codev/tests/folded_lenses.seq\")\n",
    "sm = opm.seq_model\n",
    "osp = opm.optical_spec\n",
    "pm = opm.parax_model"
   ]
  },
  {
   "cell_type": "code",
   "execution_count": 20,
   "metadata": {},
   "outputs": [
    {
     "data": {
      "application/vnd.jupyter.widget-view+json": {
       "model_id": "44b9771105ec4a9199ea2637ce61eab4",
       "version_major": 2,
       "version_minor": 0
      },
      "text/plain": [
       "FigureCanvasNbAgg()"
      ]
     },
     "metadata": {},
     "output_type": "display_data"
    }
   ],
   "source": [
    "layout_plt = plt.figure(FigureClass=LensLayoutFigure, opt_model=opm).plot()"
   ]
  },
  {
   "cell_type": "code",
   "execution_count": 21,
   "metadata": {},
   "outputs": [
    {
     "name": "stdout",
     "output_type": "stream",
     "text": [
      "0 1.0 0.0\n",
      "1 1.0 0.0\n",
      "2 -1.0 0.0\n",
      "3 -1.0 -0.67\n",
      "4 -1.0 0.0\n",
      "5 -1.0 0.0\n",
      "6 -1.0 -0.77095\n",
      "7 1.0 0.0\n",
      "8 1.0 -0.67\n",
      "9 1.0 0.0\n",
      "10 1.0 0.0\n",
      "11 1.0 -0.59225\n",
      "12 -1.0 0.0\n",
      "13 -1.0 0.0\n"
     ]
    }
   ],
   "source": [
    "for i,s in enumerate(sm.ifcs):\n",
    "    print(i, sm.z_dir[i], s.profile_cv)"
   ]
  },
  {
   "cell_type": "code",
   "execution_count": 22,
   "metadata": {},
   "outputs": [
    {
     "name": "stdout",
     "output_type": "stream",
     "text": [
      "0: Aperture Stop (DummyInterface): Surface(profile=Spherical(c=0.0))\n",
      "1: AirGap Aperture Stop-M1 (AirGap): Gap(t=5.0, medium=Air)\n",
      "2: M1 (Mirror): Mirror: Spherical(c=0.0), t=0.0500, sd=1.0000\n",
      "3: AirGap M1-E1 (AirGap): Gap(t=-2.25, medium=Air)\n",
      "4: E1 (Element): Element: Spherical(c=-0.67), Spherical(c=0.0), t=-0.2500, sd=0.5000, glass: N-BK7\n",
      "5: AirGap E1-E2 (AirGap): Gap(t=-0.05, medium=Air)\n",
      "6: E2 (Element): Element: Spherical(c=0.0), Spherical(c=-0.77095), t=-0.2500, sd=0.4712, glass: N-BK7\n",
      "7: AirGap E2-M3 (AirGap): Gap(t=-2.25, medium=Air)\n",
      "8: M3 (Mirror): Mirror: Spherical(c=0.0), t=0.0431, sd=0.8620\n",
      "9: AirGap M3-E3 (AirGap): Gap(t=2.25, medium=Air)\n",
      "10: E3 (Element): Element: Spherical(c=-0.67), Spherical(c=0.0), t=0.2500, sd=0.4596, glass: N-BK7\n",
      "11: AirGap E3-E4 (AirGap): Gap(t=0.05, medium=Air)\n",
      "12: E4 (Element): Element: Spherical(c=0.0), Spherical(c=-0.59225), t=0.2500, sd=0.4852, glass: N-BK7\n",
      "13: AirGap E4-M5 (AirGap): Gap(t=2.25, medium=Air)\n",
      "14: M5 (Mirror): Mirror: Spherical(c=0.0), t=0.0341, sd=0.6829\n",
      "15: AirGap M5-Image (AirGap): Gap(t=-5.0, medium=Air)\n",
      "16: Image (DummyInterface): Surface(lbl='Img', profile=Spherical(c=0.0))\n"
     ]
    }
   ],
   "source": [
    "em = opm.ele_model\n",
    "em.list_elements()"
   ]
  },
  {
   "cell_type": "code",
   "execution_count": 23,
   "metadata": {},
   "outputs": [],
   "source": [
    "m1 = em.elements[0]"
   ]
  },
  {
   "cell_type": "code",
   "execution_count": 24,
   "metadata": {},
   "outputs": [
    {
     "data": {
      "text/plain": [
       "'Surface(profile=Spherical(c=0.0))'"
      ]
     },
     "execution_count": 24,
     "metadata": {},
     "output_type": "execute_result"
    }
   ],
   "source": [
    "str(m1)"
   ]
  },
  {
   "cell_type": "code",
   "execution_count": 25,
   "metadata": {},
   "outputs": [
    {
     "data": {
      "text/plain": [
       "(array([[1., 0., 0.],\n",
       "        [0., 1., 0.],\n",
       "        [0., 0., 1.]]), array([0., 0., 0.]))"
      ]
     },
     "execution_count": 25,
     "metadata": {},
     "output_type": "execute_result"
    }
   ],
   "source": [
    "m1.tfrm"
   ]
  },
  {
   "cell_type": "code",
   "execution_count": 26,
   "metadata": {},
   "outputs": [],
   "source": [
    "m2 = em.elements[3]"
   ]
  },
  {
   "cell_type": "code",
   "execution_count": 27,
   "metadata": {},
   "outputs": [
    {
     "data": {
      "text/plain": [
       "'Gap(t=-2.25, medium=Air)'"
      ]
     },
     "execution_count": 27,
     "metadata": {},
     "output_type": "execute_result"
    }
   ],
   "source": [
    "str(m2)"
   ]
  },
  {
   "cell_type": "code",
   "execution_count": 28,
   "metadata": {},
   "outputs": [
    {
     "data": {
      "text/plain": [
       "(array([[ 1.       ,  0.       ,  0.       ],\n",
       "        [ 0.       ,  0.5      ,  0.8660254],\n",
       "        [ 0.       , -0.8660254,  0.5      ]]), array([0., 0., 5.]))"
      ]
     },
     "execution_count": 28,
     "metadata": {},
     "output_type": "execute_result"
    }
   ],
   "source": [
    "m2.tfrm"
   ]
  },
  {
   "cell_type": "code",
   "execution_count": 29,
   "metadata": {},
   "outputs": [
    {
     "name": "stdout",
     "output_type": "stream",
     "text": [
      "0 1 [0. 0. 1.] [-0. -0.  1.]\n",
      "1 1 [0. 0. 1.] [-0. -0.  1.]\n",
      "2 2 [0.        0.8660254 0.5      ] [-0. -0.  1.]\n",
      "3 2 [0.        0.8660254 0.5      ] [-0. -0.  1.]\n",
      "4 3 [ 0.         0.8660254 -0.5      ] [0. 0. 1.]\n",
      "5 4 [ 0.         0.8660254 -0.5      ] [-0. -0.  1.]\n",
      "6 5 [ 0.         0.8660254 -0.5      ] [-0. -0.  1.]\n",
      "7 6 [ 0.         0.8660254 -0.5      ] [0. 0. 1.]\n",
      "8 7 [0.        0.8660254 0.5      ] [-0. -0.  1.]\n",
      "9 7 [0.        0.8660254 0.5      ] [-0. -0.  1.]\n",
      "10 8 [ 0.00000000e+00 -1.48741681e-17  1.00000000e+00] [0. 0. 1.]\n",
      "11 9 [ 0.00000000e+00 -1.48741681e-17  1.00000000e+00] [-0. -0.  1.]\n",
      "12 10 [ 0.00000000e+00 -1.48741681e-17  1.00000000e+00] [-0. -0.  1.]\n",
      "13 11 [ 0.00000000e+00 -1.48741681e-17  1.00000000e+00] [0. 0. 1.]\n",
      "14 12 [ 0.         -0.70710678  0.70710678] [-0. -0.  1.]\n",
      "15 12 [ 0.         -0.70710678  0.70710678] [-0. -0.  1.]\n",
      "16 13 [ 0.00000000e+00 -1.00000000e+00 -1.01465364e-17] [-0. -0.  1.]\n"
     ]
    }
   ],
   "source": [
    "for i,e in enumerate(em.elements):\n",
    "    rifc_indx = sm.ifcs.index(e.reference_interface())\n",
    "    print(i, rifc_indx, e.tfrm[0].T[2], e.reference_interface().profile.normal(np.array([0., 0., 0.])))"
   ]
  },
  {
   "cell_type": "code",
   "execution_count": 30,
   "metadata": {},
   "outputs": [
    {
     "data": {
      "text/plain": [
       "array([ 0.       , -0.8660254,  0.5      ])"
      ]
     },
     "execution_count": 30,
     "metadata": {},
     "output_type": "execute_result"
    }
   ],
   "source": [
    "m2.tfrm[0][2]"
   ]
  },
  {
   "cell_type": "code",
   "execution_count": 31,
   "metadata": {},
   "outputs": [
    {
     "data": {
      "text/plain": [
       "array([0.       , 0.8660254, 0.5      ])"
      ]
     },
     "execution_count": 31,
     "metadata": {},
     "output_type": "execute_result"
    }
   ],
   "source": [
    "d = m2.tfrm[0].dot(np.array([0., 0., 1.])); d"
   ]
  },
  {
   "cell_type": "code",
   "execution_count": 32,
   "metadata": {},
   "outputs": [
    {
     "data": {
      "text/plain": [
       "array([0.       , 0.8660254, 0.5      ])"
      ]
     },
     "execution_count": 32,
     "metadata": {},
     "output_type": "execute_result"
    }
   ],
   "source": [
    "m2.tfrm[0].T[2]"
   ]
  },
  {
   "cell_type": "code",
   "execution_count": 33,
   "metadata": {},
   "outputs": [
    {
     "data": {
      "text/plain": [
       "array([0.       , 0.8660254, 0.5      ])"
      ]
     },
     "execution_count": 33,
     "metadata": {},
     "output_type": "execute_result"
    }
   ],
   "source": [
    "m2.tfrm[0].transpose()[2]"
   ]
  },
  {
   "cell_type": "code",
   "execution_count": 34,
   "metadata": {},
   "outputs": [
    {
     "data": {
      "text/plain": [
       "2"
      ]
     },
     "execution_count": 34,
     "metadata": {},
     "output_type": "execute_result"
    }
   ],
   "source": [
    "m2_indx = sm.ifcs.index(m2.reference_interface()); m2_indx"
   ]
  },
  {
   "cell_type": "code",
   "execution_count": 35,
   "metadata": {},
   "outputs": [
    {
     "data": {
      "text/plain": [
       "array([[ 1.       ,  0.       ,  0.       ],\n",
       "       [ 0.       ,  0.5      , -0.8660254],\n",
       "       [ 0.       ,  0.8660254,  0.5      ]])"
      ]
     },
     "execution_count": 35,
     "metadata": {},
     "output_type": "execute_result"
    }
   ],
   "source": [
    "sm.gbl_tfrms[m2_indx][0].T"
   ]
  },
  {
   "cell_type": "code",
   "execution_count": 36,
   "metadata": {},
   "outputs": [
    {
     "data": {
      "text/plain": [
       "array([-0., -0.,  1.])"
      ]
     },
     "execution_count": 36,
     "metadata": {},
     "output_type": "execute_result"
    }
   ],
   "source": [
    "m2.reference_interface().profile.normal(np.array([0., 0., 0.]))"
   ]
  },
  {
   "cell_type": "code",
   "execution_count": null,
   "metadata": {},
   "outputs": [],
   "source": []
  }
 ],
 "metadata": {
  "kernelspec": {
   "display_name": "Python 3",
   "language": "python",
   "name": "python3"
  },
  "language_info": {
   "codemirror_mode": {
    "name": "ipython",
    "version": 3
   },
   "file_extension": ".py",
   "mimetype": "text/x-python",
   "name": "python",
   "nbconvert_exporter": "python",
   "pygments_lexer": "ipython3",
   "version": "3.7.1"
  }
 },
 "nbformat": 4,
 "nbformat_minor": 2
}
