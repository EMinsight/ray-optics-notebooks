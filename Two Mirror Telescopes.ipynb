{
 "cells": [
  {
   "cell_type": "code",
   "execution_count": 1,
   "metadata": {},
   "outputs": [],
   "source": [
    "%matplotlib ipympl"
   ]
  },
  {
   "cell_type": "code",
   "execution_count": 2,
   "metadata": {},
   "outputs": [],
   "source": [
    "# use standard rayoptics environment\n",
    "from rayoptics.environment import *"
   ]
  },
  {
   "cell_type": "code",
   "execution_count": 3,
   "metadata": {
    "code_folding": []
   },
   "outputs": [],
   "source": [
    "import rayoptics.optical.twoconicmirrors as tcm\n",
    "\n",
    "def apply_conics(opt_model, fct, parax_model):\n",
    "    cc_m1, cc_m2 = fct(parax_model)\n",
    "    opt_model.seq_model.ifcs[1].profile.cc = cc_m1\n",
    "    opt_model.seq_model.ifcs[2].profile.cc = cc_m2\n",
    "    opt_model.update_model()"
   ]
  },
  {
   "cell_type": "code",
   "execution_count": 4,
   "metadata": {},
   "outputs": [],
   "source": [
    "root_pth = Path(rayoptics.__file__).resolve().parent"
   ]
  },
  {
   "cell_type": "code",
   "execution_count": 5,
   "metadata": {},
   "outputs": [],
   "source": [
    "app = AppManager(None)"
   ]
  },
  {
   "cell_type": "markdown",
   "metadata": {},
   "source": [
    "# Create a new model"
   ]
  },
  {
   "cell_type": "code",
   "execution_count": 6,
   "metadata": {},
   "outputs": [],
   "source": [
    "app.model = OpticalModel()\n",
    "opm = app.model\n",
    "sm  = opm.seq_model\n",
    "osp = opm.optical_spec"
   ]
  },
  {
   "cell_type": "markdown",
   "metadata": {},
   "source": [
    "## Define first order aperture and field for system"
   ]
  },
  {
   "cell_type": "code",
   "execution_count": 7,
   "metadata": {},
   "outputs": [],
   "source": [
    "osp.pupil = PupilSpec(osp, pupil_type=PupilType.FNO, value=10.)\n",
    "osp.field_of_view = FieldSpec(osp, field_type=FieldType.IMG_HT, flds=[0., 0.5])"
   ]
  },
  {
   "cell_type": "markdown",
   "metadata": {},
   "source": [
    "## Define interface and gap data for the sequential model"
   ]
  },
  {
   "cell_type": "code",
   "execution_count": 8,
   "metadata": {},
   "outputs": [],
   "source": [
    "sm.gaps[0].thi=1e10\n",
    "\n",
    "sm.insert(srf.Surface(lbl='M1', refract_mode='REFL', profile=Conic(c=-0.01)), Gap(-33.))\n",
    "\n",
    "sm.insert(srf.Surface(lbl='M2', refract_mode='REFL', profile=Conic(c=-0.01)), Gap(50.))"
   ]
  },
  {
   "cell_type": "markdown",
   "metadata": {},
   "source": [
    "## Update the model"
   ]
  },
  {
   "cell_type": "code",
   "execution_count": 9,
   "metadata": {},
   "outputs": [],
   "source": [
    "opm.update_model()"
   ]
  },
  {
   "cell_type": "markdown",
   "metadata": {},
   "source": [
    "## Build the paraxial model and list"
   ]
  },
  {
   "cell_type": "code",
   "execution_count": 10,
   "metadata": {},
   "outputs": [
    {
     "name": "stdout",
     "output_type": "stream",
     "text": [
      "      ax_ray_ht    ax_ray_slp\n",
      "0:            0   3.78788e-10\n",
      "1:       3.7879    -0.0757576\n",
      "2:       1.2879         -0.05\n",
      "3:      -1.2121         -0.05\n",
      "\n",
      "      pr_ray_ht    pr_ray_slp\n",
      "0:     -6.6e+07        0.0066\n",
      "1:            0        0.0066\n",
      "2:       0.2178      0.010956\n",
      "3:       0.7656      0.010956\n",
      "\n",
      "          power           tau        index    type\n",
      "0:            0         1e+10      1.00000    \n",
      "1:         0.02            33     -1.00000    REFL\n",
      "2:        -0.02            50      1.00000    REFL\n",
      "3:            0             0      1.00000    REFL\n",
      "\n",
      "\n",
      "efl               75.76\n",
      "ffl              -125.8\n",
      "pp1                 -50\n",
      "bfl               25.76\n",
      "ppk                  50\n",
      "f/#                  10\n",
      "red           -1.32e+08\n",
      "obj_dist          1e+10\n",
      "obj_ang          0.3781\n",
      "enp_dist             -0\n",
      "enp_radius        3.788\n",
      "na obj        3.788e-10\n",
      "n obj                 1\n",
      "img_dist             50\n",
      "img_ht              0.5\n",
      "exp_dist         -19.88\n",
      "exp_radius        2.282\n",
      "na img         -0.04994\n",
      "n img                 1\n",
      "optical invariant        0.025\n"
     ]
    }
   ],
   "source": [
    "pm = opm.parax_model\n",
    "pm.list_lens()\n",
    "print(\"\\n\")\n",
    "osp.parax_data[2].list_first_order_data()"
   ]
  },
  {
   "cell_type": "code",
   "execution_count": 11,
   "metadata": {},
   "outputs": [],
   "source": [
    "opm.save_model('TwoMirror')"
   ]
  },
  {
   "cell_type": "code",
   "execution_count": 12,
   "metadata": {},
   "outputs": [
    {
     "name": "stdout",
     "output_type": "stream",
     "text": [
      "0 Surface(lbl='Obj', profile=Spherical(c=0.0))\n",
      "1 Surface(lbl='M1', profile=Conic(c=-0.01, cc=0.0))\n",
      "2 Surface(lbl='M2', profile=Conic(c=-0.01, cc=0.0))\n",
      "3 Surface(lbl='Img', profile=Spherical(c=0.0))\n"
     ]
    }
   ],
   "source": [
    "sm.list_surfaces()"
   ]
  },
  {
   "cell_type": "code",
   "execution_count": 13,
   "metadata": {},
   "outputs": [
    {
     "data": {
      "application/vnd.jupyter.widget-view+json": {
       "model_id": "e2907a0d9d274413aeaa663abb67a02d",
       "version_major": 2,
       "version_minor": 0
      },
      "text/plain": [
       "FigureCanvasNbAgg()"
      ]
     },
     "metadata": {},
     "output_type": "display_data"
    }
   ],
   "source": [
    "#abr_plt = plt.figure(FigureClass=RayFanFigure, seq_model=sm, data_type='Ray', scale_type=Fit.All_Same).plot()\n",
    "abr_plt = plt.figure(FigureClass=RayFanFigure, opt_model=opm, data_type='Ray', scale_type=Fit.User_Scale, user_scale_value=0.002).plot()"
   ]
  },
  {
   "cell_type": "code",
   "execution_count": 14,
   "metadata": {
    "code_folding": [
     1
    ]
   },
   "outputs": [
    {
     "data": {
      "application/vnd.jupyter.widget-view+json": {
       "model_id": "5d462c6230294e689bcc9e819551d6b4",
       "version_major": 2,
       "version_minor": 0
      },
      "text/plain": [
       "FigureCanvasNbAgg()"
      ]
     },
     "metadata": {},
     "output_type": "display_data"
    }
   ],
   "source": [
    "yybar_plt = plt.figure(FigureClass=ParaxialDesignFigure, opt_model=opm, dgm_type=Dgm.ht, refresh_gui=None)\n",
    "def refresh_yybar():\n",
    "    opm.update_model()\n",
    "    yybar_plt.update_data()\n",
    "    yybar_plt.plot()\n",
    "\n",
    "yybar_plt.refresh_gui=refresh_yybar"
   ]
  },
  {
   "cell_type": "code",
   "execution_count": 15,
   "metadata": {},
   "outputs": [],
   "source": [
    "vertex=3\n",
    "pm.apply_ht_dgm_data(vertex, (0.5, 0.0))\n",
    "pm.paraxial_lens_to_seq_model()"
   ]
  },
  {
   "cell_type": "code",
   "execution_count": 16,
   "metadata": {},
   "outputs": [
    {
     "data": {
      "image/png": "[encoded data removed]",
      "text/plain": [
       "<ParaxialDesignFigure size 640x480 with 1 Axes>"
      ]
     },
     "execution_count": 16,
     "metadata": {},
     "output_type": "execute_result"
    }
   ],
   "source": [
    "refresh_yybar()\n",
    "yybar_plt.plot()"
   ]
  },
  {
   "cell_type": "code",
   "execution_count": 17,
   "metadata": {},
   "outputs": [
    {
     "data": {
      "application/vnd.jupyter.widget-view+json": {
       "model_id": "135b9a99928743878ec450660d5c5d01",
       "version_major": 2,
       "version_minor": 0
      },
      "text/plain": [
       "FigureCanvasNbAgg()"
      ]
     },
     "metadata": {},
     "output_type": "display_data"
    }
   ],
   "source": [
    "layout_plt = plt.figure(FigureClass=LensLayoutFigure, opt_model=opm)"
   ]
  },
  {
   "cell_type": "code",
   "execution_count": 18,
   "metadata": {},
   "outputs": [
    {
     "name": "stdout",
     "output_type": "stream",
     "text": [
      "      ax_ray_ht    ax_ray_slp\n",
      "0:            0   3.78788e-10\n",
      "1:       3.7879    -0.0757576\n",
      "2:       1.2879         -0.05\n",
      "3:            0         -0.05\n",
      "\n",
      "      pr_ray_ht    pr_ray_slp\n",
      "0:     -6.6e+07        0.0066\n",
      "1:            0        0.0066\n",
      "2:       0.2178      0.010956\n",
      "3:          0.5      0.010956\n",
      "\n",
      "          power           tau        index    type\n",
      "0:            0         1e+10      1.00000    \n",
      "1:         0.02            33     -1.00000    REFL\n",
      "2:        -0.02        25.758      1.00000    REFL\n",
      "3:            0             0      1.00000    REFL\n",
      "\n",
      "\n",
      "efl               75.76\n",
      "ffl              -125.8\n",
      "pp1                 -50\n",
      "bfl               25.76\n",
      "ppk                  50\n",
      "f/#                  10\n",
      "red           -1.32e+08\n",
      "obj_dist          1e+10\n",
      "obj_ang          0.3781\n",
      "enp_dist             -0\n",
      "enp_radius        3.788\n",
      "na obj        3.788e-10\n",
      "n obj                 1\n",
      "img_dist          25.76\n",
      "img_ht              0.5\n",
      "exp_dist         -19.88\n",
      "exp_radius        2.282\n",
      "na img         -0.04994\n",
      "n img                 1\n",
      "optical invariant        0.025\n"
     ]
    }
   ],
   "source": [
    "pm.list_lens()\n",
    "print(\"\\n\")\n",
    "osp.parax_data[2].list_first_order_data()"
   ]
  },
  {
   "cell_type": "code",
   "execution_count": 19,
   "metadata": {},
   "outputs": [],
   "source": [
    "vertex=2\n",
    "pm.apply_ht_dgm_data(vertex, (0.2178/1.5, 2.25/1.5))\n",
    "pm.paraxial_lens_to_seq_model()"
   ]
  },
  {
   "cell_type": "code",
   "execution_count": 20,
   "metadata": {},
   "outputs": [
    {
     "data": {
      "image/png": "[encoded data removed]",
      "text/plain": [
       "<ParaxialDesignFigure size 640x480 with 1 Axes>"
      ]
     },
     "execution_count": 20,
     "metadata": {},
     "output_type": "execute_result"
    }
   ],
   "source": [
    "refresh_yybar()\n",
    "yybar_plt.plot()"
   ]
  },
  {
   "cell_type": "code",
   "execution_count": 21,
   "metadata": {},
   "outputs": [
    {
     "name": "stdout",
     "output_type": "stream",
     "text": [
      "      ax_ray_ht    ax_ray_slp\n",
      "0:            0   3.78788e-10\n",
      "1:       3.7879     -0.103994\n",
      "2:          1.5         -0.05\n",
      "3:   2.2204e-16         -0.05\n",
      "\n",
      "      pr_ray_ht    pr_ray_slp\n",
      "0:     -6.6e+07        0.0066\n",
      "1:            0        0.0066\n",
      "2:       0.1452     0.0118267\n",
      "3:          0.5     0.0118267\n",
      "\n",
      "          power           tau        index    type\n",
      "0:            0         1e+10      1.00000    \n",
      "1:   0.02745455            22     -1.00000    REFL\n",
      "2:  -0.03599633            30      1.00000    REFL\n",
      "3:            0             0      1.00000    REFL\n",
      "\n",
      "\n",
      "efl               75.76\n",
      "ffl              -135.8\n",
      "pp1              -59.99\n",
      "bfl                  30\n",
      "ppk               45.76\n",
      "f/#                  10\n",
      "red           -1.32e+08\n",
      "obj_dist          1e+10\n",
      "obj_ang          0.3781\n",
      "enp_dist             -0\n",
      "enp_radius        3.788\n",
      "na obj        3.788e-10\n",
      "n obj                 1\n",
      "img_dist             30\n",
      "img_ht              0.5\n",
      "exp_dist         -12.28\n",
      "exp_radius        2.114\n",
      "na img         -0.04994\n",
      "n img                 1\n",
      "optical invariant        0.025\n"
     ]
    }
   ],
   "source": [
    "pm.list_lens()\n",
    "print(\"\\n\")\n",
    "osp.parax_data[2].list_first_order_data()"
   ]
  },
  {
   "cell_type": "code",
   "execution_count": 22,
   "metadata": {},
   "outputs": [
    {
     "name": "stdout",
     "output_type": "stream",
     "text": [
      "0 Surface(lbl='Obj', profile=Spherical(c=0.0))\n",
      "     Gap(t=10000000000.0, medium=Air)\n",
      "1 Surface(lbl='M1', profile=Conic(c=-0.013727272717823692, cc=0.0))\n",
      "     Gap(t=-22.00000027666667, medium=Air)\n",
      "2 Surface(lbl='M2', profile=Conic(c=-0.017998163738521585, cc=0.0))\n",
      "     Gap(t=30.0, medium=Air)\n",
      "3 Surface(lbl='Img', profile=Spherical(c=0.0))\n"
     ]
    }
   ],
   "source": [
    "sm.list_model()"
   ]
  },
  {
   "cell_type": "code",
   "execution_count": 23,
   "metadata": {},
   "outputs": [
    {
     "data": {
      "image/png": "[encoded data removed]",
      "text/plain": [
       "<LensLayoutFigure size 640x480 with 1 Axes>"
      ]
     },
     "execution_count": 23,
     "metadata": {},
     "output_type": "execute_result"
    }
   ],
   "source": [
    "layout_plt.update_data()\n",
    "layout_plt.plot()"
   ]
  },
  {
   "cell_type": "code",
   "execution_count": 24,
   "metadata": {},
   "outputs": [],
   "source": [
    "opm.save_model('TwoMirror')"
   ]
  },
  {
   "cell_type": "markdown",
   "metadata": {},
   "source": [
    "# Spherical Two Mirror"
   ]
  },
  {
   "cell_type": "code",
   "execution_count": 25,
   "metadata": {},
   "outputs": [
    {
     "data": {
      "image/png": "[encoded data removed]",
      "text/plain": [
       "<RayFanFigure size 640x480 with 4 Axes>"
      ]
     },
     "execution_count": 25,
     "metadata": {},
     "output_type": "execute_result"
    }
   ],
   "source": [
    "abr_plt.update_data()\n",
    "abr_plt.plot()"
   ]
  },
  {
   "cell_type": "code",
   "execution_count": 26,
   "metadata": {
    "code_folding": [
     0
    ]
   },
   "outputs": [
    {
     "data": {
      "application/vnd.jupyter.widget-view+json": {
       "model_id": "f1f0b42db4e849939c615528d9a01e07",
       "version_major": 2,
       "version_minor": 0
      },
      "text/plain": [
       "Output()"
      ]
     },
     "metadata": {},
     "output_type": "display_data"
    }
   ],
   "source": [
    "# compute 3rd order aberrations\n",
    "ax_ray, pr_ray, fod = osp.parax_data\n",
    "u_last = ax_ray[-1][mc.slp]\n",
    "central_wv = opm.nm_to_sys_units(sm.central_wavelength())\n",
    "n_last = sm.central_rndx(-1)\n",
    "to_df = compute_third_order(opm)\n",
    "\n",
    "tr_df=to_df.apply(to.seidel_to_transverse_aberration, axis='columns', args=(n_last,u_last))\n",
    "out = widgets.Output()\n",
    "wv_df=to_df.apply(to.seidel_to_wavefront, axis='columns', args=(central_wv,))\n",
    "with out:\n",
    "    display(to_df)\n",
    "    display(wv_df)\n",
    "display(out)\n",
    "\n",
    "fcv=to.seidel_to_field_curv(to_df.loc['sum'], n_last, fod.opt_inv)"
   ]
  },
  {
   "cell_type": "code",
   "execution_count": 27,
   "metadata": {
    "code_folding": [
     0
    ]
   },
   "outputs": [
    {
     "data": {
      "application/vnd.jupyter.widget-view+json": {
       "model_id": "91b0442fe9a74a0ab5d9f25af04237f7",
       "version_major": 2,
       "version_minor": 0
      },
      "text/plain": [
       "FigureCanvasNbAgg()"
      ]
     },
     "metadata": {},
     "output_type": "display_data"
    }
   ],
   "source": [
    "# display bar chart\n",
    "fig, ax = plt.subplots()\n",
    "ax.set_xlabel('Surface')\n",
    "ax.set_ylabel('third order aberration')\n",
    "ax.set_title('Surface by surface third order aberrations')\n",
    "wv_df.plot.bar(ax=ax, rot=0)\n",
    "ax.grid(True)\n",
    "fig.tight_layout()"
   ]
  },
  {
   "cell_type": "markdown",
   "metadata": {},
   "source": [
    "# Dall-Kirkham Two Mirror"
   ]
  },
  {
   "cell_type": "code",
   "execution_count": 28,
   "metadata": {},
   "outputs": [],
   "source": [
    "apply_conics(opm, tcm.dall_kirkham, pm)"
   ]
  },
  {
   "cell_type": "code",
   "execution_count": 29,
   "metadata": {},
   "outputs": [
    {
     "data": {
      "image/png": "[encoded data removed]",
      "text/plain": [
       "<RayFanFigure size 640x480 with 4 Axes>"
      ]
     },
     "execution_count": 29,
     "metadata": {},
     "output_type": "execute_result"
    }
   ],
   "source": [
    "abr_plt.update_data()\n",
    "abr_plt.plot()"
   ]
  },
  {
   "cell_type": "code",
   "execution_count": 30,
   "metadata": {},
   "outputs": [
    {
     "name": "stdout",
     "output_type": "stream",
     "text": [
      "0 Surface(lbl='Obj', profile=Spherical(c=0.0))\n",
      "1 Surface(lbl='M1', profile=Conic(c=-0.013727272717823692, cc=-0.5491583810039262))\n",
      "2 Surface(lbl='M2', profile=Conic(c=-0.017998163738521585, cc=0.0))\n",
      "3 Surface(lbl='Img', profile=Spherical(c=0.0))\n"
     ]
    }
   ],
   "source": [
    "opm.save_model('Dall_Kirkham')\n",
    "sm.list_surfaces()"
   ]
  },
  {
   "cell_type": "code",
   "execution_count": 31,
   "metadata": {
    "code_folding": [
     0
    ]
   },
   "outputs": [
    {
     "data": {
      "application/vnd.jupyter.widget-view+json": {
       "model_id": "63a5fbef9f634ab2b73ce57bc784c9f0",
       "version_major": 2,
       "version_minor": 0
      },
      "text/plain": [
       "Output()"
      ]
     },
     "metadata": {},
     "output_type": "display_data"
    }
   ],
   "source": [
    "# compute 3rd order aberrations\n",
    "ax_ray, pr_ray, fod = osp.parax_data\n",
    "u_last = ax_ray[-1][mc.slp]\n",
    "central_wv = opm.nm_to_sys_units(sm.central_wavelength())\n",
    "n_last = sm.central_rndx(-1)\n",
    "to_df = compute_third_order(opm)\n",
    "\n",
    "tr_df=to_df.apply(to.seidel_to_transverse_aberration, axis='columns', args=(n_last,u_last))\n",
    "out = widgets.Output()\n",
    "wv_df=to_df.apply(to.seidel_to_wavefront, axis='columns', args=(central_wv,))\n",
    "with out:\n",
    "    display(to_df)\n",
    "    display(wv_df)\n",
    "display(out)\n",
    "\n",
    "fcv=to.seidel_to_field_curv(to_df.loc['sum'], n_last, fod.opt_inv)"
   ]
  },
  {
   "cell_type": "code",
   "execution_count": 32,
   "metadata": {
    "code_folding": [
     0
    ]
   },
   "outputs": [
    {
     "data": {
      "application/vnd.jupyter.widget-view+json": {
       "model_id": "ddeb8570fd8c4ccc8d6f4e36615bac06",
       "version_major": 2,
       "version_minor": 0
      },
      "text/plain": [
       "FigureCanvasNbAgg()"
      ]
     },
     "metadata": {},
     "output_type": "display_data"
    }
   ],
   "source": [
    "# display bar chart\n",
    "fig, ax = plt.subplots()\n",
    "ax.set_xlabel('Surface')\n",
    "ax.set_ylabel('third order aberration')\n",
    "ax.set_title('Surface by surface third order aberrations')\n",
    "wv_df.plot.bar(ax=ax, rot=0)\n",
    "ax.grid(True)\n",
    "fig.tight_layout()"
   ]
  },
  {
   "cell_type": "markdown",
   "metadata": {},
   "source": [
    "# Cassegrain Two Mirror"
   ]
  },
  {
   "cell_type": "code",
   "execution_count": 33,
   "metadata": {},
   "outputs": [],
   "source": [
    "apply_conics(opm, tcm.cassegrain, pm)"
   ]
  },
  {
   "cell_type": "code",
   "execution_count": 34,
   "metadata": {},
   "outputs": [
    {
     "data": {
      "image/png": "[encoded data removed]",
      "text/plain": [
       "<RayFanFigure size 640x480 with 4 Axes>"
      ]
     },
     "execution_count": 34,
     "metadata": {},
     "output_type": "execute_result"
    }
   ],
   "source": [
    "abr_plt.update_data()\n",
    "abr_plt.plot()"
   ]
  },
  {
   "cell_type": "code",
   "execution_count": 35,
   "metadata": {},
   "outputs": [
    {
     "name": "stdout",
     "output_type": "stream",
     "text": [
      "0 Surface(lbl='Obj', profile=Spherical(c=0.0))\n",
      "1 Surface(lbl='M1', profile=Conic(c=-0.013727272717823692, cc=-1.0))\n",
      "2 Surface(lbl='M2', profile=Conic(c=-0.017998163738521585, cc=-8.134136650232055))\n",
      "3 Surface(lbl='Img', profile=Spherical(c=0.0))\n"
     ]
    }
   ],
   "source": [
    "opm.save_model('Cassegrain')\n",
    "sm.list_surfaces()"
   ]
  },
  {
   "cell_type": "code",
   "execution_count": 36,
   "metadata": {
    "code_folding": [
     0
    ]
   },
   "outputs": [
    {
     "data": {
      "application/vnd.jupyter.widget-view+json": {
       "model_id": "1456cb3367dd40ba85d90e2e1db6ec17",
       "version_major": 2,
       "version_minor": 0
      },
      "text/plain": [
       "Output()"
      ]
     },
     "metadata": {},
     "output_type": "display_data"
    }
   ],
   "source": [
    "# compute 3rd order aberrations\n",
    "ax_ray, pr_ray, fod = osp.parax_data\n",
    "u_last = ax_ray[-1][mc.slp]\n",
    "central_wv = opm.nm_to_sys_units(sm.central_wavelength())\n",
    "n_last = sm.central_rndx(-1)\n",
    "to_df = compute_third_order(opm)\n",
    "\n",
    "tr_df=to_df.apply(to.seidel_to_transverse_aberration, axis='columns', args=(n_last,u_last))\n",
    "out = widgets.Output()\n",
    "wv_df=to_df.apply(to.seidel_to_wavefront, axis='columns', args=(central_wv,))\n",
    "with out:\n",
    "    display(to_df)\n",
    "    display(wv_df)\n",
    "display(out)\n",
    "\n",
    "fcv=to.seidel_to_field_curv(to_df.loc['sum'], n_last, fod.opt_inv)"
   ]
  },
  {
   "cell_type": "code",
   "execution_count": 37,
   "metadata": {
    "code_folding": [
     0
    ]
   },
   "outputs": [
    {
     "data": {
      "application/vnd.jupyter.widget-view+json": {
       "model_id": "ba0b92ecdad34c958d99a7ff81ee1d8b",
       "version_major": 2,
       "version_minor": 0
      },
      "text/plain": [
       "FigureCanvasNbAgg()"
      ]
     },
     "metadata": {},
     "output_type": "display_data"
    }
   ],
   "source": [
    "# display bar chart\n",
    "fig, ax = plt.subplots()\n",
    "ax.set_xlabel('Surface')\n",
    "ax.set_ylabel('third order aberration')\n",
    "ax.set_title('Surface by surface third order aberrations')\n",
    "wv_df.plot.bar(ax=ax, rot=0)\n",
    "ax.grid(True)\n",
    "fig.tight_layout()"
   ]
  },
  {
   "cell_type": "markdown",
   "metadata": {},
   "source": [
    "# Ritchey-Chretien Two Mirror"
   ]
  },
  {
   "cell_type": "code",
   "execution_count": 38,
   "metadata": {},
   "outputs": [],
   "source": [
    "apply_conics(opm, tcm.ritchey_chretien, pm)"
   ]
  },
  {
   "cell_type": "code",
   "execution_count": 39,
   "metadata": {},
   "outputs": [
    {
     "data": {
      "image/png": "[encoded data removed]",
      "text/plain": [
       "<RayFanFigure size 640x480 with 4 Axes>"
      ]
     },
     "execution_count": 39,
     "metadata": {},
     "output_type": "execute_result"
    }
   ],
   "source": [
    "abr_plt.update_data()\n",
    "abr_plt.plot()"
   ]
  },
  {
   "cell_type": "code",
   "execution_count": 40,
   "metadata": {},
   "outputs": [
    {
     "name": "stdout",
     "output_type": "stream",
     "text": [
      "0 Surface(lbl='Obj', profile=Spherical(c=0.0))\n",
      "1 Surface(lbl='M1', profile=Conic(c=-0.013727272717823692, cc=-1.303115101278525))\n",
      "2 Surface(lbl='M2', profile=Conic(c=-0.017998163738521585, cc=-13.602974376524408))\n",
      "3 Surface(lbl='Img', profile=Spherical(c=0.0))\n"
     ]
    }
   ],
   "source": [
    "opm.save_model('Ritchey_Chretien')\n",
    "sm.list_surfaces()"
   ]
  },
  {
   "cell_type": "code",
   "execution_count": 41,
   "metadata": {
    "code_folding": [
     0
    ]
   },
   "outputs": [
    {
     "data": {
      "application/vnd.jupyter.widget-view+json": {
       "model_id": "7d5331f694af4ce8a4bd1d1edc3bece0",
       "version_major": 2,
       "version_minor": 0
      },
      "text/plain": [
       "Output()"
      ]
     },
     "metadata": {},
     "output_type": "display_data"
    }
   ],
   "source": [
    "# compute 3rd order aberrations\n",
    "ax_ray, pr_ray, fod = osp.parax_data\n",
    "u_last = ax_ray[-1][mc.slp]\n",
    "central_wv = opm.nm_to_sys_units(sm.central_wavelength())\n",
    "n_last = sm.central_rndx(-1)\n",
    "to_df = compute_third_order(opm)\n",
    "\n",
    "tr_df=to_df.apply(to.seidel_to_transverse_aberration, axis='columns', args=(n_last,u_last))\n",
    "wv_df=to_df.apply(to.seidel_to_wavefront, axis='columns', args=(central_wv,))\n",
    "fcv=to.seidel_to_field_curv(to_df.loc['sum'], n_last, fod.opt_inv)\n",
    "\n",
    "out = widgets.Output()\n",
    "with out:\n",
    "    display(to_df)\n",
    "    display(wv_df)\n",
    "    display(fcv)\n",
    "display(out)"
   ]
  },
  {
   "cell_type": "code",
   "execution_count": 42,
   "metadata": {
    "code_folding": [
     0
    ]
   },
   "outputs": [
    {
     "data": {
      "application/vnd.jupyter.widget-view+json": {
       "model_id": "3fbc3934af9c4439838c43ada1dae796",
       "version_major": 2,
       "version_minor": 0
      },
      "text/plain": [
       "FigureCanvasNbAgg()"
      ]
     },
     "metadata": {},
     "output_type": "display_data"
    }
   ],
   "source": [
    "# display bar chart\n",
    "fig, ax = plt.subplots()\n",
    "ax.set_xlabel('Surface')\n",
    "ax.set_ylabel('third order aberration')\n",
    "ax.set_title('Surface by surface third order aberrations')\n",
    "wv_df.plot.bar(ax=ax, rot=0)\n",
    "ax.grid(True)\n",
    "fig.tight_layout()"
   ]
  },
  {
   "cell_type": "code",
   "execution_count": 43,
   "metadata": {},
   "outputs": [
    {
     "data": {
      "text/html": [
       "<div>\n",
       "<style scoped>\n",
       "    .dataframe tbody tr th:only-of-type {\n",
       "        vertical-align: middle;\n",
       "    }\n",
       "\n",
       "    .dataframe tbody tr th {\n",
       "        vertical-align: top;\n",
       "    }\n",
       "\n",
       "    .dataframe thead th {\n",
       "        text-align: right;\n",
       "    }\n",
       "</style>\n",
       "<table border=\"1\" class=\"dataframe\">\n",
       "  <thead>\n",
       "    <tr style=\"text-align: right;\">\n",
       "      <th></th>\n",
       "      <th>W040</th>\n",
       "      <th>W131</th>\n",
       "    </tr>\n",
       "  </thead>\n",
       "  <tbody>\n",
       "    <tr>\n",
       "      <th>1</th>\n",
       "      <td>2.420552e-01</td>\n",
       "      <td>-0.122896</td>\n",
       "    </tr>\n",
       "    <tr>\n",
       "      <th>1.asp</th>\n",
       "      <td>-3.154258e-01</td>\n",
       "      <td>-0.000000</td>\n",
       "    </tr>\n",
       "    <tr>\n",
       "      <th>2</th>\n",
       "      <td>-1.091286e-01</td>\n",
       "      <td>0.052232</td>\n",
       "    </tr>\n",
       "    <tr>\n",
       "      <th>2.asp</th>\n",
       "      <td>1.824991e-01</td>\n",
       "      <td>0.070664</td>\n",
       "    </tr>\n",
       "    <tr>\n",
       "      <th>sum</th>\n",
       "      <td>-4.328364e-09</td>\n",
       "      <td>0.000000</td>\n",
       "    </tr>\n",
       "  </tbody>\n",
       "</table>\n",
       "</div>"
      ],
      "text/plain": [
       "               W040      W131\n",
       "1      2.420552e-01 -0.122896\n",
       "1.asp -3.154258e-01 -0.000000\n",
       "2     -1.091286e-01  0.052232\n",
       "2.asp  1.824991e-01  0.070664\n",
       "sum   -4.328364e-09  0.000000"
      ]
     },
     "execution_count": 43,
     "metadata": {},
     "output_type": "execute_result"
    }
   ],
   "source": [
    "wv_df.loc[:, 'W040':'W131']"
   ]
  },
  {
   "cell_type": "code",
   "execution_count": 44,
   "metadata": {
    "code_folding": [
     0
    ]
   },
   "outputs": [
    {
     "data": {
      "application/vnd.jupyter.widget-view+json": {
       "model_id": "0a0e6f299d1642808aabfe9eeb9054ec",
       "version_major": 2,
       "version_minor": 0
      },
      "text/plain": [
       "FigureCanvasNbAgg()"
      ]
     },
     "metadata": {},
     "output_type": "display_data"
    }
   ],
   "source": [
    "# display bar chart\n",
    "fig, ax = plt.subplots()\n",
    "ax.set_xlabel('Surface')\n",
    "ax.set_ylabel('third order aberration')\n",
    "ax.set_title('Surface by surface third order aberrations')\n",
    "wv_df.loc[:, 'W040':'W131'].plot.bar(ax=ax, rot=0)\n",
    "ax.grid(True)\n",
    "fig.tight_layout()"
   ]
  },
  {
   "cell_type": "markdown",
   "metadata": {},
   "source": [
    "# Revert to Two Spherical Mirrors"
   ]
  },
  {
   "cell_type": "code",
   "execution_count": 45,
   "metadata": {},
   "outputs": [
    {
     "name": "stdout",
     "output_type": "stream",
     "text": [
      "0 Surface(lbl='Obj', profile=Spherical(c=0.0))\n",
      "1 Surface(lbl='M1', profile=Conic(c=-0.013727272717823692, cc=0.0))\n",
      "2 Surface(lbl='M2', profile=Conic(c=-0.017998163738521585, cc=0.0))\n",
      "3 Surface(lbl='Img', profile=Spherical(c=0.0))\n"
     ]
    }
   ],
   "source": [
    "apply_conics(opm, tcm.spheres, pm)\n",
    "sm.list_surfaces()"
   ]
  },
  {
   "cell_type": "code",
   "execution_count": 46,
   "metadata": {},
   "outputs": [
    {
     "name": "stdout",
     "output_type": "stream",
     "text": [
      "stop surface: 1\n",
      "           y           u           n*i         ybar         ubar        n*ibar\n",
      " 0            0  3.78788e-10  3.78788e-10     -6.6e+07       0.0066       0.0066\n",
      " 1      3.78788     0.103994   -0.0519972            0      -0.0066       0.0066\n",
      " 2          1.5        -0.05   -0.0769972       0.1452    0.0118267   0.00921333\n",
      " 3  2.22045e-16        -0.05        -0.05          0.5    0.0118267    0.0118267\n"
     ]
    }
   ],
   "source": [
    "fo.list_parax_trace(opm)"
   ]
  },
  {
   "cell_type": "code",
   "execution_count": 47,
   "metadata": {},
   "outputs": [],
   "source": [
    "from rayoptics.optical.profiles import mutate_profile\n",
    "\n",
    "sm.ifcs[1].profile = mutate_profile(sm.ifcs[1].profile, 'Spherical')\n",
    "sm.ifcs[2].profile = mutate_profile(sm.ifcs[2].profile, 'Spherical')"
   ]
  },
  {
   "cell_type": "code",
   "execution_count": 48,
   "metadata": {},
   "outputs": [
    {
     "name": "stdout",
     "output_type": "stream",
     "text": [
      "0 Surface(lbl='Obj', profile=Spherical(c=0.0))\n",
      "1 Surface(lbl='M1', profile=Spherical(c=-0.013727272717823692))\n",
      "2 Surface(lbl='M2', profile=Spherical(c=-0.017998163738521585))\n",
      "3 Surface(lbl='Img', profile=Spherical(c=0.0))\n"
     ]
    }
   ],
   "source": [
    "sm.list_surfaces()"
   ]
  },
  {
   "cell_type": "code",
   "execution_count": 49,
   "metadata": {},
   "outputs": [
    {
     "name": "stdout",
     "output_type": "stream",
     "text": [
      "stop surface: 1\n",
      "           y           u           n*i         ybar         ubar        n*ibar\n",
      " 0            0  3.78788e-10  3.78788e-10     -6.6e+07       0.0066       0.0066\n",
      " 1      3.78788     0.103994   -0.0519972            0      -0.0066       0.0066\n",
      " 2          1.5        -0.05   -0.0769972       0.1452    0.0118267   0.00921333\n",
      " 3  2.22045e-16        -0.05        -0.05          0.5    0.0118267    0.0118267\n"
     ]
    }
   ],
   "source": [
    "fo.list_parax_trace(opm)"
   ]
  },
  {
   "cell_type": "code",
   "execution_count": 50,
   "metadata": {},
   "outputs": [],
   "source": [
    "opm.save_model('TwoSphericalMirror')"
   ]
  }
 ],
 "metadata": {
  "kernelspec": {
   "display_name": "Python 3",
   "language": "python",
   "name": "python3"
  },
  "language_info": {
   "codemirror_mode": {
    "name": "ipython",
    "version": 3
   },
   "file_extension": ".py",
   "mimetype": "text/x-python",
   "name": "python",
   "nbconvert_exporter": "python",
   "pygments_lexer": "ipython3",
   "version": "3.7.1"
  }
 },
 "nbformat": 4,
 "nbformat_minor": 2
}
