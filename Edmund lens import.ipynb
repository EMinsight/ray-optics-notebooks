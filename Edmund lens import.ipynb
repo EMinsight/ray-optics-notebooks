{
 "cells": [
  {
   "cell_type": "code",
   "execution_count": 1,
   "metadata": {},
   "outputs": [],
   "source": [
    "#%matplotlib widget\n",
    "%matplotlib ipympl"
   ]
  },
  {
   "cell_type": "code",
   "execution_count": 2,
   "metadata": {},
   "outputs": [],
   "source": [
    "# initialization\n",
    "from rayoptics.environment import *"
   ]
  },
  {
   "cell_type": "markdown",
   "metadata": {},
   "source": [
    "## Use the object oriented filesystem interface from Python 3"
   ]
  },
  {
   "cell_type": "code",
   "execution_count": 3,
   "metadata": {},
   "outputs": [],
   "source": [
    "root_pth = Path(rayoptics.__file__).resolve().parent"
   ]
  },
  {
   "cell_type": "markdown",
   "metadata": {},
   "source": [
    "# Read CODE V seq file for Edmond part 32-327, Achromatic Lens\n",
    "### use the open_model() function in the opticalmodel module of the optical subpackage\n",
    "### this reads CODE V seq files and the native rayoptics json files, roa\n",
    "### it returns an instance of OpticalModel, that contains all of the model data\n",
    "\n",
    "### setup convenient aliases for using rayoptics functions"
   ]
  },
  {
   "cell_type": "code",
   "execution_count": 4,
   "metadata": {},
   "outputs": [],
   "source": [
    "opm = open_model(root_pth/\"codev/tests/CODV_32327.seq\")\n",
    "sm = opm.seq_model\n",
    "osp = opm.optical_spec\n",
    "pm = opm.parax_model"
   ]
  },
  {
   "cell_type": "markdown",
   "metadata": {},
   "source": [
    "# Display first order properties of the model\n",
    "### The calculated first order data is is in the FirstOrderData class, defined in the firstorder module of the optical subpackage.\n",
    "### An instance of FirstOrderData, parax_data.fod, is managed by the OpticalSpecs class, defined in the opticalspec module of the optical subpackage.\n",
    "### Other essential optical specification data is also managed by the OpticalSpecs class:\n",
    "##### spectral_region (WvlSpec)\n",
    "##### pupil (PupilSpec)\n",
    "##### field_of_view (FieldSpec)\n",
    "##### defocus (FocusRange)"
   ]
  },
  {
   "cell_type": "code",
   "execution_count": 5,
   "metadata": {},
   "outputs": [
    {
     "name": "stdout",
     "output_type": "stream",
     "text": [
      "efl                 100\n",
      "ffl              -98.58\n",
      "pp1               1.451\n",
      "bfl               95.95\n",
      "ppk               4.079\n",
      "f/#               4.001\n",
      "red          -9.997e+10\n",
      "obj_dist          1e+13\n",
      "obj_ang               1\n",
      "enp_dist             -0\n",
      "enp_radius         12.5\n",
      "na obj         1.25e-12\n",
      "n obj                 1\n",
      "img_dist          95.95\n",
      "img_ht            1.746\n",
      "exp_dist         -5.551\n",
      "exp_radius        12.68\n",
      "na img           -0.124\n",
      "n img                 1\n",
      "optical invariant       0.2182\n"
     ]
    }
   ],
   "source": [
    "osp.parax_data.fod.list_first_order_data()"
   ]
  },
  {
   "cell_type": "markdown",
   "metadata": {},
   "source": [
    "# Generate a lens picture\n",
    "### This is done using the lenslayoutfigure module in the mpl subpackage of rayoptics.\n",
    "### All graphics in rayoptics are based on matplotlib."
   ]
  },
  {
   "cell_type": "code",
   "execution_count": 6,
   "metadata": {},
   "outputs": [
    {
     "data": {
      "application/vnd.jupyter.widget-view+json": {
       "model_id": "b2888f4bb053479ab80547cf680f4035",
       "version_major": 2,
       "version_minor": 0
      },
      "text/plain": [
       "FigureCanvasNbAgg()"
      ]
     },
     "metadata": {},
     "output_type": "display_data"
    }
   ],
   "source": [
    "layout_plt = plt.figure(FigureClass=LensLayoutFigure, opt_model=opm).plot()"
   ]
  },
  {
   "cell_type": "markdown",
   "metadata": {},
   "source": [
    "# Draw a transverse ray aberration plot\n",
    "### this is done using the axisarrayfigure module in the mpl subpackage"
   ]
  },
  {
   "cell_type": "code",
   "execution_count": 7,
   "metadata": {},
   "outputs": [
    {
     "data": {
      "application/vnd.jupyter.widget-view+json": {
       "model_id": "291f866813314980bd9e6d3b913c720d",
       "version_major": 2,
       "version_minor": 0
      },
      "text/plain": [
       "FigureCanvasNbAgg()"
      ]
     },
     "metadata": {},
     "output_type": "display_data"
    }
   ],
   "source": [
    "abr_plt = plt.figure(FigureClass=RayFanFigure, opt_model=opm, data_type='Ray', scale_type=Fit.All_Same).plot()"
   ]
  },
  {
   "cell_type": "markdown",
   "metadata": {},
   "source": [
    "## The model in the CODE V seq file only had 1 wavelength defined. Use the opticalspec module in the optical subpackage to add wavelengths in the red and blue"
   ]
  },
  {
   "cell_type": "code",
   "execution_count": 8,
   "metadata": {},
   "outputs": [],
   "source": [
    "osp.spectral_region.set_from_list([[656., 1], [587., 2], [488., 1]])\n",
    "osp.spectral_region.reference_wvl = 1"
   ]
  },
  {
   "cell_type": "markdown",
   "metadata": {},
   "source": [
    "## After changing the wavelengths, update the optical model to ensure all of the data is consistent\n",
    "### The OpticalModel class is in the opticalmodel module in the optical subpackage"
   ]
  },
  {
   "cell_type": "code",
   "execution_count": 9,
   "metadata": {},
   "outputs": [],
   "source": [
    "opm.update_model()"
   ]
  },
  {
   "cell_type": "markdown",
   "metadata": {},
   "source": [
    "## The aberration plot can be updated by calling refresh() on abr_plt"
   ]
  },
  {
   "cell_type": "code",
   "execution_count": 10,
   "metadata": {},
   "outputs": [],
   "source": [
    "abr_plt.refresh()"
   ]
  }
 ],
 "metadata": {
  "kernelspec": {
   "display_name": "Python 3",
   "language": "python",
   "name": "python3"
  },
  "language_info": {
   "codemirror_mode": {
    "name": "ipython",
    "version": 3
   },
   "file_extension": ".py",
   "mimetype": "text/x-python",
   "name": "python",
   "nbconvert_exporter": "python",
   "pygments_lexer": "ipython3",
   "version": "3.7.1"
  }
 },
 "nbformat": 4,
 "nbformat_minor": 2
}
