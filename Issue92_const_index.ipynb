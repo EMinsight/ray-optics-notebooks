{
 "cells": [
  {
   "cell_type": "code",
   "execution_count": 1,
   "id": "19c68da0-1720-41a2-84c2-c209becc1a0a",
   "metadata": {},
   "outputs": [],
   "source": [
    "%matplotlib inline"
   ]
  },
  {
   "cell_type": "code",
   "execution_count": 2,
   "id": "4bfa6579-0a18-4035-aac6-30db57df95f7",
   "metadata": {},
   "outputs": [],
   "source": [
    "from rayoptics.environment import *\n",
    "from rayoptics.seq import medium    # shortcut reference to medium package"
   ]
  },
  {
   "cell_type": "code",
   "execution_count": 3,
   "id": "dc1038f0-b2a7-477d-ad93-6e5fc44555d3",
   "metadata": {},
   "outputs": [],
   "source": [
    "isdark = False"
   ]
  },
  {
   "cell_type": "code",
   "execution_count": 4,
   "id": "a1c02a87-df20-4698-976a-b6a6a39aab69",
   "metadata": {},
   "outputs": [],
   "source": [
    "opm = OpticalModel()\n",
    "sm = opm['seq_model']\n",
    "osp = opm['optical_spec']\n",
    "pm = opm['parax_model']\n",
    "em = opm['ele_model']\n",
    "pt = opm['part_tree']\n",
    "ar = opm['analysis_results']   # add analysis results model for paraxial data"
   ]
  },
  {
   "cell_type": "code",
   "execution_count": 5,
   "id": "4f0df032-579b-493b-a755-77f3248dd14d",
   "metadata": {},
   "outputs": [],
   "source": [
    "osp['pupil'] = PupilSpec(osp, key=['object', 'pupil'], value=3)\n",
    "osp['fov'] = FieldSpec(osp, key=['object', 'angle'], value=5.0, flds=[0.],is_relative=True)\n",
    "osp['wvls'] = WvlSpec([(546.074, 1.0)], ref_wl=0)\n",
    "\n",
    "opm.radius_mode = True"
   ]
  },
  {
   "cell_type": "markdown",
   "id": "62f9364f-41ad-47b5-9dce-589027d6e664",
   "metadata": {},
   "source": [
    "## 1) Model with constant index materials"
   ]
  },
  {
   "cell_type": "markdown",
   "id": "d41896f0-0219-4b33-952e-dce05808d7b2",
   "metadata": {},
   "source": [
    "### Creating a model with constant index materials\n",
    "\n",
    "The add_surface() fct can't easily be used to create a constant refractive index material.\n",
    "Use the index and a \"fake\" V-number to satisfy add_surface().\n",
    "Then directly create and assign the constant index Medium to the appropriate gaps."
   ]
  },
  {
   "cell_type": "code",
   "execution_count": 6,
   "id": "95ffafd2-0174-497b-85bc-14c9e0195cbe",
   "metadata": {},
   "outputs": [],
   "source": [
    "sm.gaps[0].thi=1e10\n",
    "sm.add_surface([7.77, 0.55, 1.376, 56., 5.])\n",
    "sm.gaps[sm.cur_surface].medium = medium.Medium(1.376, 'Medium1')\n",
    "sm.add_surface([6.8, 3.4, 1.336, 56., 5.])\n",
    "sm.gaps[sm.cur_surface].medium = med2 = medium.Medium(1.336, 'Medium2')\n",
    "sm.add_surface([0., 1.6, 1.336, 56., 3.])\n",
    "sm.gaps[sm.cur_surface].medium = med2\n",
    "sm.set_stop()\n",
    "sm.add_surface([20., 0.7, 1.5, 56., 3.])\n",
    "sm.gaps[sm.cur_surface].medium = medium.Medium(1.5, 'Medium3')\n",
    "sm.add_surface([-20., 21., 1.336, 56., 3.])\n",
    "sm.gaps[sm.cur_surface].medium = med2\n",
    "sm.add_surface([0., 0.])\n",
    "sm.ifcs[sm.cur_surface].max_aperture = 3.\n",
    "sm.ifcs[-1].max_aperture = 3."
   ]
  },
  {
   "cell_type": "code",
   "execution_count": 7,
   "id": "93347657-a2b2-40bf-95f8-88c534b72b29",
   "metadata": {},
   "outputs": [
    {
     "name": "stdout",
     "output_type": "stream",
     "text": [
      "              r            t        medium     mode   zdr      sd\n",
      "  Obj:     0.000000  1.00000e+10       air             1      1.0000\n",
      "    1:     7.770000     0.550000   Medium1             1      5.0000\n",
      "    2:     6.800000      3.40000   Medium2             1      5.0000\n",
      " Stop:     0.000000      1.60000   Medium2             1      3.0000\n",
      "    4:    20.000000     0.700000   Medium3             1      3.0000\n",
      "    5:   -20.000000      21.0000   Medium2             1      3.0000\n",
      "    6:     0.000000      0.00000       air             1      3.0000\n",
      "  Img:     0.000000      0.00000                       1      3.0000\n"
     ]
    }
   ],
   "source": [
    "sm.do_apertures = False\n",
    "opm.update_model()\n",
    "sm.list_model()"
   ]
  },
  {
   "cell_type": "markdown",
   "id": "08665eb7-9cef-4716-861f-53273597435e",
   "metadata": {},
   "source": [
    "## 2) Setting pupil size based on the stop size"
   ]
  },
  {
   "cell_type": "markdown",
   "id": "3f35b36c-b844-4698-95d1-f9aad07a6899",
   "metadata": {},
   "source": [
    "### Use set_vignetting\n",
    "The set_vignetting function ensures the bundle defining rays at each field point pass thru the edge of the most limiting aperture in the model. In this case the stop surface is the limiting aperture."
   ]
  },
  {
   "cell_type": "code",
   "execution_count": 8,
   "id": "2320e113-856d-4cbb-a488-888718055c4b",
   "metadata": {},
   "outputs": [],
   "source": [
    "set_vignetting(opm)"
   ]
  },
  {
   "cell_type": "markdown",
   "id": "8960ec64-a505-4f45-bd45-e366a628d85b",
   "metadata": {},
   "source": [
    "### Negative vignetting means rays overfill pupil to fill stop\n",
    "Listing the object properties for the field points shows negative vignetting values. This means the entrance pupil is undersized and the vignetting is overfilling the pupil to fill the aperture stop."
   ]
  },
  {
   "cell_type": "code",
   "execution_count": 9,
   "id": "a37c8122-db58-456f-94a3-cfe140aabfe3",
   "metadata": {},
   "outputs": [
    {
     "name": "stdout",
     "output_type": "stream",
     "text": [
      "aperture: object pupil; value=3\n",
      "\n",
      "field: object angle; value=0.0\n",
      "x,y=0.0 vlx=-1.253 vux=-1.253 vly=-1.253 vuy=-1.253\n",
      "\n"
     ]
    }
   ],
   "source": [
    "listobj(osp['pupil'])\n",
    "listobj(osp['fov'])"
   ]
  },
  {
   "cell_type": "markdown",
   "id": "33ec779f-54be-4292-a228-e88fb5cd6341",
   "metadata": {},
   "source": [
    "### Marginal ray trace\n",
    "Trace the marginal ray for the axial field point."
   ]
  },
  {
   "cell_type": "code",
   "execution_count": 10,
   "id": "021a4fb5-ca42-4717-8280-901e70d94129",
   "metadata": {},
   "outputs": [
    {
     "name": "stdout",
     "output_type": "stream",
     "text": [
      "            X            Y            Z           L            M            N               Len\n",
      "  0:      0.00000      0.00000            0     0.000000     0.000000     1.000000        1e+10\n",
      "  1:      0.00000      3.37918      0.77329     0.000000    -0.128001     0.991774      0.63518\n",
      "  2:      0.00000      3.29788      0.85324     0.000000    -0.116173     0.993229       2.5641\n",
      "  3:      0.00000      3.00000            0     0.000000    -0.116173     0.993229       1.8078\n",
      "  4:      0.00000      2.78998      0.19556     0.000000    -0.118727     0.992927      0.31638\n",
      "  5:      0.00000      2.75242      -0.1903     0.000000    -0.150843     0.988558       21.436\n",
      "  6:      0.00000     -0.48100            0     0.000000    -0.201527     0.979483            0\n",
      "  7:      0.00000     -0.48100            0     0.000000    -0.201527     0.979483            0\n"
     ]
    }
   ],
   "source": [
    "fi = 0\n",
    "fld, wvl, foc = osp.lookup_fld_wvl_focus(fi)\n",
    "\n",
    "pupil = [0., 1.]\n",
    "ray01, ray_op01, wvl = trace_base(opm, pupil, fld, wvl)\n",
    "list_ray(ray01)"
   ]
  },
  {
   "cell_type": "markdown",
   "id": "ad3f3509-d27d-4dba-a29f-6f7d0510dc71",
   "metadata": {},
   "source": [
    "### Revise entrance pupil diameter\n",
    "Get the ray height on the first surface. For an infinite object, this is the pupil radius."
   ]
  },
  {
   "cell_type": "code",
   "execution_count": 11,
   "id": "2ab3f9c2-5153-4a78-a808-defa390cdac2",
   "metadata": {},
   "outputs": [
    {
     "data": {
      "text/plain": [
       "6.758369049845509"
      ]
     },
     "execution_count": 11,
     "metadata": {},
     "output_type": "execute_result"
    }
   ],
   "source": [
    "rs1 = RaySeg(*ray01[1])\n",
    "epd = 2*abs(rs1.p[1])\n",
    "epd"
   ]
  },
  {
   "cell_type": "code",
   "execution_count": 12,
   "id": "2b46a83d-2151-4c51-8e06-09e70cb37900",
   "metadata": {},
   "outputs": [],
   "source": [
    "osp['pupil'].value = epd"
   ]
  },
  {
   "cell_type": "code",
   "execution_count": 13,
   "id": "477cbb33-3136-45c3-a1ae-f2fd88195adc",
   "metadata": {},
   "outputs": [],
   "source": [
    "opm.update_model()"
   ]
  },
  {
   "cell_type": "code",
   "execution_count": 14,
   "id": "4cefb4c7-2e6a-4fa5-bb59-ce532bd147ea",
   "metadata": {},
   "outputs": [
    {
     "name": "stdout",
     "output_type": "stream",
     "text": [
      "field: object angle; value=0.0\n",
      "x,y=0.0 vlx=-1.253 vux=-1.253 vly=-1.253 vuy=-1.253\n",
      "\n"
     ]
    }
   ],
   "source": [
    "listobj(osp['fov'])"
   ]
  },
  {
   "cell_type": "markdown",
   "id": "20b480a3-3e4b-4971-9014-97e48b4ef538",
   "metadata": {},
   "source": [
    "### Finish pupil redefinition\n",
    "The pupil size has been redefined so the vignetting needs to be updated as well. The values to overfill the pupil are still in place. set_vignetting can fix this up."
   ]
  },
  {
   "cell_type": "code",
   "execution_count": 15,
   "id": "974274f4-df54-43b8-b81e-92db30c1a485",
   "metadata": {},
   "outputs": [],
   "source": [
    "set_vignetting(opm)"
   ]
  },
  {
   "cell_type": "code",
   "execution_count": 16,
   "id": "ab27e52a-c4ee-4d44-b228-0364e2019a6d",
   "metadata": {},
   "outputs": [
    {
     "name": "stdout",
     "output_type": "stream",
     "text": [
      "aperture: object pupil; value=6.758369049845509\n",
      "\n",
      "field: object angle; value=0.0\n",
      "x,y=0.0 vlx=-0.000 vux=-0.000 vly=-0.000 vuy=-0.000\n",
      "\n"
     ]
    }
   ],
   "source": [
    "listobj(osp['pupil'])\n",
    "listobj(osp['fov'])"
   ]
  },
  {
   "cell_type": "markdown",
   "id": "dceb322a-4b23-4890-bf67-2667c1fd518c",
   "metadata": {},
   "source": [
    "### Lens layout\n",
    "The lens layout doesn't look too bad. It considers the model to be a set of cemented elements for the purposes of drawing a picture."
   ]
  },
  {
   "cell_type": "code",
   "execution_count": 17,
   "id": "4f60cd5c-af2a-4212-8907-91545ce776f8",
   "metadata": {},
   "outputs": [
    {
     "data": {
      "image/png": "[encoded data removed]",
      "text/plain": [
       "<InteractiveLayout size 432x288 with 1 Axes>"
      ]
     },
     "metadata": {},
     "output_type": "display_data"
    }
   ],
   "source": [
    "layout_plt = plt.figure(FigureClass=InteractiveLayout, opt_model=opm,\n",
    "                        do_draw_rays=True, do_draw_ray_fans=True, do_paraxial_layout=False, is_dark=isdark).plot()"
   ]
  },
  {
   "cell_type": "markdown",
   "id": "5d84ed8d-096b-48fb-92a8-e483da23db50",
   "metadata": {},
   "source": [
    "## 3) Longitudinal spherical aberration"
   ]
  },
  {
   "cell_type": "markdown",
   "id": "68c8c1e3-b210-4175-a592-83c1a79a7708",
   "metadata": {},
   "source": [
    "### Calculation approach\n",
    "\n",
    "The general approach to calculating longitudinal spherical would be to:\n",
    "\n",
    "1) get the ray data at the image plane"
   ]
  },
  {
   "cell_type": "code",
   "execution_count": 18,
   "id": "9d56bd66-be19-44b0-a8cc-dcf87db0e98a",
   "metadata": {},
   "outputs": [],
   "source": [
    "img_seg = RaySeg(*ray01[-1])"
   ]
  },
  {
   "cell_type": "code",
   "execution_count": 19,
   "id": "99e446d7-c65d-4996-ae3a-dcd1eaf96341",
   "metadata": {},
   "outputs": [
    {
     "data": {
      "text/plain": [
       "(array([ 0.        , -0.48099593,  0.        ]),\n",
       " array([ 0.        , -0.20152687,  0.97948299]))"
      ]
     },
     "execution_count": 19,
     "metadata": {},
     "output_type": "execute_result"
    }
   ],
   "source": [
    "img_seg.p, img_seg.d"
   ]
  },
  {
   "cell_type": "markdown",
   "id": "80a415ec-1e31-4a40-8017-90892bfd7389",
   "metadata": {},
   "source": [
    "2) divide the ray height at the image plane by the ray direction tangent.\n",
    "\n",
    "3) I assume negative means inward from the image plane for LSA"
   ]
  },
  {
   "cell_type": "code",
   "execution_count": 20,
   "id": "55f334a7-c0a3-463b-a796-7630edb05837",
   "metadata": {},
   "outputs": [
    {
     "data": {
      "text/plain": [
       "-2.337789122532606"
      ]
     },
     "execution_count": 20,
     "metadata": {},
     "output_type": "execute_result"
    }
   ],
   "source": [
    "LSA = -img_seg.p[1]/(img_seg.d[1]/img_seg.d[2])\n",
    "LSA"
   ]
  },
  {
   "cell_type": "code",
   "execution_count": 21,
   "id": "cfe701b3-4d2b-464b-aeb1-17b3abd25bce",
   "metadata": {},
   "outputs": [],
   "source": [
    "efl = ar['parax_data'].fod.efl"
   ]
  },
  {
   "cell_type": "code",
   "execution_count": 22,
   "id": "f6d37223-c610-4cbc-b1bd-34e4412242d8",
   "metadata": {},
   "outputs": [
    {
     "data": {
      "text/plain": [
       "(17.888918967654664, 16.72002440638836)"
      ]
     },
     "execution_count": 22,
     "metadata": {},
     "output_type": "execute_result"
    }
   ],
   "source": [
    "corrected_efl = efl + LSA/2\n",
    "efl, corrected_efl"
   ]
  },
  {
   "cell_type": "code",
   "execution_count": 23,
   "id": "69aea1cb-9892-4daa-80e5-8ce2b2c613c6",
   "metadata": {},
   "outputs": [
    {
     "name": "stdout",
     "output_type": "stream",
     "text": [
      "           ax_ht        pr_ht       ax_slp       pr_slp         power          tau        index    type\n",
      " 0:            0 -1.74551e+08  3.37918e-10    0.0174551             0        1e+10      1.00000    dummy\n",
      " 1:      3.37918   -0.0590504    -0.163523    0.0203126    0.04839125     0.399709      1.37600    transmit\n",
      " 2:      3.31382   -0.0509313     -0.14403     0.020013  -0.005882353      2.54491      1.33600    transmit\n",
      " 3:      2.94728  1.31406e-08     -0.14403     0.020013             0       1.1976      1.33600    transmit\n",
      " 4:      2.77479    0.0239677    -0.166783    0.0198165        0.0082     0.466667      1.50000    transmit\n",
      " 5:      2.69696    0.0332153    -0.188898    0.0195441        0.0082      15.7186      1.33600    transmit\n",
      " 6:    -0.272251      0.34042    -0.188898    0.0195441            -0            0      1.00000    transmit\n",
      " 7:    -0.272251      0.34042    -0.188898    0.0195441             0            0      1.00000    dummy\n"
     ]
    }
   ],
   "source": [
    "pm.list_model()"
   ]
  },
  {
   "cell_type": "code",
   "execution_count": 24,
   "id": "f6647f6b-b3e0-4ab0-bbff-7d60b33c708e",
   "metadata": {},
   "outputs": [
    {
     "name": "stdout",
     "output_type": "stream",
     "text": [
      "efl               17.89\n",
      "ffl              -16.65\n",
      "pp1               1.242\n",
      "bfl              -1.441\n",
      "ppk               19.33\n",
      "f/#               2.647\n",
      "m            -1.789e-09\n",
      "red           -5.59e+08\n",
      "obj_dist          1e+10\n",
      "obj_ang               1\n",
      "enp_dist          3.383\n",
      "enp_radius        3.379\n",
      "na obj        3.379e-10\n",
      "n obj                 1\n",
      "img_dist         -1.441\n",
      "img_ht           0.3123\n",
      "exp_dist         -18.86\n",
      "exp_radius        3.018\n",
      "na img          -0.1856\n",
      "n img                 1\n",
      "optical invariant      0.05898\n"
     ]
    }
   ],
   "source": [
    "pm.first_order_data()"
   ]
  },
  {
   "cell_type": "markdown",
   "id": "7a4b8a9c-d533-4cda-ab74-3463c49b34ac",
   "metadata": {},
   "source": [
    "## Longitudinal Spherical Aberration plot"
   ]
  },
  {
   "cell_type": "markdown",
   "id": "27bd661a-c701-4a6c-b6e9-0c405fcf6f98",
   "metadata": {},
   "source": [
    "### Trace the rays\n",
    "\n",
    "Use the RayFan primitive to easily trace a fan of rays across the pupil."
   ]
  },
  {
   "cell_type": "code",
   "execution_count": 25,
   "id": "10c9eba7-fd49-46c5-b5f0-d1ea5a377d63",
   "metadata": {},
   "outputs": [],
   "source": [
    "ray_fan = analyses.RayFan(opm, f=fld, wl=wvl, xyfan='y')"
   ]
  },
  {
   "cell_type": "code",
   "execution_count": 26,
   "id": "a29f99b0-19ff-4cd6-b08a-72ef481396f1",
   "metadata": {},
   "outputs": [],
   "source": [
    "ray_list, _ = ray_fan.fan_pkg"
   ]
  },
  {
   "cell_type": "markdown",
   "id": "98ef3d47-92b0-4b62-97c2-97c82c45c0de",
   "metadata": {},
   "source": [
    "### Postprocess the ray fan\n",
    "\n",
    "Loop over the rays and calculate the LSA for each rays"
   ]
  },
  {
   "cell_type": "code",
   "execution_count": 27,
   "id": "f8fa75dc-a022-444f-ba52-b4b12796de63",
   "metadata": {},
   "outputs": [],
   "source": [
    "x = []\n",
    "y = []\n",
    "for r in ray_list:\n",
    "    px, py, rs = r\n",
    "    ray, _, _ = rs\n",
    "    img = ray[-1]\n",
    "    lsa = -img.p[1]/(img.d[1]/img.d[2])\n",
    "    x.append(lsa)\n",
    "    y.append(ray[3].p[1])  # stop surface ray height"
   ]
  },
  {
   "cell_type": "markdown",
   "id": "07197fb5-379a-4aa6-a22d-6f5d28bda0cd",
   "metadata": {},
   "source": [
    "### Plot using Matplotlib"
   ]
  },
  {
   "cell_type": "code",
   "execution_count": 28,
   "id": "ae6f4f4c-bdc1-4ede-9149-f7579325856b",
   "metadata": {},
   "outputs": [
    {
     "data": {
      "text/plain": [
       "[<matplotlib.lines.Line2D at 0x7f8150032f10>]"
      ]
     },
     "execution_count": 28,
     "metadata": {},
     "output_type": "execute_result"
    },
    {
     "data": {
      "image/png": "[encoded data removed]",
      "text/plain": [
       "<Figure size 432x288 with 1 Axes>"
      ]
     },
     "metadata": {},
     "output_type": "display_data"
    }
   ],
   "source": [
    "plt.plot(x,y)"
   ]
  },
  {
   "cell_type": "code",
   "execution_count": null,
   "id": "0866adc9-d976-4645-990b-a12797d94c8c",
   "metadata": {},
   "outputs": [],
   "source": []
  },
  {
   "cell_type": "markdown",
   "id": "77543657-70ae-403b-beff-a9768e1ddbe1",
   "metadata": {},
   "source": [
    "### shift image plane to paraxial focus"
   ]
  },
  {
   "cell_type": "code",
   "execution_count": 29,
   "id": "84d9c749-dfd8-48c5-889c-782e206a4fe8",
   "metadata": {},
   "outputs": [],
   "source": [
    "ax_ray = ar['parax_data'].ax_ray"
   ]
  },
  {
   "cell_type": "code",
   "execution_count": 30,
   "id": "13a12e97-6143-4c18-bc15-cc1e33537e78",
   "metadata": {},
   "outputs": [
    {
     "data": {
      "text/plain": [
       "-1.441260012176454"
      ]
     },
     "execution_count": 30,
     "metadata": {},
     "output_type": "execute_result"
    }
   ],
   "source": [
    "prx_img_dist = -ax_ray[-1][mc.ht]/ax_ray[-1][mc.slp]\n",
    "prx_img_dist"
   ]
  },
  {
   "cell_type": "raw",
   "id": "26679b95-c7a5-4d39-94b1-16240dced996",
   "metadata": {},
   "source": [
    "sm.gaps[-1].thi = prx_img_dist\n",
    "opm.update_model()"
   ]
  }
 ],
 "metadata": {
  "kernelspec": {
   "display_name": "Python 3 (ipykernel)",
   "language": "python",
   "name": "python3"
  },
  "language_info": {
   "codemirror_mode": {
    "name": "ipython",
    "version": 3
   },
   "file_extension": ".py",
   "mimetype": "text/x-python",
   "name": "python",
   "nbconvert_exporter": "python",
   "pygments_lexer": "ipython3",
   "version": "3.8.13"
  }
 },
 "nbformat": 4,
 "nbformat_minor": 5
}
