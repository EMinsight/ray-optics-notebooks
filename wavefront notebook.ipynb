{
 "cells": [
  {
   "cell_type": "code",
   "execution_count": 1,
   "metadata": {},
   "outputs": [],
   "source": [
    "#%matplotlib inline\n",
    "%matplotlib widget"
   ]
  },
  {
   "cell_type": "code",
   "execution_count": 2,
   "metadata": {},
   "outputs": [],
   "source": [
    "# initialization\n",
    "from rayoptics.environment import *\n",
    "\n",
    "from rayoptics.optical import analyses\n",
    "from rayoptics.optical import sampler\n",
    "\n",
    "from rayoptics.mpl.analysisfigure import AnalysisFigure, Wavefront, RayFanPlot, RayGeoPSF\n",
    "from matplotlib import gridspec\n",
    "import matplotlib.colors as mcolors\n",
    "\n",
    "import ipywidgets as widgets\n",
    "from ipywidgets import interact, interactive, fixed, interact_manual\n",
    "# from IPython.display import display"
   ]
  },
  {
   "cell_type": "code",
   "execution_count": 3,
   "metadata": {},
   "outputs": [],
   "source": [
    "def create_focus_dashboard(figs, ray_data_items, foc, dfoc_rng, shift_rng, on_axis_pt):\n",
    "    defocus=widgets.FloatSlider(min=-dfoc_rng, max=+dfoc_rng, step=.01*dfoc_rng,\n",
    "                                description='defocus', value=foc,\n",
    "                                readout_format='.4f', continuous_update=True)\n",
    "    x_shift=widgets.FloatSlider(min=-shift_rng, max=+shift_rng, step=.01*shift_rng,\n",
    "                                description='x shift', value=on_axis_pt[0],\n",
    "                                readout_format='.4f', continuous_update=True)\n",
    "    y_shift=widgets.FloatSlider(min=-shift_rng, max=+shift_rng, step=.01*shift_rng,\n",
    "                                description='y shift', value=on_axis_pt[1],\n",
    "                                readout_format='.4f', continuous_update=True)\n",
    "\n",
    "    def slider_update(change):\n",
    "        dfoc_val = defocus.value\n",
    "        dx = x_shift.value\n",
    "        dy = y_shift.value\n",
    "\n",
    "        # apply changes to fans and grids\n",
    "        for ray_data in ray_data_items:\n",
    "            ray_data.foc = dfoc_val\n",
    "            ray_data.image_pt_2d = np.array([dx, dy])\n",
    "            ray_data.update_data(build='update')\n",
    "\n",
    "        # update and plot results\n",
    "        for fig in figs:\n",
    "            fig.clf()\n",
    "            fig.plot()\n",
    "\n",
    "    defocus.observe(slider_update, names='value')\n",
    "    x_shift.observe(slider_update, names='value')\n",
    "    y_shift.observe(slider_update, names='value')\n",
    "    \n",
    "    return defocus, x_shift, y_shift"
   ]
  },
  {
   "cell_type": "code",
   "execution_count": 4,
   "metadata": {},
   "outputs": [],
   "source": [
    "root_pth = Path(rayoptics.__file__).resolve().parent"
   ]
  },
  {
   "cell_type": "markdown",
   "metadata": {},
   "source": [
    "# Create a new model"
   ]
  },
  {
   "cell_type": "code",
   "execution_count": 5,
   "metadata": {},
   "outputs": [],
   "source": [
    "opm = OpticalModel()\n",
    "sm = opm.seq_model\n",
    "osp = opm.optical_spec\n",
    "pm = opm.parax_model"
   ]
  },
  {
   "cell_type": "markdown",
   "metadata": {},
   "source": [
    "## Define first order aperture and field for system"
   ]
  },
  {
   "cell_type": "code",
   "execution_count": 6,
   "metadata": {},
   "outputs": [],
   "source": [
    "pupil_diameter = 100.\n",
    "pupil_radius = pupil_diameter/2\n",
    "osp.pupil = PupilSpec(osp, key=['object', 'pupil'], value=pupil_diameter)\n",
    "\n",
    "# single field on-axis\n",
    "osp.field_of_view = FieldSpec(osp, key=['object', 'angle'], flds=[0.0])\n",
    "\n",
    "# wavelength for analysis: 550nm\n",
    "osp.spectral_region = WvlSpec([(550.0, 1.0)], ref_wl=0)"
   ]
  },
  {
   "cell_type": "markdown",
   "metadata": {},
   "source": [
    "### object at infinity, i.e. collimated input"
   ]
  },
  {
   "cell_type": "code",
   "execution_count": 7,
   "metadata": {},
   "outputs": [],
   "source": [
    "sm.gaps[0].thi = 1e+11"
   ]
  },
  {
   "cell_type": "code",
   "execution_count": 8,
   "metadata": {},
   "outputs": [],
   "source": [
    "#opm.add_mirror(lbl='M1', r=-500., t=-250.)\n",
    "opm.add_mirror(lbl='M1', profile=Conic, r=-500., cc=-1., t=-250.)"
   ]
  },
  {
   "cell_type": "code",
   "execution_count": 9,
   "metadata": {},
   "outputs": [],
   "source": [
    "opm.update_model()\n",
    "fod = osp.parax_data.fod"
   ]
  },
  {
   "cell_type": "markdown",
   "metadata": {},
   "source": [
    "# List first order data"
   ]
  },
  {
   "cell_type": "code",
   "execution_count": 10,
   "metadata": {},
   "outputs": [
    {
     "name": "stdout",
     "output_type": "stream",
     "text": [
      "efl                 250\n",
      "ffl                -250\n",
      "pp1                  -0\n",
      "bfl                 250\n",
      "ppk                   0\n",
      "f/#                 2.5\n",
      "m                     0\n",
      "red              -4e+08\n",
      "obj_dist          1e+11\n",
      "obj_ang               1\n",
      "enp_dist             -0\n",
      "enp_radius           50\n",
      "na obj            5e-10\n",
      "n obj                 1\n",
      "img_dist           -250\n",
      "img_ht            4.364\n",
      "exp_dist             -0\n",
      "exp_radius           50\n",
      "na img           0.1961\n",
      "n img                -1\n",
      "optical invariant       0.8728\n"
     ]
    }
   ],
   "source": [
    "fod.list_first_order_data()"
   ]
  },
  {
   "cell_type": "code",
   "execution_count": 11,
   "metadata": {},
   "outputs": [
    {
     "data": {
      "text/plain": [
       "0.196116134666751"
      ]
     },
     "execution_count": 11,
     "metadata": {},
     "output_type": "execute_result"
    }
   ],
   "source": [
    "fod.img_na"
   ]
  },
  {
   "cell_type": "code",
   "execution_count": 12,
   "metadata": {},
   "outputs": [
    {
     "data": {
      "text/plain": [
       "-0.0071500000343749995"
      ]
     },
     "execution_count": 12,
     "metadata": {},
     "output_type": "execute_result"
    }
   ],
   "source": [
    "opd = 0.25*opm.nm_to_sys_units(osp.spectral_region.central_wvl)\n",
    "dfoc = opd/(fod.img_na**2/(2*fod.n_img)); dfoc"
   ]
  },
  {
   "cell_type": "code",
   "execution_count": 13,
   "metadata": {},
   "outputs": [
    {
     "data": {
      "text/plain": [
       "0.03846153827662722"
      ]
     },
     "execution_count": 13,
     "metadata": {},
     "output_type": "execute_result"
    }
   ],
   "source": [
    "fod.img_na**2"
   ]
  },
  {
   "cell_type": "markdown",
   "metadata": {},
   "source": [
    "# Draw a lens picture"
   ]
  },
  {
   "cell_type": "code",
   "execution_count": 14,
   "metadata": {},
   "outputs": [
    {
     "data": {
      "application/vnd.jupyter.widget-view+json": {
       "model_id": "a947baeb2aae40eba2f07640e49b0c45",
       "version_major": 2,
       "version_minor": 0
      },
      "text/plain": [
       "Canvas(toolbar=Toolbar(toolitems=[('Home', 'Reset original view', 'home', 'home'), ('Back', 'Back to previous …"
      ]
     },
     "metadata": {},
     "output_type": "display_data"
    }
   ],
   "source": [
    "layout_plt = plt.figure(FigureClass=InteractiveLayout, opt_model=opm,\n",
    "                        do_draw_rays=True, do_paraxial_layout=False).plot()"
   ]
  },
  {
   "cell_type": "code",
   "execution_count": 15,
   "metadata": {},
   "outputs": [
    {
     "data": {
      "application/vnd.jupyter.widget-view+json": {
       "model_id": "77f408db76a745e0aa98fc1c0ba190b6",
       "version_major": 2,
       "version_minor": 0
      },
      "text/plain": [
       "Canvas(toolbar=Toolbar(toolitems=[('Home', 'Reset original view', 'home', 'home'), ('Back', 'Back to previous …"
      ]
     },
     "metadata": {},
     "output_type": "display_data"
    }
   ],
   "source": [
    "abr_plt = plt.figure(FigureClass=RayFanFigure, opt_model=opm, data_type='Ray', scale_type=Fit.All_Same).plot()"
   ]
  },
  {
   "cell_type": "code",
   "execution_count": 16,
   "metadata": {},
   "outputs": [
    {
     "data": {
      "application/vnd.jupyter.widget-view+json": {
       "model_id": "2815af46a5dd44c2915fc69c2a9f9d89",
       "version_major": 2,
       "version_minor": 0
      },
      "text/plain": [
       "Canvas(toolbar=Toolbar(toolitems=[('Home', 'Reset original view', 'home', 'home'), ('Back', 'Back to previous …"
      ]
     },
     "metadata": {},
     "output_type": "display_data"
    }
   ],
   "source": [
    "wav_plt = plt.figure(FigureClass=RayFanFigure, opt_model=opm, data_type='OPD', scale_type=Fit.All_Same).plot()"
   ]
  },
  {
   "cell_type": "code",
   "execution_count": 17,
   "metadata": {},
   "outputs": [],
   "source": [
    "fld, wvl, foc = osp.lookup_fld_wvl_focus(0)"
   ]
  },
  {
   "cell_type": "code",
   "execution_count": 18,
   "metadata": {},
   "outputs": [],
   "source": [
    "opd = opm.nm_to_sys_units(wvl)\n",
    "# one wave of defocus\n",
    "dfoc = opd/(fod.img_na**2/(2*fod.n_img))\n",
    "qwrt_dfoc = abs(0.25*dfoc)\n",
    "# one wave of tilt\n",
    "_, _, ref_sphere_radius = fld.ref_sphere\n",
    "shft = ref_sphere_radius*opd/fod.exp_radius"
   ]
  },
  {
   "cell_type": "code",
   "execution_count": 19,
   "metadata": {},
   "outputs": [],
   "source": [
    "ctr_ray = trace_base(opm, [0., 0.], fld, wvl)\n",
    "img_offset = ctr_ray[0][-1][0]\n",
    "on_axis_pt = np.array([img_offset[0], img_offset[1]])\n",
    "\n",
    "num_rays=21\n",
    "ray_grid = analyses.RayGrid(opm, f=fld, wl=wvl, image_pt_2d=on_axis_pt)\n",
    "\n",
    "r2g = (sampler.create_generator, (sampler.R_2_quasi_random_generator, num_rays**2),\n",
    "       dict(mapper=sampler.concentric_sample_disk))\n",
    "ray_list = analyses.RayList(opm, pupil_gen=r2g, f=fld, wl=wvl, image_pt_2d=on_axis_pt)"
   ]
  },
  {
   "cell_type": "code",
   "execution_count": 20,
   "metadata": {},
   "outputs": [
    {
     "data": {
      "application/vnd.jupyter.widget-view+json": {
       "model_id": "ff53465a3cff44be81a2957f6a3e00ef",
       "version_major": 2,
       "version_minor": 0
      },
      "text/plain": [
       "Canvas(toolbar=Toolbar(toolitems=[('Home', 'Reset original view', 'home', 'home'), ('Back', 'Back to previous …"
      ]
     },
     "metadata": {},
     "output_type": "display_data"
    }
   ],
   "source": [
    "wvfig = plt.figure(FigureClass=AnalysisFigure, data_objs=[ray_grid, ray_list],\n",
    "                   figsize=[9, 5], tight_layout=True, is_dark=True)\n",
    "gs = gridspec.GridSpec(nrows=1, ncols=7, figure=wvfig)\n",
    "\n",
    "wfr = Wavefront(wvfig, gs[:, :4], ray_grid, user_scale_value=1.0, do_contours=False,\n",
    "                title='Wavefront Map', cmap=\"BrBG_r\")\n",
    "\n",
    "us = 0.01\n",
    "scaler = mcolors.Normalize(vmin=0., vmax=80)\n",
    "gPSF = RayGeoPSF(wvfig, gs[:,-3:], ray_list, user_scale_value=us, scale_type='user', dsp_typ='hist2d',\n",
    "                 title='Geometrical PSF', yaxis_ticks_position='right', #norm=scaler, vmax=80,\n",
    "                 cmap='gray')\n",
    "\n",
    "defocus, x_shift, y_shift = create_focus_dashboard([wvfig], [ray_grid, ray_list],\n",
    "                                                   osp.defocus.focus_shift, abs(dfoc), shft, on_axis_pt)\n",
    "wvfig.refresh()"
   ]
  },
  {
   "cell_type": "code",
   "execution_count": 21,
   "metadata": {},
   "outputs": [
    {
     "data": {
      "application/vnd.jupyter.widget-view+json": {
       "model_id": "10c47bb1aa904c7da93320e9b3104c8a",
       "version_major": 2,
       "version_minor": 0
      },
      "text/plain": [
       "HBox(children=(FloatSlider(value=0.0, description='defocus', max=0.028600000137499998, min=-0.0286000001374999…"
      ]
     },
     "metadata": {},
     "output_type": "display_data"
    }
   ],
   "source": [
    "display(widgets.HBox([defocus, y_shift]))"
   ]
  },
  {
   "cell_type": "code",
   "execution_count": null,
   "metadata": {},
   "outputs": [],
   "source": []
  }
 ],
 "metadata": {
  "kernelspec": {
   "display_name": "Python 3",
   "language": "python",
   "name": "python3"
  },
  "language_info": {
   "codemirror_mode": {
    "name": "ipython",
    "version": 3
   },
   "file_extension": ".py",
   "mimetype": "text/x-python",
   "name": "python",
   "nbconvert_exporter": "python",
   "pygments_lexer": "ipython3",
   "version": "3.7.7"
  }
 },
 "nbformat": 4,
 "nbformat_minor": 4
}
