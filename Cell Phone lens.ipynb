{
 "cells": [
  {
   "cell_type": "code",
   "execution_count": 1,
   "metadata": {},
   "outputs": [],
   "source": [
    "%matplotlib inline"
   ]
  },
  {
   "cell_type": "code",
   "execution_count": 2,
   "metadata": {},
   "outputs": [],
   "source": [
    "# initialization\n",
    "import itertools\n",
    "\n",
    "# use standard rayoptics environment\n",
    "from rayoptics.environment import *\n",
    "\n",
    "from rayoptics.optical.elements import Element, Mirror\n",
    "\n",
    "# util functions\n",
    "from rayoptics.util.misc_math import normalize"
   ]
  },
  {
   "cell_type": "code",
   "execution_count": 3,
   "metadata": {},
   "outputs": [],
   "source": [
    "root_pth = Path(rayoptics.__file__).resolve().parent"
   ]
  },
  {
   "cell_type": "code",
   "execution_count": 4,
   "metadata": {},
   "outputs": [],
   "source": [
    "app = AppManager(None)"
   ]
  },
  {
   "cell_type": "markdown",
   "metadata": {},
   "source": [
    "# Create a new model"
   ]
  },
  {
   "cell_type": "code",
   "execution_count": 5,
   "metadata": {},
   "outputs": [],
   "source": [
    "# app.model = open_model(root_pth/\"codev/tests/ag_dblgauss.seq\")\n",
    "app.model = OpticalModel()\n",
    "opm = app.model\n",
    "sm = opm.seq_model\n",
    "osp = opm.optical_spec\n",
    "pm = opm.parax_model"
   ]
  },
  {
   "cell_type": "markdown",
   "metadata": {},
   "source": [
    "## Define first order aperture and field for system"
   ]
  },
  {
   "cell_type": "code",
   "execution_count": 6,
   "metadata": {},
   "outputs": [],
   "source": [
    "osp.pupil = PupilSpec(osp, pupil_type=PupilType.FNO, value=3.5)\n",
    "osp.field_of_view = FieldSpec(osp, field_type=FieldType.IMG_HT, flds=[0., .7071*3.5, 3.5])\n",
    "osp.spectral_region = WvlSpec([(486.1327, 0.5), (587.5618, 1.0), (656.2725, 0.5)], ref_wl=1)"
   ]
  },
  {
   "cell_type": "markdown",
   "metadata": {},
   "source": [
    "## Define interface and gap data for the sequential model"
   ]
  },
  {
   "cell_type": "code",
   "execution_count": 7,
   "metadata": {},
   "outputs": [],
   "source": [
    "opm.system_spec.title = 'Cell Phone Lens - U.S. Patent 7,535,658'\n",
    "opm.system_spec.dimensions = 'MM'\n",
    "opm.radius_mode = True\n",
    "\n",
    "sm.gaps[0].thi=1e10\n",
    "\n",
    "sm.add_surface([0., -0.2])\n",
    "sm.add_surface([1.962, 1.19, 1.471, 76.6])\n",
    "sm.stop_surface = 2\n",
    "sm.add_surface([33.398, .93])\n",
    "sm.add_surface([-2.182, .75, 1.603, 27.5])\n",
    "sm.add_surface([-6.367, 0.1])\n",
    "sm.add_surface([5.794, .89, 1.510, 56.2])\n",
    "sm.add_surface([9.192, .16])\n",
    "sm.add_surface([1.674, .85, 1.510, 56.2])\n",
    "sm.add_surface([1.509, .70])\n",
    "sm.add_surface([0., .40, 1.516, 64.1])\n",
    "sm.add_surface([0., .64])\n",
    "\n",
    "asp1 = RadialPolynomial(r=1.962, ec=2.153,\n",
    "                        coefs=[0., 0., 0., -1.895e-2, 2.426e-2, -5.123e-2, 8.371e-4, 7.850e-3, 4.091e-3, -7.732e-3, -4.265e-3])\n",
    "asp2 = RadialPolynomial(r=33.398, ec=40.18,\n",
    "                        coefs=[0., 0., 0., -4.966e-3, -1.434e-2, -6.139e-3, -9.284e-5, 6.438e-3, -5.72e-3, -2.385e-2, 1.108e-2])\n",
    "asp3 = RadialPolynomial(r=-2.182, ec=2.105,\n",
    "                        coefs=[0., 0., 0., -4.388e-2, -2.555e-2, 5.16e-2, -4.307e-2, -2.831e-2, 3.162e-2, 4.630e-2, -4.877e-2])\n",
    "asp4 = RadialPolynomial(r=-6.367, ec=3.382,\n",
    "                        coefs=[0., 0., 0., -1.131e-1, -7.863e-2, 1.094e-1, 6.228e-3, -2.216e-2, -5.89e-3, 4.123e-3, 1.041e-3])\n",
    "asp5 = RadialPolynomial(r=5.794, ec=-221.1,\n",
    "                        coefs=[0., 0., 0., -7.876e-2, 7.02e-2, 5.175e-3, -9.958e-3, -7.322e-3, 6.914e-4, 2.54e-3, -7.65e-4])\n",
    "asp6 = RadialPolynomial(r=9.192, ec=0.9331,\n",
    "                        coefs=[0., 0., 0., 9.694e-3, -2.516e-3, -3.606e-3, -2.497e-4, -6.84e-4, -1.414e-4, 2.932e-4, -7.284e-5])\n",
    "asp7 = RadialPolynomial(r=1.674, ec=-7.617,\n",
    "                        coefs=[0., 0., 0., 7.429e-2, -6.933e-2, -5.811e-3, 2.396e-3, 2.100e-3, -3.119e-4, -5.552e-5, 7.969e-6])\n",
    "asp8 = RadialPolynomial(r=1.509, ec=-2.707,\n",
    "                        coefs=[0., 0., 0., 1.767e-3, -4.652e-2, 1.625e-2, -3.522e-3, -7.106e-4, 3.825e-4, 6.271e-5, -2.631e-5])\n",
    "sm.ifcs[2].profile = asp1\n",
    "sm.ifcs[3].profile = asp2\n",
    "sm.ifcs[4].profile = asp3\n",
    "sm.ifcs[5].profile = asp4\n",
    "sm.ifcs[6].profile = asp5\n",
    "sm.ifcs[7].profile = asp6\n",
    "sm.ifcs[8].profile = asp7\n",
    "sm.ifcs[9].profile = asp8\n"
   ]
  },
  {
   "cell_type": "markdown",
   "metadata": {},
   "source": [
    "## Update the model"
   ]
  },
  {
   "cell_type": "code",
   "execution_count": 8,
   "metadata": {
    "scrolled": true
   },
   "outputs": [],
   "source": [
    "opm.update_model()"
   ]
  },
  {
   "cell_type": "code",
   "execution_count": 9,
   "metadata": {},
   "outputs": [
    {
     "name": "stdout",
     "output_type": "stream",
     "text": [
      "efl               5.587\n",
      "ffl              -7.801\n",
      "pp1              -2.214\n",
      "bfl              0.5824\n",
      "ppk               5.005\n",
      "f/#                 3.5\n",
      "red           -1.79e+09\n",
      "obj_dist          1e+10\n",
      "obj_ang           32.06\n",
      "enp_dist           -0.2\n",
      "enp_radius       0.7982\n",
      "na obj        7.982e-11\n",
      "n obj                 1\n",
      "img_dist           0.64\n",
      "img_ht              3.5\n",
      "exp_dist         -3.524\n",
      "exp_radius       0.5866\n",
      "na img          -0.1414\n",
      "n img                 1\n",
      "optical invariant          0.5\n"
     ]
    }
   ],
   "source": [
    "osp.parax_data.fod.list_first_order_data()"
   ]
  },
  {
   "cell_type": "code",
   "execution_count": 10,
   "metadata": {},
   "outputs": [
    {
     "name": "stdout",
     "output_type": "stream",
     "text": [
      "stop surface: 2\n",
      "           y           u           n*i         ybar         ubar        n*ibar\n",
      " 0            0  7.98153e-11  7.98153e-11 -6.26446e+09     0.626446     0.626446\n",
      " 1     0.798153  7.98153e-11  7.98153e-11      0.12529     0.626446     0.626446\n",
      " 2     0.798153    -0.130255     0.406806  6.89203e-07     0.425864     0.626446\n",
      " 3     0.643149    -0.182535    -0.163278     0.506779     0.633593     0.648767\n",
      " 4     0.473391     -0.03226    -0.399488      1.09602     0.584205     0.131292\n",
      " 5     0.449196   -0.0942549    -0.164806      1.53417     0.791183     0.550226\n",
      " 6     0.439771   -0.0880559   -0.0183538      1.61329     0.429919      1.06962\n",
      " 7     0.361401    -0.112913   -0.0735959      1.99592     0.759917     0.977054\n",
      " 8     0.343335    -0.144048    0.0921857      2.11751    0.0760257      2.02486\n",
      " 9     0.220894    -0.142857   0.00352712      2.18213     0.852298      2.29837\n",
      "10     0.120894   -0.0942329    -0.142857      2.77874     0.562202     0.852298\n",
      "11    0.0832007    -0.142857    -0.142857      3.00362     0.852298     0.852298\n",
      "12   -0.0082279    -0.142857    -0.142857      3.54909     0.852298     0.852298\n"
     ]
    }
   ],
   "source": [
    "fo.list_parax_trace(opm)"
   ]
  },
  {
   "cell_type": "code",
   "execution_count": 11,
   "metadata": {},
   "outputs": [],
   "source": [
    "opm.ele_model.elements_from_sequence(sm)"
   ]
  },
  {
   "cell_type": "markdown",
   "metadata": {},
   "source": [
    "opm.ele_model.list_elements()"
   ]
  },
  {
   "cell_type": "markdown",
   "metadata": {},
   "source": [
    "opm.ele_model.elements[2].sd = 1.25\n",
    "opm.ele_model.elements[4].sd = 1.75\n",
    "opm.ele_model.elements[4].flat1 = 1.275\n",
    "opm.ele_model.elements[6].sd = 2.5\n",
    "opm.ele_model.elements[6].flat1 = 2.1\n",
    "opm.ele_model.elements[8].sd = 3.0\n",
    "opm.ele_model.elements[8].flat1 = 2.6\n",
    "opm.ele_model.elements[10].sd = 3.5"
   ]
  },
  {
   "cell_type": "code",
   "execution_count": 12,
   "metadata": {},
   "outputs": [],
   "source": [
    "elmn = [e for e in opm.ele_model.elements if isinstance(e, Element) or isinstance(e, Mirror)]"
   ]
  },
  {
   "cell_type": "code",
   "execution_count": 13,
   "metadata": {},
   "outputs": [],
   "source": [
    "elmn[0].sd = 1.25\n",
    "elmn[1].sd = 1.75\n",
    "elmn[1].flat1 = 1.275\n",
    "elmn[2].sd = 2.5\n",
    "elmn[2].flat1 = 2.1\n",
    "elmn[3].sd = 3.0\n",
    "elmn[3].flat1 = 2.6\n",
    "elmn[4].sd = 3.5"
   ]
  },
  {
   "cell_type": "code",
   "execution_count": 14,
   "metadata": {},
   "outputs": [
    {
     "data": {
      "image/png": "[encoded data removed]",
      "text/plain": [
       "<LensLayoutFigure size 432x288 with 1 Axes>"
      ]
     },
     "metadata": {},
     "output_type": "display_data"
    }
   ],
   "source": [
    "layout_plt = plt.figure(FigureClass=LensLayoutFigure, opt_model=opm).plot()"
   ]
  },
  {
   "cell_type": "code",
   "execution_count": 15,
   "metadata": {},
   "outputs": [
    {
     "data": {
      "image/png": "[encoded data removed]",
      "text/plain": [
       "<InteractiveLayout size 432x288 with 1 Axes>"
      ]
     },
     "metadata": {},
     "output_type": "display_data"
    }
   ],
   "source": [
    "live_layout = plt.figure(FigureClass=InteractiveLayout, opt_model=opm, do_draw_rays=False, refresh_gui=None).plot()"
   ]
  },
  {
   "cell_type": "code",
   "execution_count": 16,
   "metadata": {},
   "outputs": [],
   "source": [
    "opm.save_model(str(root_pth/\"optical/tests/cell_phone_camera\"))"
   ]
  },
  {
   "cell_type": "code",
   "execution_count": 17,
   "metadata": {},
   "outputs": [
    {
     "name": "stdout",
     "output_type": "stream",
     "text": [
      "0: D1 (DummyInterface): Surface(profile=Spherical(c=0.0), interact_mode=InteractionMode.Transmit)\n",
      "1: AirGap D1-E1 (AirGap): Gap(t=-0.2, medium=Air)\n",
      "2: E1 (Element): Element: RadialPolynomial(c=0.509683995922528, ec=2.153, coefs=[0.0, 0.0, 0.0, -0.01895, 0.02426, -0.05123, 0.0008371, 0.00785, 0.004091, -0.007732, -0.004265]), RadialPolynomial(c=0.029941912689382594, ec=40.18, coefs=[0.0, 0.0, 0.0, -0.004966, -0.01434, -0.006139, -9.284e-05, 0.006438, -0.00572, -0.02385, 0.01108]), t=1.1900, sd=1.2500, glass: 471.766\n",
      "3: AirGap E1-E2 (AirGap): Gap(t=0.93, medium=Air)\n",
      "4: E2 (Element): Element: RadialPolynomial(c=-0.4582951420714941, ec=2.105, coefs=[0.0, 0.0, 0.0, -0.04388, -0.02555, 0.0516, -0.04307, -0.02831, 0.03162, 0.0463, -0.04877]), RadialPolynomial(c=-0.1570598397989634, ec=3.382, coefs=[0.0, 0.0, 0.0, -0.1131, -0.07863, 0.1094, 0.006228, -0.02216, -0.00589, 0.004123, 0.001041]), t=0.7500, sd=1.7500, glass: 603.275\n",
      "5: AirGap E2-E3 (AirGap): Gap(t=0.1, medium=Air)\n",
      "6: E3 (Element): Element: RadialPolynomial(c=0.17259233690024164, ec=-221.1, coefs=[0.0, 0.0, 0.0, -0.07876, 0.0702, 0.005175, -0.009958, -0.007322, 0.0006914, 0.00254, -0.000765]), RadialPolynomial(c=0.10879025239338555, ec=0.9331, coefs=[0.0, 0.0, 0.0, 0.009694, -0.002516, -0.003606, -0.0002497, -0.000684, -0.0001414, 0.0002932, -7.284e-05]), t=0.8900, sd=2.5000, glass: 510.562\n",
      "7: AirGap E3-E4 (AirGap): Gap(t=0.16, medium=Air)\n",
      "8: E4 (Element): Element: RadialPolynomial(c=0.5973715651135006, ec=-7.617, coefs=[0.0, 0.0, 0.0, 0.07429, -0.06933, -0.005811, 0.002396, 0.0021, -0.0003119, -5.552e-05, 7.969e-06]), RadialPolynomial(c=0.6626905235255136, ec=-2.707, coefs=[0.0, 0.0, 0.0, 0.001767, -0.04652, 0.01625, -0.003522, -0.0007106, 0.0003825, 6.271e-05, -2.631e-05]), t=0.8500, sd=3.0000, glass: 510.562\n",
      "9: AirGap E4-E5 (AirGap): Gap(t=0.7, medium=Air)\n",
      "10: E5 (Element): Element: Spherical(c=0.0), Spherical(c=0.0), t=0.4000, sd=3.5000, glass: 516.641\n",
      "11: AirGap E5-Image (AirGap): Gap(t=0.64, medium=Air)\n",
      "12: Image (DummyInterface): Surface(lbl='Img', profile=Spherical(c=0.0), interact_mode=InteractionMode.Transmit)\n"
     ]
    }
   ],
   "source": [
    "opm.ele_model.list_elements()"
   ]
  },
  {
   "cell_type": "code",
   "execution_count": 18,
   "metadata": {},
   "outputs": [
    {
     "name": "stdout",
     "output_type": "stream",
     "text": [
      "            X            Y            Z           L            M            N               Len\n",
      "  0:      0.00000      1.00000            0     0.000000     0.000000     1.000000        1e+10\n",
      "  1:      0.00000      1.00000            0     0.000000     0.000000     1.000000     0.061189\n",
      "  2:      0.00000      1.00000      0.26119     0.000000    -0.163284     0.986579      0.93632\n",
      "  3:      0.00000      0.84711   -0.0050525     0.000000    -0.272278     0.962219      0.86687\n",
      "  4:      0.00000      0.61108     -0.10094     0.000000    -0.024063     0.999710      0.79796\n",
      "  5:      0.00000      0.59188    -0.053212     0.000000    -0.171810     0.985130      0.16842\n",
      "  6:      0.00000      0.56295     0.012701     0.000000    -0.123432     0.992353      0.89601\n",
      "  7:      0.00000      0.45235     0.011856     0.000000    -0.159054     0.987270      0.20161\n",
      "  8:      0.00000      0.42028     0.050897     0.000000    -0.179409     0.983775      0.83618\n",
      "  9:      0.00000      0.27027     0.023508     0.000000    -0.185954     0.982558       0.6885\n",
      " 10:      0.00000      0.14224            0     0.000000    -0.122661     0.992449      0.40304\n",
      " 11:      0.00000      0.09280            0     0.000000    -0.185954     0.982558      0.65136\n",
      " 12:      0.00000     -0.02832            0     0.000000    -0.185954     0.982558            0\n"
     ]
    }
   ],
   "source": [
    "pt0 = np.array([0., 1., 0.])\n",
    "dir0 = np.array([0., 0., 1.])\n",
    "wvl = sm.central_wavelength()\n",
    "marg_ray = rt.trace(sm, pt0, dir0, wvl)\n",
    "list_ray(marg_ray[0])\n",
    "#marg_ray"
   ]
  },
  {
   "cell_type": "code",
   "execution_count": 19,
   "metadata": {},
   "outputs": [
    {
     "name": "stdout",
     "output_type": "stream",
     "text": [
      "            X            Y            Z           L            M            N               Len\n",
      "  0:     -0.08600     -0.17300            0     0.086014     0.173027     0.981154      -0.1902\n",
      "  1:     -0.10236     -0.20591     0.013381     0.074993     0.150857     0.985707       1.1937\n",
      "  2:     -0.01284     -0.02583    1.233e-05     0.110132     0.221545     0.968911      0.94931\n",
      "  3:      0.09171      0.18448    -0.010186     0.085720     0.172437     0.981284      0.75907\n",
      "  4:      0.15678      0.31537    -0.015328     0.109689     0.220654     0.969165      0.12688\n",
      "  5:      0.17069      0.34337     0.007641     0.068298     0.137390     0.988160      0.90905\n",
      "  6:      0.23278      0.46827     0.015931     0.117690     0.236749     0.964416      0.24565\n",
      "  7:      0.26169      0.52642     0.092837     0.034732     0.069869     0.996951      0.88153\n",
      "  8:      0.29231      0.58801      0.12168     0.129560     0.260626     0.956707      0.60449\n",
      "  9:      0.37063      0.74556            0     0.085462     0.171917     0.981397      0.40758\n",
      " 10:      0.40546      0.81563            0     0.129560     0.260626     0.956707      0.66896\n",
      " 11:      0.49213      0.98998            0     0.129560     0.260626     0.956707            0\n"
     ]
    }
   ],
   "source": [
    "start = 1\n",
    "dir0 = np.array([0.086, 0.173, 0.981])\n",
    "dir0 = normalize(np.array([0.086, 0.173, 0.981]))\n",
    "pt1 = np.array([-0.086, -0.173, 0.0])\n",
    "wvl = sm.central_wavelength()\n",
    "\n",
    "seq = sm.path(wl=wvl, start=1)\n",
    "skew_ray = rt.trace_raw(seq, pt1, dir0, wvl)\n",
    "#skew_ray = rt.trace(sm, pt1, dir0, wvl)\n",
    "\n",
    "list_ray(skew_ray[0])"
   ]
  },
  {
   "cell_type": "code",
   "execution_count": 20,
   "metadata": {},
   "outputs": [],
   "source": [
    "fld, wvl, foc = osp.lookup_fld_wvl_focus(1)"
   ]
  },
  {
   "cell_type": "code",
   "execution_count": 21,
   "metadata": {},
   "outputs": [
    {
     "name": "stdout",
     "output_type": "stream",
     "text": [
      "            X            Y            Z           L            M            N               Len\n",
      "  0:      0.00000 4429600648.39348            0     0.000000    -0.405005     0.914315   1.0937e+10\n",
      "  1:      0.00000     -0.08859            0     0.000000    -0.405005     0.914315     -0.21874\n",
      "  2:      0.00000     -0.00000   1.4501e-14     0.000000    -0.275326     0.961351       1.2392\n",
      "  3:      0.00000     -0.34119    0.0013257     0.000000    -0.407921     0.913017       0.8694\n",
      "  4:      0.00000     -0.69584      -0.1349     0.000000    -0.405346     0.914163      0.76875\n",
      "  5:      0.00000     -1.00745     -0.18213     0.000000    -0.430114     0.902775       0.3509\n",
      "  6:      0.00000     -1.15838     0.034659     0.000000    -0.269449     0.963015      0.99156\n",
      "  7:      0.00000     -1.42555     0.099546     0.000000    -0.450135     0.892960      0.37032\n",
      "  8:      0.00000     -1.59225      0.27022     0.000000    -0.331913     0.943310       1.0062\n",
      "  9:      0.00000     -1.92623      0.36942     0.000000    -0.425652     0.904887      0.36532\n",
      " 10:      0.00000     -2.08173            0     0.000000    -0.280773     0.959774      0.41676\n",
      " 11:      0.00000     -2.19875            0     0.000000    -0.425652     0.904887      0.70727\n",
      " 12:      0.00000     -2.49980            0     0.000000    -0.425652     0.904887            0\n"
     ]
    }
   ],
   "source": [
    "ray_f1_r0 = trace_base(opm, [0., 0.], fld, wvl)\n",
    "list_ray(ray_f1_r0[0])"
   ]
  },
  {
   "cell_type": "code",
   "execution_count": 22,
   "metadata": {},
   "outputs": [
    {
     "name": "stdout",
     "output_type": "stream",
     "text": [
      "            X            Y            Z           L            M            N               Len\n",
      "  0:      0.00000 4429600648.39348            0     0.000000    -0.405005     0.914315   1.0937e+10\n",
      "  1:      0.00000      0.70956            0     0.000000    -0.405005     0.914315    -0.065868\n",
      "  2:      0.00000      0.73624      0.13978     0.000000    -0.391012     0.920386       1.1422\n",
      "  3:      0.00000      0.28963    0.0010232     0.000000    -0.572065     0.820209       1.0979\n",
      "  4:      0.00000     -0.33844    -0.028467     0.000000    -0.426087     0.904682      0.78103\n",
      "  5:      0.00000     -0.67123    -0.071879     0.000000    -0.529746     0.848157      0.22585\n",
      "  6:      0.00000     -0.79087     0.019679     0.000000    -0.337853     0.941199       1.0001\n",
      "  7:      0.00000     -1.12875      0.07094     0.000000    -0.574321     0.818630      0.44223\n",
      "  8:      0.00000     -1.38273      0.27296     0.000000    -0.354953     0.934884       1.0265\n",
      "  9:      0.00000     -1.74710      0.38264     0.000000    -0.532979     0.846129      0.37507\n",
      " 10:      0.00000     -1.94700            0     0.000000    -0.351569     0.936162      0.42728\n",
      " 11:      0.00000     -2.09722            0     0.000000    -0.532979     0.846129      0.75639\n",
      " 12:      0.00000     -2.50036            0     0.000000    -0.532979     0.846129            0\n"
     ]
    }
   ],
   "source": [
    "ray_f1_py = trace_base(opm, [0., 1.], fld, wvl)\n",
    "list_ray(ray_f1_py[0])"
   ]
  },
  {
   "cell_type": "code",
   "execution_count": 23,
   "metadata": {},
   "outputs": [
    {
     "name": "stdout",
     "output_type": "stream",
     "text": [
      "            X            Y            Z           L            M            N               Len\n",
      "  0:      0.00000 4429600648.39348            0     0.000000    -0.405005     0.914315   1.0937e+10\n",
      "  1:      0.00000     -0.88674            0     0.000000    -0.405005     0.914315    0.0060334\n",
      "  2:      0.00000     -0.88919      0.20552     0.000000    -0.098909     0.995096      0.96929\n",
      "  3:      0.00000     -0.98506    -0.019945     0.000000    -0.069862     0.997557      0.60449\n",
      "  4:      0.00000     -1.02729     -0.34693     0.000000    -0.340701     0.940172      0.83818\n",
      "  5:      0.00000     -1.31286     -0.30889     0.000000    -0.316325     0.948651      0.47397\n",
      "  6:      0.00000     -1.46279     0.040733     0.000000    -0.217006     0.976170       0.9829\n",
      "  7:      0.00000     -1.67608      0.11021     0.000000    -0.326393     0.945234      0.30464\n",
      "  8:      0.00000     -1.77551      0.23816     0.000000    -0.299944     0.953957      0.99622\n",
      "  9:      0.00000     -2.07432      0.33851     0.000000    -0.318158     0.948038       0.3813\n",
      " 10:      0.00000     -2.19564            0     0.000000    -0.209866     0.977730      0.40911\n",
      " 11:      0.00000     -2.28150            0     0.000000    -0.318158     0.948038      0.67508\n",
      " 12:      0.00000     -2.49628            0     0.000000    -0.318158     0.948038            0\n"
     ]
    }
   ],
   "source": [
    "ray_f1_my = trace_base(opm, [0., -1.], fld, wvl)\n",
    "list_ray(ray_f1_my[0])"
   ]
  },
  {
   "cell_type": "code",
   "execution_count": null,
   "metadata": {},
   "outputs": [],
   "source": []
  }
 ],
 "metadata": {
  "kernelspec": {
   "display_name": "Python 3",
   "language": "python",
   "name": "python3"
  },
  "language_info": {
   "codemirror_mode": {
    "name": "ipython",
    "version": 3
   },
   "file_extension": ".py",
   "mimetype": "text/x-python",
   "name": "python",
   "nbconvert_exporter": "python",
   "pygments_lexer": "ipython3",
   "version": "3.7.1"
  }
 },
 "nbformat": 4,
 "nbformat_minor": 2
}
