{
 "cells": [
  {
   "cell_type": "code",
   "execution_count": 1,
   "metadata": {},
   "outputs": [],
   "source": [
    "%matplotlib ipympl"
   ]
  },
  {
   "cell_type": "code",
   "execution_count": 2,
   "metadata": {},
   "outputs": [],
   "source": [
    "# initialization\n",
    "from rayoptics.environment import *\n",
    "from rayoptics.raytr import trace"
   ]
  },
  {
   "cell_type": "code",
   "execution_count": 3,
   "metadata": {},
   "outputs": [],
   "source": [
    "from numpy.linalg import norm\n",
    "from scipy.optimize import minimize_scalar, bracket, bisect, fsolve  # , newton"
   ]
  },
  {
   "cell_type": "code",
   "execution_count": 4,
   "metadata": {},
   "outputs": [],
   "source": [
    "root_pth = Path(rayoptics.__file__).resolve().parent"
   ]
  },
  {
   "cell_type": "code",
   "execution_count": 5,
   "metadata": {},
   "outputs": [],
   "source": [
    "app = AppManager(None)"
   ]
  },
  {
   "cell_type": "markdown",
   "metadata": {},
   "source": [
    "# Create a new model"
   ]
  },
  {
   "cell_type": "code",
   "execution_count": 6,
   "metadata": {},
   "outputs": [],
   "source": [
    "app.model = open_model(root_pth/\"codev/tests/ag_dblgauss.seq\")\n",
    "opm = app.model\n",
    "sm = opm.seq_model\n",
    "osp = opm.optical_spec\n",
    "pm = opm.parax_model"
   ]
  },
  {
   "cell_type": "code",
   "execution_count": 7,
   "metadata": {},
   "outputs": [],
   "source": [
    "opm.update_model()"
   ]
  },
  {
   "cell_type": "code",
   "execution_count": 8,
   "metadata": {},
   "outputs": [
    {
     "name": "stdout",
     "output_type": "stream",
     "text": [
      "             c            t        medium     mode   zdr      sd\n",
      " Obj:     0.000000  9.93938e+11       air   transmit  1  2.4782e+11\n",
      "   1:     0.017793      8.75000    N-SSK2   transmit  1      28.172\n",
      "   2:     0.006567     0.500000       air   transmit  1      27.136\n",
      "   3:     0.026537      12.5000     N-SK2   transmit  1      24.626\n",
      "   4:     0.000000      3.80000        F5   transmit  1      22.894\n",
      "   5:     0.041269      16.3694       air   transmit  1      17.293\n",
      "Stop:     0.000000      13.7480       air   transmit  1      15.758\n",
      "   7:    -0.035239      3.80000        F5   transmit  1      15.135\n",
      "   8:     0.000000      11.0000    N-SK16   transmit  1      17.250\n",
      "   9:    -0.026368     0.500000       air   transmit  1      18.926\n",
      "  10:     0.005637      7.00000    N-SK16   transmit  1      20.349\n",
      "  11:    -0.012593      61.0873       air   transmit  1      20.776\n",
      " Img:     0.000000      0.00000             transmit  1      24.592\n"
     ]
    }
   ],
   "source": [
    "sm.list_model()"
   ]
  },
  {
   "cell_type": "code",
   "execution_count": 9,
   "metadata": {},
   "outputs": [],
   "source": [
    "stop = sm.stop_surface"
   ]
  },
  {
   "cell_type": "code",
   "execution_count": 10,
   "metadata": {},
   "outputs": [],
   "source": [
    "def y_stop_coordinate(y1, *args):\n",
    "    seq_model, ifcx, pt0, dist, wvl, target = args\n",
    "    pt1 = np.array([0., y1, dist])\n",
    "    dir0 = pt1 - pt0\n",
    "    length = norm(dir0)\n",
    "    dir0 = dir0/length\n",
    "    ray, _, _ = rt.trace(seq_model, pt0, dir0, wvl)\n",
    "    y_ray = ray[ifcx][mc.p][1]\n",
    "    print(y1, y_ray)\n",
    "    return y_ray - target"
   ]
  },
  {
   "cell_type": "code",
   "execution_count": 11,
   "metadata": {},
   "outputs": [],
   "source": [
    "def surface_coordinate(coord, *args):\n",
    "    seq_model, ifcx, pt0, dist, wvl, target = args\n",
    "    pt1 = np.array([coord[0], coord[1], dist])\n",
    "    dir0 = pt1 - pt0\n",
    "    length = norm(dir0)\n",
    "    dir0 = dir0/length\n",
    "    ray, _, _ = rt.trace(seq_model, pt0, dir0, wvl)\n",
    "    xy_ray = np.array([ray[ifcx][mc.p][0], ray[ifcx][mc.p][1]])\n",
    "    print(coord[0], coord[1], xy_ray[0], xy_ray[1])\n",
    "    return xy_ray - target"
   ]
  },
  {
   "cell_type": "code",
   "execution_count": 12,
   "metadata": {},
   "outputs": [],
   "source": [
    "# Newton-Raphson method\n",
    "import warnings\n",
    "def newton(func, x0, fprime=None, args=(), tol=1.48e-8, maxiter=50,\n",
    "           fprime2=None):\n",
    "    \"\"\"\n",
    "    Find a zero using the Newton-Raphson or secant method.\n",
    "\n",
    "    Find a zero of the function `func` given a nearby starting point `x0`.\n",
    "    The Newton-Raphson method is used if the derivative `fprime` of `func`\n",
    "    is provided, otherwise the secant method is used.  If the second order\n",
    "    derivative `fprime2` of `func` is provided, then Halley's method is used.\n",
    "\n",
    "    Parameters\n",
    "    ----------\n",
    "    func : function\n",
    "        The function whose zero is wanted. It must be a function of a\n",
    "        single variable of the form f(x,a,b,c...), where a,b,c... are extra\n",
    "        arguments that can be passed in the `args` parameter.\n",
    "    x0 : float\n",
    "        An initial estimate of the zero that should be somewhere near the\n",
    "        actual zero.\n",
    "    fprime : function, optional\n",
    "        The derivative of the function when available and convenient. If it\n",
    "        is None (default), then the secant method is used.\n",
    "    args : tuple, optional\n",
    "        Extra arguments to be used in the function call.\n",
    "    tol : float, optional\n",
    "        The allowable error of the zero value.\n",
    "    maxiter : int, optional\n",
    "        Maximum number of iterations.\n",
    "    fprime2 : function, optional\n",
    "        The second order derivative of the function when available and\n",
    "        convenient. If it is None (default), then the normal Newton-Raphson\n",
    "        or the secant method is used. If it is not None, then Halley's method\n",
    "        is used.\n",
    "\n",
    "    Returns\n",
    "    -------\n",
    "    zero : float\n",
    "        Estimated location where function is zero.\n",
    "\n",
    "    See Also\n",
    "    --------\n",
    "    brentq, brenth, ridder, bisect\n",
    "    fsolve : find zeroes in n dimensions.\n",
    "\n",
    "    Notes\n",
    "    -----\n",
    "    The convergence rate of the Newton-Raphson method is quadratic,\n",
    "    the Halley method is cubic, and the secant method is\n",
    "    sub-quadratic.  This means that if the function is well behaved\n",
    "    the actual error in the estimated zero is approximately the square\n",
    "    (cube for Halley) of the requested tolerance up to roundoff\n",
    "    error. However, the stopping criterion used here is the step size\n",
    "    and there is no guarantee that a zero has been found. Consequently\n",
    "    the result should be verified. Safer algorithms are brentq,\n",
    "    brenth, ridder, and bisect, but they all require that the root\n",
    "    first be bracketed in an interval where the function changes\n",
    "    sign. The brentq algorithm is recommended for general use in one\n",
    "    dimensional problems when such an interval has been found.\n",
    "\n",
    "    Examples\n",
    "    --------\n",
    "\n",
    "    >>> def f(x):\n",
    "    ...     return (x**3 - 1)  # only one real root at x = 1\n",
    "    \n",
    "    >>> from scipy import optimize\n",
    "\n",
    "    ``fprime`` not provided, use secant method\n",
    "    \n",
    "    >>> root = optimize.newton(f, 1.5)\n",
    "    >>> root\n",
    "    1.0000000000000016\n",
    "    >>> root = optimize.newton(f, 1.5, fprime2=lambda x: 6 * x)\n",
    "    >>> root\n",
    "    1.0000000000000016\n",
    "\n",
    "    Only ``fprime`` provided, use Newton Raphson method\n",
    "    \n",
    "    >>> root = optimize.newton(f, 1.5, fprime=lambda x: 3 * x**2)\n",
    "    >>> root\n",
    "    1.0\n",
    "    \n",
    "    Both ``fprime2`` and ``fprime`` provided, use Halley's method\n",
    "\n",
    "    >>> root = optimize.newton(f, 1.5, fprime=lambda x: 3 * x**2,\n",
    "    ...                        fprime2=lambda x: 6 * x)\n",
    "    >>> root\n",
    "    1.0\n",
    "\n",
    "    \"\"\"\n",
    "    if tol <= 0:\n",
    "        raise ValueError(\"tol too small (%g <= 0)\" % tol)\n",
    "    if maxiter < 1:\n",
    "        raise ValueError(\"maxiter must be greater than 0\")\n",
    "    # Multiply by 1.0 to convert to floating point.  We don't use float(x0)\n",
    "    # so it still works if x0 is complex.\n",
    "    p0 = 1.0 * x0\n",
    "    if fprime is not None:\n",
    "        # Newton-Rapheson method\n",
    "        for iter in range(maxiter):\n",
    "            fder = fprime(p0, *args)\n",
    "            if fder == 0:\n",
    "                msg = \"derivative was zero.\"\n",
    "                warnings.warn(msg, RuntimeWarning)\n",
    "                return p0\n",
    "            fval = func(p0, *args)\n",
    "            newton_step = fval / fder\n",
    "            if fprime2 is None:\n",
    "                # Newton step\n",
    "                p = p0 - newton_step\n",
    "            else:\n",
    "                fder2 = fprime2(p0, *args)\n",
    "                # Halley's method\n",
    "                p = p0 - newton_step / (1.0 - 0.5 * newton_step * fder2 / fder)\n",
    "            if abs(p - p0) < tol:\n",
    "                return p\n",
    "            p0 = p\n",
    "    else:\n",
    "        # Secant method\n",
    "        if x0 >= 0:\n",
    "            p1 = x0*(1 + 1e-4) + 1e-4\n",
    "        else:\n",
    "            p1 = x0*(1 + 1e-4) - 1e-4\n",
    "        q0 = func(p0, *args)\n",
    "        q1 = func(p1, *args)\n",
    "        for iter in range(maxiter):\n",
    "            if q1 == q0:\n",
    "                if p1 != p0:\n",
    "                    msg = \"Tolerance of %s reached\" % (p1 - p0)\n",
    "                    warnings.warn(msg, RuntimeWarning)\n",
    "                return (p1 + p0)/2.0\n",
    "            else:\n",
    "                p = p1 - q1*(p1 - p0)/(q1 - q0)\n",
    "            if abs(p - p1) < tol:\n",
    "                return p\n",
    "            p0 = p1\n",
    "            q0 = q1\n",
    "            p1 = p\n",
    "            q1 = func(p1, *args)\n",
    "    msg = \"Failed to converge after %d iterations, value is %s\" % (maxiter, p)\n",
    "    raise RuntimeError(msg)"
   ]
  },
  {
   "cell_type": "code",
   "execution_count": 13,
   "metadata": {},
   "outputs": [],
   "source": [
    "fld, wvl, foc = osp.lookup_fld_wvl_focus(2)"
   ]
  },
  {
   "cell_type": "code",
   "execution_count": 14,
   "metadata": {},
   "outputs": [],
   "source": [
    "fod = osp.parax_data.fod\n",
    "dist = fod.obj_dist + fod.enp_dist\n",
    "pt0 = osp.obj_coords(fld)"
   ]
  },
  {
   "cell_type": "code",
   "execution_count": 15,
   "metadata": {},
   "outputs": [
    {
     "name": "stdout",
     "output_type": "stream",
     "text": [
      "0.0 0.27914407297214433\n",
      "0.0001 0.2792027515012124\n",
      "-0.4757175706440057 -0.025988514825844376\n",
      "-0.4351993994069977 -1.6269280965730414e-05\n",
      "-0.43517401840900377 3.3193355839460568e-06\n",
      "-0.435178319276785 3.3193355839460568e-06\n"
     ]
    }
   ],
   "source": [
    "#res = newton(y_stop_coordinate, 0.)\n",
    "y_target = 0.\n",
    "start_y = newton(y_stop_coordinate, 0.,\n",
    "                 args=(sm, stop, pt0, dist, wvl, y_target))"
   ]
  },
  {
   "cell_type": "code",
   "execution_count": 16,
   "metadata": {},
   "outputs": [
    {
     "name": "stdout",
     "output_type": "stream",
     "text": [
      "0.0 0.0 0.0 0.27914407297214433\n",
      "0.0 0.0 0.0 0.27914407297214433\n",
      "0.0 0.0 0.0 0.27914407297214433\n",
      "0.05 0.0 0.03180949381683528 0.2791428909007874\n",
      "0.0 0.05 0.0 0.3111944836824786\n",
      "0.0 -0.43547659263245836 0.0 -0.00019246161366979404\n",
      "-1.3002102717272686e-24 -0.43517655122234444 -8.275441943969193e-25 3.3193355839460568e-06\n",
      "4.063157099147664e-26 -0.4351816382245939 2.586075607490341e-26 3.3193355839460568e-06\n",
      "1.9388818395892715e-10 -0.4348765098122306 1.2340387944300607e-10 0.000199152734965988\n",
      "-1.2351997581409052e-24 -0.43517655122234444 -7.8616698467707365e-25 3.3193355839460568e-06\n",
      "-1.3002102717272686e-24 -0.4134177236612272 -8.275260092588012e-25 0.013986859481259528\n",
      "6.782246266190498e-33 -0.4351817162127429 4.316692956978446e-33 3.3193355839460568e-06\n",
      "-1.3002102785096256e-24 -0.4352513687164667 -8.275442496583265e-25 -3.585789955188756e-05\n",
      "6.781704069421181e-33 -0.43518289021920525 4.316347865266414e-33 3.3193355839460568e-06\n",
      "-2.163410531083727e-24 -0.435195255595875 -1.3769448404042684e-24 3.3193355839460568e-06\n",
      "-2.1634105310837e-24 -0.43518590340910973 -1.3769448404042519e-24 3.3193355839460568e-06\n",
      "-2.1634105310836994e-24 -0.43518122731572706 -1.3769448404042506e-24 3.3193355839460568e-06\n",
      "-2.1634105310837e-24 -0.43517888926903575 -1.3769448404042519e-24 3.3193355839460568e-06\n",
      "-2.1634105310836994e-24 -0.4351777202456901 -1.3769448404042506e-24 3.3193355839460568e-06\n"
     ]
    }
   ],
   "source": [
    "#res = fsolve(surface_coordinate, np.array([0., 0.]),\n",
    "#             args=(sm, sm.stop_surface, sm.central_wavelength(), np.array([0., 0.])))\n",
    "xy_target = np.array([0., 0.])\n",
    "start_coords = fsolve(surface_coordinate, np.array([0., 0.]),\n",
    "                      epsfcn=0.0001*fod.enp_radius,\n",
    "                      args=(sm, stop, pt0, dist, wvl, xy_target))"
   ]
  },
  {
   "cell_type": "code",
   "execution_count": 17,
   "metadata": {},
   "outputs": [
    {
     "data": {
      "text/plain": [
       "array([-1.30021027e-24, -4.35176551e-01])"
      ]
     },
     "execution_count": 17,
     "metadata": {},
     "output_type": "execute_result"
    }
   ],
   "source": [
    "start_coords"
   ]
  },
  {
   "cell_type": "code",
   "execution_count": 18,
   "metadata": {},
   "outputs": [],
   "source": [
    "aim_pt = trace.iterate_ray(opm, sm.stop_surface, np.array([0., 0.]), fld, wvl)"
   ]
  },
  {
   "cell_type": "code",
   "execution_count": 19,
   "metadata": {},
   "outputs": [
    {
     "name": "stdout",
     "output_type": "stream",
     "text": [
      "[-1.30021027e-24 -4.35176551e-01] [ 0.         -0.43517617] -3.8237945454433486e-07\n"
     ]
    }
   ],
   "source": [
    "print(start_coords, aim_pt, start_coords[1]-aim_pt[1])"
   ]
  },
  {
   "cell_type": "code",
   "execution_count": null,
   "metadata": {},
   "outputs": [],
   "source": []
  }
 ],
 "metadata": {
  "kernelspec": {
   "display_name": "Python 3",
   "language": "python",
   "name": "python3"
  },
  "language_info": {
   "codemirror_mode": {
    "name": "ipython",
    "version": 3
   },
   "file_extension": ".py",
   "mimetype": "text/x-python",
   "name": "python",
   "nbconvert_exporter": "python",
   "pygments_lexer": "ipython3",
   "version": "3.7.7"
  }
 },
 "nbformat": 4,
 "nbformat_minor": 4
}
