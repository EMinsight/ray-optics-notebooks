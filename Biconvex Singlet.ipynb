{
 "cells": [
  {
   "cell_type": "code",
   "execution_count": 1,
   "metadata": {},
   "outputs": [],
   "source": [
    "%matplotlib ipympl"
   ]
  },
  {
   "cell_type": "code",
   "execution_count": 2,
   "metadata": {},
   "outputs": [],
   "source": [
    "# initialization\n",
    "from rayoptics.environment import *\n",
    "\n",
    "import rayoptics.optical.paraxialdesign as pxd"
   ]
  },
  {
   "cell_type": "markdown",
   "metadata": {},
   "source": [
    "# Create a new model"
   ]
  },
  {
   "cell_type": "code",
   "execution_count": 3,
   "metadata": {},
   "outputs": [],
   "source": [
    "opm = OpticalModel()\n",
    "sm  = opm.seq_model\n",
    "osp = opm.optical_spec\n",
    "pm = opm.parax_model"
   ]
  },
  {
   "cell_type": "markdown",
   "metadata": {},
   "source": [
    "## Define first order aperture and field for system"
   ]
  },
  {
   "cell_type": "code",
   "execution_count": 4,
   "metadata": {},
   "outputs": [],
   "source": [
    "osp.pupil = PupilSpec(osp, key=['object', 'pupil'], value=40.0)\n",
    "osp.field_of_view = FieldSpec(osp, key=['object', 'height'], flds=[0., 20.0])\n",
    "osp.spectral_region = WvlSpec([(486.1327, 0.5), (587.5618, 1.0), (656.2725, 0.5)], ref_wl=1)"
   ]
  },
  {
   "cell_type": "markdown",
   "metadata": {},
   "source": [
    "## Define interface and gap data for the sequential model"
   ]
  },
  {
   "cell_type": "code",
   "execution_count": 5,
   "metadata": {},
   "outputs": [],
   "source": [
    "opm.radius_mode = True\n",
    "\n",
    "sm.gaps[0].thi=200.0\n",
    "\n",
    "sm.add_surface([50.0, 15.0, 1.500, 62.5])\n",
    "sm.add_surface([-50.0, 65.517241])"
   ]
  },
  {
   "cell_type": "markdown",
   "metadata": {},
   "source": [
    "## Update the model"
   ]
  },
  {
   "cell_type": "code",
   "execution_count": 6,
   "metadata": {},
   "outputs": [],
   "source": [
    "opm.update_model()"
   ]
  },
  {
   "cell_type": "markdown",
   "metadata": {},
   "source": [
    "## Build the paraxial model and list"
   ]
  },
  {
   "cell_type": "code",
   "execution_count": 7,
   "metadata": {},
   "outputs": [
    {
     "name": "stdout",
     "output_type": "stream",
     "text": [
      "       ax_ray_ht    ax_ray_slp\n",
      " 0:            0           0.1\n",
      " 1:           20          -0.1\n",
      " 2:           19         -0.29\n",
      " 3:      1.1e-07         -0.29\n",
      "\n",
      "       pr_ray_ht    pr_ray_slp\n",
      " 0:          -20           0.1\n",
      " 1:            0           0.1\n",
      " 2:            1          0.09\n",
      " 3:       6.8966          0.09\n",
      "\n",
      "            power           tau        index    type\n",
      " 0:             0           200      1.00000    transmit\n",
      " 1:          0.01            10      1.50000    transmit\n",
      " 2:          0.01        65.517      1.00000    transmit\n",
      " 3:             0             0      1.00000    transmit\n",
      "\n",
      "\n",
      "efl               52.63\n",
      "ffl              -47.37\n",
      "pp1               5.263\n",
      "bfl               47.37\n",
      "ppk               5.263\n",
      "f/#               1.724\n",
      "m               -0.3448\n",
      "red                -2.9\n",
      "obj_dist            200\n",
      "obj_ang           5.711\n",
      "enp_dist             -0\n",
      "enp_radius           20\n",
      "na obj           0.0995\n",
      "n obj                 1\n",
      "img_dist          65.52\n",
      "img_ht            6.897\n",
      "exp_dist         -11.11\n",
      "exp_radius        22.22\n",
      "na img          -0.2785\n",
      "n img                 1\n",
      "optical invariant            2\n"
     ]
    }
   ],
   "source": [
    "#lens = pxd.build_lens(sm)\n",
    "pm.list_lens()\n",
    "print(\"\\n\")\n",
    "pm.first_order_data()"
   ]
  },
  {
   "cell_type": "code",
   "execution_count": 8,
   "metadata": {},
   "outputs": [
    {
     "data": {
      "text/html": [
       "<div>\n",
       "<style scoped>\n",
       "    .dataframe tbody tr th:only-of-type {\n",
       "        vertical-align: middle;\n",
       "    }\n",
       "\n",
       "    .dataframe tbody tr th {\n",
       "        vertical-align: top;\n",
       "    }\n",
       "\n",
       "    .dataframe thead th {\n",
       "        text-align: right;\n",
       "    }\n",
       "</style>\n",
       "<table border=\"1\" class=\"dataframe\">\n",
       "  <thead>\n",
       "    <tr style=\"text-align: right;\">\n",
       "      <th></th>\n",
       "      <th>S-I</th>\n",
       "      <th>S-II</th>\n",
       "      <th>S-III</th>\n",
       "      <th>S-IV</th>\n",
       "      <th>S-V</th>\n",
       "    </tr>\n",
       "  </thead>\n",
       "  <tbody>\n",
       "    <tr>\n",
       "      <th>1</th>\n",
       "      <td>0.722222</td>\n",
       "      <td>0.144444</td>\n",
       "      <td>0.028889</td>\n",
       "      <td>0.026667</td>\n",
       "      <td>0.011111</td>\n",
       "    </tr>\n",
       "    <tr>\n",
       "      <th>2</th>\n",
       "      <td>2.094368</td>\n",
       "      <td>-0.218815</td>\n",
       "      <td>0.022861</td>\n",
       "      <td>0.026667</td>\n",
       "      <td>-0.005175</td>\n",
       "    </tr>\n",
       "    <tr>\n",
       "      <th>sum</th>\n",
       "      <td>2.816590</td>\n",
       "      <td>-0.074370</td>\n",
       "      <td>0.051750</td>\n",
       "      <td>0.053333</td>\n",
       "      <td>0.005937</td>\n",
       "    </tr>\n",
       "  </tbody>\n",
       "</table>\n",
       "</div>"
      ],
      "text/plain": [
       "          S-I      S-II     S-III      S-IV       S-V\n",
       "1    0.722222  0.144444  0.028889  0.026667  0.011111\n",
       "2    2.094368 -0.218815  0.022861  0.026667 -0.005175\n",
       "sum  2.816590 -0.074370  0.051750  0.053333  0.005937"
      ]
     },
     "execution_count": 8,
     "metadata": {},
     "output_type": "execute_result"
    }
   ],
   "source": [
    "to_pkg = compute_third_order(opm)\n",
    "to_pkg"
   ]
  },
  {
   "cell_type": "code",
   "execution_count": 9,
   "metadata": {},
   "outputs": [
    {
     "name": "stdout",
     "output_type": "stream",
     "text": [
      "stop surface: 1\n",
      "           y           u           n*i         ybar         ubar        n*ibar\n",
      " 0            0          0.1          0.1          -20          0.1          0.1\n",
      " 1           20   -0.0666667          0.5            0    0.0666667          0.1\n",
      " 2           19        -0.29        -0.67            1         0.09         0.07\n",
      " 3      1.1e-07        -0.29        -0.29      6.89655         0.09         0.09\n"
     ]
    }
   ],
   "source": [
    "fo.list_parax_trace(opm)"
   ]
  },
  {
   "cell_type": "code",
   "execution_count": 10,
   "metadata": {},
   "outputs": [
    {
     "name": "stdout",
     "output_type": "stream",
     "text": [
      "Seidel sums\n",
      "          S-I      S-II     S-III      S-IV       S-V\n",
      "1    0.722222  0.144444  0.028889  0.026667  0.011111\n",
      "2    2.094368 -0.218815  0.022861  0.026667 -0.005175\n",
      "sum  2.816590 -0.074370  0.051750  0.053333  0.005937\n"
     ]
    }
   ],
   "source": [
    "print(\"Seidel sums\")\n",
    "print(to_pkg)"
   ]
  },
  {
   "cell_type": "markdown",
   "metadata": {},
   "source": [
    "### convert aberration sums to transverse measure"
   ]
  },
  {
   "cell_type": "code",
   "execution_count": 11,
   "metadata": {},
   "outputs": [
    {
     "data": {
      "text/html": [
       "<div>\n",
       "<style scoped>\n",
       "    .dataframe tbody tr th:only-of-type {\n",
       "        vertical-align: middle;\n",
       "    }\n",
       "\n",
       "    .dataframe tbody tr th {\n",
       "        vertical-align: top;\n",
       "    }\n",
       "\n",
       "    .dataframe thead th {\n",
       "        text-align: right;\n",
       "    }\n",
       "</style>\n",
       "<table border=\"1\" class=\"dataframe\">\n",
       "  <thead>\n",
       "    <tr style=\"text-align: right;\">\n",
       "      <th></th>\n",
       "      <th>S-I</th>\n",
       "      <th>S-II</th>\n",
       "      <th>S-III</th>\n",
       "      <th>S-IV</th>\n",
       "      <th>S-V</th>\n",
       "    </tr>\n",
       "  </thead>\n",
       "  <tbody>\n",
       "    <tr>\n",
       "      <th>1</th>\n",
       "      <td>0.722222</td>\n",
       "      <td>0.144444</td>\n",
       "      <td>0.028889</td>\n",
       "      <td>0.026667</td>\n",
       "      <td>0.011111</td>\n",
       "    </tr>\n",
       "    <tr>\n",
       "      <th>2</th>\n",
       "      <td>2.094368</td>\n",
       "      <td>-0.218815</td>\n",
       "      <td>0.022861</td>\n",
       "      <td>0.026667</td>\n",
       "      <td>-0.005175</td>\n",
       "    </tr>\n",
       "    <tr>\n",
       "      <th>sum</th>\n",
       "      <td>2.816590</td>\n",
       "      <td>-0.074370</td>\n",
       "      <td>0.051750</td>\n",
       "      <td>0.053333</td>\n",
       "      <td>0.005937</td>\n",
       "    </tr>\n",
       "  </tbody>\n",
       "</table>\n",
       "</div>"
      ],
      "text/plain": [
       "          S-I      S-II     S-III      S-IV       S-V\n",
       "1    0.722222  0.144444  0.028889  0.026667  0.011111\n",
       "2    2.094368 -0.218815  0.022861  0.026667 -0.005175\n",
       "sum  2.816590 -0.074370  0.051750  0.053333  0.005937"
      ]
     },
     "execution_count": 11,
     "metadata": {},
     "output_type": "execute_result"
    }
   ],
   "source": [
    "to_pkg"
   ]
  },
  {
   "cell_type": "code",
   "execution_count": 12,
   "metadata": {},
   "outputs": [
    {
     "data": {
      "text/plain": [
       "TSA   -4.856190\n",
       "TCO    0.384673\n",
       "TAS   -0.359627\n",
       "SAS   -0.181178\n",
       "PTB   -0.091954\n",
       "DST   -0.010235\n",
       "dtype: float64"
      ]
     },
     "execution_count": 12,
     "metadata": {},
     "output_type": "execute_result"
    }
   ],
   "source": [
    "ax_ray, pr_ray, fod = osp.parax_data\n",
    "n_last = sm.central_rndx(-1)\n",
    "u_last = ax_ray[-1][mc.slp]\n",
    "to.seidel_to_transverse_aberration(to_pkg.loc['sum',:], n_last, u_last)"
   ]
  },
  {
   "cell_type": "markdown",
   "metadata": {},
   "source": [
    "### convert sums to wavefront measure"
   ]
  },
  {
   "cell_type": "code",
   "execution_count": 13,
   "metadata": {},
   "outputs": [
    {
     "data": {
      "text/plain": [
       "W040    599.211460\n",
       "W131    -63.287054\n",
       "W222     44.038015\n",
       "W220     44.711656\n",
       "W311      5.051856\n",
       "dtype: float64"
      ]
     },
     "execution_count": 13,
     "metadata": {},
     "output_type": "execute_result"
    }
   ],
   "source": [
    "central_wv = opm.nm_to_sys_units(sm.central_wavelength())\n",
    "to.seidel_to_wavefront(to_pkg.loc['sum',:], central_wv).T"
   ]
  },
  {
   "cell_type": "code",
   "execution_count": 14,
   "metadata": {},
   "outputs": [
    {
     "name": "stdout",
     "output_type": "stream",
     "text": [
      "0 Surface(lbl='Obj', profile=Spherical(c=0.0), interact_mode=transmit)\n",
      "1 Surface(profile=Spherical(c=0.02), interact_mode=transmit)\n",
      "2 Surface(profile=Spherical(c=-0.02), interact_mode=transmit)\n",
      "3 Surface(lbl='Img', profile=Spherical(c=0.0), interact_mode=transmit)\n"
     ]
    }
   ],
   "source": [
    "sm.list_surfaces()"
   ]
  },
  {
   "cell_type": "code",
   "execution_count": 15,
   "metadata": {},
   "outputs": [
    {
     "data": {
      "application/vnd.jupyter.widget-view+json": {
       "model_id": "bca37e5d5be24ef28ac023af84d711fa",
       "version_major": 2,
       "version_minor": 0
      },
      "text/plain": [
       "Canvas(toolbar=Toolbar(toolitems=[('Home', 'Reset original view', 'home', 'home'), ('Back', 'Back to previous …"
      ]
     },
     "metadata": {},
     "output_type": "display_data"
    }
   ],
   "source": [
    "abr_plt = plt.figure(FigureClass=RayFanFigure, opt_model=opm, data_type='Ray')"
   ]
  },
  {
   "cell_type": "code",
   "execution_count": 16,
   "metadata": {},
   "outputs": [
    {
     "data": {
      "application/vnd.jupyter.widget-view+json": {
       "model_id": "2b6891ca564d482e8292e1e04ec3ef4b",
       "version_major": 2,
       "version_minor": 0
      },
      "text/plain": [
       "Canvas(toolbar=Toolbar(toolitems=[('Home', 'Reset original view', 'home', 'home'), ('Back', 'Back to previous …"
      ]
     },
     "metadata": {},
     "output_type": "display_data"
    }
   ],
   "source": [
    "yybar_plt = plt.figure(FigureClass=InteractiveDiagram, opt_model=opm, dgm_type='ht')\n",
    "def refresh_yybar():\n",
    "    opm.update_model()\n",
    "    yybar_plt.update_data()\n",
    "    yybar_plt.plot()\n",
    "\n",
    "yybar_plt.refresh_gui=refresh_yybar"
   ]
  },
  {
   "cell_type": "code",
   "execution_count": 17,
   "metadata": {},
   "outputs": [
    {
     "data": {
      "image/png": "[encoded data removed]",
      "text/plain": [
       "<InteractiveDiagram size 640x480 with 1 Axes>"
      ]
     },
     "execution_count": 17,
     "metadata": {},
     "output_type": "execute_result"
    }
   ],
   "source": [
    "refresh_yybar()\n",
    "yybar_plt.plot()"
   ]
  },
  {
   "cell_type": "code",
   "execution_count": 18,
   "metadata": {},
   "outputs": [
    {
     "data": {
      "application/vnd.jupyter.widget-view+json": {
       "model_id": "a00ae7bd807949f58ab37d897ec95a0f",
       "version_major": 2,
       "version_minor": 0
      },
      "text/plain": [
       "Canvas(toolbar=Toolbar(toolitems=[('Home', 'Reset original view', 'home', 'home'), ('Back', 'Back to previous …"
      ]
     },
     "metadata": {},
     "output_type": "display_data"
    }
   ],
   "source": [
    "layout_plt = plt.figure(FigureClass=InteractiveLayout, do_draw_rays=True, do_paraxial_layout=False, opt_model=opm)"
   ]
  },
  {
   "cell_type": "code",
   "execution_count": 19,
   "metadata": {},
   "outputs": [
    {
     "data": {
      "image/png": "[encoded data removed]",
      "text/plain": [
       "<InteractiveLayout size 640x480 with 1 Axes>"
      ]
     },
     "execution_count": 19,
     "metadata": {},
     "output_type": "execute_result"
    }
   ],
   "source": [
    "layout_plt.update_data()\n",
    "layout_plt.plot()"
   ]
  },
  {
   "cell_type": "code",
   "execution_count": 20,
   "metadata": {},
   "outputs": [
    {
     "name": "stdout",
     "output_type": "stream",
     "text": [
      "[[  0.         -20.91710457]\n",
      " [ 80.517241    20.91710457]]\n",
      "[[-48.68509992 -20.91710457]\n",
      " [ 80.517241    20.43673372]]\n",
      "[[-48.68509992 -20.91710457]\n",
      " [ 80.517241    20.91710457]]\n"
     ]
    }
   ],
   "source": [
    "print(layout_plt.ele_bbox)\n",
    "print(layout_plt.ray_bbox)\n",
    "print(layout_plt.sys_bbox)"
   ]
  },
  {
   "cell_type": "code",
   "execution_count": 21,
   "metadata": {},
   "outputs": [
    {
     "data": {
      "image/png": "[encoded data removed]",
      "text/plain": [
       "<RayFanFigure size 640x480 with 4 Axes>"
      ]
     },
     "execution_count": 21,
     "metadata": {},
     "output_type": "execute_result"
    }
   ],
   "source": [
    "abr_plt.update_data()\n",
    "abr_plt.plot()"
   ]
  },
  {
   "cell_type": "code",
   "execution_count": 22,
   "metadata": {},
   "outputs": [
    {
     "data": {
      "text/plain": [
       "-0.02"
      ]
     },
     "execution_count": 22,
     "metadata": {},
     "output_type": "execute_result"
    }
   ],
   "source": [
    "sm.ifcs[2].optical_power/(-0.5)"
   ]
  },
  {
   "cell_type": "code",
   "execution_count": null,
   "metadata": {},
   "outputs": [],
   "source": []
  }
 ],
 "metadata": {
  "kernelspec": {
   "display_name": "Python 3",
   "language": "python",
   "name": "python3"
  },
  "language_info": {
   "codemirror_mode": {
    "name": "ipython",
    "version": 3
   },
   "file_extension": ".py",
   "mimetype": "text/x-python",
   "name": "python",
   "nbconvert_exporter": "python",
   "pygments_lexer": "ipython3",
   "version": "3.7.7"
  }
 },
 "nbformat": 4,
 "nbformat_minor": 2
}
