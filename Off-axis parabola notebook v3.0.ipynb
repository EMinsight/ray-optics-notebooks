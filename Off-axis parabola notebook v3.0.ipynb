{
 "cells": [
  {
   "cell_type": "code",
   "execution_count": 1,
   "metadata": {},
   "outputs": [],
   "source": [
    "#%matplotlib inline\n",
    "%matplotlib widget"
   ]
  },
  {
   "cell_type": "code",
   "execution_count": 2,
   "metadata": {},
   "outputs": [],
   "source": [
    "# initialization\n",
    "from rayoptics.environment import *\n",
    "from rayoptics.mpl.analysisfigure import Wavefront, RayFanPlot, RayGeoPSF, AnalysisFigure\n",
    "from rayoptics.gui import dashboards\n",
    "\n",
    "from matplotlib import gridspec\n",
    "import matplotlib.colors as mcolors\n",
    "\n",
    "import ipywidgets as widgets\n",
    "from ipywidgets import interact, interactive, fixed, interact_manual"
   ]
  },
  {
   "cell_type": "markdown",
   "metadata": {},
   "source": [
    "# Create a new model"
   ]
  },
  {
   "cell_type": "code",
   "execution_count": 3,
   "metadata": {},
   "outputs": [],
   "source": [
    "app = AppManager(None)\n",
    "opm = app.model = OpticalModel()\n",
    "sm = opm.seq_model\n",
    "osp = opm.optical_spec\n",
    "pm = opm.parax_model"
   ]
  },
  {
   "cell_type": "markdown",
   "metadata": {},
   "source": [
    "### Define first order aperture and field for system"
   ]
  },
  {
   "cell_type": "code",
   "execution_count": 4,
   "metadata": {},
   "outputs": [],
   "source": [
    "pupil_diameter = 40.\n",
    "pupil_radius = pupil_diameter/2\n",
    "osp.pupil = PupilSpec(osp, key=['object', 'pupil'], value=pupil_diameter)\n",
    "\n",
    "# single field on-axis\n",
    "osp.field_of_view = FieldSpec(osp, key=['object', 'angle'], flds=[0.0])\n",
    "\n",
    "# wavelength for analysis: 550nm\n",
    "osp.spectral_region = WvlSpec([(550.0, 1.0)], ref_wl=0)"
   ]
  },
  {
   "cell_type": "markdown",
   "metadata": {},
   "source": [
    "### object at infinity, i.e. collimated input"
   ]
  },
  {
   "cell_type": "code",
   "execution_count": 5,
   "metadata": {},
   "outputs": [],
   "source": [
    "sm.gaps[0].thi = 1e+11"
   ]
  },
  {
   "cell_type": "markdown",
   "metadata": {},
   "source": [
    "### setup aperture stop surface, then offset mirror behind the aperture stop"
   ]
  },
  {
   "cell_type": "code",
   "execution_count": 6,
   "metadata": {},
   "outputs": [],
   "source": [
    "mirror_offset = srf.DecenterData(DecenterType.REV, y=pupil_radius)\n",
    "opm.add_dummy_plane(sd=pupil_radius, decenter=mirror_offset)\n",
    "sm.set_stop();"
   ]
  },
  {
   "cell_type": "markdown",
   "metadata": {},
   "source": [
    "### add parabolic mirror and enable it to tip, tilt and offset"
   ]
  },
  {
   "cell_type": "code",
   "execution_count": 7,
   "metadata": {},
   "outputs": [],
   "source": [
    "offset_aperture = srf.Circular(radius=pupil_diameter, y_offset=0.)\n",
    "#offset_aperture = srf.Circular(radius=pupil_radius, y_offset=pupil_radius)\n",
    "mirror_perturb = srf.DecenterData(DecenterType.DAR)\n",
    "opm.add_mirror(power=1/80, cc=-1, t=-80, sd=pupil_diameter,\n",
    "               decenter=mirror_perturb, clear_apertures=[offset_aperture])"
   ]
  },
  {
   "cell_type": "markdown",
   "metadata": {},
   "source": [
    "### all of the system data has been entered, update the model"
   ]
  },
  {
   "cell_type": "code",
   "execution_count": 8,
   "metadata": {},
   "outputs": [],
   "source": [
    "opm.update_model()"
   ]
  },
  {
   "cell_type": "code",
   "execution_count": 9,
   "metadata": {},
   "outputs": [
    {
     "name": "stdout",
     "output_type": "stream",
     "text": [
      "              c               mode        type        y       alpha\n",
      "                      t           medium\n",
      " Obj:      0.00000                 \n",
      "                1.00000e+11          air\n",
      "Stop:      0.00000                         REV     20.000     0.0000\n",
      "                    0.00000          air\n",
      "   2:  -0.00625000          reflect        DAR     0.0000     0.0000\n",
      "                   -80.0000          air\n",
      " Img:     -0.00000                 \n"
     ]
    }
   ],
   "source": [
    "sm.list_sg()"
   ]
  },
  {
   "cell_type": "markdown",
   "metadata": {},
   "source": [
    "# List first order data"
   ]
  },
  {
   "cell_type": "code",
   "execution_count": 10,
   "metadata": {},
   "outputs": [
    {
     "name": "stdout",
     "output_type": "stream",
     "text": [
      "efl                  80\n",
      "ffl                 -80\n",
      "pp1                  -0\n",
      "bfl                  80\n",
      "ppk                   0\n",
      "f/#                   2\n",
      "m                     0\n",
      "red           -1.25e+09\n",
      "obj_dist          1e+11\n",
      "obj_ang               1\n",
      "enp_dist             -0\n",
      "enp_radius           20\n",
      "na obj            2e-10\n",
      "n obj                 1\n",
      "img_dist            -80\n",
      "img_ht            1.396\n",
      "exp_dist             -0\n",
      "exp_radius           20\n",
      "na img           0.2425\n",
      "n img                -1\n",
      "optical invariant       0.3491\n"
     ]
    }
   ],
   "source": [
    "pm.first_order_data()"
   ]
  },
  {
   "cell_type": "markdown",
   "metadata": {},
   "source": [
    "# Draw a lens picture"
   ]
  },
  {
   "cell_type": "code",
   "execution_count": 11,
   "metadata": {},
   "outputs": [
    {
     "data": {
      "application/vnd.jupyter.widget-view+json": {
       "model_id": "8c9c639ef8aa4cd39797ed4b3f03d035",
       "version_major": 2,
       "version_minor": 0
      },
      "text/plain": [
       "Canvas(toolbar=Toolbar(toolitems=[('Home', 'Reset original view', 'home', 'home'), ('Back', 'Back to previous …"
      ]
     },
     "metadata": {},
     "output_type": "display_data"
    },
    {
     "data": {
      "image/png": "[encoded data removed]",
      "text/plain": [
       "<InteractiveLayout size 640x480 with 1 Axes>"
      ]
     },
     "execution_count": 11,
     "metadata": {},
     "output_type": "execute_result"
    }
   ],
   "source": [
    "isdark = False\n",
    "layout_plt = plt.figure(FigureClass=InteractiveLayout, opt_model=opm, refresh_gui=app.refresh_gui,\n",
    "                        do_draw_rays=True, do_paraxial_layout=False, is_dark=isdark).plot()\n",
    "\n",
    "app.add_figure(layout_plt)"
   ]
  },
  {
   "cell_type": "code",
   "execution_count": 12,
   "metadata": {},
   "outputs": [],
   "source": [
    "fld, wvl, foc = osp.lookup_fld_wvl_focus(0)"
   ]
  },
  {
   "cell_type": "code",
   "execution_count": 13,
   "metadata": {},
   "outputs": [
    {
     "name": "stdout",
     "output_type": "stream",
     "text": [
      "            X            Y            Z           L            M            N               Len\n",
      "  0:      0.00000      0.00000            0     0.000000     0.000000     1.000000        1e+11\n",
      "  1:      0.00000      0.00000            0     0.000000     0.000000     1.000000        -1.25\n",
      "  2:      0.00000     20.00000        -1.25     0.000000    -0.246154    -0.969231        81.25\n",
      "  3:      0.00000      0.00000            0     0.000000    -0.246154    -0.969231            0\n"
     ]
    }
   ],
   "source": [
    "optical_axis_ray = trace_base(opm, [0., 0.], fld, wvl)\n",
    "list_ray(optical_axis_ray)"
   ]
  },
  {
   "cell_type": "markdown",
   "metadata": {},
   "source": [
    "## Use the built-in Spot Diagram plot"
   ]
  },
  {
   "cell_type": "code",
   "execution_count": 14,
   "metadata": {},
   "outputs": [
    {
     "data": {
      "application/vnd.jupyter.widget-view+json": {
       "model_id": "0c1fdb0e80b04d7aa92c369729178418",
       "version_major": 2,
       "version_minor": 0
      },
      "text/plain": [
       "Canvas(toolbar=Toolbar(toolitems=[('Home', 'Reset original view', 'home', 'home'), ('Back', 'Back to previous …"
      ]
     },
     "metadata": {},
     "output_type": "display_data"
    }
   ],
   "source": [
    "spot_plt = plt.figure(FigureClass=SpotDiagramFigure, opt_model=opm, scale_type=Fit.User_Scale,\n",
    "                      user_scale_value=0.1, is_dark=isdark).plot()"
   ]
  },
  {
   "cell_type": "raw",
   "metadata": {},
   "source": [
    "wavefront_plt = plt.figure(FigureClass=WavefrontFigure, opt_model=opm, scale_type=Fit.User_Scale, user_scale_value=2.5).plot()"
   ]
  },
  {
   "cell_type": "markdown",
   "metadata": {},
   "source": [
    "## Add tilt to mirror"
   ]
  },
  {
   "cell_type": "code",
   "execution_count": 15,
   "metadata": {},
   "outputs": [],
   "source": [
    "#sm.ifcs[2].decenter.euler[0] = 0.00573  # 0.1 mrad mirror tilt\n",
    "sm.ifcs[2].decenter.euler[0] = 0.0573  # 1 mrad mirror tilt\n",
    "opm.update_model()"
   ]
  },
  {
   "cell_type": "markdown",
   "metadata": {},
   "source": [
    "### Redo Spot diagram with tilted mirror"
   ]
  },
  {
   "cell_type": "code",
   "execution_count": 16,
   "metadata": {},
   "outputs": [
    {
     "data": {
      "application/vnd.jupyter.widget-view+json": {
       "model_id": "ee9a03da6c0f45cf82eaf14aabab9985",
       "version_major": 2,
       "version_minor": 0
      },
      "text/plain": [
       "Canvas(toolbar=Toolbar(toolitems=[('Home', 'Reset original view', 'home', 'home'), ('Back', 'Back to previous …"
      ]
     },
     "metadata": {},
     "output_type": "display_data"
    }
   ],
   "source": [
    "spot_plt = plt.figure(FigureClass=SpotDiagramFigure, opt_model=opm, scale_type=Fit.User_Scale,\n",
    "                      user_scale_value=0.025, is_dark=isdark).plot()"
   ]
  },
  {
   "cell_type": "code",
   "execution_count": 17,
   "metadata": {},
   "outputs": [],
   "source": [
    "image_pt, ref_dir, ref_sphere_radius = fld.ref_sphere"
   ]
  },
  {
   "cell_type": "code",
   "execution_count": 18,
   "metadata": {},
   "outputs": [
    {
     "data": {
      "text/plain": [
       "array([ 0.        , -0.16389492,  0.        ])"
      ]
     },
     "execution_count": 18,
     "metadata": {},
     "output_type": "execute_result"
    }
   ],
   "source": [
    "image_pt"
   ]
  },
  {
   "cell_type": "code",
   "execution_count": 19,
   "metadata": {},
   "outputs": [],
   "source": [
    "fld.ref_sphere[0][1]=0"
   ]
  },
  {
   "cell_type": "code",
   "execution_count": 20,
   "metadata": {},
   "outputs": [
    {
     "data": {
      "text/plain": [
       "array([0., 0., 0.])"
      ]
     },
     "execution_count": 20,
     "metadata": {},
     "output_type": "execute_result"
    }
   ],
   "source": [
    "image_pt"
   ]
  },
  {
   "cell_type": "code",
   "execution_count": 21,
   "metadata": {},
   "outputs": [
    {
     "data": {
      "application/vnd.jupyter.widget-view+json": {
       "model_id": "341d3d2945254f22bf1534627e07a604",
       "version_major": 2,
       "version_minor": 0
      },
      "text/plain": [
       "Canvas(toolbar=Toolbar(toolitems=[('Home', 'Reset original view', 'home', 'home'), ('Back', 'Back to previous …"
      ]
     },
     "metadata": {},
     "output_type": "display_data"
    }
   ],
   "source": [
    "wavefront_plt = plt.figure(FigureClass=WavefrontFigure, opt_model=opm, scale_type=Fit.User_Scale,\n",
    "                 user_scale_value=50., is_dark=isdark).plot()"
   ]
  },
  {
   "cell_type": "markdown",
   "metadata": {},
   "source": [
    "# Start of dynamic dashboard"
   ]
  },
  {
   "cell_type": "markdown",
   "metadata": {},
   "source": [
    "## Set up the reference image point for the aberration calculations.\n",
    "\n",
    "    Use the central ray from the on axis field point and take it's coordinates on the image interface as the definition for the on-axis image point"
   ]
  },
  {
   "cell_type": "code",
   "execution_count": 22,
   "metadata": {},
   "outputs": [],
   "source": [
    "ctr_ray = trace_base(opm, [0., 0.], fld, wvl)\n",
    "\n",
    "img_offset = ctr_ray[0][-1][0]\n",
    "on_axis_pt = np.array([img_offset[0], img_offset[1]])"
   ]
  },
  {
   "cell_type": "markdown",
   "metadata": {},
   "source": [
    "## Set up the data sources for the plots.\n",
    "\n",
    "### RayGrid\n",
    "\n",
    "    Used to trace and manage a grid of rays at a specific field and wavelength,\n",
    "        specifically to construct a grid representation of a wavefront.\n",
    "    grid_pkg attribute contains all of the ray data in the grid (all surfaces)\n",
    "    grid attribute contains the opd and the pupil coord values\n",
    "\n",
    "### RayList\n",
    "\n",
    "    Used to trace an arbitrary list of rays at a specific field and wavelength\n",
    "        specifically to collect the ray coordinates on the (defocused) image plane\n",
    "    ray_list attribute contains all of the ray data in the list (all surfaces)\n",
    "    ray_abr attribute contains the x and y aberration values with respect to the\n",
    "    (defocused) image_pt_2d"
   ]
  },
  {
   "cell_type": "code",
   "execution_count": 23,
   "metadata": {},
   "outputs": [],
   "source": [
    "ray_grid = analyses.RayGrid(opm, f=fld, wl=wvl, image_pt_2d=on_axis_pt)\n",
    "ray_list = analyses.RayList(opm, num_rays=48, f=fld, wl=wvl, image_pt_2d=on_axis_pt)"
   ]
  },
  {
   "cell_type": "markdown",
   "metadata": {},
   "source": [
    "## Set up useful measures\n",
    "\n",
    "    To control the sensitivity of the control widgets below, calculate magnitudes of 1 wave perturbations."
   ]
  },
  {
   "cell_type": "code",
   "execution_count": 24,
   "metadata": {},
   "outputs": [],
   "source": [
    "# one wave in system units\n",
    "opd = opm.nm_to_sys_units(wvl)\n",
    "\n",
    "# one wave of defocus\n",
    "fod = osp.parax_data.fod\n",
    "dfoc = opd/(fod.img_na**2/(2*fod.n_img))\n",
    "qwrt_dfoc = abs(0.25*dfoc)\n",
    "\n",
    "# one wave of tilt\n",
    "_, _, ref_sphere_radius = fld.ref_sphere\n",
    "shft = ref_sphere_radius*opd/fod.exp_radius"
   ]
  },
  {
   "cell_type": "markdown",
   "metadata": {},
   "source": [
    "## Wavefront and Ray Aberration Display"
   ]
  },
  {
   "cell_type": "code",
   "execution_count": 25,
   "metadata": {},
   "outputs": [
    {
     "data": {
      "application/vnd.jupyter.widget-view+json": {
       "model_id": "30b01ef061834255b22dd92f79e8223e",
       "version_major": 2,
       "version_minor": 0
      },
      "text/plain": [
       "Canvas(toolbar=Toolbar(toolitems=[('Home', 'Reset original view', 'home', 'home'), ('Back', 'Back to previous …"
      ]
     },
     "metadata": {},
     "output_type": "display_data"
    }
   ],
   "source": [
    "fig = plt.figure(FigureClass=AnalysisFigure, data_objs=[ray_grid, ray_list],\n",
    "                 figsize=[6, 6], is_dark=isdark)\n",
    "gs = gridspec.GridSpec(nrows=2, ncols=3, figure=fig)\n",
    "\n",
    "Wavefront(fig, gs[:2, :2], ray_grid, user_scale_value=None, do_contours=False, title='Wavefront Map',\n",
    "          cmap=\"BrBG_r\")\n",
    "us = 0.01\n",
    "scaler = mcolors.Normalize(vmin=0., vmax=80)\n",
    "gPSF = RayGeoPSF(fig, gs[:1, -1:], ray_list, user_scale_value=us, scale_type='user', dsp_typ='hist2d',\n",
    "                 yaxis_ticks_position='right', title='Geometrical PSF')\n",
    "sPOT = RayGeoPSF(fig, gs[-1:, -1:], ray_list, user_scale_value=us, scale_type='user', dsp_typ='spot',\n",
    "                 yaxis_ticks_position='right', title='Spot Diagram', marker='x')\n",
    "fig.plot()"
   ]
  },
  {
   "cell_type": "code",
   "execution_count": 26,
   "metadata": {},
   "outputs": [
    {
     "data": {
      "application/vnd.jupyter.widget-view+json": {
       "model_id": "a545cc3e9fd44cb69ef0d4dbf61c2f12",
       "version_major": 2,
       "version_minor": 0
      },
      "text/plain": [
       "HBox(children=(FloatSlider(value=0.0, description='defocus', max=0.018700000028159993, min=-0.0187000000281599…"
      ]
     },
     "metadata": {},
     "output_type": "display_data"
    }
   ],
   "source": [
    "defocus, x_shift, y_shift = dashboards.create_focus_dashboard([fig],\n",
    "                                                              [ray_grid, ray_list],\n",
    "                                                              osp.defocus.focus_shift, abs(dfoc), 0.2, on_axis_pt)\n",
    "display(widgets.HBox([defocus, y_shift]))"
   ]
  },
  {
   "cell_type": "markdown",
   "metadata": {},
   "source": [
    "## 2D Histogram and Spot Diagram\n",
    "\n",
    "    This plot shows both a spot diagram and a 2D histogram display, using the same RayList instance as used above."
   ]
  },
  {
   "cell_type": "code",
   "execution_count": 27,
   "metadata": {},
   "outputs": [
    {
     "data": {
      "application/vnd.jupyter.widget-view+json": {
       "model_id": "cb5f047c9d174b72a67354ec85179f95",
       "version_major": 2,
       "version_minor": 0
      },
      "text/plain": [
       "Canvas(toolbar=Toolbar(toolitems=[('Home', 'Reset original view', 'home', 'home'), ('Back', 'Back to previous …"
      ]
     },
     "metadata": {},
     "output_type": "display_data"
    }
   ],
   "source": [
    "spotfig = plt.figure(FigureClass=AnalysisFigure, data_objs=[ray_list],\n",
    "                 figsize=[9, 5], tight_layout=True, is_dark=isdark)\n",
    "gs = gridspec.GridSpec(nrows=2, ncols=2, figure=spotfig)\n",
    "\n",
    "us = 0.01\n",
    "scaler = mcolors.Normalize(vmin=0., vmax=80)\n",
    "gPSF = RayGeoPSF(spotfig, gs[:,:1], ray_list, user_scale_value=us, scale_type='user', dsp_typ='hist2d',\n",
    "                 yaxis_ticks_position='left', title='Geometrical PSF', cmap='gray')\n",
    "gPSF = RayGeoPSF(spotfig, gs[:,-1:], ray_list, user_scale_value=us, scale_type='user', dsp_typ='spot',\n",
    "                 yaxis_ticks_position='right', title='Spot Diagram', marker='x')\n",
    "spotfig.plot()"
   ]
  },
  {
   "cell_type": "markdown",
   "metadata": {},
   "source": [
    "## 2D Histogram with x and y histogram slices"
   ]
  },
  {
   "cell_type": "code",
   "execution_count": 28,
   "metadata": {},
   "outputs": [
    {
     "data": {
      "application/vnd.jupyter.widget-view+json": {
       "model_id": "57144e889fa248be8f590b9cda20c478",
       "version_major": 2,
       "version_minor": 0
      },
      "text/plain": [
       "Canvas(toolbar=Toolbar(toolitems=[('Home', 'Reset original view', 'home', 'home'), ('Back', 'Back to previous …"
      ]
     },
     "metadata": {},
     "output_type": "display_data"
    }
   ],
   "source": [
    "# definitions for the axes\n",
    "left, width = 0.1, 0.65\n",
    "bottom, height = 0.1, 0.65\n",
    "spacing = 0.005\n",
    "\n",
    "rect_hist2d = [left, bottom, width, height]\n",
    "rect_histx = [left, bottom + height + spacing, width, 0.2]\n",
    "rect_histy = [left + width + spacing, bottom, 0.2, height]\n",
    "\n",
    "# start with a rectangular Figure\n",
    "plt.figure(figsize=(8, 8))\n",
    "\n",
    "ax_hist2d = plt.axes(rect_hist2d)\n",
    "ax_hist2d.tick_params(direction='in', top=True, right=True)\n",
    "ax_histx = plt.axes(rect_histx)\n",
    "ax_histx.tick_params(direction='in', labelbottom=False)\n",
    "ax_histy = plt.axes(rect_histy)\n",
    "ax_histy.tick_params(direction='in', labelleft=False)\n",
    "\n",
    "# the scatter plot:\n",
    "#ax_hist2d.scatter(x, y)\n",
    "x_data = ray_list.ray_abr[0]\n",
    "y_data = ray_list.ray_abr[1]\n",
    "max_value = max(max(np.nanmax(x_data), -np.nanmin(x_data)),\n",
    "                max(np.nanmax(y_data), -np.nanmin(y_data)))\n",
    "\n",
    "bins = 30\n",
    "edges = np.linspace(-max_value, max_value, num=100)\n",
    "gamma = 0.3\n",
    "dset = ax_hist2d.hist2d(*ray_list.ray_abr, bins=edges, norm=mcolors.PowerNorm(gamma))\n",
    "h, xedges, yedges, qmesh = dset\n",
    "ax_hist2d.set_facecolor(qmesh.cmap(0))\n",
    "\n",
    "# now determine nice limits by hand:\n",
    "binwidth = 0.0025\n",
    "#lim = np.ceil(np.abs([x, y]).max() / binwidth) * binwidth\n",
    "#ax_hist2d.set_xlim((-lim, lim))\n",
    "#ax_hist2d.set_ylim((-lim, lim))\n",
    "\n",
    "#bins = np.arange(-lim, lim + binwidth, binwidth)\n",
    "centers = np.linspace(-max_value, max_value, num=99)\n",
    "ax_histx.plot(centers, np.max(h, axis=1))\n",
    "ax_histy.plot(np.max(h, axis=0), centers)\n",
    "\n",
    "#ax_histx.set_xlim(ax_hist2d.get_xlim())\n",
    "#ax_histy.set_ylim(ax_hist2d.get_ylim())\n",
    "\n",
    "plt.show()"
   ]
  },
  {
   "cell_type": "markdown",
   "metadata": {},
   "source": [
    "## 2D Histogram with mirror tilt control"
   ]
  },
  {
   "cell_type": "code",
   "execution_count": 29,
   "metadata": {},
   "outputs": [
    {
     "data": {
      "application/vnd.jupyter.widget-view+json": {
       "model_id": "562777d466c64e6a98082c65a5da5656",
       "version_major": 2,
       "version_minor": 0
      },
      "text/plain": [
       "Canvas(toolbar=Toolbar(toolitems=[('Home', 'Reset original view', 'home', 'home'), ('Back', 'Back to previous …"
      ]
     },
     "metadata": {},
     "output_type": "display_data"
    },
    {
     "data": {
      "application/vnd.jupyter.widget-view+json": {
       "model_id": "64f635416a9d41128c0a57274cfcce38",
       "version_major": 2,
       "version_minor": 0
      },
      "text/plain": [
       "HBox(children=(FloatSlider(value=0.0573, continuous_update=False, description='alpha tilt', max=0.06005, min=0…"
      ]
     },
     "metadata": {},
     "output_type": "display_data"
    }
   ],
   "source": [
    "fig_hist = plt.figure(FigureClass=AnalysisFigure, data_objs=[ray_list],\n",
    "                 figsize=[9, 5], tight_layout=True, is_dark=isdark)\n",
    "gsh = gridspec.GridSpec(nrows=2, ncols=2, figure=fig_hist)\n",
    "\n",
    "gPSF = RayGeoPSF(fig_hist, gsh[:,:], ray_list, user_scale_value=.01, scale_type='user', dsp_typ='hist2d',\n",
    "                 title='Geometrical PSF')\n",
    "fig_hist.refresh()\n",
    "\n",
    "tilt_rng = 0.1146\n",
    "tilt_rng = 100*shft/ref_sphere_radius\n",
    "shift_rng = shft\n",
    "\n",
    "alpha_tilt, x_dec, y_dec = dashboards.create_mirror_tilt_dashboard(sm.ifcs[2], app,\n",
    "                                                                   [fig_hist], [ray_list],\n",
    "                                                                   foc, tilt_rng, shift_rng,\n",
    "                                                                   continuous_update=False)\n",
    "display(widgets.HBox([alpha_tilt, x_dec, y_dec]))"
   ]
  },
  {
   "cell_type": "markdown",
   "metadata": {},
   "source": [
    "### Number of rays in the RayList instance"
   ]
  },
  {
   "cell_type": "code",
   "execution_count": 30,
   "metadata": {},
   "outputs": [
    {
     "data": {
      "text/plain": [
       "2233"
      ]
     },
     "execution_count": 30,
     "metadata": {},
     "output_type": "execute_result"
    }
   ],
   "source": [
    "len(ray_list.ray_abr[0])"
   ]
  },
  {
   "cell_type": "code",
   "execution_count": null,
   "metadata": {},
   "outputs": [],
   "source": []
  }
 ],
 "metadata": {
  "kernelspec": {
   "display_name": "Python 3",
   "language": "python",
   "name": "python3"
  },
  "language_info": {
   "codemirror_mode": {
    "name": "ipython",
    "version": 3
   },
   "file_extension": ".py",
   "mimetype": "text/x-python",
   "name": "python",
   "nbconvert_exporter": "python",
   "pygments_lexer": "ipython3",
   "version": "3.7.7"
  }
 },
 "nbformat": 4,
 "nbformat_minor": 4
}
